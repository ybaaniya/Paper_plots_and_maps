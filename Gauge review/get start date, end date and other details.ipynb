{
 "cells": [
  {
   "cell_type": "code",
   "execution_count": 3,
   "metadata": {},
   "outputs": [],
   "source": [
    "import os\n",
    "import pandas as pd\n",
    "from joblib import Parallel, delayed\n",
    "from tqdm import tqdm"
   ]
  },
  {
   "cell_type": "code",
   "execution_count": 15,
   "metadata": {},
   "outputs": [
    {
     "name": "stderr",
     "output_type": "stream",
     "text": [
      "\n",
      "\n",
      "\n",
      "\u001b[A\u001b[A\u001b[A\n",
      "\n",
      "\n",
      "\u001b[A\u001b[A\u001b[A"
     ]
    },
    {
     "name": "stdout",
     "output_type": "stream",
     "text": [
      "File TL55_009.csv could not be read due to being empty or invalid format. Skipping.\n",
      "File L0718.csv could not be read due to being empty or invalid format. Skipping.\n",
      "File L3205.csv could not be read due to being empty or invalid format. Skipping.\n",
      "File TL21_110.csv could not be read due to being empty or invalid format. Skipping.\n",
      "File 1_587.csv could not be read due to being empty or invalid format. Skipping.\n"
     ]
    },
    {
     "name": "stderr",
     "output_type": "stream",
     "text": [
      "\n",
      "\n",
      "\n",
      "\u001b[A\u001b[A\u001b[A"
     ]
    },
    {
     "name": "stdout",
     "output_type": "stream",
     "text": [
      "File NTG4003P2.csv could not be read due to being empty or invalid format. Skipping.\n",
      "File HANNFR.csv could not be read due to being empty or invalid format. Skipping.\n",
      "File NTG1148P2.csv could not be read due to being empty or invalid format. Skipping.\n",
      "File 4195.csv could not be read due to being empty or invalid format. Skipping.\n",
      "File TL03_250.csv could not be read due to being empty or invalid format. Skipping.\n",
      "File 6_060.csv could not be read due to being empty or invalid format. Skipping.\n",
      "File L1374.csv could not be read due to being empty or invalid format. Skipping.\n",
      "File 440365.csv could not be read due to being empty or invalid format. Skipping.\n"
     ]
    },
    {
     "name": "stderr",
     "output_type": "stream",
     "text": [
      "\n",
      "\n",
      "\n",
      "\u001b[A\u001b[A\u001b[A"
     ]
    },
    {
     "name": "stdout",
     "output_type": "stream",
     "text": [
      "File SU48_64.csv could not be read due to being empty or invalid format. Skipping.\n",
      "File SE55UPP2SS.csv could not be read due to being empty or invalid format. Skipping.\n",
      "File 4181.csv could not be read due to being empty or invalid format. Skipping.\n",
      "File 0589GW.csv could not be read due to being empty or invalid format. Skipping.\n",
      "File TL43_058.csv could not be read due to being empty or invalid format. Skipping.\n",
      "File 22011.csv could not be read due to being empty or invalid format. Skipping.\n",
      "File TG03_644.csv could not be read due to being empty or invalid format. Skipping.\n",
      "File SP95_066.csv could not be read due to being empty or invalid format. Skipping.\n",
      "File SD51_74.csv could not be read due to being empty or invalid format. Skipping.\n"
     ]
    },
    {
     "name": "stderr",
     "output_type": "stream",
     "text": [
      "\n",
      "\n",
      "\n",
      "\u001b[A\u001b[A\u001b[A\n",
      "\n",
      "\n",
      "\u001b[A\u001b[A\u001b[A"
     ]
    },
    {
     "name": "stdout",
     "output_type": "stream",
     "text": [
      "File 644613004.csv could not be read due to being empty or invalid format. Skipping.\n",
      "File 342843002.csv could not be read due to being empty or invalid format. Skipping.\n",
      "File 141801152.csv could not be read due to being empty or invalid format. Skipping.\n",
      "File 592.csv could not be read due to being empty or invalid format. Skipping.\n",
      "File 521002.csv could not be read due to being empty or invalid format. Skipping.\n",
      "File 2269.csv could not be read due to being empty or invalid format. Skipping.\n",
      "File L0903.csv could not be read due to being empty or invalid format. Skipping.\n",
      "File 228533.csv could not be read due to being empty or invalid format. Skipping.\n",
      "File SE62SWL0SS.csv could not be read due to being empty or invalid format. Skipping.\n",
      "File NE038.csv could not be read due to being empty or invalid format. Skipping.\n",
      "File 575335.csv could not be read due to being empty or invalid format. Skipping.\n",
      "File TG02_494.csv could not be read due to being empty or invalid format. Skipping.\n",
      "File SD42_34.csv could not be read due to being empty or invalid format. Skipping.\n",
      "File S12541_FW.csv could not be read due to being empty or invalid format. Skipping.\n",
      "File TW05_2.csv could not be read due to being empty or invalid format. Skipping.\n",
      "File 267661TP.csv could not be read due to being empty or invalid format. Skipping.\n"
     ]
    },
    {
     "name": "stderr",
     "output_type": "stream",
     "text": [
      "\n",
      "\n",
      "\n",
      "\u001b[A\u001b[A\u001b[A"
     ]
    },
    {
     "name": "stdout",
     "output_type": "stream",
     "text": [
      "File 315842.csv could not be read due to being empty or invalid format. Skipping.\n",
      "File 690315.csv could not be read due to being empty or invalid format. Skipping.\n",
      "File 2255.csv could not be read due to being empty or invalid format. Skipping.\n",
      "File 598929.csv could not be read due to being empty or invalid format. Skipping.\n",
      "File 2885TH.csv could not be read due to being empty or invalid format. Skipping.\n",
      "File 90875441.csv could not be read due to being empty or invalid format. Skipping.\n",
      "File 143304903.csv could not be read due to being empty or invalid format. Skipping.\n"
     ]
    },
    {
     "name": "stderr",
     "output_type": "stream",
     "text": [
      "\n",
      "\n",
      "\n",
      "\u001b[A\u001b[A\u001b[A"
     ]
    },
    {
     "name": "stdout",
     "output_type": "stream",
     "text": [
      "File 102438.csv could not be read due to being empty or invalid format. Skipping.\n",
      "File SY08F510.csv could not be read due to being empty or invalid format. Skipping.\n",
      "File TF80_213.csv could not be read due to being empty or invalid format. Skipping.\n",
      "File 1912TH.csv could not be read due to being empty or invalid format. Skipping.\n",
      "File 375393.csv could not be read due to being empty or invalid format. Skipping.\n",
      "File SJ66_28.csv could not be read due to being empty or invalid format. Skipping.\n"
     ]
    },
    {
     "name": "stderr",
     "output_type": "stream",
     "text": [
      "\n",
      "\n",
      "\n",
      "\u001b[A\u001b[A\u001b[A"
     ]
    },
    {
     "name": "stdout",
     "output_type": "stream",
     "text": [
      "File 357654.csv could not be read due to being empty or invalid format. Skipping.\n",
      "File TM19_683.csv could not be read due to being empty or invalid format. Skipping.\n",
      "File 542002.csv could not be read due to being empty or invalid format. Skipping.\n",
      "File SE55WDG0RD.csv could not be read due to being empty or invalid format. Skipping.\n",
      "File 556300006.csv could not be read due to being empty or invalid format. Skipping.\n",
      "File 254230001.csv could not be read due to being empty or invalid format. Skipping.\n"
     ]
    },
    {
     "name": "stderr",
     "output_type": "stream",
     "text": [
      "\n",
      "\n",
      "\n",
      "\u001b[A\u001b[A\u001b[A"
     ]
    },
    {
     "name": "stdout",
     "output_type": "stream",
     "text": [
      "File 259110TP.csv could not be read due to being empty or invalid format. Skipping.\n",
      "File 7_071.csv could not be read due to being empty or invalid format. Skipping.\n",
      "File SU17_128.csv could not be read due to being empty or invalid format. Skipping.\n",
      "File TL54_018.csv could not be read due to being empty or invalid format. Skipping.\n",
      "File 21040.csv could not be read due to being empty or invalid format. Skipping.\n"
     ]
    },
    {
     "name": "stderr",
     "output_type": "stream",
     "text": [
      "\n",
      "\n",
      "\n",
      "\u001b[A\u001b[A\u001b[A"
     ]
    },
    {
     "name": "stdout",
     "output_type": "stream",
     "text": [
      "File TL44_024.csv could not be read due to being empty or invalid format. Skipping.\n",
      "File 141811180.csv could not be read due to being empty or invalid format. Skipping.\n",
      "File 0469GW.csv could not be read due to being empty or invalid format. Skipping.\n",
      "File 34459.csv could not be read due to being empty or invalid format. Skipping.\n",
      "File SP91_69.csv could not be read due to being empty or invalid format. Skipping.\n"
     ]
    },
    {
     "name": "stderr",
     "output_type": "stream",
     "text": [
      "\n",
      "\n",
      "\n",
      "\u001b[A\u001b[A\u001b[A"
     ]
    },
    {
     "name": "stdout",
     "output_type": "stream",
     "text": [
      "File 2077GW.csv could not be read due to being empty or invalid format. Skipping.\n",
      "File 90113409.csv could not be read due to being empty or invalid format. Skipping.\n",
      "File TA07WHWTCC.csv could not be read due to being empty or invalid format. Skipping.\n",
      "File 5567GW.csv could not be read due to being empty or invalid format. Skipping.\n",
      "File SU17_114.csv could not be read due to being empty or invalid format. Skipping.\n",
      "File 90898244.csv could not be read due to being empty or invalid format. Skipping.\n",
      "File 8029GW.csv could not be read due to being empty or invalid format. Skipping.\n",
      "File SU17_100.csv could not be read due to being empty or invalid format. Skipping.\n"
     ]
    },
    {
     "name": "stderr",
     "output_type": "stream",
     "text": [
      "\n",
      "\n",
      "\n",
      "\u001b[A\u001b[A\u001b[A"
     ]
    },
    {
     "name": "stdout",
     "output_type": "stream",
     "text": [
      "File SD26_15.csv could not be read due to being empty or invalid format. Skipping.\n",
      "File L2325.csv could not be read due to being empty or invalid format. Skipping.\n",
      "File 254150003.csv could not be read due to being empty or invalid format. Skipping.\n",
      "File 254336TP.csv could not be read due to being empty or invalid format. Skipping.\n",
      "File 235006.csv could not be read due to being empty or invalid format. Skipping.\n",
      "File TG13_320.csv could not be read due to being empty or invalid format. Skipping.\n",
      "File 26061.csv could not be read due to being empty or invalid format. Skipping.\n"
     ]
    },
    {
     "name": "stderr",
     "output_type": "stream",
     "text": [
      "\n",
      "\n",
      "\n",
      "\u001b[A\u001b[A\u001b[A"
     ]
    },
    {
     "name": "stdout",
     "output_type": "stream",
     "text": [
      "File L32019.csv could not be read due to being empty or invalid format. Skipping.\n",
      "File 242601068.csv could not be read due to being empty or invalid format. Skipping.\n",
      "File 1681TH.csv could not be read due to being empty or invalid format. Skipping.\n",
      "File SE46ABI1SS.csv could not be read due to being empty or invalid format. Skipping.\n",
      "File 644014054.csv could not be read due to being empty or invalid format. Skipping.\n",
      "File SU73_96B.csv could not be read due to being empty or invalid format. Skipping.\n",
      "File 95240.csv could not be read due to being empty or invalid format. Skipping.\n",
      "File SE72AMD00RD.csv could not be read due to being empty or invalid format. Skipping.\n"
     ]
    },
    {
     "name": "stderr",
     "output_type": "stream",
     "text": [
      "\n",
      "\n",
      "\n",
      "\u001b[A\u001b[A\u001b[A"
     ]
    },
    {
     "name": "stdout",
     "output_type": "stream",
     "text": [
      "File 141801350.csv could not be read due to being empty or invalid format. Skipping.\n",
      "File 141806359.csv could not be read due to being empty or invalid format. Skipping.\n",
      "File 4473TH.csv could not be read due to being empty or invalid format. Skipping.\n",
      "File 644603001.csv could not be read due to being empty or invalid format. Skipping.\n",
      "File 0494GW.csv could not be read due to being empty or invalid format. Skipping.\n",
      "File TM16_8036.csv could not be read due to being empty or invalid format. Skipping.\n",
      "File 434157.csv could not be read due to being empty or invalid format. Skipping.\n"
     ]
    },
    {
     "name": "stderr",
     "output_type": "stream",
     "text": [
      "\n",
      "\n",
      "\n",
      "\u001b[A\u001b[A\u001b[A"
     ]
    },
    {
     "name": "stdout",
     "output_type": "stream",
     "text": [
      "File 453400002.csv could not be read due to being empty or invalid format. Skipping.\n",
      "File L32025.csv could not be read due to being empty or invalid format. Skipping.\n",
      "File ST01F100.csv could not be read due to being empty or invalid format. Skipping.\n",
      "File 712100.csv could not be read due to being empty or invalid format. Skipping.\n",
      "File L2480.csv could not be read due to being empty or invalid format. Skipping.\n",
      "File 25-5-182.csv could not be read due to being empty or invalid format. Skipping.\n",
      "File 1045GW.csv could not be read due to being empty or invalid format. Skipping.\n",
      "File 141806371.csv could not be read due to being empty or invalid format. Skipping.\n",
      "File TF80_005.csv could not be read due to being empty or invalid format. Skipping.\n"
     ]
    },
    {
     "name": "stderr",
     "output_type": "stream",
     "text": [
      "\n",
      "\n",
      "\n",
      "\u001b[A\u001b[A\u001b[A"
     ]
    },
    {
     "name": "stdout",
     "output_type": "stream",
     "text": [
      "File 433604.csv could not be read due to being empty or invalid format. Skipping.\n",
      "File 3349.csv could not be read due to being empty or invalid format. Skipping.\n",
      "File 1843GW.csv could not be read due to being empty or invalid format. Skipping.\n",
      "File NY00_412C.csv could not be read due to being empty or invalid format. Skipping.\n",
      "File 152805001_W2.csv could not be read due to being empty or invalid format. Skipping.\n",
      "File 1755GW.csv could not be read due to being empty or invalid format. Skipping.\n",
      "File 284368TP.csv could not be read due to being empty or invalid format. Skipping.\n"
     ]
    },
    {
     "name": "stderr",
     "output_type": "stream",
     "text": [
      "\n",
      "\n",
      "\n",
      "\u001b[A\u001b[A\u001b[A"
     ]
    },
    {
     "name": "stdout",
     "output_type": "stream",
     "text": [
      "File 642322001.csv could not be read due to being empty or invalid format. Skipping.\n",
      "File SE94EWH0CC.csv could not be read due to being empty or invalid format. Skipping.\n",
      "File SU27_70.csv could not be read due to being empty or invalid format. Skipping.\n",
      "File TL32_97.csv could not be read due to being empty or invalid format. Skipping.\n",
      "File SJ88_91.csv could not be read due to being empty or invalid format. Skipping.\n",
      "File 642225008.csv could not be read due to being empty or invalid format. Skipping.\n",
      "File 0384GW.csv could not be read due to being empty or invalid format. Skipping.\n",
      "File WAVOBS03.csv could not be read due to being empty or invalid format. Skipping.\n"
     ]
    },
    {
     "name": "stderr",
     "output_type": "stream",
     "text": [
      "\n",
      "\n",
      "\n",
      "\u001b[A\u001b[A\u001b[A"
     ]
    },
    {
     "name": "stdout",
     "output_type": "stream",
     "text": [
      "File TL94_283.csv could not be read due to being empty or invalid format. Skipping.\n",
      "File WAVOBS17.csv could not be read due to being empty or invalid format. Skipping.\n",
      "File 7_105.csv could not be read due to being empty or invalid format. Skipping.\n",
      "File 40101032.csv could not be read due to being empty or invalid format. Skipping.\n",
      "File SU66_38.csv could not be read due to being empty or invalid format. Skipping.\n",
      "File 384544.csv could not be read due to being empty or invalid format. Skipping.\n"
     ]
    },
    {
     "name": "stderr",
     "output_type": "stream",
     "text": [
      "\n",
      "\n",
      "\n",
      "\u001b[A\u001b[A\u001b[A"
     ]
    },
    {
     "name": "stdout",
     "output_type": "stream",
     "text": [
      "File 90194412.csv could not be read due to being empty or invalid format. Skipping.\n",
      "File 90112105.csv could not be read due to being empty or invalid format. Skipping.\n",
      "File 26101.csv could not be read due to being empty or invalid format. Skipping.\n",
      "File 520917.csv could not be read due to being empty or invalid format. Skipping.\n",
      "File SP20_113B.csv could not be read due to being empty or invalid format. Skipping.\n",
      "File SD40_127.csv could not be read due to being empty or invalid format. Skipping.\n",
      "File 4326TH.csv could not be read due to being empty or invalid format. Skipping.\n"
     ]
    },
    {
     "name": "stderr",
     "output_type": "stream",
     "text": [
      "\n",
      "\n",
      "\n",
      "\u001b[A\u001b[A\u001b[A"
     ]
    },
    {
     "name": "stdout",
     "output_type": "stream",
     "text": [
      "File SE55STS2SS.csv could not be read due to being empty or invalid format. Skipping.\n",
      "File 90112111.csv could not be read due to being empty or invalid format. Skipping.\n",
      "File 46839.csv could not be read due to being empty or invalid format. Skipping.\n",
      "File 26115.csv could not be read due to being empty or invalid format. Skipping.\n",
      "File SE83HSM0SS.csv could not be read due to being empty or invalid format. Skipping.\n"
     ]
    },
    {
     "name": "stderr",
     "output_type": "stream",
     "text": [
      "\n",
      "\n",
      "\n",
      "\u001b[A\u001b[A\u001b[A"
     ]
    },
    {
     "name": "stdout",
     "output_type": "stream",
     "text": [
      "File 4208.csv could not be read due to being empty or invalid format. Skipping.\n",
      "File 644601004.csv could not be read due to being empty or invalid format. Skipping.\n",
      "File SU47_21.csv could not be read due to being empty or invalid format. Skipping.\n",
      "File SJ56_48.csv could not be read due to being empty or invalid format. Skipping.\n",
      "File TM02_791.csv could not be read due to being empty or invalid format. Skipping.\n",
      "File 0411GW.csv could not be read due to being empty or invalid format. Skipping.\n",
      "File 530288_FW.csv could not be read due to being empty or invalid format. Skipping.\n",
      "File SU09_157.csv could not be read due to being empty or invalid format. Skipping.\n",
      "File SD44_55.csv could not be read due to being empty or invalid format. Skipping.\n",
      "File 2889.csv could not be read due to being empty or invalid format. Skipping.\n",
      "File 692106.csv could not be read due to being empty or invalid format. Skipping.\n"
     ]
    },
    {
     "name": "stderr",
     "output_type": "stream",
     "text": [
      "\n",
      "\n",
      "\n",
      "\u001b[A\u001b[A\u001b[A"
     ]
    },
    {
     "name": "stdout",
     "output_type": "stream",
     "text": [
      "File SU09_143.csv could not be read due to being empty or invalid format. Skipping.\n",
      "File 546614001.csv could not be read due to being empty or invalid format. Skipping.\n",
      "File 1290TH.csv could not be read due to being empty or invalid format. Skipping.\n",
      "File 25C01.csv could not be read due to being empty or invalid format. Skipping.\n"
     ]
    },
    {
     "name": "stderr",
     "output_type": "stream",
     "text": [
      "\n",
      "\n",
      "\n",
      "\u001b[A\u001b[A\u001b[A"
     ]
    },
    {
     "name": "stdout",
     "output_type": "stream",
     "text": [
      "File 362830501.csv could not be read due to being empty or invalid format. Skipping.\n",
      "File L39010.csv could not be read due to being empty or invalid format. Skipping.\n",
      "File 141800489.csv could not be read due to being empty or invalid format. Skipping.\n",
      "File TL22_86.csv could not be read due to being empty or invalid format. Skipping.\n",
      "File TL97_142.csv could not be read due to being empty or invalid format. Skipping.\n"
     ]
    },
    {
     "name": "stderr",
     "output_type": "stream",
     "text": [
      "\n",
      "\n",
      "\n",
      "\u001b[A\u001b[A\u001b[A"
     ]
    },
    {
     "name": "stdout",
     "output_type": "stream",
     "text": [
      "File L3403.csv could not be read due to being empty or invalid format. Skipping.\n",
      "File 24-4-33.csv could not be read due to being empty or invalid format. Skipping.\n",
      "File 451221001.csv could not be read due to being empty or invalid format. Skipping.\n",
      "File 2_524.csv could not be read due to being empty or invalid format. Skipping.\n",
      "File SY08F100.csv could not be read due to being empty or invalid format. Skipping.\n"
     ]
    },
    {
     "name": "stderr",
     "output_type": "stream",
     "text": [
      "\n",
      "\n",
      "\n",
      "\u001b[A\u001b[A\u001b[A"
     ]
    },
    {
     "name": "stdout",
     "output_type": "stream",
     "text": [
      "File 441320005.csv could not be read due to being empty or invalid format. Skipping.\n",
      "File TL76_006.csv could not be read due to being empty or invalid format. Skipping.\n",
      "File 25-4-27.csv could not be read due to being empty or invalid format. Skipping.\n",
      "File 1198GW.csv could not be read due to being empty or invalid format. Skipping.\n",
      "File 176554.csv could not be read due to being empty or invalid format. Skipping.\n",
      "File 441320011.csv could not be read due to being empty or invalid format. Skipping.\n",
      "File 358163.csv could not be read due to being empty or invalid format. Skipping.\n",
      "File 761515.csv could not be read due to being empty or invalid format. Skipping.\n"
     ]
    },
    {
     "name": "stderr",
     "output_type": "stream",
     "text": [
      "\n",
      "\n",
      "\n",
      "\u001b[A\u001b[A\u001b[A"
     ]
    },
    {
     "name": "stdout",
     "output_type": "stream",
     "text": [
      "File 291241TP.csv could not be read due to being empty or invalid format. Skipping.\n",
      "File TL22_92.csv could not be read due to being empty or invalid format. Skipping.\n",
      "File 26303.csv could not be read due to being empty or invalid format. Skipping.\n",
      "File 1221GW.csv could not be read due to being empty or invalid format. Skipping.\n",
      "File SU16_87.csv could not be read due to being empty or invalid format. Skipping.\n",
      "File SU37_59B.csv could not be read due to being empty or invalid format. Skipping.\n",
      "File 2112GW.csv could not be read due to being empty or invalid format. Skipping.\n",
      "File SJ47_43B.csv could not be read due to being empty or invalid format. Skipping.\n",
      "File 90180117.csv could not be read due to being empty or invalid format. Skipping.\n",
      "File 644922005.csv could not be read due to being empty or invalid format. Skipping.\n"
     ]
    },
    {
     "name": "stderr",
     "output_type": "stream",
     "text": [
      "\n",
      "\n",
      "\n",
      "\u001b[A\u001b[A\u001b[A\n",
      "\n",
      "\n",
      "\u001b[A\u001b[A\u001b[A"
     ]
    },
    {
     "name": "stdout",
     "output_type": "stream",
     "text": [
      "File 644611001.csv could not be read due to being empty or invalid format. Skipping.\n",
      "File NY14_16.csv could not be read due to being empty or invalid format. Skipping.\n",
      "File TL55_141.csv could not be read due to being empty or invalid format. Skipping.\n",
      "File SD53_71.csv could not be read due to being empty or invalid format. Skipping.\n",
      "File 586493.csv could not be read due to being empty or invalid format. Skipping.\n",
      "File SJ46_59.csv could not be read due to being empty or invalid format. Skipping.\n"
     ]
    },
    {
     "name": "stderr",
     "output_type": "stream",
     "text": [
      "\n",
      "\n",
      "\n",
      "\u001b[A\u001b[A\u001b[A"
     ]
    },
    {
     "name": "stdout",
     "output_type": "stream",
     "text": [
      "File 4182TH.csv could not be read due to being empty or invalid format. Skipping.\n",
      "File SU38_85B.csv could not be read due to being empty or invalid format. Skipping.\n",
      "File 91486335.csv could not be read due to being empty or invalid format. Skipping.\n",
      "File 652215004.csv could not be read due to being empty or invalid format. Skipping.\n",
      "File 189543.csv could not be read due to being empty or invalid format. Skipping.\n",
      "File SD43_22C.csv could not be read due to being empty or invalid format. Skipping.\n",
      "File 566330901.csv could not be read due to being empty or invalid format. Skipping.\n",
      "File SU84_53B.csv could not be read due to being empty or invalid format. Skipping.\n",
      "File 3_910.csv could not be read due to being empty or invalid format. Skipping.\n",
      "File 598691.csv could not be read due to being empty or invalid format. Skipping.\n",
      "File 25A17.csv could not be read due to being empty or invalid format. Skipping.\n",
      "File 40401038.csv could not be read due to being empty or invalid format. Skipping.\n",
      "File 341523001.csv could not be read due to being empty or invalid format. Skipping.\n"
     ]
    },
    {
     "name": "stderr",
     "output_type": "stream",
     "text": [
      "\n",
      "\n",
      "\n",
      "\u001b[A\u001b[A\u001b[A"
     ]
    },
    {
     "name": "stdout",
     "output_type": "stream",
     "text": [
      "File S47.csv could not be read due to being empty or invalid format. Skipping.\n",
      "File 151807003.csv could not be read due to being empty or invalid format. Skipping.\n",
      "File 142202685.csv could not be read due to being empty or invalid format. Skipping.\n",
      "File 90124104.csv could not be read due to being empty or invalid format. Skipping.\n"
     ]
    },
    {
     "name": "stderr",
     "output_type": "stream",
     "text": [
      "\n",
      "\n",
      "\n",
      "\u001b[A\u001b[A\u001b[A"
     ]
    },
    {
     "name": "stdout",
     "output_type": "stream",
     "text": [
      "File 2981TH.csv could not be read due to being empty or invalid format. Skipping.\n",
      "File 21-0-134.csv could not be read due to being empty or invalid format. Skipping.\n",
      "File 8030GW.csv could not be read due to being empty or invalid format. Skipping.\n",
      "File 141802512.csv could not be read due to being empty or invalid format. Skipping.\n"
     ]
    },
    {
     "name": "stderr",
     "output_type": "stream",
     "text": [
      "\n",
      "\n",
      "\n",
      "\u001b[A\u001b[A\u001b[A"
     ]
    },
    {
     "name": "stdout",
     "output_type": "stream",
     "text": [
      "File TF70_025.csv could not be read due to being empty or invalid format. Skipping.\n",
      "File 21-0-135.csv could not be read due to being empty or invalid format. Skipping.\n",
      "File 591878.csv could not be read due to being empty or invalid format. Skipping.\n",
      "File 4037.csv could not be read due to being empty or invalid format. Skipping.\n",
      "File 5_029.csv could not be read due to being empty or invalid format. Skipping.\n",
      "File 248332TP.csv could not be read due to being empty or invalid format. Skipping.\n",
      "File 452125003.csv could not be read due to being empty or invalid format. Skipping.\n",
      "File 644015001.csv could not be read due to being empty or invalid format. Skipping.\n"
     ]
    },
    {
     "name": "stderr",
     "output_type": "stream",
     "text": [
      "\n",
      "\n",
      "\n",
      "\u001b[A\u001b[A\u001b[A"
     ]
    },
    {
     "name": "stdout",
     "output_type": "stream",
     "text": [
      "File 40401039.csv could not be read due to being empty or invalid format. Skipping.\n",
      "File 510475_FW.csv could not be read due to being empty or invalid format. Skipping.\n",
      "File 693033.csv could not be read due to being empty or invalid format. Skipping.\n",
      "File ST99_61A.csv could not be read due to being empty or invalid format. Skipping.\n",
      "File 5_015.csv could not be read due to being empty or invalid format. Skipping.\n",
      "File TG02_494A.csv could not be read due to being empty or invalid format. Skipping.\n"
     ]
    },
    {
     "name": "stderr",
     "output_type": "stream",
     "text": [
      "\n",
      "\n",
      "\n",
      "\u001b[A\u001b[A\u001b[A"
     ]
    },
    {
     "name": "stdout",
     "output_type": "stream",
     "text": [
      "File L2907.csv could not be read due to being empty or invalid format. Skipping.\n",
      "File 1435GW.csv could not be read due to being empty or invalid format. Skipping.\n",
      "File 141801999.csv could not be read due to being empty or invalid format. Skipping.\n",
      "File 694748.csv could not be read due to being empty or invalid format. Skipping.\n",
      "File 555118001.csv could not be read due to being empty or invalid format. Skipping.\n",
      "File 0470GW.csv could not be read due to being empty or invalid format. Skipping.\n",
      "File NY14_17.csv could not be read due to being empty or invalid format. Skipping.\n",
      "File 530830_FW.csv could not be read due to being empty or invalid format. Skipping.\n"
     ]
    },
    {
     "name": "stderr",
     "output_type": "stream",
     "text": [
      "\n",
      "\n",
      "\n",
      "\u001b[A\u001b[A\u001b[A"
     ]
    },
    {
     "name": "stdout",
     "output_type": "stream",
     "text": [
      "File IDB-2.csv could not be read due to being empty or invalid format. Skipping.\n",
      "File S46452_FW.csv could not be read due to being empty or invalid format. Skipping.\n",
      "File 0435GW.csv could not be read due to being empty or invalid format. Skipping.\n",
      "File F1706.csv could not be read due to being empty or invalid format. Skipping.\n",
      "File SD53_70.csv could not be read due to being empty or invalid format. Skipping.\n",
      "File TM16_7066.csv could not be read due to being empty or invalid format. Skipping.\n"
     ]
    },
    {
     "name": "stderr",
     "output_type": "stream",
     "text": [
      "\n",
      "\n",
      "\n",
      "\u001b[A\u001b[A\u001b[A"
     ]
    },
    {
     "name": "stdout",
     "output_type": "stream",
     "text": [
      "File SD41_137.csv could not be read due to being empty or invalid format. Skipping.\n",
      "File 644922004.csv could not be read due to being empty or invalid format. Skipping.\n",
      "File TQ47_99.csv could not be read due to being empty or invalid format. Skipping.\n",
      "File 2_519.csv could not be read due to being empty or invalid format. Skipping.\n",
      "File 90190305.csv could not be read due to being empty or invalid format. Skipping.\n",
      "File 3286TH.csv could not be read due to being empty or invalid format. Skipping.\n"
     ]
    },
    {
     "name": "stderr",
     "output_type": "stream",
     "text": [
      "\n",
      "\n",
      "\n",
      "\u001b[A\u001b[A\u001b[A"
     ]
    },
    {
     "name": "stdout",
     "output_type": "stream",
     "text": [
      "File L12041.csv could not be read due to being empty or invalid format. Skipping.\n",
      "File 90112306.csv could not be read due to being empty or invalid format. Skipping.\n",
      "File TL12_122.csv could not be read due to being empty or invalid format. Skipping.\n",
      "File 1771GW.csv could not be read due to being empty or invalid format. Skipping.\n",
      "File 78530.csv could not be read due to being empty or invalid format. Skipping.\n",
      "File 25-4-32.csv could not be read due to being empty or invalid format. Skipping.\n",
      "File TL66_007.csv could not be read due to being empty or invalid format. Skipping.\n"
     ]
    },
    {
     "name": "stderr",
     "output_type": "stream",
     "text": [
      "\n",
      "\n",
      "\n",
      "\u001b[A\u001b[A\u001b[A"
     ]
    },
    {
     "name": "stdout",
     "output_type": "stream",
     "text": [
      "File 245421013.csv could not be read due to being empty or invalid format. Skipping.\n",
      "File 761514.csv could not be read due to being empty or invalid format. Skipping.\n",
      "File 1734GW.csv could not be read due to being empty or invalid format. Skipping.\n",
      "File L1215.csv could not be read due to being empty or invalid format. Skipping.\n",
      "File 2_525.csv could not be read due to being empty or invalid format. Skipping.\n",
      "File L3402.csv could not be read due to being empty or invalid format. Skipping.\n",
      "File 24-4-32.csv could not be read due to being empty or invalid format. Skipping.\n"
     ]
    },
    {
     "name": "stderr",
     "output_type": "stream",
     "text": [
      "\n",
      "\n",
      "\n",
      "\u001b[A\u001b[A\u001b[A"
     ]
    },
    {
     "name": "stdout",
     "output_type": "stream",
     "text": [
      "File TL22_87.csv could not be read due to being empty or invalid format. Skipping.\n",
      "File NY00_338.csv could not be read due to being empty or invalid format. Skipping.\n",
      "File 141800488.csv could not be read due to being empty or invalid format. Skipping.\n",
      "File TL97_143.csv could not be read due to being empty or invalid format. Skipping.\n",
      "File SU37_60.csv could not be read due to being empty or invalid format. Skipping.\n",
      "File SD44_40.csv could not be read due to being empty or invalid format. Skipping.\n"
     ]
    },
    {
     "name": "stderr",
     "output_type": "stream",
     "text": [
      "\n",
      "\n",
      "\n",
      "\u001b[A\u001b[A\u001b[A"
     ]
    },
    {
     "name": "stdout",
     "output_type": "stream",
     "text": [
      "File 241243TP.csv could not be read due to being empty or invalid format. Skipping.\n",
      "File TM46_619.csv could not be read due to being empty or invalid format. Skipping.\n",
      "File L39011.csv could not be read due to being empty or invalid format. Skipping.\n",
      "File 546521003.csv could not be read due to being empty or invalid format. Skipping.\n",
      "File 700303.csv could not be read due to being empty or invalid format. Skipping.\n",
      "File 2644.csv could not be read due to being empty or invalid format. Skipping.\n"
     ]
    },
    {
     "name": "stderr",
     "output_type": "stream",
     "text": [
      "\n",
      "\n",
      "\n",
      "\u001b[A\u001b[A\u001b[A"
     ]
    },
    {
     "name": "stdout",
     "output_type": "stream",
     "text": [
      "File 2650.csv could not be read due to being empty or invalid format. Skipping.\n",
      "File TF80_170.csv could not be read due to being empty or invalid format. Skipping.\n",
      "File SU06_40.csv could not be read due to being empty or invalid format. Skipping.\n",
      "File NY00_404B.csv could not be read due to being empty or invalid format. Skipping.\n",
      "File TL52_2.csv could not be read due to being empty or invalid format. Skipping.\n",
      "File 692675.csv could not be read due to being empty or invalid format. Skipping.\n",
      "File SD44_54.csv could not be read due to being empty or invalid format. Skipping.\n",
      "File 2237GW.csv could not be read due to being empty or invalid format. Skipping.\n",
      "File 2888.csv could not be read due to being empty or invalid format. Skipping.\n",
      "File 0141GW.csv could not be read due to being empty or invalid format. Skipping.\n"
     ]
    },
    {
     "name": "stderr",
     "output_type": "stream",
     "text": [
      "\n",
      "\n",
      "\n",
      "\u001b[A\u001b[A\u001b[A"
     ]
    },
    {
     "name": "stdout",
     "output_type": "stream",
     "text": [
      "File SE46GGT0RD.csv could not be read due to being empty or invalid format. Skipping.\n",
      "File SU84_57.csv could not be read due to being empty or invalid format. Skipping.\n",
      "File 644601005.csv could not be read due to being empty or invalid format. Skipping.\n",
      "File 654700001.csv could not be read due to being empty or invalid format. Skipping.\n",
      "File 0311TH.csv could not be read due to being empty or invalid format. Skipping.\n",
      "File 1_633.csv could not be read due to being empty or invalid format. Skipping.\n",
      "File TL88_065.csv could not be read due to being empty or invalid format. Skipping.\n"
     ]
    },
    {
     "name": "stderr",
     "output_type": "stream",
     "text": [
      "\n",
      "\n",
      "\n",
      "\u001b[A\u001b[A\u001b[A\n",
      "\n",
      "\n",
      "\u001b[A\u001b[A\u001b[A"
     ]
    },
    {
     "name": "stdout",
     "output_type": "stream",
     "text": [
      "File 754008.csv could not be read due to being empty or invalid format. Skipping.\n",
      "File 243112013.csv could not be read due to being empty or invalid format. Skipping.\n",
      "File 654600001.csv could not be read due to being empty or invalid format. Skipping.\n",
      "File 243112007.csv could not be read due to being empty or invalid format. Skipping.\n",
      "File 142203968.csv could not be read due to being empty or invalid format. Skipping.\n",
      "File 458846.csv could not be read due to being empty or invalid format. Skipping.\n",
      "File SD44_68.csv could not be read due to being empty or invalid format. Skipping.\n",
      "File SU78_122.csv could not be read due to being empty or invalid format. Skipping.\n",
      "File 109140.csv could not be read due to being empty or invalid format. Skipping.\n",
      "File 141803340.csv could not be read due to being empty or invalid format. Skipping.\n",
      "File SU29_74.csv could not be read due to being empty or invalid format. Skipping.\n",
      "File 182601.csv could not be read due to being empty or invalid format. Skipping.\n",
      "File 764120.csv could not be read due to being empty or invalid format. Skipping.\n",
      "File 26114.csv could not be read due to being empty or invalid format. Skipping.\n",
      "File SU38_46B.csv could not be read due to being empty or invalid format. Skipping.\n",
      "File 644932001.csv could not be read due to being empty or invalid format. Skipping.\n"
     ]
    },
    {
     "name": "stderr",
     "output_type": "stream",
     "text": [
      "\n",
      "\n",
      "\n",
      "\u001b[A\u001b[A\u001b[A"
     ]
    },
    {
     "name": "stdout",
     "output_type": "stream",
     "text": [
      "File 3_508.csv could not be read due to being empty or invalid format. Skipping.\n",
      "File 441330001.csv could not be read due to being empty or invalid format. Skipping.\n",
      "File 303402.csv could not be read due to being empty or invalid format. Skipping.\n",
      "File SO91_44.csv could not be read due to being empty or invalid format. Skipping.\n",
      "File WAVOBS16.csv could not be read due to being empty or invalid format. Skipping.\n",
      "File TL00_30.csv could not be read due to being empty or invalid format. Skipping.\n"
     ]
    },
    {
     "name": "stderr",
     "output_type": "stream",
     "text": [
      "\n",
      "\n",
      "\n",
      "\u001b[A\u001b[A\u001b[A"
     ]
    },
    {
     "name": "stdout",
     "output_type": "stream",
     "text": [
      "File 74108.csv could not be read due to being empty or invalid format. Skipping.\n",
      "File F0815.csv could not be read due to being empty or invalid format. Skipping.\n",
      "File TF93_089A.csv could not be read due to being empty or invalid format. Skipping.\n",
      "File 143302750.csv could not be read due to being empty or invalid format. Skipping.\n",
      "File 23044.csv could not be read due to being empty or invalid format. Skipping.\n",
      "File 735435.csv could not be read due to being empty or invalid format. Skipping.\n",
      "File L1771.csv could not be read due to being empty or invalid format. Skipping.\n"
     ]
    },
    {
     "name": "stderr",
     "output_type": "stream",
     "text": [
      "\n",
      "\n",
      "\n",
      "\u001b[A\u001b[A\u001b[A\n",
      "\n",
      "\n",
      "\u001b[A\u001b[A\u001b[A"
     ]
    },
    {
     "name": "stdout",
     "output_type": "stream",
     "text": [
      "File 301201.csv could not be read due to being empty or invalid format. Skipping.\n",
      "File 531420_FW.csv could not be read due to being empty or invalid format. Skipping.\n",
      "File 2877.csv could not be read due to being empty or invalid format. Skipping.\n",
      "File WAVOBS02.csv could not be read due to being empty or invalid format. Skipping.\n",
      "File 40101027.csv could not be read due to being empty or invalid format. Skipping.\n",
      "File 556302002.csv could not be read due to being empty or invalid format. Skipping.\n",
      "File 141806364.csv could not be read due to being empty or invalid format. Skipping.\n",
      "File SP41_88.csv could not be read due to being empty or invalid format. Skipping.\n",
      "File 341962.csv could not be read due to being empty or invalid format. Skipping.\n",
      "File SU94_119.csv could not be read due to being empty or invalid format. Skipping.\n",
      "File 1484TH.csv could not be read due to being empty or invalid format. Skipping.\n"
     ]
    },
    {
     "name": "stderr",
     "output_type": "stream",
     "text": [
      "\n",
      "\n",
      "\n",
      "\u001b[A\u001b[A\u001b[A"
     ]
    },
    {
     "name": "stdout",
     "output_type": "stream",
     "text": [
      "File 2056.csv could not be read due to being empty or invalid format. Skipping.\n",
      "File L2481.csv could not be read due to being empty or invalid format. Skipping.\n",
      "File 276316TP.csv could not be read due to being empty or invalid format. Skipping.\n",
      "File 453400017.csv could not be read due to being empty or invalid format. Skipping.\n",
      "File 1745TH.csv could not be read due to being empty or invalid format. Skipping.\n",
      "File 282781TP.csv could not be read due to being empty or invalid format. Skipping.\n",
      "File L32024.csv could not be read due to being empty or invalid format. Skipping.\n",
      "File TF90_004.csv could not be read due to being empty or invalid format. Skipping.\n",
      "File NY00_412B.csv could not be read due to being empty or invalid format. Skipping.\n",
      "File L32030.csv could not be read due to being empty or invalid format. Skipping.\n"
     ]
    },
    {
     "name": "stderr",
     "output_type": "stream",
     "text": [
      "\n",
      "\n",
      "\n",
      "\u001b[A\u001b[A\u001b[A"
     ]
    },
    {
     "name": "stdout",
     "output_type": "stream",
     "text": [
      "File 603742.csv could not be read due to being empty or invalid format. Skipping.\n",
      "File TL12_001AC.csv could not be read due to being empty or invalid format. Skipping.\n",
      "File SE52HDW0SS.csv could not be read due to being empty or invalid format. Skipping.\n",
      "File NY72_9.csv could not be read due to being empty or invalid format. Skipping.\n",
      "File 151815002.csv could not be read due to being empty or invalid format. Skipping.\n",
      "File SE44WTR0ML.csv could not be read due to being empty or invalid format. Skipping.\n"
     ]
    },
    {
     "name": "stderr",
     "output_type": "stream",
     "text": [
      "\n",
      "\n",
      "\n",
      "\u001b[A\u001b[A\u001b[A"
     ]
    },
    {
     "name": "stdout",
     "output_type": "stream",
     "text": [
      "File 644014055.csv could not be read due to being empty or invalid format. Skipping.\n",
      "File 254150002.csv could not be read due to being empty or invalid format. Skipping.\n",
      "File 128788.csv could not be read due to being empty or invalid format. Skipping.\n",
      "File L32018.csv could not be read due to being empty or invalid format. Skipping.\n",
      "File L2442.csv could not be read due to being empty or invalid format. Skipping.\n",
      "File SD30_54A.csv could not be read due to being empty or invalid format. Skipping.\n",
      "File 133343.csv could not be read due to being empty or invalid format. Skipping.\n",
      "File 570099.csv could not be read due to being empty or invalid format. Skipping.\n"
     ]
    },
    {
     "name": "stderr",
     "output_type": "stream",
     "text": [
      "\n",
      "\n",
      "\n",
      "\u001b[A\u001b[A\u001b[A"
     ]
    },
    {
     "name": "stdout",
     "output_type": "stream",
     "text": [
      "File 152504001.csv could not be read due to being empty or invalid format. Skipping.\n",
      "File 142204632.csv could not be read due to being empty or invalid format. Skipping.\n",
      "File 359644.csv could not be read due to being empty or invalid format. Skipping.\n",
      "File 2732TH.csv could not be read due to being empty or invalid format. Skipping.\n",
      "File 521190_FW.csv could not be read due to being empty or invalid format. Skipping.\n",
      "File TM24_3313.csv could not be read due to being empty or invalid format. Skipping.\n",
      "File SY08G155.csv could not be read due to being empty or invalid format. Skipping.\n"
     ]
    },
    {
     "name": "stderr",
     "output_type": "stream",
     "text": [
      "\n",
      "\n",
      "\n",
      "\u001b[A\u001b[A\u001b[A"
     ]
    },
    {
     "name": "stdout",
     "output_type": "stream",
     "text": [
      "File 7_058.csv could not be read due to being empty or invalid format. Skipping.\n",
      "File SU48_77A.csv could not be read due to being empty or invalid format. Skipping.\n",
      "File 341313005.csv could not be read due to being empty or invalid format. Skipping.\n",
      "File 279941TP.csv could not be read due to being empty or invalid format. Skipping.\n",
      "File L1605.csv could not be read due to being empty or invalid format. Skipping.\n",
      "File TL44_019.csv could not be read due to being empty or invalid format. Skipping.\n",
      "File 21041.csv could not be read due to being empty or invalid format. Skipping.\n"
     ]
    },
    {
     "name": "stderr",
     "output_type": "stream",
     "text": [
      "\n",
      "\n",
      "\n",
      "\u001b[A\u001b[A\u001b[A"
     ]
    },
    {
     "name": "stdout",
     "output_type": "stream",
     "text": [
      "File 311166.csv could not be read due to being empty or invalid format. Skipping.\n",
      "File 542003.csv could not be read due to being empty or invalid format. Skipping.\n",
      "File 362188.csv could not be read due to being empty or invalid format. Skipping.\n",
      "File SJ47_031.csv could not be read due to being empty or invalid format. Skipping.\n"
     ]
    },
    {
     "name": "stderr",
     "output_type": "stream",
     "text": [
      "\n",
      "\n",
      "\n",
      "\u001b[A\u001b[A\u001b[A"
     ]
    },
    {
     "name": "stdout",
     "output_type": "stream",
     "text": [
      "File 90875440.csv could not be read due to being empty or invalid format. Skipping.\n",
      "File TF73_092.csv could not be read due to being empty or invalid format. Skipping.\n",
      "File 431947.csv could not be read due to being empty or invalid format. Skipping.\n",
      "File 433407.csv could not be read due to being empty or invalid format. Skipping.\n",
      "File 1_579.csv could not be read due to being empty or invalid format. Skipping.\n",
      "File 520309.csv could not be read due to being empty or invalid format. Skipping.\n",
      "File 2532.csv could not be read due to being empty or invalid format. Skipping.\n"
     ]
    },
    {
     "name": "stderr",
     "output_type": "stream",
     "text": [
      "\n",
      "\n",
      "\n",
      "\u001b[A\u001b[A\u001b[A"
     ]
    },
    {
     "name": "stdout",
     "output_type": "stream",
     "text": [
      "File 582970.csv could not be read due to being empty or invalid format. Skipping.\n",
      "File TF80_212.csv could not be read due to being empty or invalid format. Skipping.\n",
      "File 4143.csv could not be read due to being empty or invalid format. Skipping.\n",
      "File 141806172.csv could not be read due to being empty or invalid format. Skipping.\n",
      "File 433413.csv could not be read due to being empty or invalid format. Skipping.\n",
      "File 644017004.csv could not be read due to being empty or invalid format. Skipping.\n"
     ]
    },
    {
     "name": "stderr",
     "output_type": "stream",
     "text": [
      "\n",
      "\n",
      "\n",
      "\u001b[A\u001b[A\u001b[A"
     ]
    },
    {
     "name": "stdout",
     "output_type": "stream",
     "text": [
      "File 296586.csv could not be read due to being empty or invalid format. Skipping.\n",
      "File TM17_507A.csv could not be read due to being empty or invalid format. Skipping.\n",
      "File 142508910.csv could not be read due to being empty or invalid format. Skipping.\n",
      "File 2268.csv could not be read due to being empty or invalid format. Skipping.\n",
      "File NZ30SLG0SS.csv could not be read due to being empty or invalid format. Skipping.\n",
      "File 3102TH.csv could not be read due to being empty or invalid format. Skipping.\n"
     ]
    },
    {
     "name": "stderr",
     "output_type": "stream",
     "text": [
      "\n",
      "\n",
      "\n",
      "\u001b[A\u001b[A\u001b[A"
     ]
    },
    {
     "name": "stdout",
     "output_type": "stream",
     "text": [
      "File 342843003.csv could not be read due to being empty or invalid format. Skipping.\n",
      "File SE92CPS0JK.csv could not be read due to being empty or invalid format. Skipping.\n",
      "File SU48_71.csv could not be read due to being empty or invalid format. Skipping.\n",
      "File SD51_75.csv could not be read due to being empty or invalid format. Skipping.\n",
      "File 242602004.csv could not be read due to being empty or invalid format. Skipping.\n",
      "File SJ58_117.csv could not be read due to being empty or invalid format. Skipping.\n",
      "File 1709GW.csv could not be read due to being empty or invalid format. Skipping.\n",
      "File 664423901.csv could not be read due to being empty or invalid format. Skipping.\n",
      "File 2904TH.csv could not be read due to being empty or invalid format. Skipping.\n",
      "File 654712001.csv could not be read due to being empty or invalid format. Skipping.\n",
      "File L0902.csv could not be read due to being empty or invalid format. Skipping.\n"
     ]
    },
    {
     "name": "stderr",
     "output_type": "stream",
     "text": [
      "\n",
      "\n",
      "\n",
      "\u001b[A\u001b[A\u001b[A"
     ]
    },
    {
     "name": "stdout",
     "output_type": "stream",
     "text": [
      "File 2941TH.csv could not be read due to being empty or invalid format. Skipping.\n",
      "File TL65_067.csv could not be read due to being empty or invalid format. Skipping.\n",
      "File SU74_11.csv could not be read due to being empty or invalid format. Skipping.\n",
      "File L3238.csv could not be read due to being empty or invalid format. Skipping.\n"
     ]
    },
    {
     "name": "stderr",
     "output_type": "stream",
     "text": [
      "\n",
      "\n",
      "\n",
      "\u001b[A\u001b[A\u001b[A"
     ]
    },
    {
     "name": "stdout",
     "output_type": "stream",
     "text": [
      "File 4180.csv could not be read due to being empty or invalid format. Skipping.\n",
      "File 36703.csv could not be read due to being empty or invalid format. Skipping.\n",
      "File 0360GW.csv could not be read due to being empty or invalid format. Skipping.\n",
      "File 244141003.csv could not be read due to being empty or invalid format. Skipping.\n",
      "File 735019.csv could not be read due to being empty or invalid format. Skipping.\n",
      "File TL84_862.csv could not be read due to being empty or invalid format. Skipping.\n",
      "File 22010.csv could not be read due to being empty or invalid format. Skipping.\n",
      "File 142206227.csv could not be read due to being empty or invalid format. Skipping.\n",
      "File 530105_FW.csv could not be read due to being empty or invalid format. Skipping.\n",
      "File 1408GW.csv could not be read due to being empty or invalid format. Skipping.\n",
      "File L3204.csv could not be read due to being empty or invalid format. Skipping.\n",
      "File 3_130.csv could not be read due to being empty or invalid format. Skipping.\n",
      "File 152210005.csv could not be read due to being empty or invalid format. Skipping.\n"
     ]
    },
    {
     "name": "stderr",
     "output_type": "stream",
     "text": [
      "\n",
      "\n",
      "\n",
      "\u001b[A\u001b[A\u001b[A"
     ]
    },
    {
     "name": "stdout",
     "output_type": "stream",
     "text": [
      "File Egerton1.csv could not be read due to being empty or invalid format. Skipping.\n",
      "File 4387TH.csv could not be read due to being empty or invalid format. Skipping.\n",
      "File 0408GW.csv could not be read due to being empty or invalid format. Skipping.\n",
      "File 3697TH.csv could not be read due to being empty or invalid format. Skipping.\n",
      "File TL21_105.csv could not be read due to being empty or invalid format. Skipping.\n",
      "File L1377.csv could not be read due to being empty or invalid format. Skipping.\n",
      "File 441222003.csv could not be read due to being empty or invalid format. Skipping.\n"
     ]
    },
    {
     "name": "stderr",
     "output_type": "stream",
     "text": [
      "\n",
      "\n",
      "\n",
      "\u001b[A\u001b[A\u001b[A"
     ]
    },
    {
     "name": "stdout",
     "output_type": "stream",
     "text": [
      "File 6_063.csv could not be read due to being empty or invalid format. Skipping.\n",
      "File 33137.csv could not be read due to being empty or invalid format. Skipping.\n",
      "File L1405.csv could not be read due to being empty or invalid format. Skipping.\n",
      "File 1_584.csv could not be read due to being empty or invalid format. Skipping.\n",
      "File TA05SDL0CC.csv could not be read due to being empty or invalid format. Skipping.\n"
     ]
    },
    {
     "name": "stderr",
     "output_type": "stream",
     "text": [
      "\n",
      "\n",
      "\n",
      "\u001b[A\u001b[A\u001b[A\n",
      "\n",
      "\n",
      "\u001b[A\u001b[A\u001b[A"
     ]
    },
    {
     "name": "stdout",
     "output_type": "stream",
     "text": [
      "File 52287.csv could not be read due to being empty or invalid format. Skipping.\n",
      "File TF92_671.csv could not be read due to being empty or invalid format. Skipping.\n",
      "File 4182.csv could not be read due to being empty or invalid format. Skipping.\n",
      "File SU46_7.csv could not be read due to being empty or invalid format. Skipping.\n",
      "File 246847TP.csv could not be read due to being empty or invalid format. Skipping.\n",
      "File 1653GW.csv could not be read due to being empty or invalid format. Skipping.\n",
      "File 22012.csv could not be read due to being empty or invalid format. Skipping.\n",
      "File SE96HNH0CC.csv could not be read due to being empty or invalid format. Skipping.\n",
      "File 90104412.csv could not be read due to being empty or invalid format. Skipping.\n",
      "File 644304001.csv could not be read due to being empty or invalid format. Skipping.\n",
      "File 175102.csv could not be read due to being empty or invalid format. Skipping.\n",
      "File 142205738.csv could not be read due to being empty or invalid format. Skipping.\n"
     ]
    },
    {
     "name": "stderr",
     "output_type": "stream",
     "text": [
      "\n",
      "\n",
      "\n",
      "\u001b[A\u001b[A\u001b[A"
     ]
    },
    {
     "name": "stdout",
     "output_type": "stream",
     "text": [
      "File 142202725.csv could not be read due to being empty or invalid format. Skipping.\n",
      "File 0517GW.csv could not be read due to being empty or invalid format. Skipping.\n",
      "File SE46GOB0RD.csv could not be read due to being empty or invalid format. Skipping.\n",
      "File 4196.csv could not be read due to being empty or invalid format. Skipping.\n",
      "File F432405_FW.csv could not be read due to being empty or invalid format. Skipping.\n",
      "File SJ58_115.csv could not be read due to being empty or invalid format. Skipping.\n",
      "File 342604009.csv could not be read due to being empty or invalid format. Skipping.\n",
      "File 90774345.csv could not be read due to being empty or invalid format. Skipping.\n"
     ]
    },
    {
     "name": "stderr",
     "output_type": "stream",
     "text": [
      "\n",
      "\n",
      "\n",
      "\u001b[A\u001b[A\u001b[A"
     ]
    },
    {
     "name": "stdout",
     "output_type": "stream",
     "text": [
      "File 591.csv could not be read due to being empty or invalid format. Skipping.\n",
      "File 141801151.csv could not be read due to being empty or invalid format. Skipping.\n",
      "File SD55_5.csv could not be read due to being empty or invalid format. Skipping.\n",
      "File 569723.csv could not be read due to being empty or invalid format. Skipping.\n",
      "File TL11_168.csv could not be read due to being empty or invalid format. Skipping.\n",
      "File 25-3-339.csv could not be read due to being empty or invalid format. Skipping.\n",
      "File 253101001.csv could not be read due to being empty or invalid format. Skipping.\n",
      "File 585.csv could not be read due to being empty or invalid format. Skipping.\n",
      "File SU67_84.csv could not be read due to being empty or invalid format. Skipping.\n",
      "File 4169.csv could not be read due to being empty or invalid format. Skipping.\n",
      "File SD51_77.csv could not be read due to being empty or invalid format. Skipping.\n",
      "File SU69_81.csv could not be read due to being empty or invalid format. Skipping.\n",
      "File TG20_099.csv could not be read due to being empty or invalid format. Skipping.\n"
     ]
    },
    {
     "name": "stderr",
     "output_type": "stream",
     "text": [
      "\n",
      "\n",
      "\n",
      "\u001b[A\u001b[A\u001b[A"
     ]
    },
    {
     "name": "stdout",
     "output_type": "stream",
     "text": [
      "File TM08_108.csv could not be read due to being empty or invalid format. Skipping.\n",
      "File 433405.csv could not be read due to being empty or invalid format. Skipping.\n",
      "File 77952.csv could not be read due to being empty or invalid format. Skipping.\n",
      "File 41238.csv could not be read due to being empty or invalid format. Skipping.\n",
      "File L0928.csv could not be read due to being empty or invalid format. Skipping.\n"
     ]
    },
    {
     "name": "stderr",
     "output_type": "stream",
     "text": [
      "\n",
      "\n",
      "\n",
      "\u001b[A\u001b[A\u001b[A"
     ]
    },
    {
     "name": "stdout",
     "output_type": "stream",
     "text": [
      "File SU47_135.csv could not be read due to being empty or invalid format. Skipping.\n",
      "File SE39TT00SS.csv could not be read due to being empty or invalid format. Skipping.\n",
      "File SU47_121.csv could not be read due to being empty or invalid format. Skipping.\n"
     ]
    },
    {
     "name": "stderr",
     "output_type": "stream",
     "text": [
      "\n",
      "\n",
      "\n",
      "\u001b[A\u001b[A\u001b[A"
     ]
    },
    {
     "name": "stdout",
     "output_type": "stream",
     "text": [
      "File TW05_1.csv could not be read due to being empty or invalid format. Skipping.\n",
      "File 6_088.csv could not be read due to being empty or invalid format. Skipping.\n",
      "File 4155.csv could not be read due to being empty or invalid format. Skipping.\n",
      "File S50506_FW.csv could not be read due to being empty or invalid format. Skipping.\n"
     ]
    },
    {
     "name": "stderr",
     "output_type": "stream",
     "text": [
      "\n",
      "\n",
      "\n",
      "\u001b[A\u001b[A\u001b[A"
     ]
    },
    {
     "name": "stdout",
     "output_type": "stream",
     "text": [
      "File 7_072.csv could not be read due to being empty or invalid format. Skipping.\n",
      "File 1934TH.csv could not be read due to being empty or invalid format. Skipping.\n",
      "File 461800.csv could not be read due to being empty or invalid format. Skipping.\n",
      "File 2431TH.csv could not be read due to being empty or invalid format. Skipping.\n",
      "File 2915.csv could not be read due to being empty or invalid format. Skipping.\n",
      "File 569079.csv could not be read due to being empty or invalid format. Skipping.\n",
      "File SU63_37.csv could not be read due to being empty or invalid format. Skipping.\n",
      "File 55555555.csv could not be read due to being empty or invalid format. Skipping.\n",
      "File 556300005.csv could not be read due to being empty or invalid format. Skipping.\n",
      "File 735225.csv could not be read due to being empty or invalid format. Skipping.\n",
      "File 542001.csv could not be read due to being empty or invalid format. Skipping.\n",
      "File 305111.csv could not be read due to being empty or invalid format. Skipping.\n"
     ]
    },
    {
     "name": "stderr",
     "output_type": "stream",
     "text": [
      "\n",
      "\n",
      "\n",
      "\u001b[A\u001b[A\u001b[A"
     ]
    },
    {
     "name": "stdout",
     "output_type": "stream",
     "text": [
      "File L1607.csv could not be read due to being empty or invalid format. Skipping.\n",
      "File L3010.csv could not be read due to being empty or invalid format. Skipping.\n",
      "File 2201TH.csv could not be read due to being empty or invalid format. Skipping.\n",
      "File SE46BBL0SS.csv could not be read due to being empty or invalid format. Skipping.\n",
      "File 2097.csv could not be read due to being empty or invalid format. Skipping.\n",
      "File 290320.csv could not be read due to being empty or invalid format. Skipping.\n",
      "File 26062.csv could not be read due to being empty or invalid format. Skipping.\n"
     ]
    },
    {
     "name": "stderr",
     "output_type": "stream",
     "text": [
      "\n",
      "\n",
      "\n",
      "\u001b[A\u001b[A\u001b[A"
     ]
    },
    {
     "name": "stdout",
     "output_type": "stream",
     "text": [
      "File SU58_89.csv could not be read due to being empty or invalid format. Skipping.\n",
      "File NTF9182E4.csv could not be read due to being empty or invalid format. Skipping.\n",
      "File SJ89_214.csv could not be read due to being empty or invalid format. Skipping.\n",
      "File 90100310.csv could not be read due to being empty or invalid format. Skipping.\n",
      "File 141002965.csv could not be read due to being empty or invalid format. Skipping.\n"
     ]
    },
    {
     "name": "stderr",
     "output_type": "stream",
     "text": [
      "\n",
      "\n",
      "\n",
      "\u001b[A\u001b[A\u001b[A"
     ]
    },
    {
     "name": "stdout",
     "output_type": "stream",
     "text": [
      "File 3_318.csv could not be read due to being empty or invalid format. Skipping.\n",
      "File 2083.csv could not be read due to being empty or invalid format. Skipping.\n",
      "File SD53_14B.csv could not be read due to being empty or invalid format. Skipping.\n",
      "File TL33_002.csv could not be read due to being empty or invalid format. Skipping.\n",
      "File 693421.csv could not be read due to being empty or invalid format. Skipping.\n",
      "File L1808.csv could not be read due to being empty or invalid format. Skipping.\n",
      "File 245412008.csv could not be read due to being empty or invalid format. Skipping.\n"
     ]
    },
    {
     "name": "stderr",
     "output_type": "stream",
     "text": [
      "\n",
      "\n",
      "\n",
      "\u001b[A\u001b[A\u001b[A"
     ]
    },
    {
     "name": "stdout",
     "output_type": "stream",
     "text": [
      "File 441314002.csv could not be read due to being empty or invalid format. Skipping.\n",
      "File SU56_118.csv could not be read due to being empty or invalid format. Skipping.\n",
      "File 142206972.csv could not be read due to being empty or invalid format. Skipping.\n",
      "File 654602006.csv could not be read due to being empty or invalid format. Skipping.\n",
      "File SU73_96A.csv could not be read due to being empty or invalid format. Skipping.\n",
      "File 141801421.csv could not be read due to being empty or invalid format. Skipping.\n"
     ]
    },
    {
     "name": "stderr",
     "output_type": "stream",
     "text": [
      "\n",
      "\n",
      "\n",
      "\u001b[A\u001b[A\u001b[A"
     ]
    },
    {
     "name": "stdout",
     "output_type": "stream",
     "text": [
      "File SU89_89D.csv could not be read due to being empty or invalid format. Skipping.\n",
      "File 2054.csv could not be read due to being empty or invalid format. Skipping.\n",
      "File SJ36_084.csv could not be read due to being empty or invalid format. Skipping.\n",
      "File 5378TH.csv could not be read due to being empty or invalid format. Skipping.\n",
      "File 181530.csv could not be read due to being empty or invalid format. Skipping.\n",
      "File 91498242.csv could not be read due to being empty or invalid format. Skipping.\n"
     ]
    },
    {
     "name": "stderr",
     "output_type": "stream",
     "text": [
      "\n",
      "\n",
      "\n",
      "\u001b[A\u001b[A\u001b[A"
     ]
    },
    {
     "name": "stdout",
     "output_type": "stream",
     "text": [
      "File 0026GW.csv could not be read due to being empty or invalid format. Skipping.\n",
      "File 685519.csv could not be read due to being empty or invalid format. Skipping.\n",
      "File 4378TH.csv could not be read due to being empty or invalid format. Skipping.\n",
      "File 2892W.csv could not be read due to being empty or invalid format. Skipping.\n",
      "File 1063GW.csv could not be read due to being empty or invalid format. Skipping.\n",
      "File SP60_50.csv could not be read due to being empty or invalid format. Skipping.\n"
     ]
    },
    {
     "name": "stderr",
     "output_type": "stream",
     "text": [
      "\n",
      "\n",
      "\n",
      "\u001b[A\u001b[A\u001b[A"
     ]
    },
    {
     "name": "stdout",
     "output_type": "stream",
     "text": [
      "File 91498256.csv could not be read due to being empty or invalid format. Skipping.\n",
      "File 531010.csv could not be read due to being empty or invalid format. Skipping.\n",
      "File 692717.csv could not be read due to being empty or invalid format. Skipping.\n",
      "File S10540_FW.csv could not be read due to being empty or invalid format. Skipping.\n",
      "File 1026GW.csv could not be read due to being empty or invalid format. Skipping.\n",
      "File 1865GW.csv could not be read due to being empty or invalid format. Skipping.\n"
     ]
    },
    {
     "name": "stderr",
     "output_type": "stream",
     "text": [
      "\n",
      "\n",
      "\n",
      "\u001b[A\u001b[A\u001b[A"
     ]
    },
    {
     "name": "stdout",
     "output_type": "stream",
     "text": [
      "File SU27_67.csv could not be read due to being empty or invalid format. Skipping.\n",
      "File SE62ECW2SS.csv could not be read due to being empty or invalid format. Skipping.\n",
      "File 242601057.csv could not be read due to being empty or invalid format. Skipping.\n",
      "File WAVOBS14.csv could not be read due to being empty or invalid format. Skipping.\n",
      "File SE63BCM0SS.csv could not be read due to being empty or invalid format. Skipping.\n",
      "File 228849.csv could not be read due to being empty or invalid format. Skipping.\n"
     ]
    },
    {
     "name": "stderr",
     "output_type": "stream",
     "text": [
      "\n",
      "\n",
      "\n",
      "\u001b[A\u001b[A\u001b[A"
     ]
    },
    {
     "name": "stdout",
     "output_type": "stream",
     "text": [
      "File L3602.csv could not be read due to being empty or invalid format. Skipping.\n",
      "File 2091GW.csv could not be read due to being empty or invalid format. Skipping.\n",
      "File 152805001_W1.csv could not be read due to being empty or invalid format. Skipping.\n",
      "File 244140041.csv could not be read due to being empty or invalid format. Skipping.\n",
      "File 453220001.csv could not be read due to being empty or invalid format. Skipping.\n",
      "File TA06RNN0RD.csv could not be read due to being empty or invalid format. Skipping.\n",
      "File 135644.csv could not be read due to being empty or invalid format. Skipping.\n",
      "File 26116.csv could not be read due to being empty or invalid format. Skipping.\n",
      "File 90112112.csv could not be read due to being empty or invalid format. Skipping.\n"
     ]
    },
    {
     "name": "stderr",
     "output_type": "stream",
     "text": [
      "\n",
      "\n",
      "\n",
      "\u001b[A\u001b[A\u001b[A"
     ]
    },
    {
     "name": "stdout",
     "output_type": "stream",
     "text": [
      "File SP20_113A.csv could not be read due to being empty or invalid format. Skipping.\n",
      "File 2655TH.csv could not be read due to being empty or invalid format. Skipping.\n",
      "File 1_816.csv could not be read due to being empty or invalid format. Skipping.\n"
     ]
    },
    {
     "name": "stderr",
     "output_type": "stream",
     "text": [
      "\n",
      "\n",
      "\n",
      "\u001b[A\u001b[A\u001b[A"
     ]
    },
    {
     "name": "stdout",
     "output_type": "stream",
     "text": [
      "File 2849.csv could not be read due to being empty or invalid format. Skipping.\n",
      "File 1858GW.csv could not be read due to being empty or invalid format. Skipping.\n",
      "File 371900.csv could not be read due to being empty or invalid format. Skipping.\n",
      "File TF72_122.csv could not be read due to being empty or invalid format. Skipping.\n",
      "File 4345TH.csv could not be read due to being empty or invalid format. Skipping.\n",
      "File 595611.csv could not be read due to being empty or invalid format. Skipping.\n",
      "File 243112011.csv could not be read due to being empty or invalid format. Skipping.\n",
      "File 558844.csv could not be read due to being empty or invalid format. Skipping.\n"
     ]
    },
    {
     "name": "stderr",
     "output_type": "stream",
     "text": [
      "\n",
      "\n",
      "\n",
      "\u001b[A\u001b[A\u001b[A\n",
      "\n",
      "\n",
      "\u001b[A\u001b[A\u001b[A"
     ]
    },
    {
     "name": "stdout",
     "output_type": "stream",
     "text": [
      "File 693555.csv could not be read due to being empty or invalid format. Skipping.\n",
      "File 684029.csv could not be read due to being empty or invalid format. Skipping.\n",
      "File 32822.csv could not be read due to being empty or invalid format. Skipping.\n",
      "File 654840002.csv could not be read due to being empty or invalid format. Skipping.\n",
      "File TM26_3236.csv could not be read due to being empty or invalid format. Skipping.\n",
      "File 654700003.csv could not be read due to being empty or invalid format. Skipping.\n",
      "File 342711014.csv could not be read due to being empty or invalid format. Skipping.\n"
     ]
    },
    {
     "name": "stderr",
     "output_type": "stream",
     "text": [
      "\n",
      "\n",
      "\n",
      "\u001b[A\u001b[A\u001b[A"
     ]
    },
    {
     "name": "stdout",
     "output_type": "stream",
     "text": [
      "File SE93NBL0CC.csv could not be read due to being empty or invalid format. Skipping.\n",
      "File 3084aTH.csv could not be read due to being empty or invalid format. Skipping.\n",
      "File 8032GW.csv could not be read due to being empty or invalid format. Skipping.\n",
      "File 243112005.csv could not be read due to being empty or invalid format. Skipping.\n",
      "File 141817479.csv could not be read due to being empty or invalid format. Skipping.\n",
      "File 2646.csv could not be read due to being empty or invalid format. Skipping.\n",
      "File L30037.csv could not be read due to being empty or invalid format. Skipping.\n",
      "File 546614002.csv could not be read due to being empty or invalid format. Skipping.\n",
      "File SU09_140.csv could not be read due to being empty or invalid format. Skipping.\n",
      "File 286393.csv could not be read due to being empty or invalid format. Skipping.\n",
      "File SE55LMT2SS.csv could not be read due to being empty or invalid format. Skipping.\n",
      "File SD44_56.csv could not be read due to being empty or invalid format. Skipping.\n"
     ]
    },
    {
     "name": "stderr",
     "output_type": "stream",
     "text": [
      "\n",
      "\n",
      "\n",
      "\u001b[A\u001b[A\u001b[A\n",
      "\n",
      "\n",
      "\u001b[A\u001b[A\u001b[A"
     ]
    },
    {
     "name": "stdout",
     "output_type": "stream",
     "text": [
      "File TL21_17.csv could not be read due to being empty or invalid format. Skipping.\n",
      "File 342604431.csv could not be read due to being empty or invalid format. Skipping.\n",
      "File SE52BK00RD.csv could not be read due to being empty or invalid format. Skipping.\n",
      "File 3029GW.csv could not be read due to being empty or invalid format. Skipping.\n",
      "File TQ39_12B.csv could not be read due to being empty or invalid format. Skipping.\n",
      "File 6_117.csv could not be read due to being empty or invalid format. Skipping.\n",
      "File 245222025.csv could not be read due to being empty or invalid format. Skipping.\n",
      "File L1203.csv could not be read due to being empty or invalid format. Skipping.\n",
      "File 141802289.csv could not be read due to being empty or invalid format. Skipping.\n",
      "File SJ28_26.csv could not be read due to being empty or invalid format. Skipping.\n",
      "File TL22_91.csv could not be read due to being empty or invalid format. Skipping.\n",
      "File TM15_2601.csv could not be read due to being empty or invalid format. Skipping.\n",
      "File 451114001.csv could not be read due to being empty or invalid format. Skipping.\n",
      "File TL12_108.csv could not be read due to being empty or invalid format. Skipping.\n",
      "File 2_533.csv could not be read due to being empty or invalid format. Skipping.\n"
     ]
    },
    {
     "name": "stderr",
     "output_type": "stream",
     "text": [
      "\n",
      "\n",
      "\n",
      "\u001b[A\u001b[A\u001b[A"
     ]
    },
    {
     "name": "stdout",
     "output_type": "stream",
     "text": [
      "File 150303004.csv could not be read due to being empty or invalid format. Skipping.\n",
      "File TL22_85.csv could not be read due to being empty or invalid format. Skipping.\n",
      "File 90886333.csv could not be read due to being empty or invalid format. Skipping.\n",
      "File 441320006.csv could not be read due to being empty or invalid format. Skipping.\n",
      "File 1486TH.csv could not be read due to being empty or invalid format. Skipping.\n",
      "File 90190307.csv could not be read due to being empty or invalid format. Skipping.\n",
      "File SP12_29.csv could not be read due to being empty or invalid format. Skipping.\n"
     ]
    },
    {
     "name": "stderr",
     "output_type": "stream",
     "text": [
      "\n",
      "\n",
      "\n",
      "\u001b[A\u001b[A\u001b[A\n",
      "\n",
      "\n",
      "\u001b[A\u001b[A\u001b[A"
     ]
    },
    {
     "name": "stdout",
     "output_type": "stream",
     "text": [
      "File SJ69_46.csv could not be read due to being empty or invalid format. Skipping.\n",
      "File SU37_59A.csv could not be read due to being empty or invalid format. Skipping.\n",
      "File 368921.csv could not be read due to being empty or invalid format. Skipping.\n",
      "File TL51_43.csv could not be read due to being empty or invalid format. Skipping.\n",
      "File 644922006.csv could not be read due to being empty or invalid format. Skipping.\n",
      "File NY00_312.csv could not be read due to being empty or invalid format. Skipping.\n",
      "File TL75_850.csv could not be read due to being empty or invalid format. Skipping.\n",
      "File 26300.csv could not be read due to being empty or invalid format. Skipping.\n",
      "File TL94_900.csv could not be read due to being empty or invalid format. Skipping.\n",
      "File SU38_85A.csv could not be read due to being empty or invalid format. Skipping.\n",
      "File 3766.csv could not be read due to being empty or invalid format. Skipping.\n",
      "File SD53_66.csv could not be read due to being empty or invalid format. Skipping.\n",
      "File S50469_FW.csv could not be read due to being empty or invalid format. Skipping.\n",
      "File SE53KF00SS.csv could not be read due to being empty or invalid format. Skipping.\n"
     ]
    },
    {
     "name": "stderr",
     "output_type": "stream",
     "text": [
      "\n",
      "\n",
      "\n",
      "\u001b[A\u001b[A\u001b[A"
     ]
    },
    {
     "name": "stdout",
     "output_type": "stream",
     "text": [
      "File 91486444.csv could not be read due to being empty or invalid format. Skipping.\n",
      "File SU63_124A.csv could not be read due to being empty or invalid format. Skipping.\n",
      "File 362559.csv could not be read due to being empty or invalid format. Skipping.\n",
      "File 3065TH.csv could not be read due to being empty or invalid format. Skipping.\n",
      "File 3826TH.csv could not be read due to being empty or invalid format. Skipping.\n",
      "File SJ55_042.csv could not be read due to being empty or invalid format. Skipping.\n",
      "File NY14_15.csv could not be read due to being empty or invalid format. Skipping.\n"
     ]
    },
    {
     "name": "stderr",
     "output_type": "stream",
     "text": [
      "\n",
      "\n",
      "\n",
      "\u001b[A\u001b[A\u001b[A"
     ]
    },
    {
     "name": "stdout",
     "output_type": "stream",
     "text": [
      "File 5_003.csv could not be read due to being empty or invalid format. Skipping.\n",
      "File SE97WVS0CC.csv could not be read due to being empty or invalid format. Skipping.\n",
      "File 642214003.csv could not be read due to being empty or invalid format. Skipping.\n",
      "File L2905.csv could not be read due to being empty or invalid format. Skipping.\n"
     ]
    },
    {
     "name": "stderr",
     "output_type": "stream",
     "text": [
      "\n",
      "\n",
      "\n",
      "\u001b[A\u001b[A\u001b[A"
     ]
    },
    {
     "name": "stdout",
     "output_type": "stream",
     "text": [
      "File 90179214.csv could not be read due to being empty or invalid format. Skipping.\n",
      "File 142203598.csv could not be read due to being empty or invalid format. Skipping.\n",
      "File 90125219.csv could not be read due to being empty or invalid format. Skipping.\n",
      "File S50.csv could not be read due to being empty or invalid format. Skipping.\n",
      "File SU69_119.csv could not be read due to being empty or invalid format. Skipping.\n"
     ]
    },
    {
     "name": "stderr",
     "output_type": "stream",
     "text": [
      "\n",
      "\n",
      "\n",
      "\u001b[A\u001b[A\u001b[A"
     ]
    },
    {
     "name": "stdout",
     "output_type": "stream",
     "text": [
      "File TL50_2.csv could not be read due to being empty or invalid format. Skipping.\n",
      "File 559970.csv could not be read due to being empty or invalid format. Skipping.\n",
      "File SU84_53A.csv could not be read due to being empty or invalid format. Skipping.\n",
      "File 114339.csv could not be read due to being empty or invalid format. Skipping.\n",
      "File 3_913.csv could not be read due to being empty or invalid format. Skipping.\n",
      "File L0691.csv could not be read due to being empty or invalid format. Skipping.\n",
      "File 245313206.csv could not be read due to being empty or invalid format. Skipping.\n",
      "File 195140.csv could not be read due to being empty or invalid format. Skipping.\n",
      "File 21-0-136.csv could not be read due to being empty or invalid format. Skipping.\n",
      "File 284703TP.csv could not be read due to being empty or invalid format. Skipping.\n",
      "File 9016GW.csv could not be read due to being empty or invalid format. Skipping.\n",
      "File 685120.csv could not be read due to being empty or invalid format. Skipping.\n"
     ]
    },
    {
     "name": "stderr",
     "output_type": "stream",
     "text": [
      "\n",
      "\n",
      "\n",
      "\u001b[A\u001b[A\u001b[A"
     ]
    },
    {
     "name": "stdout",
     "output_type": "stream",
     "text": [
      "File 642121001.csv could not be read due to being empty or invalid format. Skipping.\n",
      "File SD53_73.csv could not be read due to being empty or invalid format. Skipping.\n",
      "File SJ55_043.csv could not be read due to being empty or invalid format. Skipping.\n",
      "File 582191.csv could not be read due to being empty or invalid format. Skipping.\n",
      "File 432120.csv could not be read due to being empty or invalid format. Skipping.\n"
     ]
    },
    {
     "name": "stderr",
     "output_type": "stream",
     "text": [
      "\n",
      "\n",
      "\n",
      "\u001b[A\u001b[A\u001b[A"
     ]
    },
    {
     "name": "stdout",
     "output_type": "stream",
     "text": [
      "File 5_002.csv could not be read due to being empty or invalid format. Skipping.\n",
      "File 753200.csv could not be read due to being empty or invalid format. Skipping.\n",
      "File 743007.csv could not be read due to being empty or invalid format. Skipping.\n",
      "File SD43_22A.csv could not be read due to being empty or invalid format. Skipping.\n",
      "File 8632.csv could not be read due to being empty or invalid format. Skipping.\n",
      "File SJ98_41.csv could not be read due to being empty or invalid format. Skipping.\n",
      "File 5_016.csv could not be read due to being empty or invalid format. Skipping.\n",
      "File NX91_126D.csv could not be read due to being empty or invalid format. Skipping.\n",
      "File ST99_61B.csv could not be read due to being empty or invalid format. Skipping.\n"
     ]
    },
    {
     "name": "stderr",
     "output_type": "stream",
     "text": [
      "\n",
      "\n",
      "\n",
      "\u001b[A\u001b[A\u001b[A\n",
      "\n",
      "\n",
      "\u001b[A\u001b[A\u001b[A"
     ]
    },
    {
     "name": "stdout",
     "output_type": "stream",
     "text": [
      "File 17651.csv could not be read due to being empty or invalid format. Skipping.\n",
      "File TM02_591.csv could not be read due to being empty or invalid format. Skipping.\n",
      "File SE88LHY0CO.csv could not be read due to being empty or invalid format. Skipping.\n",
      "File 300001TP.csv could not be read due to being empty or invalid format. Skipping.\n",
      "File F2595.csv could not be read due to being empty or invalid format. Skipping.\n",
      "File 593063.csv could not be read due to being empty or invalid format. Skipping.\n",
      "File 448115.csv could not be read due to being empty or invalid format. Skipping.\n",
      "File TQ29_31.csv could not be read due to being empty or invalid format. Skipping.\n",
      "File 90774230.csv could not be read due to being empty or invalid format. Skipping.\n",
      "File 310125.csv could not be read due to being empty or invalid format. Skipping.\n",
      "File 402746.csv could not be read due to being empty or invalid format. Skipping.\n",
      "File NY00_313.csv could not be read due to being empty or invalid format. Skipping.\n",
      "File 245222018.csv could not be read due to being empty or invalid format. Skipping.\n"
     ]
    },
    {
     "name": "stderr",
     "output_type": "stream",
     "text": [
      "\n",
      "\n",
      "\n",
      "\u001b[A\u001b[A\u001b[A"
     ]
    },
    {
     "name": "stdout",
     "output_type": "stream",
     "text": [
      "File 90189119.csv could not be read due to being empty or invalid format. Skipping.\n",
      "File SU37_63.csv could not be read due to being empty or invalid format. Skipping.\n",
      "File 141806944.csv could not be read due to being empty or invalid format. Skipping.\n",
      "File L3401.csv could not be read due to being empty or invalid format. Skipping.\n",
      "File 2_526.csv could not be read due to being empty or invalid format. Skipping.\n",
      "File 441320007.csv could not be read due to being empty or invalid format. Skipping.\n"
     ]
    },
    {
     "name": "stderr",
     "output_type": "stream",
     "text": [
      "\n",
      "\n",
      "\n",
      "\u001b[A\u001b[A\u001b[A"
     ]
    },
    {
     "name": "stdout",
     "output_type": "stream",
     "text": [
      "File 150303005.csv could not be read due to being empty or invalid format. Skipping.\n",
      "File TL97_140.csv could not be read due to being empty or invalid format. Skipping.\n",
      "File TL22_84.csv could not be read due to being empty or invalid format. Skipping.\n",
      "File 245222024.csv could not be read due to being empty or invalid format. Skipping.\n",
      "File 6_116.csv could not be read due to being empty or invalid format. Skipping.\n",
      "File BRENTR.csv could not be read due to being empty or invalid format. Skipping.\n"
     ]
    },
    {
     "name": "stderr",
     "output_type": "stream",
     "text": [
      "\n",
      "\n",
      "\n",
      "\u001b[A\u001b[A\u001b[A"
     ]
    },
    {
     "name": "stdout",
     "output_type": "stream",
     "text": [
      "File TL66_004.csv could not be read due to being empty or invalid format. Skipping.\n",
      "File SJ28_27.csv could not be read due to being empty or invalid format. Skipping.\n",
      "File L1202.csv could not be read due to being empty or invalid format. Skipping.\n",
      "File 457592.csv could not be read due to being empty or invalid format. Skipping.\n",
      "File TL22_8.csv could not be read due to being empty or invalid format. Skipping.\n",
      "File 37973.csv could not be read due to being empty or invalid format. Skipping.\n"
     ]
    },
    {
     "name": "stderr",
     "output_type": "stream",
     "text": [
      "\n",
      "\n",
      "\n",
      "\u001b[A\u001b[A\u001b[A"
     ]
    },
    {
     "name": "stdout",
     "output_type": "stream",
     "text": [
      "File TG11_151.csv could not be read due to being empty or invalid format. Skipping.\n",
      "File 2653.csv could not be read due to being empty or invalid format. Skipping.\n",
      "File NY00_404A.csv could not be read due to being empty or invalid format. Skipping.\n",
      "File L39006.csv could not be read due to being empty or invalid format. Skipping.\n",
      "File 573342.csv could not be read due to being empty or invalid format. Skipping.\n",
      "File 692110.csv could not be read due to being empty or invalid format. Skipping.\n",
      "File 356399.csv could not be read due to being empty or invalid format. Skipping.\n"
     ]
    },
    {
     "name": "stderr",
     "output_type": "stream",
     "text": [
      "\n",
      "\n",
      "\n",
      "\u001b[A\u001b[A\u001b[A"
     ]
    },
    {
     "name": "stdout",
     "output_type": "stream",
     "text": [
      "File 2802TH.csv could not be read due to being empty or invalid format. Skipping.\n",
      "File 355848.csv could not be read due to being empty or invalid format. Skipping.\n",
      "File 2490TH.csv could not be read due to being empty or invalid format. Skipping.\n",
      "File 302910.csv could not be read due to being empty or invalid format. Skipping.\n",
      "File 713354.csv could not be read due to being empty or invalid format. Skipping.\n",
      "File 654600002.csv could not be read due to being empty or invalid format. Skipping.\n",
      "File 2004TH.csv could not be read due to being empty or invalid format. Skipping.\n"
     ]
    },
    {
     "name": "stderr",
     "output_type": "stream",
     "text": [
      "\n",
      "\n",
      "\n",
      "\u001b[A\u001b[A\u001b[A"
     ]
    },
    {
     "name": "stdout",
     "output_type": "stream",
     "text": [
      "File 3004TH.csv could not be read due to being empty or invalid format. Skipping.\n",
      "File 644601006.csv could not be read due to being empty or invalid format. Skipping.\n",
      "File 654700002.csv could not be read due to being empty or invalid format. Skipping.\n",
      "File TL88_066.csv could not be read due to being empty or invalid format. Skipping.\n",
      "File 2848.csv could not be read due to being empty or invalid format. Skipping.\n",
      "File SU38_46A.csv could not be read due to being empty or invalid format. Skipping.\n",
      "File NX91_127.csv could not be read due to being empty or invalid format. Skipping.\n",
      "File 400409.csv could not be read due to being empty or invalid format. Skipping.\n",
      "File 1223GW.csv could not be read due to being empty or invalid format. Skipping.\n"
     ]
    },
    {
     "name": "stderr",
     "output_type": "stream",
     "text": [
      "\n",
      "\n",
      "\n",
      "\u001b[A\u001b[A\u001b[A\n",
      "\n",
      "\n",
      "\u001b[A\u001b[A\u001b[A"
     ]
    },
    {
     "name": "stdout",
     "output_type": "stream",
     "text": [
      "File 2155GW.csv could not be read due to being empty or invalid format. Skipping.\n",
      "File 411276.csv could not be read due to being empty or invalid format. Skipping.\n",
      "File TF72_123.csv could not be read due to being empty or invalid format. Skipping.\n",
      "File 67639.csv could not be read due to being empty or invalid format. Skipping.\n",
      "File TL64_840.csv could not be read due to being empty or invalid format. Skipping.\n",
      "File 90102300.csv could not be read due to being empty or invalid format. Skipping.\n",
      "File SE46BBN0RD.csv could not be read due to being empty or invalid format. Skipping.\n",
      "File 0266GW.csv could not be read due to being empty or invalid format. Skipping.\n",
      "File 365790.csv could not be read due to being empty or invalid format. Skipping.\n"
     ]
    },
    {
     "name": "stderr",
     "output_type": "stream",
     "text": [
      "\n",
      "\n",
      "\n",
      "\u001b[A\u001b[A\u001b[A"
     ]
    },
    {
     "name": "stdout",
     "output_type": "stream",
     "text": [
      "File 26117.csv could not be read due to being empty or invalid format. Skipping.\n",
      "File WAVOBS01.csv could not be read due to being empty or invalid format. Skipping.\n",
      "File 4650TH.csv could not be read due to being empty or invalid format. Skipping.\n",
      "File 592143.csv could not be read due to being empty or invalid format. Skipping.\n",
      "File 244140040.csv could not be read due to being empty or invalid format. Skipping.\n",
      "File 23047.csv could not be read due to being empty or invalid format. Skipping.\n",
      "File TA03WYH0RD.csv could not be read due to being empty or invalid format. Skipping.\n"
     ]
    },
    {
     "name": "stderr",
     "output_type": "stream",
     "text": [
      "\n",
      "\n",
      "\n",
      "\u001b[A\u001b[A\u001b[A"
     ]
    },
    {
     "name": "stdout",
     "output_type": "stream",
     "text": [
      "File SE45CT00ML.csv could not be read due to being empty or invalid format. Skipping.\n",
      "File 23053.csv could not be read due to being empty or invalid format. Skipping.\n",
      "File TA08GVF0CO.csv could not be read due to being empty or invalid format. Skipping.\n",
      "File G445605.csv could not be read due to being empty or invalid format. Skipping.\n",
      "File 4615TH.csv could not be read due to being empty or invalid format. Skipping.\n",
      "File SJ88_93.csv could not be read due to being empty or invalid format. Skipping.\n",
      "File 441330002.csv could not be read due to being empty or invalid format. Skipping.\n",
      "File WAVOBS15.csv could not be read due to being empty or invalid format. Skipping.\n"
     ]
    },
    {
     "name": "stderr",
     "output_type": "stream",
     "text": [
      "\n",
      "\n",
      "\n",
      "\u001b[A\u001b[A\u001b[A"
     ]
    },
    {
     "name": "stdout",
     "output_type": "stream",
     "text": [
      "File 530290.csv could not be read due to being empty or invalid format. Skipping.\n",
      "File 99322.csv could not be read due to being empty or invalid format. Skipping.\n",
      "File L1821.csv could not be read due to being empty or invalid format. Skipping.\n",
      "File 690115.csv could not be read due to being empty or invalid format. Skipping.\n",
      "File 521570.csv could not be read due to being empty or invalid format. Skipping.\n",
      "File 151815001.csv could not be read due to being empty or invalid format. Skipping.\n",
      "File 2450TH.csv could not be read due to being empty or invalid format. Skipping.\n",
      "File 744350.csv could not be read due to being empty or invalid format. Skipping.\n"
     ]
    },
    {
     "name": "stderr",
     "output_type": "stream",
     "text": [
      "\n",
      "\n",
      "\n",
      "\u001b[A\u001b[A\u001b[A"
     ]
    },
    {
     "name": "stdout",
     "output_type": "stream",
     "text": [
      "File 408690.csv could not be read due to being empty or invalid format. Skipping.\n",
      "File 2887TH.csv could not be read due to being empty or invalid format. Skipping.\n",
      "File 243110029.csv could not be read due to being empty or invalid format. Skipping.\n",
      "File 151600001.csv could not be read due to being empty or invalid format. Skipping.\n",
      "File NY00_412A.csv could not be read due to being empty or invalid format. Skipping.\n",
      "File 426223.csv could not be read due to being empty or invalid format. Skipping.\n"
     ]
    },
    {
     "name": "stderr",
     "output_type": "stream",
     "text": [
      "\n",
      "\n",
      "\n",
      "\u001b[A\u001b[A\u001b[A"
     ]
    },
    {
     "name": "stdout",
     "output_type": "stream",
     "text": [
      "File 644014056.csv could not be read due to being empty or invalid format. Skipping.\n",
      "File SU56_119.csv could not be read due to being empty or invalid format. Skipping.\n",
      "File SP92_018.csv could not be read due to being empty or invalid format. Skipping.\n",
      "File 0576GW.csv could not be read due to being empty or invalid format. Skipping.\n",
      "File 141801420.csv could not be read due to being empty or invalid format. Skipping.\n",
      "File 414291.csv could not be read due to being empty or invalid format. Skipping.\n",
      "File 264223501.csv could not be read due to being empty or invalid format. Skipping.\n",
      "File 46768.csv could not be read due to being empty or invalid format. Skipping.\n",
      "File 605324.csv could not be read due to being empty or invalid format. Skipping.\n",
      "File TM45_691.csv could not be read due to being empty or invalid format. Skipping.\n",
      "File 361550500.csv could not be read due to being empty or invalid format. Skipping.\n"
     ]
    },
    {
     "name": "stderr",
     "output_type": "stream",
     "text": [
      "\n",
      "\n",
      "\n",
      "\u001b[A\u001b[A\u001b[A"
     ]
    },
    {
     "name": "stdout",
     "output_type": "stream",
     "text": [
      "File TA07WHWMCC.csv could not be read due to being empty or invalid format. Skipping.\n",
      "File 245412009.csv could not be read due to being empty or invalid format. Skipping.\n",
      "File TA07NDT0CC.csv could not be read due to being empty or invalid format. Skipping.\n",
      "File 1919GW.csv could not be read due to being empty or invalid format. Skipping.\n",
      "File nan.csv could not be read due to being empty or invalid format. Skipping.\n",
      "File 520792_FW.csv could not be read due to being empty or invalid format. Skipping.\n",
      "File SE46MCG0RD.csv could not be read due to being empty or invalid format. Skipping.\n",
      "File L2809B.csv could not be read due to being empty or invalid format. Skipping.\n"
     ]
    },
    {
     "name": "stderr",
     "output_type": "stream",
     "text": [
      "\n",
      "\n",
      "\n",
      "\u001b[A\u001b[A\u001b[A"
     ]
    },
    {
     "name": "stdout",
     "output_type": "stream",
     "text": [
      "File 2269GW.csv could not be read due to being empty or invalid format. Skipping.\n",
      "File 254150001.csv could not be read due to being empty or invalid format. Skipping.\n",
      "File SD30_54B.csv could not be read due to being empty or invalid format. Skipping.\n",
      "File L2441.csv could not be read due to being empty or invalid format. Skipping.\n",
      "File 2900.csv could not be read due to being empty or invalid format. Skipping.\n"
     ]
    },
    {
     "name": "stderr",
     "output_type": "stream",
     "text": [
      "\n",
      "\n",
      "\n",
      "\u001b[A\u001b[A\u001b[A"
     ]
    },
    {
     "name": "stdout",
     "output_type": "stream",
     "text": [
      "File 2501GW.csv could not be read due to being empty or invalid format. Skipping.\n",
      "File TL86_031.csv could not be read due to being empty or invalid format. Skipping.\n",
      "File 142201761.csv could not be read due to being empty or invalid format. Skipping.\n",
      "File 141809901.csv could not be read due to being empty or invalid format. Skipping.\n",
      "File SU48_77B.csv could not be read due to being empty or invalid format. Skipping.\n",
      "File 586056.csv could not be read due to being empty or invalid format. Skipping.\n",
      "File SJ89_229.csv could not be read due to being empty or invalid format. Skipping.\n"
     ]
    },
    {
     "name": "stderr",
     "output_type": "stream",
     "text": [
      "\n",
      "\n",
      "\n",
      "\u001b[A\u001b[A\u001b[A"
     ]
    },
    {
     "name": "stdout",
     "output_type": "stream",
     "text": [
      "File 207061.csv could not be read due to being empty or invalid format. Skipping.\n",
      "File 4011GW.csv could not be read due to being empty or invalid format. Skipping.\n",
      "File 0496GW.csv could not be read due to being empty or invalid format. Skipping.\n",
      "File 46542.csv could not be read due to being empty or invalid format. Skipping.\n",
      "File 141807509.csv could not be read due to being empty or invalid format. Skipping.\n",
      "File 341521006.csv could not be read due to being empty or invalid format. Skipping.\n",
      "File 0047GW.csv could not be read due to being empty or invalid format. Skipping.\n"
     ]
    },
    {
     "name": "stderr",
     "output_type": "stream",
     "text": [
      "\n",
      "\n",
      "\n",
      "\u001b[A\u001b[A\u001b[A"
     ]
    },
    {
     "name": "stdout",
     "output_type": "stream",
     "text": [
      "File TG11_541.csv could not be read due to being empty or invalid format. Skipping.\n",
      "File 1804GW.csv could not be read due to being empty or invalid format. Skipping.\n",
      "File 141806171.csv could not be read due to being empty or invalid format. Skipping.\n",
      "File 690465.csv could not be read due to being empty or invalid format. Skipping.\n",
      "File 555221001.csv could not be read due to being empty or invalid format. Skipping.\n"
     ]
    },
    {
     "name": "stderr",
     "output_type": "stream",
     "text": [
      "\n",
      "\n",
      "\n",
      "\u001b[A\u001b[A\u001b[A"
     ]
    },
    {
     "name": "stdout",
     "output_type": "stream",
     "text": [
      "File 1047GW.csv could not be read due to being empty or invalid format. Skipping.\n",
      "File 19734.csv could not be read due to being empty or invalid format. Skipping.\n",
      "File 2531.csv could not be read due to being empty or invalid format. Skipping.\n",
      "File TF80_211.csv could not be read due to being empty or invalid format. Skipping.\n",
      "File L0929.csv could not be read due to being empty or invalid format. Skipping.\n",
      "File 692500.csv could not be read due to being empty or invalid format. Skipping.\n",
      "File SU47_134.csv could not be read due to being empty or invalid format. Skipping.\n",
      "File 3609TH.csv could not be read due to being empty or invalid format. Skipping.\n",
      "File L1389.csv could not be read due to being empty or invalid format. Skipping.\n",
      "File NY63_2.csv could not be read due to being empty or invalid format. Skipping.\n"
     ]
    },
    {
     "name": "stderr",
     "output_type": "stream",
     "text": [
      "\n",
      "\n",
      "\n",
      "\u001b[A\u001b[A\u001b[A"
     ]
    },
    {
     "name": "stdout",
     "output_type": "stream",
     "text": [
      "File 654712002.csv could not be read due to being empty or invalid format. Skipping.\n",
      "File 25-3-338.csv could not be read due to being empty or invalid format. Skipping.\n",
      "File 186712.csv could not be read due to being empty or invalid format. Skipping.\n",
      "File TL65_064.csv could not be read due to being empty or invalid format. Skipping.\n",
      "File SU55_37.csv could not be read due to being empty or invalid format. Skipping.\n",
      "File L0901.csv could not be read due to being empty or invalid format. Skipping.\n",
      "File 4168.csv could not be read due to being empty or invalid format. Skipping.\n"
     ]
    },
    {
     "name": "stderr",
     "output_type": "stream",
     "text": [
      "\n",
      "\n",
      "\n",
      "\u001b[A\u001b[A\u001b[A"
     ]
    },
    {
     "name": "stdout",
     "output_type": "stream",
     "text": [
      "File SD51_76.csv could not be read due to being empty or invalid format. Skipping.\n",
      "File SD52_15B.csv could not be read due to being empty or invalid format. Skipping.\n",
      "File 590.csv could not be read due to being empty or invalid format. Skipping.\n",
      "File TM06_9567.csv could not be read due to being empty or invalid format. Skipping.\n",
      "File SP95_064.csv could not be read due to being empty or invalid format. Skipping.\n",
      "File 644820002.csv could not be read due to being empty or invalid format. Skipping.\n",
      "File 141804982.csv could not be read due to being empty or invalid format. Skipping.\n"
     ]
    },
    {
     "name": "stderr",
     "output_type": "stream",
     "text": [
      "\n",
      "\n",
      "\n",
      "\u001b[A\u001b[A\u001b[A"
     ]
    },
    {
     "name": "stdout",
     "output_type": "stream",
     "text": [
      "File 268103TP.csv could not be read due to being empty or invalid format. Skipping.\n",
      "File 4197.csv could not be read due to being empty or invalid format. Skipping.\n",
      "File TL01_182.csv could not be read due to being empty or invalid format. Skipping.\n",
      "File SE63HMB0RD.csv could not be read due to being empty or invalid format. Skipping.\n",
      "File 4183.csv could not be read due to being empty or invalid format. Skipping.\n"
     ]
    },
    {
     "name": "stderr",
     "output_type": "stream",
     "text": [
      "\n",
      "\n",
      "\n",
      "\u001b[A\u001b[A\u001b[A"
     ]
    },
    {
     "name": "stdout",
     "output_type": "stream",
     "text": [
      "File SU74_12.csv could not be read due to being empty or invalid format. Skipping.\n",
      "File 274918TP.csv could not be read due to being empty or invalid format. Skipping.\n",
      "File 550148.csv could not be read due to being empty or invalid format. Skipping.\n",
      "File 236096.csv could not be read due to being empty or invalid format. Skipping.\n",
      "File TL87_008.csv could not be read due to being empty or invalid format. Skipping.\n",
      "File L3213.csv could not be read due to being empty or invalid format. Skipping.\n",
      "File 4815.csv could not be read due to being empty or invalid format. Skipping.\n"
     ]
    },
    {
     "name": "stderr",
     "output_type": "stream",
     "text": [
      "\n",
      "\n",
      "\n",
      "\u001b[A\u001b[A\u001b[A"
     ]
    },
    {
     "name": "stdout",
     "output_type": "stream",
     "text": [
      "File 3225TH.csv could not be read due to being empty or invalid format. Skipping.\n",
      "File SX99F054.csv could not be read due to being empty or invalid format. Skipping.\n",
      "File 160532.csv could not be read due to being empty or invalid format. Skipping.\n",
      "File 556310001.csv could not be read due to being empty or invalid format. Skipping.\n",
      "File 1_585.csv could not be read due to being empty or invalid format. Skipping.\n",
      "File 28502.csv could not be read due to being empty or invalid format. Skipping.\n",
      "File L1376.csv could not be read due to being empty or invalid format. Skipping.\n",
      "File 441222002.csv could not be read due to being empty or invalid format. Skipping.\n",
      "File 403538.csv could not be read due to being empty or invalid format. Skipping.\n",
      "File 732003.csv could not be read due to being empty or invalid format. Skipping.\n",
      "File L3207.csv could not be read due to being empty or invalid format. Skipping.\n",
      "File 245220021.csv could not be read due to being empty or invalid format. Skipping.\n",
      "File SX99F040.csv could not be read due to being empty or invalid format. Skipping.\n"
     ]
    },
    {
     "name": "stderr",
     "output_type": "stream",
     "text": [
      "\n",
      "\n",
      "\n",
      "\u001b[A\u001b[A\u001b[A"
     ]
    },
    {
     "name": "stdout",
     "output_type": "stream",
     "text": [
      "File TA15LSM1CC.csv could not be read due to being empty or invalid format. Skipping.\n",
      "File TA05NEN0RD.csv could not be read due to being empty or invalid format. Skipping.\n",
      "File 4187.csv could not be read due to being empty or invalid format. Skipping.\n",
      "File TL44_234.csv could not be read due to being empty or invalid format. Skipping.\n"
     ]
    },
    {
     "name": "stderr",
     "output_type": "stream",
     "text": [
      "\n",
      "\n",
      "\n",
      "\u001b[A\u001b[A\u001b[A\n",
      "\n",
      "\n",
      "\u001b[A\u001b[A\u001b[A"
     ]
    },
    {
     "name": "stdout",
     "output_type": "stream",
     "text": [
      "File 282537.csv could not be read due to being empty or invalid format. Skipping.\n",
      "File 22017.csv could not be read due to being empty or invalid format. Skipping.\n",
      "File 2469TH.csv could not be read due to being empty or invalid format. Skipping.\n",
      "File 36704.csv could not be read due to being empty or invalid format. Skipping.\n",
      "File L3203.csv could not be read due to being empty or invalid format. Skipping.\n",
      "File 0227GW.csv could not be read due to being empty or invalid format. Skipping.\n",
      "File SE62WRF1SS.csv could not be read due to being empty or invalid format. Skipping.\n",
      "File 2301TH.csv could not be read due to being empty or invalid format. Skipping.\n",
      "File 1_581.csv could not be read due to being empty or invalid format. Skipping.\n",
      "File 444105.csv could not be read due to being empty or invalid format. Skipping.\n",
      "File SE63HMB0SS.csv could not be read due to being empty or invalid format. Skipping.\n",
      "File 1920GW.csv could not be read due to being empty or invalid format. Skipping.\n",
      "File SE56LTL0SS.csv could not be read due to being empty or invalid format. Skipping.\n",
      "File 4144.csv could not be read due to being empty or invalid format. Skipping.\n",
      "File TF81_006.csv could not be read due to being empty or invalid format. Skipping.\n",
      "File 6_099.csv could not be read due to being empty or invalid format. Skipping.\n"
     ]
    },
    {
     "name": "stderr",
     "output_type": "stream",
     "text": [
      "\n",
      "\n",
      "\n",
      "\u001b[A\u001b[A\u001b[A"
     ]
    },
    {
     "name": "stdout",
     "output_type": "stream",
     "text": [
      "File 692510.csv could not be read due to being empty or invalid format. Skipping.\n",
      "File TL56_127.csv could not be read due to being empty or invalid format. Skipping.\n",
      "File 98212.csv could not be read due to being empty or invalid format. Skipping.\n",
      "File TW05_4.csv could not be read due to being empty or invalid format. Skipping.\n",
      "File 433414.csv could not be read due to being empty or invalid format. Skipping.\n",
      "File SU48_76.csv could not be read due to being empty or invalid format. Skipping.\n",
      "File 141801154.csv could not be read due to being empty or invalid format. Skipping.\n",
      "File 8_637.csv could not be read due to being empty or invalid format. Skipping.\n"
     ]
    },
    {
     "name": "stderr",
     "output_type": "stream",
     "text": [
      "\n",
      "\n",
      "\n",
      "\u001b[A\u001b[A\u001b[A"
     ]
    },
    {
     "name": "stdout",
     "output_type": "stream",
     "text": [
      "File 13553.csv could not be read due to being empty or invalid format. Skipping.\n",
      "File ST01G026.csv could not be read due to being empty or invalid format. Skipping.\n",
      "File 3806TH.csv could not be read due to being empty or invalid format. Skipping.\n",
      "File 141801140.csv could not be read due to being empty or invalid format. Skipping.\n",
      "File NY00_288.csv could not be read due to being empty or invalid format. Skipping.\n",
      "File 3045TH.csv could not be read due to being empty or invalid format. Skipping.\n"
     ]
    },
    {
     "name": "stderr",
     "output_type": "stream",
     "text": [
      "\n",
      "\n",
      "\n",
      "\u001b[A\u001b[A\u001b[A"
     ]
    },
    {
     "name": "stdout",
     "output_type": "stream",
     "text": [
      "File SU07_13.csv could not be read due to being empty or invalid format. Skipping.\n",
      "File 254150005.csv could not be read due to being empty or invalid format. Skipping.\n",
      "File SD26_13.csv could not be read due to being empty or invalid format. Skipping.\n",
      "File 761659.csv could not be read due to being empty or invalid format. Skipping.\n",
      "File 175477.csv could not be read due to being empty or invalid format. Skipping.\n",
      "File 445031.csv could not be read due to being empty or invalid format. Skipping.\n",
      "File SU58_98.csv could not be read due to being empty or invalid format. Skipping.\n"
     ]
    },
    {
     "name": "stderr",
     "output_type": "stream",
     "text": [
      "\n",
      "\n",
      "\n",
      "\u001b[A\u001b[A\u001b[A"
     ]
    },
    {
     "name": "stdout",
     "output_type": "stream",
     "text": [
      "File 3_309.csv could not be read due to being empty or invalid format. Skipping.\n",
      "File 5365TH.csv could not be read due to being empty or invalid format. Skipping.\n",
      "File L2323.csv could not be read due to being empty or invalid format. Skipping.\n",
      "File SE18FH00MG.csv could not be read due to being empty or invalid format. Skipping.\n",
      "File TL44_022.csv could not be read due to being empty or invalid format. Skipping.\n",
      "File 276956TP.csv could not be read due to being empty or invalid format. Skipping.\n"
     ]
    },
    {
     "name": "stderr",
     "output_type": "stream",
     "text": [
      "\n",
      "\n",
      "\n",
      "\u001b[A\u001b[A\u001b[A"
     ]
    },
    {
     "name": "stdout",
     "output_type": "stream",
     "text": [
      "File 2086.csv could not be read due to being empty or invalid format. Skipping.\n",
      "File 254150011.csv could not be read due to being empty or invalid format. Skipping.\n",
      "File 1503TH.csv could not be read due to being empty or invalid format. Skipping.\n",
      "File 454896.csv could not be read due to being empty or invalid format. Skipping.\n",
      "File 4099TH.csv could not be read due to being empty or invalid format. Skipping.\n",
      "File 542010.csv could not be read due to being empty or invalid format. Skipping.\n",
      "File 7_077.csv could not be read due to being empty or invalid format. Skipping.\n",
      "File SU17_106.csv could not be read due to being empty or invalid format. Skipping.\n"
     ]
    },
    {
     "name": "stderr",
     "output_type": "stream",
     "text": [
      "\n",
      "\n",
      "\n",
      "\u001b[A\u001b[A\u001b[A"
     ]
    },
    {
     "name": "stdout",
     "output_type": "stream",
     "text": [
      "File 140396.csv could not be read due to being empty or invalid format. Skipping.\n",
      "File L0508.csv could not be read due to being empty or invalid format. Skipping.\n",
      "File SE46MCG0SS.csv could not be read due to being empty or invalid format. Skipping.\n",
      "File L1602.csv could not be read due to being empty or invalid format. Skipping.\n",
      "File 91225210.csv could not be read due to being empty or invalid format. Skipping.\n"
     ]
    },
    {
     "name": "stderr",
     "output_type": "stream",
     "text": [
      "\n",
      "\n",
      "\n",
      "\u001b[A\u001b[A\u001b[A"
     ]
    },
    {
     "name": "stdout",
     "output_type": "stream",
     "text": [
      "File TM07_003.csv could not be read due to being empty or invalid format. Skipping.\n",
      "File L32014_NE.csv could not be read due to being empty or invalid format. Skipping.\n",
      "File 142203600.csv could not be read due to being empty or invalid format. Skipping.\n",
      "File 141806363.csv could not be read due to being empty or invalid format. Skipping.\n",
      "File 546523001.csv could not be read due to being empty or invalid format. Skipping.\n",
      "File 25-5-184.csv could not be read due to being empty or invalid format. Skipping.\n",
      "File L1831.csv could not be read due to being empty or invalid format. Skipping.\n",
      "File SP91_8B.csv could not be read due to being empty or invalid format. Skipping.\n",
      "File SU37_62A.csv could not be read due to being empty or invalid format. Skipping.\n",
      "File 432508.csv could not be read due to being empty or invalid format. Skipping.\n",
      "File 680302.csv could not be read due to being empty or invalid format. Skipping.\n"
     ]
    },
    {
     "name": "stderr",
     "output_type": "stream",
     "text": [
      "\n",
      "\n",
      "\n",
      "\u001b[A\u001b[A\u001b[A"
     ]
    },
    {
     "name": "stdout",
     "output_type": "stream",
     "text": [
      "File 690105.csv could not be read due to being empty or invalid format. Skipping.\n",
      "File 291477TP.csv could not be read due to being empty or invalid format. Skipping.\n",
      "File L32023.csv could not be read due to being empty or invalid format. Skipping.\n",
      "File SU46_135.csv could not be read due to being empty or invalid format. Skipping.\n"
     ]
    },
    {
     "name": "stderr",
     "output_type": "stream",
     "text": [
      "\n",
      "\n",
      "\n",
      "\u001b[A\u001b[A\u001b[A"
     ]
    },
    {
     "name": "stdout",
     "output_type": "stream",
     "text": [
      "File NY53_11.csv could not be read due to being empty or invalid format. Skipping.\n",
      "File TA03PFS0CC.csv could not be read due to being empty or invalid format. Skipping.\n",
      "File 521206.csv could not be read due to being empty or invalid format. Skipping.\n",
      "File SY29F030.csv could not be read due to being empty or invalid format. Skipping.\n",
      "File 685520.csv could not be read due to being empty or invalid format. Skipping.\n",
      "File 141806377.csv could not be read due to being empty or invalid format. Skipping.\n"
     ]
    },
    {
     "name": "stderr",
     "output_type": "stream",
     "text": [
      "\n",
      "\n",
      "\n",
      "\u001b[A\u001b[A\u001b[A"
     ]
    },
    {
     "name": "stdout",
     "output_type": "stream",
     "text": [
      "File 441352052.csv could not be read due to being empty or invalid format. Skipping.\n",
      "File SU89_101.csv could not be read due to being empty or invalid format. Skipping.\n",
      "File SD44_8.csv could not be read due to being empty or invalid format. Skipping.\n",
      "File 1885GW.csv could not be read due to being empty or invalid format. Skipping.\n",
      "File 2897BTH.csv could not be read due to being empty or invalid format. Skipping.\n"
     ]
    },
    {
     "name": "stderr",
     "output_type": "stream",
     "text": [
      "\n",
      "\n",
      "\n",
      "\u001b[A\u001b[A\u001b[A"
     ]
    },
    {
     "name": "stdout",
     "output_type": "stream",
     "text": [
      "File 221713.csv could not be read due to being empty or invalid format. Skipping.\n",
      "File 2079.csv could not be read due to being empty or invalid format. Skipping.\n",
      "File 5524GW.csv could not be read due to being empty or invalid format. Skipping.\n",
      "File 442112001.csv could not be read due to being empty or invalid format. Skipping.\n",
      "File TQ78_890.csv could not be read due to being empty or invalid format. Skipping.\n",
      "File 55843.csv could not be read due to being empty or invalid format. Skipping.\n",
      "File 26113.csv could not be read due to being empty or invalid format. Skipping.\n",
      "File 5561GW.csv could not be read due to being empty or invalid format. Skipping.\n"
     ]
    },
    {
     "name": "stderr",
     "output_type": "stream",
     "text": [
      "\n",
      "\n",
      "\n",
      "\u001b[A\u001b[A\u001b[A"
     ]
    },
    {
     "name": "stdout",
     "output_type": "stream",
     "text": [
      "File 575092.csv could not be read due to being empty or invalid format. Skipping.\n",
      "File TL86_169.csv could not be read due to being empty or invalid format. Skipping.\n",
      "File L1731B.csv could not be read due to being empty or invalid format. Skipping.\n",
      "File 390523.csv could not be read due to being empty or invalid format. Skipping.\n",
      "File 0307GW.csv could not be read due to being empty or invalid format. Skipping.\n",
      "File 341515012.csv could not be read due to being empty or invalid format. Skipping.\n",
      "File 251556TP.csv could not be read due to being empty or invalid format. Skipping.\n",
      "File 90112103.csv could not be read due to being empty or invalid format. Skipping.\n",
      "File 382133.csv could not be read due to being empty or invalid format. Skipping.\n",
      "File NTG2259P3.csv could not be read due to being empty or invalid format. Skipping.\n"
     ]
    },
    {
     "name": "stderr",
     "output_type": "stream",
     "text": [
      "\n",
      "\n",
      "\n",
      "\u001b[A\u001b[A\u001b[A"
     ]
    },
    {
     "name": "stdout",
     "output_type": "stream",
     "text": [
      "File SE68KMS0CO.csv could not be read due to being empty or invalid format. Skipping.\n",
      "File 7_103.csv could not be read due to being empty or invalid format. Skipping.\n",
      "File WAVOBS11.csv could not be read due to being empty or invalid format. Skipping.\n",
      "File 586898.csv could not be read due to being empty or invalid format. Skipping.\n",
      "File 40101034.csv could not be read due to being empty or invalid format. Skipping.\n",
      "File SU07_6.csv could not be read due to being empty or invalid format. Skipping.\n",
      "File 311001.csv could not be read due to being empty or invalid format. Skipping.\n"
     ]
    },
    {
     "name": "stderr",
     "output_type": "stream",
     "text": [
      "\n",
      "\n",
      "\n",
      "\u001b[A\u001b[A\u001b[A"
     ]
    },
    {
     "name": "stdout",
     "output_type": "stream",
     "text": [
      "File 23057.csv could not be read due to being empty or invalid format. Skipping.\n",
      "File TL93_010.csv could not be read due to being empty or invalid format. Skipping.\n",
      "File 540001.csv could not be read due to being empty or invalid format. Skipping.\n",
      "File WAVOBS05.csv could not be read due to being empty or invalid format. Skipping.\n",
      "File L2519.csv could not be read due to being empty or invalid format. Skipping.\n"
     ]
    },
    {
     "name": "stderr",
     "output_type": "stream",
     "text": [
      "\n",
      "\n",
      "\n",
      "\u001b[A\u001b[A\u001b[A"
     ]
    },
    {
     "name": "stdout",
     "output_type": "stream",
     "text": [
      "File 40301067.csv could not be read due to being empty or invalid format. Skipping.\n",
      "File SU49_22.csv could not be read due to being empty or invalid format. Skipping.\n",
      "File 2299TH.csv could not be read due to being empty or invalid format. Skipping.\n",
      "File 692114.csv could not be read due to being empty or invalid format. Skipping.\n",
      "File 684010.csv could not be read due to being empty or invalid format. Skipping.\n",
      "File NY00_405A.csv could not be read due to being empty or invalid format. Skipping.\n",
      "File TL41_94.csv could not be read due to being empty or invalid format. Skipping.\n"
     ]
    },
    {
     "name": "stderr",
     "output_type": "stream",
     "text": [
      "\n",
      "\n",
      "\n",
      "\u001b[A\u001b[A\u001b[A"
     ]
    },
    {
     "name": "stdout",
     "output_type": "stream",
     "text": [
      "File 644018052.csv could not be read due to being empty or invalid format. Skipping.\n",
      "File 510805.csv could not be read due to being empty or invalid format. Skipping.\n",
      "File SJ79_91.csv could not be read due to being empty or invalid format. Skipping.\n",
      "File 1845GW.csv could not be read due to being empty or invalid format. Skipping.\n",
      "File 2131.csv could not be read due to being empty or invalid format. Skipping.\n",
      "File 1043GW.csv could not be read due to being empty or invalid format. Skipping.\n"
     ]
    },
    {
     "name": "stderr",
     "output_type": "stream",
     "text": [
      "\n",
      "\n",
      "\n",
      "\u001b[A\u001b[A\u001b[A"
     ]
    },
    {
     "name": "stdout",
     "output_type": "stream",
     "text": [
      "File 1006GW.csv could not be read due to being empty or invalid format. Skipping.\n",
      "File 692100.csv could not be read due to being empty or invalid format. Skipping.\n",
      "File 241790TP.csv could not be read due to being empty or invalid format. Skipping.\n",
      "File 556111002.csv could not be read due to being empty or invalid format. Skipping.\n",
      "File 43280001.csv could not be read due to being empty or invalid format. Skipping.\n",
      "File 644601002.csv could not be read due to being empty or invalid format. Skipping.\n",
      "File 4_003.csv could not be read due to being empty or invalid format. Skipping.\n"
     ]
    },
    {
     "name": "stderr",
     "output_type": "stream",
     "text": [
      "\n",
      "\n",
      "\n",
      "\u001b[A\u001b[A\u001b[A"
     ]
    },
    {
     "name": "stdout",
     "output_type": "stream",
     "text": [
      "File TM46_622.csv could not be read due to being empty or invalid format. Skipping.\n",
      "File 530257.csv could not be read due to being empty or invalid format. Skipping.\n",
      "File SE46FGL2SS.csv could not be read due to being empty or invalid format. Skipping.\n",
      "File 564160.csv could not be read due to being empty or invalid format. Skipping.\n",
      "File 570115.csv could not be read due to being empty or invalid format. Skipping.\n"
     ]
    },
    {
     "name": "stderr",
     "output_type": "stream",
     "text": [
      "\n",
      "\n",
      "\n",
      "\u001b[A\u001b[A\u001b[A"
     ]
    },
    {
     "name": "stdout",
     "output_type": "stream",
     "text": [
      "File NZ20BOSLCL.csv could not be read due to being empty or invalid format. Skipping.\n",
      "File SE52EGC0SS.csv could not be read due to being empty or invalid format. Skipping.\n",
      "File V19.csv could not be read due to being empty or invalid format. Skipping.\n",
      "File SU47_27.csv could not be read due to being empty or invalid format. Skipping.\n",
      "File TQ37_267A.csv could not be read due to being empty or invalid format. Skipping.\n",
      "File TG32_760.csv could not be read due to being empty or invalid format. Skipping.\n",
      "File 332380.csv could not be read due to being empty or invalid format. Skipping.\n",
      "File 90190302.csv could not be read due to being empty or invalid format. Skipping.\n",
      "File SX88G015.csv could not be read due to being empty or invalid format. Skipping.\n",
      "File 551440.csv could not be read due to being empty or invalid format. Skipping.\n",
      "File 463501506.csv could not be read due to being empty or invalid format. Skipping.\n"
     ]
    },
    {
     "name": "stderr",
     "output_type": "stream",
     "text": [
      "\n",
      "\n",
      "\n",
      "\u001b[A\u001b[A\u001b[A"
     ]
    },
    {
     "name": "stdout",
     "output_type": "stream",
     "text": [
      "File L1506A.csv could not be read due to being empty or invalid format. Skipping.\n",
      "File 22163.csv could not be read due to being empty or invalid format. Skipping.\n",
      "File TF73_136.csv could not be read due to being empty or invalid format. Skipping.\n",
      "File SE38WG01RD.csv could not be read due to being empty or invalid format. Skipping.\n",
      "File 245421014.csv could not be read due to being empty or invalid format. Skipping.\n",
      "File 153922.csv could not be read due to being empty or invalid format. Skipping.\n",
      "File 644033002.csv could not be read due to being empty or invalid format. Skipping.\n"
     ]
    },
    {
     "name": "stderr",
     "output_type": "stream",
     "text": [
      "\n",
      "\n",
      "\n",
      "\u001b[A\u001b[A\u001b[A"
     ]
    },
    {
     "name": "stdout",
     "output_type": "stream",
     "text": [
      "File 220974.csv could not be read due to being empty or invalid format. Skipping.\n",
      "File L1206.csv could not be read due to being empty or invalid format. Skipping.\n",
      "File 520285.csv could not be read due to being empty or invalid format. Skipping.\n",
      "File TL97_150.csv could not be read due to being empty or invalid format. Skipping.\n",
      "File L3411.csv could not be read due to being empty or invalid format. Skipping.\n"
     ]
    },
    {
     "name": "stderr",
     "output_type": "stream",
     "text": [
      "\n",
      "\n",
      "\n",
      "\u001b[A\u001b[A\u001b[A"
     ]
    },
    {
     "name": "stdout",
     "output_type": "stream",
     "text": [
      "File TL97_144.csv could not be read due to being empty or invalid format. Skipping.\n",
      "File 2_522.csv could not be read due to being empty or invalid format. Skipping.\n",
      "File 5015GW.csv could not be read due to being empty or invalid format. Skipping.\n",
      "File SE95DTEBCC.csv could not be read due to being empty or invalid format. Skipping.\n",
      "File 142202668.csv could not be read due to being empty or invalid format. Skipping.\n",
      "File 441320003.csv could not be read due to being empty or invalid format. Skipping.\n",
      "File 26108S.csv could not be read due to being empty or invalid format. Skipping.\n"
     ]
    },
    {
     "name": "stderr",
     "output_type": "stream",
     "text": [
      "\n",
      "\n",
      "\n",
      "\u001b[A\u001b[A\u001b[A"
     ]
    },
    {
     "name": "stdout",
     "output_type": "stream",
     "text": [
      "File 243102039.csv could not be read due to being empty or invalid format. Skipping.\n",
      "File 371412001.csv could not be read due to being empty or invalid format. Skipping.\n",
      "File 25-4-21.csv could not be read due to being empty or invalid format. Skipping.\n",
      "File L0681.csv could not be read due to being empty or invalid format. Skipping.\n",
      "File 3085TH.csv could not be read due to being empty or invalid format. Skipping.\n",
      "File 10660.csv could not be read due to being empty or invalid format. Skipping.\n"
     ]
    },
    {
     "name": "stderr",
     "output_type": "stream",
     "text": [
      "\n",
      "\n",
      "\n",
      "\u001b[A\u001b[A\u001b[A"
     ]
    },
    {
     "name": "stdout",
     "output_type": "stream",
     "text": [
      "File TL33_4.csv could not be read due to being empty or invalid format. Skipping.\n",
      "File 151674.csv could not be read due to being empty or invalid format. Skipping.\n",
      "File TM16_5138.csv could not be read due to being empty or invalid format. Skipping.\n",
      "File 21-0-132.csv could not be read due to being empty or invalid format. Skipping.\n",
      "File 710315.csv could not be read due to being empty or invalid format. Skipping.\n"
     ]
    },
    {
     "name": "stderr",
     "output_type": "stream",
     "text": [
      "\n",
      "\n",
      "\n",
      "\u001b[A\u001b[A\u001b[A"
     ]
    },
    {
     "name": "stdout",
     "output_type": "stream",
     "text": [
      "File SU78_45C.csv could not be read due to being empty or invalid format. Skipping.\n",
      "File 710301.csv could not be read due to being empty or invalid format. Skipping.\n",
      "File 2129GW.csv could not be read due to being empty or invalid format. Skipping.\n",
      "File 694015.csv could not be read due to being empty or invalid format. Skipping.\n",
      "File 40701086.csv could not be read due to being empty or invalid format. Skipping.\n",
      "File S50467_FW.csv could not be read due to being empty or invalid format. Skipping.\n",
      "File 546531001.csv could not be read due to being empty or invalid format. Skipping.\n",
      "File 2883TH.csv could not be read due to being empty or invalid format. Skipping.\n",
      "File SX86F200.csv could not be read due to being empty or invalid format. Skipping.\n",
      "File 242600012.csv could not be read due to being empty or invalid format. Skipping.\n"
     ]
    },
    {
     "name": "stderr",
     "output_type": "stream",
     "text": [
      "\n",
      "\n",
      "\n",
      "\u001b[A\u001b[A\u001b[A"
     ]
    },
    {
     "name": "stdout",
     "output_type": "stream",
     "text": [
      "File SJ48_72.csv could not be read due to being empty or invalid format. Skipping.\n",
      "File 685130.csv could not be read due to being empty or invalid format. Skipping.\n",
      "File F3102.csv could not be read due to being empty or invalid format. Skipping.\n",
      "File GP06_13.csv could not be read due to being empty or invalid format. Skipping.\n"
     ]
    },
    {
     "name": "stderr",
     "output_type": "stream",
     "text": [
      "\n",
      "\n",
      "\n",
      "\u001b[A\u001b[A\u001b[A"
     ]
    },
    {
     "name": "stdout",
     "output_type": "stream",
     "text": [
      "File SD43_23A.csv could not be read due to being empty or invalid format. Skipping.\n",
      "File NTG3183E1.csv could not be read due to being empty or invalid format. Skipping.\n",
      "File 151890.csv could not be read due to being empty or invalid format. Skipping.\n",
      "File SX97F013.csv could not be read due to being empty or invalid format. Skipping.\n",
      "File 5_012.csv could not be read due to being empty or invalid format. Skipping.\n",
      "File 5_007.csv could not be read due to being empty or invalid format. Skipping.\n",
      "File 243543TP.csv could not be read due to being empty or invalid format. Skipping.\n",
      "File 85322.csv could not be read due to being empty or invalid format. Skipping.\n",
      "File 654850002.csv could not be read due to being empty or invalid format. Skipping.\n"
     ]
    },
    {
     "name": "stderr",
     "output_type": "stream",
     "text": [
      "\n",
      "\n",
      "\n",
      "\u001b[A\u001b[A\u001b[A"
     ]
    },
    {
     "name": "stdout",
     "output_type": "stream",
     "text": [
      "File 693021.csv could not be read due to being empty or invalid format. Skipping.\n",
      "File 3104TH.csv could not be read due to being empty or invalid format. Skipping.\n",
      "File SE72KLT1SS.csv could not be read due to being empty or invalid format. Skipping.\n",
      "File TA02ALYBCC.csv could not be read due to being empty or invalid format. Skipping.\n",
      "File 351197.csv could not be read due to being empty or invalid format. Skipping.\n",
      "File SU79_121.csv could not be read due to being empty or invalid format. Skipping.\n"
     ]
    },
    {
     "name": "stderr",
     "output_type": "stream",
     "text": [
      "\n",
      "\n",
      "\n",
      "\u001b[A\u001b[A\u001b[A"
     ]
    },
    {
     "name": "stdout",
     "output_type": "stream",
     "text": [
      "File GP06_12.csv could not be read due to being empty or invalid format. Skipping.\n",
      "File 520215_FW.csv could not be read due to being empty or invalid format. Skipping.\n",
      "File SJ48_73.csv could not be read due to being empty or invalid format. Skipping.\n",
      "File SE62HTC0RD.csv could not be read due to being empty or invalid format. Skipping.\n",
      "File 2902TH.csv could not be read due to being empty or invalid format. Skipping.\n",
      "File TA15BG02CC.csv could not be read due to being empty or invalid format. Skipping.\n",
      "File 141801747.csv could not be read due to being empty or invalid format. Skipping.\n"
     ]
    },
    {
     "name": "stderr",
     "output_type": "stream",
     "text": [
      "\n",
      "\n",
      "\n",
      "\u001b[A\u001b[A\u001b[A\n",
      "\n",
      "\n",
      "\u001b[A\u001b[A\u001b[A"
     ]
    },
    {
     "name": "stdout",
     "output_type": "stream",
     "text": [
      "File 0067GW.csv could not be read due to being empty or invalid format. Skipping.\n",
      "File TQ28_119.csv could not be read due to being empty or invalid format. Skipping.\n",
      "File TG00_637.csv could not be read due to being empty or invalid format. Skipping.\n",
      "File S22529_FW.csv could not be read due to being empty or invalid format. Skipping.\n",
      "File 77836.csv could not be read due to being empty or invalid format. Skipping.\n",
      "File NY55_71.csv could not be read due to being empty or invalid format. Skipping.\n",
      "File 0022GW.csv could not be read due to being empty or invalid format. Skipping.\n",
      "File L29006.csv could not be read due to being empty or invalid format. Skipping.\n",
      "File 652411002.csv could not be read due to being empty or invalid format. Skipping.\n",
      "File 1067GW.csv could not be read due to being empty or invalid format. Skipping.\n",
      "File 25A04.csv could not be read due to being empty or invalid format. Skipping.\n",
      "File 1022GW.csv could not be read due to being empty or invalid format. Skipping.\n",
      "File 1861GW.csv could not be read due to being empty or invalid format. Skipping.\n"
     ]
    },
    {
     "name": "stderr",
     "output_type": "stream",
     "text": [
      "\n",
      "\n",
      "\n",
      "\u001b[A\u001b[A\u001b[A\n",
      "\n",
      "\n",
      "\n"
     ]
    },
    {
     "name": "stdout",
     "output_type": "stream",
     "text": [
      "File 693009.csv could not be read due to being empty or invalid format. Skipping.\n",
      "File 588491.csv could not be read due to being empty or invalid format. Skipping.\n",
      "File 141804603.csv could not be read due to being empty or invalid format. Skipping.\n",
      "File TL33_5.csv could not be read due to being empty or invalid format. Skipping.\n",
      "File 1930TH.csv could not be read due to being empty or invalid format. Skipping.\n",
      "File 25-3-29.csv could not be read due to being empty or invalid format. Skipping.\n",
      "File L3404.csv could not be read due to being empty or invalid format. Skipping.\n",
      "File 441320002.csv could not be read due to being empty or invalid format. Skipping.\n"
     ]
    },
    {
     "name": "stderr",
     "output_type": "stream",
     "text": [
      " 17%|█▋        | 1264/7573 [00:45<03:44, 28.15it/s]\u001b[A\u001b[A\u001b[A\u001b[A"
     ]
    },
    {
     "name": "stdout",
     "output_type": "stream",
     "text": [
      "File 25-4-20.csv could not be read due to being empty or invalid format. Skipping.\n",
      "File 4381TH.csv could not be read due to being empty or invalid format. Skipping.\n",
      "File 239579TP.csv could not be read due to being empty or invalid format. Skipping.\n",
      "File TL97_151.csv could not be read due to being empty or invalid format. Skipping.\n"
     ]
    },
    {
     "name": "stderr",
     "output_type": "stream",
     "text": [
      "\n",
      "\n",
      "\n",
      "\u001b[A\u001b[A\u001b[A"
     ]
    },
    {
     "name": "stdout",
     "output_type": "stream",
     "text": [
      "File 750917.csv could not be read due to being empty or invalid format. Skipping.\n",
      "File 245222021.csv could not be read due to being empty or invalid format. Skipping.\n",
      "File 6_113.csv could not be read due to being empty or invalid format. Skipping.\n",
      "File L1207.csv could not be read due to being empty or invalid format. Skipping.\n"
     ]
    },
    {
     "name": "stderr",
     "output_type": "stream",
     "text": [
      "\n",
      "\n",
      "\n",
      "\u001b[A\u001b[A\u001b[A"
     ]
    },
    {
     "name": "stdout",
     "output_type": "stream",
     "text": [
      "File 448110.csv could not be read due to being empty or invalid format. Skipping.\n",
      "File 5545GW.csv could not be read due to being empty or invalid format. Skipping.\n",
      "File 441320016.csv could not be read due to being empty or invalid format. Skipping.\n",
      "File 90189120.csv could not be read due to being empty or invalid format. Skipping.\n",
      "File TA03WSW0CC.csv could not be read due to being empty or invalid format. Skipping.\n",
      "File 724700.csv could not be read due to being empty or invalid format. Skipping.\n"
     ]
    },
    {
     "name": "stderr",
     "output_type": "stream",
     "text": [
      "\n",
      "\n",
      "\n",
      "\u001b[A\u001b[A\u001b[A"
     ]
    },
    {
     "name": "stdout",
     "output_type": "stream",
     "text": [
      "File NY00_316.csv could not be read due to being empty or invalid format. Skipping.\n",
      "File 236681.csv could not be read due to being empty or invalid format. Skipping.\n",
      "File SE18FH01RD.csv could not be read due to being empty or invalid format. Skipping.\n",
      "File 249727.csv could not be read due to being empty or invalid format. Skipping.\n",
      "File 142203239.csv could not be read due to being empty or invalid format. Skipping.\n"
     ]
    },
    {
     "name": "stderr",
     "output_type": "stream",
     "text": [
      "\n",
      "\n",
      "\n",
      "\u001b[A\u001b[A\u001b[A"
     ]
    },
    {
     "name": "stdout",
     "output_type": "stream",
     "text": [
      "File 0513GW.csv could not be read due to being empty or invalid format. Skipping.\n",
      "File SU47_26.csv could not be read due to being empty or invalid format. Skipping.\n",
      "File 247344TP.csv could not be read due to being empty or invalid format. Skipping.\n",
      "File 569323.csv could not be read due to being empty or invalid format. Skipping.\n",
      "File 361552500.csv could not be read due to being empty or invalid format. Skipping.\n",
      "File 441350056.csv could not be read due to being empty or invalid format. Skipping.\n",
      "File 559586.csv could not be read due to being empty or invalid format. Skipping.\n"
     ]
    },
    {
     "name": "stderr",
     "output_type": "stream",
     "text": [
      "\n",
      "\n",
      "\n",
      "\u001b[A\u001b[A\u001b[A"
     ]
    },
    {
     "name": "stdout",
     "output_type": "stream",
     "text": [
      "File 373646.csv could not be read due to being empty or invalid format. Skipping.\n",
      "File TL83_950.csv could not be read due to being empty or invalid format. Skipping.\n",
      "File TA06AHR0CC.csv could not be read due to being empty or invalid format. Skipping.\n",
      "File 700311.csv could not be read due to being empty or invalid format. Skipping.\n",
      "File 82673.csv could not be read due to being empty or invalid format. Skipping.\n",
      "File 521415.csv could not be read due to being empty or invalid format. Skipping.\n"
     ]
    },
    {
     "name": "stderr",
     "output_type": "stream",
     "text": [
      "\n",
      "\n",
      "\n",
      "\u001b[A\u001b[A\u001b[A"
     ]
    },
    {
     "name": "stdout",
     "output_type": "stream",
     "text": [
      "File SD44_52.csv could not be read due to being empty or invalid format. Skipping.\n",
      "File G432305.csv could not be read due to being empty or invalid format. Skipping.\n",
      "File 710102.csv could not be read due to being empty or invalid format. Skipping.\n",
      "File 692115.csv could not be read due to being empty or invalid format. Skipping.\n",
      "File 280826TP.csv could not be read due to being empty or invalid format. Skipping.\n",
      "File TL64_892.csv could not be read due to being empty or invalid format. Skipping.\n",
      "File 2642.csv could not be read due to being empty or invalid format. Skipping.\n"
     ]
    },
    {
     "name": "stderr",
     "output_type": "stream",
     "text": [
      "\n",
      "\n",
      "\n",
      "\u001b[A\u001b[A\u001b[A"
     ]
    },
    {
     "name": "stdout",
     "output_type": "stream",
     "text": [
      "File 584917.csv could not be read due to being empty or invalid format. Skipping.\n",
      "File 2435TH.csv could not be read due to being empty or invalid format. Skipping.\n",
      "File 441243002.csv could not be read due to being empty or invalid format. Skipping.\n",
      "File 23042.csv could not be read due to being empty or invalid format. Skipping.\n",
      "File TL32_90.csv could not be read due to being empty or invalid format. Skipping.\n",
      "File 552376.csv could not be read due to being empty or invalid format. Skipping.\n"
     ]
    },
    {
     "name": "stderr",
     "output_type": "stream",
     "text": [
      "\n",
      "\n",
      "\n",
      "\u001b[A\u001b[A\u001b[A"
     ]
    },
    {
     "name": "stdout",
     "output_type": "stream",
     "text": [
      "File NTG3183P1.csv could not be read due to being empty or invalid format. Skipping.\n",
      "File 7_102.csv could not be read due to being empty or invalid format. Skipping.\n",
      "File 38476.csv could not be read due to being empty or invalid format. Skipping.\n",
      "File SU27_63.csv could not be read due to being empty or invalid format. Skipping.\n",
      "File 176751.csv could not be read due to being empty or invalid format. Skipping.\n",
      "File SS80G002.csv could not be read due to being empty or invalid format. Skipping.\n",
      "File 103494.csv could not be read due to being empty or invalid format. Skipping.\n",
      "File 1939GW.csv could not be read due to being empty or invalid format. Skipping.\n",
      "File 26106.csv could not be read due to being empty or invalid format. Skipping.\n",
      "File 90114201.csv could not be read due to being empty or invalid format. Skipping.\n",
      "File 291628.csv could not be read due to being empty or invalid format. Skipping.\n",
      "File NTG2259P2.csv could not be read due to being empty or invalid format. Skipping.\n"
     ]
    },
    {
     "name": "stderr",
     "output_type": "stream",
     "text": [
      "\n",
      "\n",
      "\n",
      "\u001b[A\u001b[A\u001b[A"
     ]
    },
    {
     "name": "stdout",
     "output_type": "stream",
     "text": [
      "File 26112.csv could not be read due to being empty or invalid format. Skipping.\n",
      "File 690138.csv could not be read due to being empty or invalid format. Skipping.\n",
      "File SD41_62.csv could not be read due to being empty or invalid format. Skipping.\n"
     ]
    },
    {
     "name": "stderr",
     "output_type": "stream",
     "text": [
      "\n",
      "\n",
      "\n",
      "\u001b[A\u001b[A\u001b[A"
     ]
    },
    {
     "name": "stdout",
     "output_type": "stream",
     "text": [
      "File 3061TH.csv could not be read due to being empty or invalid format. Skipping.\n",
      "File 3822TH.csv could not be read due to being empty or invalid format. Skipping.\n",
      "File 415820.csv could not be read due to being empty or invalid format. Skipping.\n",
      "File SD41_76.csv could not be read due to being empty or invalid format. Skipping.\n",
      "File 566602.csv could not be read due to being empty or invalid format. Skipping.\n",
      "File SD44_9.csv could not be read due to being empty or invalid format. Skipping.\n"
     ]
    },
    {
     "name": "stderr",
     "output_type": "stream",
     "text": [
      "\n",
      "\n",
      "\n",
      "\u001b[A\u001b[A\u001b[A"
     ]
    },
    {
     "name": "stdout",
     "output_type": "stream",
     "text": [
      "File 681009.csv could not be read due to being empty or invalid format. Skipping.\n",
      "File 2044.csv could not be read due to being empty or invalid format. Skipping.\n",
      "File L32022.csv could not be read due to being empty or invalid format. Skipping.\n",
      "File 432509.csv could not be read due to being empty or invalid format. Skipping.\n",
      "File TA03CTC0RD.csv could not be read due to being empty or invalid format. Skipping.\n",
      "File 91674242.csv could not be read due to being empty or invalid format. Skipping.\n",
      "File SE96WLT0CC.csv could not be read due to being empty or invalid format. Skipping.\n",
      "File 86575.csv could not be read due to being empty or invalid format. Skipping.\n",
      "File NY53_10.csv could not be read due to being empty or invalid format. Skipping.\n",
      "File TF80_002.csv could not be read due to being empty or invalid format. Skipping.\n"
     ]
    },
    {
     "name": "stderr",
     "output_type": "stream",
     "text": [
      "\n",
      "\n",
      "\n",
      "\u001b[A\u001b[A\u001b[A"
     ]
    },
    {
     "name": "stdout",
     "output_type": "stream",
     "text": [
      "File 142502963.csv could not be read due to being empty or invalid format. Skipping.\n",
      "File 692707.csv could not be read due to being empty or invalid format. Skipping.\n",
      "File 323139.csv could not be read due to being empty or invalid format. Skipping.\n",
      "File 433603.csv could not be read due to being empty or invalid format. Skipping.\n",
      "File TQ35_5.csv could not be read due to being empty or invalid format. Skipping.\n",
      "File 142204608.csv could not be read due to being empty or invalid format. Skipping.\n",
      "File TA05HT00CC.csv could not be read due to being empty or invalid format. Skipping.\n",
      "File SE37TCC0SS.csv could not be read due to being empty or invalid format. Skipping.\n"
     ]
    },
    {
     "name": "stderr",
     "output_type": "stream",
     "text": [
      "\n",
      "\n",
      "\n",
      "\u001b[A\u001b[A\u001b[A"
     ]
    },
    {
     "name": "stdout",
     "output_type": "stream",
     "text": [
      "File 542005.csv could not be read due to being empty or invalid format. Skipping.\n",
      "File 142203601.csv could not be read due to being empty or invalid format. Skipping.\n",
      "File F2802.csv could not be read due to being empty or invalid format. Skipping.\n",
      "File 141806389.csv could not be read due to being empty or invalid format. Skipping.\n",
      "File 761102.csv could not be read due to being empty or invalid format. Skipping.\n"
     ]
    },
    {
     "name": "stderr",
     "output_type": "stream",
     "text": [
      "\n",
      "\n",
      "\n",
      "\u001b[A\u001b[A\u001b[A"
     ]
    },
    {
     "name": "stdout",
     "output_type": "stream",
     "text": [
      "File L2478.csv could not be read due to being empty or invalid format. Skipping.\n",
      "File 7_076.csv could not be read due to being empty or invalid format. Skipping.\n",
      "File 319528.csv could not be read due to being empty or invalid format. Skipping.\n",
      "File 26072.csv could not be read due to being empty or invalid format. Skipping.\n",
      "File L0509.csv could not be read due to being empty or invalid format. Skipping.\n",
      "File 1482TH.csv could not be read due to being empty or invalid format. Skipping.\n",
      "File L28091.csv could not be read due to being empty or invalid format. Skipping.\n",
      "File 2087.csv could not be read due to being empty or invalid format. Skipping.\n"
     ]
    },
    {
     "name": "stderr",
     "output_type": "stream",
     "text": [
      "\n",
      "\n",
      "\n",
      "\u001b[A\u001b[A\u001b[A"
     ]
    },
    {
     "name": "stdout",
     "output_type": "stream",
     "text": [
      "File SY08G153.csv could not be read due to being empty or invalid format. Skipping.\n",
      "File 1203GW.csv could not be read due to being empty or invalid format. Skipping.\n",
      "File 239374TP.csv could not be read due to being empty or invalid format. Skipping.\n",
      "File 2175GW.csv could not be read due to being empty or invalid format. Skipping.\n",
      "File 254150004.csv could not be read due to being empty or invalid format. Skipping.\n",
      "File SE52HCL2SS.csv could not be read due to being empty or invalid format. Skipping.\n",
      "File 644830002.csv could not be read due to being empty or invalid format. Skipping.\n"
     ]
    },
    {
     "name": "stderr",
     "output_type": "stream",
     "text": [
      "\n",
      "\n",
      "\n",
      "\u001b[A\u001b[A\u001b[A"
     ]
    },
    {
     "name": "stdout",
     "output_type": "stream",
     "text": [
      "File 109973.csv could not be read due to being empty or invalid format. Skipping.\n",
      "File TA07WHN0RD.csv could not be read due to being empty or invalid format. Skipping.\n",
      "File 2130GW.csv could not be read due to being empty or invalid format. Skipping.\n",
      "File 26066.csv could not be read due to being empty or invalid format. Skipping.\n",
      "File 2093.csv could not be read due to being empty or invalid format. Skipping.\n",
      "File L2322.csv could not be read due to being empty or invalid format. Skipping.\n",
      "File 3_308.csv could not be read due to being empty or invalid format. Skipping.\n"
     ]
    },
    {
     "name": "stderr",
     "output_type": "stream",
     "text": [
      "\n",
      "\n",
      "\n",
      "\u001b[A\u001b[A\u001b[A"
     ]
    },
    {
     "name": "stdout",
     "output_type": "stream",
     "text": [
      "File SD51_73.csv could not be read due to being empty or invalid format. Skipping.\n",
      "File ST01G027.csv could not be read due to being empty or invalid format. Skipping.\n",
      "File 140504941.csv could not be read due to being empty or invalid format. Skipping.\n",
      "File L0904.csv could not be read due to being empty or invalid format. Skipping.\n",
      "File 328520.csv could not be read due to being empty or invalid format. Skipping.\n",
      "File 644613003.csv could not be read due to being empty or invalid format. Skipping.\n"
     ]
    },
    {
     "name": "stderr",
     "output_type": "stream",
     "text": [
      "\n",
      "\n",
      "\n",
      "\u001b[A\u001b[A\u001b[A"
     ]
    },
    {
     "name": "stdout",
     "output_type": "stream",
     "text": [
      "File 290867.csv could not be read due to being empty or invalid format. Skipping.\n",
      "File SE46GOB0SS.csv could not be read due to being empty or invalid format. Skipping.\n",
      "File 8036GW.csv could not be read due to being empty or invalid format. Skipping.\n",
      "File 4179.csv could not be read due to being empty or invalid format. Skipping.\n",
      "File 8_636.csv could not be read due to being empty or invalid format. Skipping.\n",
      "File NTF9182P1.csv could not be read due to being empty or invalid format. Skipping.\n"
     ]
    },
    {
     "name": "stderr",
     "output_type": "stream",
     "text": [
      "\n",
      "\n",
      "\n",
      "\u001b[A\u001b[A\u001b[A"
     ]
    },
    {
     "name": "stdout",
     "output_type": "stream",
     "text": [
      "File SS54F010.csv could not be read due to being empty or invalid format. Skipping.\n",
      "File 372160.csv could not be read due to being empty or invalid format. Skipping.\n",
      "File 141806174.csv could not be read due to being empty or invalid format. Skipping.\n",
      "File TF81_013.csv could not be read due to being empty or invalid format. Skipping.\n",
      "File TL14_001.csv could not be read due to being empty or invalid format. Skipping.\n",
      "File TA03NHS0RD.csv could not be read due to being empty or invalid format. Skipping.\n",
      "File SE52HLM0RD.csv could not be read due to being empty or invalid format. Skipping.\n",
      "File 644017002.csv could not be read due to being empty or invalid format. Skipping.\n",
      "File 265415TP.csv could not be read due to being empty or invalid format. Skipping.\n"
     ]
    },
    {
     "name": "stderr",
     "output_type": "stream",
     "text": [
      "\n",
      "\n",
      "\n",
      "\u001b[A\u001b[A\u001b[A"
     ]
    },
    {
     "name": "stdout",
     "output_type": "stream",
     "text": [
      "File 575332.csv could not be read due to being empty or invalid format. Skipping.\n",
      "File SP70_51.csv could not be read due to being empty or invalid format. Skipping.\n",
      "File 4040TH.csv could not be read due to being empty or invalid format. Skipping.\n",
      "File 4145.csv could not be read due to being empty or invalid format. Skipping.\n",
      "File TF80_214.csv could not be read due to being empty or invalid format. Skipping.\n",
      "File SU67_189.csv could not be read due to being empty or invalid format. Skipping.\n"
     ]
    },
    {
     "name": "stderr",
     "output_type": "stream",
     "text": [
      "\n",
      "\n",
      "\n",
      "\u001b[A\u001b[A\u001b[A"
     ]
    },
    {
     "name": "stdout",
     "output_type": "stream",
     "text": [
      "File SU46_3.csv could not be read due to being empty or invalid format. Skipping.\n",
      "File 22994.csv could not be read due to being empty or invalid format. Skipping.\n",
      "File SP00_141B.csv could not be read due to being empty or invalid format. Skipping.\n",
      "File 1777GW.csv could not be read due to being empty or invalid format. Skipping.\n",
      "File 151805001.csv could not be read due to being empty or invalid format. Skipping.\n",
      "File 1_594.csv could not be read due to being empty or invalid format. Skipping.\n",
      "File 299658.csv could not be read due to being empty or invalid format. Skipping.\n",
      "File 1732GW.csv could not be read due to being empty or invalid format. Skipping.\n"
     ]
    },
    {
     "name": "stderr",
     "output_type": "stream",
     "text": [
      "\n",
      "\n",
      "\n",
      "\u001b[A\u001b[A\u001b[A"
     ]
    },
    {
     "name": "stdout",
     "output_type": "stream",
     "text": [
      "File 440362.csv could not be read due to being empty or invalid format. Skipping.\n",
      "File 1_580.csv could not be read due to being empty or invalid format. Skipping.\n",
      "File 4192.csv could not be read due to being empty or invalid format. Skipping.\n",
      "File 765600.csv could not be read due to being empty or invalid format. Skipping.\n",
      "File TL21_103.csv could not be read due to being empty or invalid format. Skipping.\n"
     ]
    },
    {
     "name": "stderr",
     "output_type": "stream",
     "text": [
      "\n",
      "\n",
      "\n",
      "\u001b[A\u001b[A\u001b[A"
     ]
    },
    {
     "name": "stdout",
     "output_type": "stream",
     "text": [
      "File SJ55_69A.csv could not be read due to being empty or invalid format. Skipping.\n",
      "File S50443_FW.csv could not be read due to being empty or invalid format. Skipping.\n",
      "File L1707A.csv could not be read due to being empty or invalid format. Skipping.\n",
      "File 22016.csv could not be read due to being empty or invalid format. Skipping.\n",
      "File TL44_235.csv could not be read due to being empty or invalid format. Skipping.\n",
      "File SE28BD00ML.csv could not be read due to being empty or invalid format. Skipping.\n"
     ]
    },
    {
     "name": "stderr",
     "output_type": "stream",
     "text": [
      "\n",
      "\n",
      "\n",
      "\u001b[A\u001b[A\u001b[A"
     ]
    },
    {
     "name": "stdout",
     "output_type": "stream",
     "text": [
      "File 386036.csv could not be read due to being empty or invalid format. Skipping.\n",
      "File 8_811.csv could not be read due to being empty or invalid format. Skipping.\n",
      "File SU48_88.csv could not be read due to being empty or invalid format. Skipping.\n",
      "File SU28_71B.csv could not be read due to being empty or invalid format. Skipping.\n",
      "File 4186.csv could not be read due to being empty or invalid format. Skipping.\n",
      "File 22-2-32.csv could not be read due to being empty or invalid format. Skipping.\n",
      "File SP95_063.csv could not be read due to being empty or invalid format. Skipping.\n"
     ]
    },
    {
     "name": "stderr",
     "output_type": "stream",
     "text": [
      "\n",
      "\n",
      "\n",
      "\u001b[A\u001b[A\u001b[A"
     ]
    },
    {
     "name": "stdout",
     "output_type": "stream",
     "text": [
      "File 22014.csv could not be read due to being empty or invalid format. Skipping.\n",
      "File L1359.csv could not be read due to being empty or invalid format. Skipping.\n",
      "File 4190.csv could not be read due to being empty or invalid format. Skipping.\n",
      "File 4184.csv could not be read due to being empty or invalid format. Skipping.\n",
      "File 6_059.csv could not be read due to being empty or invalid format. Skipping.\n",
      "File 555132001.csv could not be read due to being empty or invalid format. Skipping.\n",
      "File TL44_237.csv could not be read due to being empty or invalid format. Skipping.\n",
      "File S14584_FW.csv could not be read due to being empty or invalid format. Skipping.\n",
      "File 292733.csv could not be read due to being empty or invalid format. Skipping.\n",
      "File 122706.csv could not be read due to being empty or invalid format. Skipping.\n",
      "File SU73_8.csv could not be read due to being empty or invalid format. Skipping.\n",
      "File 400022.csv could not be read due to being empty or invalid format. Skipping.\n"
     ]
    },
    {
     "name": "stderr",
     "output_type": "stream",
     "text": [
      "\n",
      "\n",
      "\n",
      "\u001b[A\u001b[A\u001b[A"
     ]
    },
    {
     "name": "stdout",
     "output_type": "stream",
     "text": [
      "File 440360.csv could not be read due to being empty or invalid format. Skipping.\n",
      "File SJ79_34A.csv could not be read due to being empty or invalid format. Skipping.\n",
      "File ST40G002.csv could not be read due to being empty or invalid format. Skipping.\n",
      "File TL55_018.csv could not be read due to being empty or invalid format. Skipping.\n",
      "File L33869.csv could not be read due to being empty or invalid format. Skipping.\n"
     ]
    },
    {
     "name": "stderr",
     "output_type": "stream",
     "text": [
      "\n",
      "\n",
      "\n",
      "\u001b[A\u001b[A\u001b[A"
     ]
    },
    {
     "name": "stdout",
     "output_type": "stream",
     "text": [
      "File 1_582.csv could not be read due to being empty or invalid format. Skipping.\n",
      "File 254220001.csv could not be read due to being empty or invalid format. Skipping.\n",
      "File 6_065.csv could not be read due to being empty or invalid format. Skipping.\n",
      "File 243131TP.csv could not be read due to being empty or invalid format. Skipping.\n",
      "File TW05_7.csv could not be read due to being empty or invalid format. Skipping.\n",
      "File 1943GW.csv could not be read due to being empty or invalid format. Skipping.\n"
     ]
    },
    {
     "name": "stderr",
     "output_type": "stream",
     "text": [
      "\n",
      "\n",
      "\n",
      "\u001b[A\u001b[A\u001b[A"
     ]
    },
    {
     "name": "stdout",
     "output_type": "stream",
     "text": [
      "File 141806176.csv could not be read due to being empty or invalid format. Skipping.\n",
      "File TQ04_13.csv could not be read due to being empty or invalid format. Skipping.\n",
      "File TQ26_143BU.csv could not be read due to being empty or invalid format. Skipping.\n",
      "File EdgeH1.csv could not be read due to being empty or invalid format. Skipping.\n",
      "File 4153.csv could not be read due to being empty or invalid format. Skipping.\n",
      "File SS54F012.csv could not be read due to being empty or invalid format. Skipping.\n",
      "File 90170430.csv could not be read due to being empty or invalid format. Skipping.\n",
      "File TL14_003.csv could not be read due to being empty or invalid format. Skipping.\n"
     ]
    },
    {
     "name": "stderr",
     "output_type": "stream",
     "text": [
      "\n",
      "\n",
      "\n",
      "\u001b[A\u001b[A\u001b[A"
     ]
    },
    {
     "name": "stdout",
     "output_type": "stream",
     "text": [
      "File 351520005.csv could not be read due to being empty or invalid format. Skipping.\n",
      "File 652319001.csv could not be read due to being empty or invalid format. Skipping.\n",
      "File 4147.csv could not be read due to being empty or invalid format. Skipping.\n",
      "File 2278.csv could not be read due to being empty or invalid format. Skipping.\n",
      "File TL22_015.csv could not be read due to being empty or invalid format. Skipping.\n"
     ]
    },
    {
     "name": "stderr",
     "output_type": "stream",
     "text": [
      "\n",
      "\n",
      "\n",
      "\u001b[A\u001b[A\u001b[A"
     ]
    },
    {
     "name": "stdout",
     "output_type": "stream",
     "text": [
      "File TQ49_3.csv could not be read due to being empty or invalid format. Skipping.\n",
      "File 574006.csv could not be read due to being empty or invalid format. Skipping.\n",
      "File 520728_FW.csv could not be read due to being empty or invalid format. Skipping.\n",
      "File 644019005.csv could not be read due to being empty or invalid format. Skipping.\n"
     ]
    },
    {
     "name": "stderr",
     "output_type": "stream",
     "text": [
      "\n",
      "\n",
      "\n",
      "\u001b[A\u001b[A\u001b[A"
     ]
    },
    {
     "name": "stdout",
     "output_type": "stream",
     "text": [
      "File TL78_054.csv could not be read due to being empty or invalid format. Skipping.\n",
      "File 50680.csv could not be read due to being empty or invalid format. Skipping.\n",
      "File L2452.csv could not be read due to being empty or invalid format. Skipping.\n",
      "File TL02_19.csv could not be read due to being empty or invalid format. Skipping.\n",
      "File SY08G151.csv could not be read due to being empty or invalid format. Skipping.\n",
      "File L0245.csv could not be read due to being empty or invalid format. Skipping.\n",
      "File 244151002.csv could not be read due to being empty or invalid format. Skipping.\n"
     ]
    },
    {
     "name": "stderr",
     "output_type": "stream",
     "text": [
      "\n",
      "\n",
      "\n",
      "\u001b[A\u001b[A\u001b[A"
     ]
    },
    {
     "name": "stdout",
     "output_type": "stream",
     "text": [
      "File 2085.csv could not be read due to being empty or invalid format. Skipping.\n",
      "File TG01_787.csv could not be read due to being empty or invalid format. Skipping.\n",
      "File 26064.csv could not be read due to being empty or invalid format. Skipping.\n",
      "File 642423009.csv could not be read due to being empty or invalid format. Skipping.\n"
     ]
    },
    {
     "name": "stderr",
     "output_type": "stream",
     "text": [
      "\n",
      "\n",
      "\n",
      "\u001b[A\u001b[A\u001b[A"
     ]
    },
    {
     "name": "stdout",
     "output_type": "stream",
     "text": [
      "File 1208TH.csv could not be read due to being empty or invalid format. Skipping.\n",
      "File 542007.csv could not be read due to being empty or invalid format. Skipping.\n",
      "File 25-2-43.csv could not be read due to being empty or invalid format. Skipping.\n",
      "File 642327008.csv could not be read due to being empty or invalid format. Skipping.\n",
      "File 341755.csv could not be read due to being empty or invalid format. Skipping.\n"
     ]
    },
    {
     "name": "stderr",
     "output_type": "stream",
     "text": [
      "\n",
      "\n",
      "\n",
      "\u001b[A\u001b[A\u001b[A"
     ]
    },
    {
     "name": "stdout",
     "output_type": "stream",
     "text": [
      "File 374088.csv could not be read due to being empty or invalid format. Skipping.\n",
      "File 1730GW.csv could not be read due to being empty or invalid format. Skipping.\n",
      "File SE46LOV0SS.csv could not be read due to being empty or invalid format. Skipping.\n",
      "File SP20_28B.csv could not be read due to being empty or invalid format. Skipping.\n",
      "File TQ35_7.csv could not be read due to being empty or invalid format. Skipping.\n",
      "File 301417.csv could not be read due to being empty or invalid format. Skipping.\n",
      "File 556200003.csv could not be read due to being empty or invalid format. Skipping.\n"
     ]
    },
    {
     "name": "stderr",
     "output_type": "stream",
     "text": [
      "\n",
      "\n",
      "\n",
      "\u001b[A\u001b[A\u001b[A"
     ]
    },
    {
     "name": "stdout",
     "output_type": "stream",
     "text": [
      "File 26058.csv could not be read due to being empty or invalid format. Skipping.\n",
      "File 2097GW.csv could not be read due to being empty or invalid format. Skipping.\n",
      "File 391776.csv could not be read due to being empty or invalid format. Skipping.\n",
      "File 510210_FW.csv could not be read due to being empty or invalid format. Skipping.\n",
      "File 141804588.csv could not be read due to being empty or invalid format. Skipping.\n",
      "File SE52HDW0RD.csv could not be read due to being empty or invalid format. Skipping.\n",
      "File 521205.csv could not be read due to being empty or invalid format. Skipping.\n",
      "File 64280.csv could not be read due to being empty or invalid format. Skipping.\n",
      "File L32020.csv could not be read due to being empty or invalid format. Skipping.\n",
      "File SU37_62B.csv could not be read due to being empty or invalid format. Skipping.\n",
      "File 692705.csv could not be read due to being empty or invalid format. Skipping.\n",
      "File 141809735.csv could not be read due to being empty or invalid format. Skipping.\n"
     ]
    },
    {
     "name": "stderr",
     "output_type": "stream",
     "text": [
      "\n",
      "\n",
      "\n",
      "\u001b[A\u001b[A\u001b[A"
     ]
    },
    {
     "name": "stdout",
     "output_type": "stream",
     "text": [
      "File 700515.csv could not be read due to being empty or invalid format. Skipping.\n",
      "File 293834.csv could not be read due to being empty or invalid format. Skipping.\n",
      "File 433601.csv could not be read due to being empty or invalid format. Skipping.\n",
      "File 2052.csv could not be read due to being empty or invalid format. Skipping.\n",
      "File 91498244.csv could not be read due to being empty or invalid format. Skipping.\n",
      "File SE55MMP1SS.csv could not be read due to being empty or invalid format. Skipping.\n",
      "File 1788GW.csv could not be read due to being empty or invalid format. Skipping.\n"
     ]
    },
    {
     "name": "stderr",
     "output_type": "stream",
     "text": [
      "\n",
      "\n",
      "\n",
      "\u001b[A\u001b[A\u001b[A"
     ]
    },
    {
     "name": "stdout",
     "output_type": "stream",
     "text": [
      "File 141804577.csv could not be read due to being empty or invalid format. Skipping.\n",
      "File SD41_60.csv could not be read due to being empty or invalid format. Skipping.\n",
      "File SD27_8.csv could not be read due to being empty or invalid format. Skipping.\n",
      "File 1431GW.csv could not be read due to being empty or invalid format. Skipping.\n",
      "File 244122007.csv could not be read due to being empty or invalid format. Skipping.\n",
      "File SU94_121.csv could not be read due to being empty or invalid format. Skipping.\n"
     ]
    },
    {
     "name": "stderr",
     "output_type": "stream",
     "text": [
      "\n",
      "\n",
      "\n",
      "\u001b[A\u001b[A\u001b[A"
     ]
    },
    {
     "name": "stdout",
     "output_type": "stream",
     "text": [
      "File 26104.csv could not be read due to being empty or invalid format. Skipping.\n",
      "File 159798.csv could not be read due to being empty or invalid format. Skipping.\n",
      "File TL13_123.csv could not be read due to being empty or invalid format. Skipping.\n",
      "File 90887201.csv could not be read due to being empty or invalid format. Skipping.\n",
      "File L1731A.csv could not be read due to being empty or invalid format. Skipping.\n",
      "File 3207TH.csv could not be read due to being empty or invalid format. Skipping.\n",
      "File 210452.csv could not be read due to being empty or invalid format. Skipping.\n"
     ]
    },
    {
     "name": "stderr",
     "output_type": "stream",
     "text": [
      "\n",
      "\n",
      "\n",
      "\u001b[A\u001b[A\u001b[A"
     ]
    },
    {
     "name": "stdout",
     "output_type": "stream",
     "text": [
      "File WAVOBS06.csv could not be read due to being empty or invalid format. Skipping.\n",
      "File TF72_118.csv could not be read due to being empty or invalid format. Skipping.\n",
      "File 4383TH.csv could not be read due to being empty or invalid format. Skipping.\n",
      "File 23054.csv could not be read due to being empty or invalid format. Skipping.\n"
     ]
    },
    {
     "name": "stderr",
     "output_type": "stream",
     "text": [
      "\n",
      "\n",
      "\n",
      "\u001b[A\u001b[A\u001b[A"
     ]
    },
    {
     "name": "stdout",
     "output_type": "stream",
     "text": [
      "File 642222004.csv could not be read due to being empty or invalid format. Skipping.\n",
      "File 724528.csv could not be read due to being empty or invalid format. Skipping.\n",
      "File 451231001.csv could not be read due to being empty or invalid format. Skipping.\n",
      "File 141817480.csv could not be read due to being empty or invalid format. Skipping.\n"
     ]
    },
    {
     "name": "stderr",
     "output_type": "stream",
     "text": [
      "\n",
      "\n",
      "\n",
      "\u001b[A\u001b[A\u001b[A"
     ]
    },
    {
     "name": "stdout",
     "output_type": "stream",
     "text": [
      "File WAVOBS12.csv could not be read due to being empty or invalid format. Skipping.\n",
      "File 0098GW.csv could not be read due to being empty or invalid format. Skipping.\n",
      "File 291825.csv could not be read due to being empty or invalid format. Skipping.\n",
      "File SU09_152.csv could not be read due to being empty or invalid format. Skipping.\n",
      "File 2313GW.csv could not be read due to being empty or invalid format. Skipping.\n",
      "File TL41_83.csv could not be read due to being empty or invalid format. Skipping.\n"
     ]
    },
    {
     "name": "stderr",
     "output_type": "stream",
     "text": [
      "\n",
      "\n",
      "\n",
      "\u001b[A\u001b[A\u001b[A"
     ]
    },
    {
     "name": "stdout",
     "output_type": "stream",
     "text": [
      "File ST99_16.csv could not be read due to being empty or invalid format. Skipping.\n",
      "File 2654.csv could not be read due to being empty or invalid format. Skipping.\n",
      "File 5603GW.csv could not be read due to being empty or invalid format. Skipping.\n",
      "File 2132.csv could not be read due to being empty or invalid format. Skipping.\n",
      "File 453095.csv could not be read due to being empty or invalid format. Skipping.\n",
      "File 692665.csv could not be read due to being empty or invalid format. Skipping.\n"
     ]
    },
    {
     "name": "stderr",
     "output_type": "stream",
     "text": [
      "\n",
      "\n",
      "\n",
      "\u001b[A\u001b[A\u001b[A"
     ]
    },
    {
     "name": "stdout",
     "output_type": "stream",
     "text": [
      "File 443286.csv could not be read due to being empty or invalid format. Skipping.\n",
      "File L30025.csv could not be read due to being empty or invalid format. Skipping.\n",
      "File 1826GW.csv could not be read due to being empty or invalid format. Skipping.\n",
      "File 417417TP.csv could not be read due to being empty or invalid format. Skipping.\n",
      "File 1863GW.csv could not be read due to being empty or invalid format. Skipping.\n",
      "File 1065GW.csv could not be read due to being empty or invalid format. Skipping.\n",
      "File 245121009.csv could not be read due to being empty or invalid format. Skipping.\n",
      "File 690700.csv could not be read due to being empty or invalid format. Skipping.\n",
      "File 1290_w1TH.csv could not be read due to being empty or invalid format. Skipping.\n",
      "File 264845TP.csv could not be read due to being empty or invalid format. Skipping.\n",
      "File SJ58_74.csv could not be read due to being empty or invalid format. Skipping.\n",
      "File 25394.csv could not be read due to being empty or invalid format. Skipping.\n"
     ]
    },
    {
     "name": "stderr",
     "output_type": "stream",
     "text": [
      "  0%|          | 15/7574 [1:29:47<754:05:16, 359.14s/it]\n",
      "  0%|          | 15/7574 [04:54<41:17:12, 19.66s/it]\n",
      "  0%|          | 15/7573 [04:21<36:35:36, 17.43s/it]\n",
      "\n",
      "\n",
      "\n",
      "\u001b[A\u001b[A\u001b[A"
     ]
    },
    {
     "name": "stdout",
     "output_type": "stream",
     "text": [
      "File SU47_24.csv could not be read due to being empty or invalid format. Skipping.\n",
      "File 352710016.csv could not be read due to being empty or invalid format. Skipping.\n",
      "File 654840004.csv could not be read due to being empty or invalid format. Skipping.\n",
      "File 556111001.csv could not be read due to being empty or invalid format. Skipping.\n",
      "File TA15BG00CC.csv could not be read due to being empty or invalid format. Skipping.\n",
      "File SU37_58.csv could not be read due to being empty or invalid format. Skipping.\n",
      "File 530254.csv could not be read due to being empty or invalid format. Skipping.\n",
      "File SE46GGT0SS.csv could not be read due to being empty or invalid format. Skipping.\n"
     ]
    },
    {
     "name": "stderr",
     "output_type": "stream",
     "text": [
      "\n",
      "\n",
      "\n",
      "\u001b[A\u001b[A\u001b[A"
     ]
    },
    {
     "name": "stdout",
     "output_type": "stream",
     "text": [
      "File TM14_6449.csv could not be read due to being empty or invalid format. Skipping.\n",
      "File TL82_980.csv could not be read due to being empty or invalid format. Skipping.\n",
      "File 97248007.csv could not be read due to being empty or invalid format. Skipping.\n",
      "File 382454.csv could not be read due to being empty or invalid format. Skipping.\n",
      "File 0178GW.csv could not be read due to being empty or invalid format. Skipping.\n",
      "File 585160.csv could not be read due to being empty or invalid format. Skipping.\n"
     ]
    },
    {
     "name": "stderr",
     "output_type": "stream",
     "text": [
      "\n",
      "\n",
      "\n",
      "\u001b[A\u001b[A\u001b[A"
     ]
    },
    {
     "name": "stdout",
     "output_type": "stream",
     "text": [
      "File TL55_144.csv could not be read due to being empty or invalid format. Skipping.\n",
      "File 441320028.csv could not be read due to being empty or invalid format. Skipping.\n",
      "File L1506B.csv could not be read due to being empty or invalid format. Skipping.\n",
      "File 2736TH.csv could not be read due to being empty or invalid format. Skipping.\n",
      "File NY00_314.csv could not be read due to being empty or invalid format. Skipping.\n",
      "File 342832007.csv could not be read due to being empty or invalid format. Skipping.\n"
     ]
    },
    {
     "name": "stderr",
     "output_type": "stream",
     "text": [
      "\n",
      "\n",
      "\n",
      "\u001b[A\u001b[A\u001b[A"
     ]
    },
    {
     "name": "stdout",
     "output_type": "stream",
     "text": [
      "File L0669.csv could not be read due to being empty or invalid format. Skipping.\n",
      "File 25-4-22.csv could not be read due to being empty or invalid format. Skipping.\n",
      "File 0284GW.csv could not be read due to being empty or invalid format. Skipping.\n",
      "File 451221004.csv could not be read due to being empty or invalid format. Skipping.\n",
      "File TL22_83.csv could not be read due to being empty or invalid format. Skipping.\n",
      "File TL97_147.csv could not be read due to being empty or invalid format. Skipping.\n"
     ]
    },
    {
     "name": "stderr",
     "output_type": "stream",
     "text": [
      "\n",
      "\n",
      "\n",
      "\u001b[A\u001b[A\u001b[A"
     ]
    },
    {
     "name": "stdout",
     "output_type": "stream",
     "text": [
      "File SJ28_34.csv could not be read due to being empty or invalid format. Skipping.\n",
      "File L1205.csv could not be read due to being empty or invalid format. Skipping.\n",
      "File D33811.csv could not be read due to being empty or invalid format. Skipping.\n"
     ]
    },
    {
     "name": "stderr",
     "output_type": "stream",
     "text": [
      "\n",
      "\n",
      "\n",
      "\u001b[A\u001b[A\u001b[A"
     ]
    },
    {
     "name": "stdout",
     "output_type": "stream",
     "text": [
      "File 245222023.csv could not be read due to being empty or invalid format. Skipping.\n",
      "File NY00_328.csv could not be read due to being empty or invalid format. Skipping.\n",
      "File 1655GW.csv could not be read due to being empty or invalid format. Skipping.\n",
      "File 197036.csv could not be read due to being empty or invalid format. Skipping.\n"
     ]
    },
    {
     "name": "stderr",
     "output_type": "stream",
     "text": [
      "\n",
      "\n",
      "\n",
      "\u001b[A\u001b[A\u001b[A"
     ]
    },
    {
     "name": "stdout",
     "output_type": "stream",
     "text": [
      "File 2230_w1TH.csv could not be read due to being empty or invalid format. Skipping.\n",
      "File 5_039.csv could not be read due to being empty or invalid format. Skipping.\n",
      "File 90124101.csv could not be read due to being empty or invalid format. Skipping.\n",
      "File 0279GW.csv could not be read due to being empty or invalid format. Skipping.\n",
      "File 3_901.csv could not be read due to being empty or invalid format. Skipping.\n",
      "File 21-0-131.csv could not be read due to being empty or invalid format. Skipping.\n"
     ]
    },
    {
     "name": "stderr",
     "output_type": "stream",
     "text": [
      "\n",
      "\n",
      "\n",
      "\u001b[A\u001b[A\u001b[A"
     ]
    },
    {
     "name": "stdout",
     "output_type": "stream",
     "text": [
      "File 140501967.csv could not be read due to being empty or invalid format. Skipping.\n",
      "File 442124017.csv could not be read due to being empty or invalid format. Skipping.\n",
      "File SE55LMT0RD.csv could not be read due to being empty or invalid format. Skipping.\n",
      "File SD30_6.csv could not be read due to being empty or invalid format. Skipping.\n",
      "File 520537.csv could not be read due to being empty or invalid format. Skipping.\n",
      "File L33074.csv could not be read due to being empty or invalid format. Skipping.\n",
      "File SD53_74.csv could not be read due to being empty or invalid format. Skipping.\n",
      "File SD43_23B.csv could not be read due to being empty or invalid format. Skipping.\n",
      "File SD75_6.csv could not be read due to being empty or invalid format. Skipping.\n",
      "File NX91_126C.csv could not be read due to being empty or invalid format. Skipping.\n",
      "File SX87F010.csv could not be read due to being empty or invalid format. Skipping.\n",
      "File SE46ABC0RD.csv could not be read due to being empty or invalid format. Skipping.\n"
     ]
    },
    {
     "name": "stderr",
     "output_type": "stream",
     "text": [
      "\n",
      "\n",
      "\n",
      "\u001b[A\u001b[A\u001b[A\n",
      "\n",
      "\n",
      "\u001b[A\u001b[A\u001b[A"
     ]
    },
    {
     "name": "stdout",
     "output_type": "stream",
     "text": [
      "File L3921A.csv could not be read due to being empty or invalid format. Skipping.\n",
      "File TM14_510.csv could not be read due to being empty or invalid format. Skipping.\n",
      "File 459793.csv could not be read due to being empty or invalid format. Skipping.\n",
      "File NX91_126B.csv could not be read due to being empty or invalid format. Skipping.\n",
      "File 1729GW.csv could not be read due to being empty or invalid format. Skipping.\n",
      "File 141801744.csv could not be read due to being empty or invalid format. Skipping.\n",
      "File SS92F540.csv could not be read due to being empty or invalid format. Skipping.\n"
     ]
    },
    {
     "name": "stderr",
     "output_type": "stream",
     "text": [
      "\n",
      "\n",
      "\n",
      "\u001b[A\u001b[A\u001b[A"
     ]
    },
    {
     "name": "stdout",
     "output_type": "stream",
     "text": [
      "File GP06_11.csv could not be read due to being empty or invalid format. Skipping.\n",
      "File SD53_75.csv could not be read due to being empty or invalid format. Skipping.\n",
      "File SE44BHF0ML.csv could not be read due to being empty or invalid format. Skipping.\n",
      "File S45410_FW.csv could not be read due to being empty or invalid format. Skipping.\n",
      "File F1703.csv could not be read due to being empty or invalid format. Skipping.\n",
      "File 693750.csv could not be read due to being empty or invalid format. Skipping.\n",
      "File 8_027.csv could not be read due to being empty or invalid format. Skipping.\n",
      "File 3775.csv could not be read due to being empty or invalid format. Skipping.\n",
      "File 282290TP.csv could not be read due to being empty or invalid format. Skipping.\n",
      "File 287864TP.csv could not be read due to being empty or invalid format. Skipping.\n",
      "File 21-0-130.csv could not be read due to being empty or invalid format. Skipping.\n",
      "File SD43_23C.csv could not be read due to being empty or invalid format. Skipping.\n",
      "File 112773.csv could not be read due to being empty or invalid format. Skipping.\n"
     ]
    },
    {
     "name": "stderr",
     "output_type": "stream",
     "text": [
      "\n",
      "\n",
      "\n",
      "\u001b[A\u001b[A\u001b[A"
     ]
    },
    {
     "name": "stdout",
     "output_type": "stream",
     "text": [
      "File SE77BRT0CO.csv could not be read due to being empty or invalid format. Skipping.\n",
      "File 140501966.csv could not be read due to being empty or invalid format. Skipping.\n",
      "File TA17GD00CC.csv could not be read due to being empty or invalid format. Skipping.\n",
      "File 0004GW.csv could not be read due to being empty or invalid format. Skipping.\n"
     ]
    },
    {
     "name": "stderr",
     "output_type": "stream",
     "text": [
      "\n",
      "\n",
      "\n",
      "\u001b[A\u001b[A\u001b[A"
     ]
    },
    {
     "name": "stdout",
     "output_type": "stream",
     "text": [
      "File SE62WCK2SS.csv could not be read due to being empty or invalid format. Skipping.\n",
      "File 442124002.csv could not be read due to being empty or invalid format. Skipping.\n",
      "File 473152.csv could not be read due to being empty or invalid format. Skipping.\n",
      "File L29011.csv could not be read due to being empty or invalid format. Skipping.\n",
      "File 1004GW.csv could not be read due to being empty or invalid format. Skipping.\n",
      "File 40701084.csv could not be read due to being empty or invalid format. Skipping.\n",
      "File SD53_49.csv could not be read due to being empty or invalid format. Skipping.\n",
      "File 256345TP.csv could not be read due to being empty or invalid format. Skipping.\n"
     ]
    },
    {
     "name": "stderr",
     "output_type": "stream",
     "text": [
      "\n",
      "\n",
      "\n",
      "\u001b[A\u001b[A\u001b[A"
     ]
    },
    {
     "name": "stdout",
     "output_type": "stream",
     "text": [
      "File 3223TH.csv could not be read due to being empty or invalid format. Skipping.\n",
      "File 531430_FW.csv could not be read due to being empty or invalid format. Skipping.\n",
      "File 441320015.csv could not be read due to being empty or invalid format. Skipping.\n",
      "File SU37_71.csv could not be read due to being empty or invalid format. Skipping.\n",
      "File TG21_460.csv could not be read due to being empty or invalid format. Skipping.\n",
      "File 208744.csv could not be read due to being empty or invalid format. Skipping.\n"
     ]
    },
    {
     "name": "stderr",
     "output_type": "stream",
     "text": [
      "\n",
      "\n",
      "\n",
      "\u001b[A\u001b[A\u001b[A"
     ]
    },
    {
     "name": "stdout",
     "output_type": "stream",
     "text": [
      "File 90188201.csv could not be read due to being empty or invalid format. Skipping.\n",
      "File 441220001.csv could not be read due to being empty or invalid format. Skipping.\n",
      "File 567866.csv could not be read due to being empty or invalid format. Skipping.\n",
      "File L0668.csv could not be read due to being empty or invalid format. Skipping.\n",
      "File 0155TH.csv could not be read due to being empty or invalid format. Skipping.\n",
      "File TL24_131.csv could not be read due to being empty or invalid format. Skipping.\n"
     ]
    },
    {
     "name": "stderr",
     "output_type": "stream",
     "text": [
      "\n",
      "\n",
      "\n",
      "\u001b[A\u001b[A\u001b[A"
     ]
    },
    {
     "name": "stdout",
     "output_type": "stream",
     "text": [
      "File 765005.csv could not be read due to being empty or invalid format. Skipping.\n",
      "File TL76_002.csv could not be read due to being empty or invalid format. Skipping.\n",
      "File SE53WNC0SS.csv could not be read due to being empty or invalid format. Skipping.\n",
      "File 6_104.csv could not be read due to being empty or invalid format. Skipping.\n",
      "File L1506C.csv could not be read due to being empty or invalid format. Skipping.\n",
      "File 441320029.csv could not be read due to being empty or invalid format. Skipping.\n",
      "File 2_508.csv could not be read due to being empty or invalid format. Skipping.\n",
      "File 5526GW.csv could not be read due to being empty or invalid format. Skipping.\n"
     ]
    },
    {
     "name": "stderr",
     "output_type": "stream",
     "text": [
      "\n",
      "\n",
      "\n",
      "\u001b[A\u001b[A\u001b[A\n",
      "\n",
      "\n",
      "\u001b[A\u001b[A\u001b[A"
     ]
    },
    {
     "name": "stdout",
     "output_type": "stream",
     "text": [
      "File L2043.csv could not be read due to being empty or invalid format. Skipping.\n",
      "File L2725.csv could not be read due to being empty or invalid format. Skipping.\n",
      "File 26313.csv could not be read due to being empty or invalid format. Skipping.\n",
      "File 362610031.csv could not be read due to being empty or invalid format. Skipping.\n",
      "File SU94_80.csv could not be read due to being empty or invalid format. Skipping.\n",
      "File 391818.csv could not be read due to being empty or invalid format. Skipping.\n",
      "File 142204970.csv could not be read due to being empty or invalid format. Skipping.\n",
      "File TL32_44.csv could not be read due to being empty or invalid format. Skipping.\n",
      "File 654840005.csv could not be read due to being empty or invalid format. Skipping.\n",
      "File TG11_619.csv could not be read due to being empty or invalid format. Skipping.\n",
      "File 601742.csv could not be read due to being empty or invalid format. Skipping.\n",
      "File 4_001.csv could not be read due to being empty or invalid format. Skipping.\n",
      "File 2669.csv could not be read due to being empty or invalid format. Skipping.\n",
      "File TF80_149.csv could not be read due to being empty or invalid format. Skipping.\n"
     ]
    },
    {
     "name": "stderr",
     "output_type": "stream",
     "text": [
      "\n",
      "\n",
      "\n",
      "\u001b[A\u001b[A\u001b[A"
     ]
    },
    {
     "name": "stdout",
     "output_type": "stream",
     "text": [
      "File 3087TH.csv could not be read due to being empty or invalid format. Skipping.\n",
      "File 700448.csv could not be read due to being empty or invalid format. Skipping.\n",
      "File SE62DRX1SS.csv could not be read due to being empty or invalid format. Skipping.\n",
      "File 441243001.csv could not be read due to being empty or invalid format. Skipping.\n",
      "File SD44_45.csv could not be read due to being empty or invalid format. Skipping.\n",
      "File 1218GW.csv could not be read due to being empty or invalid format. Skipping.\n",
      "File 530164_FW.csv could not be read due to being empty or invalid format. Skipping.\n"
     ]
    },
    {
     "name": "stderr",
     "output_type": "stream",
     "text": [
      "\n",
      "\n",
      "\n",
      "\u001b[A\u001b[A\u001b[A"
     ]
    },
    {
     "name": "stdout",
     "output_type": "stream",
     "text": [
      "File 2641.csv could not be read due to being empty or invalid format. Skipping.\n",
      "File 245121008.csv could not be read due to being empty or invalid format. Skipping.\n",
      "File 2899.csv could not be read due to being empty or invalid format. Skipping.\n",
      "File 10312.csv could not be read due to being empty or invalid format. Skipping.\n"
     ]
    },
    {
     "name": "stderr",
     "output_type": "stream",
     "text": [
      "\n",
      "\n",
      "\n",
      "\u001b[A\u001b[A\u001b[A"
     ]
    },
    {
     "name": "stdout",
     "output_type": "stream",
     "text": [
      "File 690715.csv could not be read due to being empty or invalid format. Skipping.\n",
      "File 2881TH.csv could not be read due to being empty or invalid format. Skipping.\n",
      "File 22-3-98.csv could not be read due to being empty or invalid format. Skipping.\n",
      "File SU06_45.csv could not be read due to being empty or invalid format. Skipping.\n"
     ]
    },
    {
     "name": "stderr",
     "output_type": "stream",
     "text": [
      "\n",
      "\n",
      "\n",
      "\u001b[A\u001b[A\u001b[A"
     ]
    },
    {
     "name": "stdout",
     "output_type": "stream",
     "text": [
      "File TG21_662.csv could not be read due to being empty or invalid format. Skipping.\n",
      "File 0218GW.csv could not be read due to being empty or invalid format. Skipping.\n",
      "File 330973.csv could not be read due to being empty or invalid format. Skipping.\n",
      "File 23055.csv could not be read due to being empty or invalid format. Skipping.\n",
      "File SX74F050.csv could not be read due to being empty or invalid format. Skipping.\n",
      "File WAVOBS13.csv could not be read due to being empty or invalid format. Skipping.\n",
      "File 5017GW.csv could not be read due to being empty or invalid format. Skipping.\n"
     ]
    },
    {
     "name": "stderr",
     "output_type": "stream",
     "text": [
      "\n",
      "\n",
      "\n",
      "\u001b[A\u001b[A\u001b[A"
     ]
    },
    {
     "name": "stdout",
     "output_type": "stream",
     "text": [
      "File WAVOBS07.csv could not be read due to being empty or invalid format. Skipping.\n",
      "File 2872.csv could not be read due to being empty or invalid format. Skipping.\n",
      "File 40101022.csv could not be read due to being empty or invalid format. Skipping.\n",
      "File 293014.csv could not be read due to being empty or invalid format. Skipping.\n",
      "File 410620.csv could not be read due to being empty or invalid format. Skipping.\n",
      "File SX95F100.csv could not be read due to being empty or invalid format. Skipping.\n",
      "File TL77_013.csv could not be read due to being empty or invalid format. Skipping.\n",
      "File NTG3183P2.csv could not be read due to being empty or invalid format. Skipping.\n",
      "File 23041.csv could not be read due to being empty or invalid format. Skipping.\n",
      "File NTG2259P1.csv could not be read due to being empty or invalid format. Skipping.\n",
      "File 355133.csv could not be read due to being empty or invalid format. Skipping.\n"
     ]
    },
    {
     "name": "stderr",
     "output_type": "stream",
     "text": [
      "\n",
      "\n",
      "\n",
      "\u001b[A\u001b[A\u001b[A"
     ]
    },
    {
     "name": "stdout",
     "output_type": "stream",
     "text": [
      "File 762540.csv could not be read due to being empty or invalid format. Skipping.\n",
      "File 26111.csv could not be read due to being empty or invalid format. Skipping.\n",
      "File TL45_353.csv could not be read due to being empty or invalid format. Skipping.\n",
      "File 1421TH.csv could not be read due to being empty or invalid format. Skipping.\n",
      "File SP92_181.csv could not be read due to being empty or invalid format. Skipping.\n",
      "File 90114202.csv could not be read due to being empty or invalid format. Skipping.\n"
     ]
    },
    {
     "name": "stderr",
     "output_type": "stream",
     "text": [
      "\n",
      "\n",
      "\n",
      "\u001b[A\u001b[A\u001b[A"
     ]
    },
    {
     "name": "stdout",
     "output_type": "stream",
     "text": [
      "File 520612_FW.csv could not be read due to being empty or invalid format. Skipping.\n",
      "File 2757TH.csv could not be read due to being empty or invalid format. Skipping.\n",
      "File 143306269.csv could not be read due to being empty or invalid format. Skipping.\n",
      "File SD40_137.csv could not be read due to being empty or invalid format. Skipping.\n",
      "File SE94LVG0CC.csv could not be read due to being empty or invalid format. Skipping.\n",
      "File 26105.csv could not be read due to being empty or invalid format. Skipping.\n"
     ]
    },
    {
     "name": "stderr",
     "output_type": "stream",
     "text": [
      "\n",
      "\n",
      "\n",
      "\u001b[A\u001b[A\u001b[A"
     ]
    },
    {
     "name": "stdout",
     "output_type": "stream",
     "text": [
      "File L2241.csv could not be read due to being empty or invalid format. Skipping.\n",
      "File 121622.csv could not be read due to being empty or invalid format. Skipping.\n",
      "File L1990.csv could not be read due to being empty or invalid format. Skipping.\n",
      "File 2804TH.csv could not be read due to being empty or invalid format. Skipping.\n",
      "File TL84_330.csv could not be read due to being empty or invalid format. Skipping.\n"
     ]
    },
    {
     "name": "stderr",
     "output_type": "stream",
     "text": [
      "\n",
      "\n",
      "\n",
      "\u001b[A\u001b[A\u001b[A"
     ]
    },
    {
     "name": "stdout",
     "output_type": "stream",
     "text": [
      "File 693426.csv could not be read due to being empty or invalid format. Skipping.\n",
      "File 579721.csv could not be read due to being empty or invalid format. Skipping.\n",
      "File 441352050.csv could not be read due to being empty or invalid format. Skipping.\n",
      "File 2002TH.csv could not be read due to being empty or invalid format. Skipping.\n",
      "File SU77_86.csv could not be read due to being empty or invalid format. Skipping.\n"
     ]
    },
    {
     "name": "stderr",
     "output_type": "stream",
     "text": [
      "\n",
      "\n",
      "\n",
      "\u001b[A\u001b[A\u001b[A"
     ]
    },
    {
     "name": "stdout",
     "output_type": "stream",
     "text": [
      "File 141815447.csv could not be read due to being empty or invalid format. Skipping.\n",
      "File TL23_005.csv could not be read due to being empty or invalid format. Skipping.\n",
      "File 4186TH.csv could not be read due to being empty or invalid format. Skipping.\n",
      "File 3804TH.csv could not be read due to being empty or invalid format. Skipping.\n",
      "File 142502790.csv could not be read due to being empty or invalid format. Skipping.\n"
     ]
    },
    {
     "name": "stderr",
     "output_type": "stream",
     "text": [
      "\n",
      "\n",
      "\n",
      "\u001b[A\u001b[A\u001b[A"
     ]
    },
    {
     "name": "stdout",
     "output_type": "stream",
     "text": [
      "File TF90_001.csv could not be read due to being empty or invalid format. Skipping.\n",
      "File L32035.csv could not be read due to being empty or invalid format. Skipping.\n",
      "File 142101734.csv could not be read due to being empty or invalid format. Skipping.\n",
      "File L340901.csv could not be read due to being empty or invalid format. Skipping.\n",
      "File L32021.csv could not be read due to being empty or invalid format. Skipping.\n",
      "File 692710.csv could not be read due to being empty or invalid format. Skipping.\n",
      "File 2217GW.csv could not be read due to being empty or invalid format. Skipping.\n",
      "File 290200TP.csv could not be read due to being empty or invalid format. Skipping.\n",
      "File 26059.csv could not be read due to being empty or invalid format. Skipping.\n",
      "File 761101.csv could not be read due to being empty or invalid format. Skipping.\n",
      "File L28092.csv could not be read due to being empty or invalid format. Skipping.\n",
      "File SY08F500.csv could not be read due to being empty or invalid format. Skipping.\n"
     ]
    },
    {
     "name": "stderr",
     "output_type": "stream",
     "text": [
      "\n",
      "\n",
      "\n",
      "\u001b[A\u001b[A\u001b[A\n",
      "\n",
      "\n",
      "\n"
     ]
    },
    {
     "name": "stdout",
     "output_type": "stream",
     "text": [
      "File 0508GW.csv could not be read due to being empty or invalid format. Skipping.\n",
      "File TL86_023.csv could not be read due to being empty or invalid format. Skipping.\n",
      "File 144680.csv could not be read due to being empty or invalid format. Skipping.\n",
      "File 3346TH.csv could not be read due to being empty or invalid format. Skipping.\n",
      "File 580353.csv could not be read due to being empty or invalid format. Skipping.\n",
      "File L2309.csv could not be read due to being empty or invalid format. Skipping.\n",
      "File SJ89_213.csv could not be read due to being empty or invalid format. Skipping.\n"
     ]
    },
    {
     "name": "stderr",
     "output_type": "stream",
     "text": [
      " 25%|██▍       | 1856/7573 [01:05<03:12, 29.73it/s]\u001b[A\u001b[A\u001b[A\u001b[A"
     ]
    },
    {
     "name": "stdout",
     "output_type": "stream",
     "text": [
      "File 542006.csv could not be read due to being empty or invalid format. Skipping.\n",
      "File 26065.csv could not be read due to being empty or invalid format. Skipping.\n",
      "File TA03SPB0CC.csv could not be read due to being empty or invalid format. Skipping.\n"
     ]
    },
    {
     "name": "stderr",
     "output_type": "stream",
     "text": [
      "\n",
      "\n",
      "\n",
      "\u001b[A\u001b[A\u001b[A"
     ]
    },
    {
     "name": "stdout",
     "output_type": "stream",
     "text": [
      "File 0225GW.csv could not be read due to being empty or invalid format. Skipping.\n",
      "File 407214.csv could not be read due to being empty or invalid format. Skipping.\n",
      "File SU17_110.csv could not be read due to being empty or invalid format. Skipping.\n",
      "File SY08G144.csv could not be read due to being empty or invalid format. Skipping.\n",
      "File SD26_11.csv could not be read due to being empty or invalid format. Skipping.\n",
      "File 92011311.csv could not be read due to being empty or invalid format. Skipping.\n",
      "File SY08G150.csv could not be read due to being empty or invalid format. Skipping.\n",
      "File 26071.csv could not be read due to being empty or invalid format. Skipping.\n"
     ]
    },
    {
     "name": "stderr",
     "output_type": "stream",
     "text": [
      "\n",
      "\n",
      "\n",
      "\u001b[A\u001b[A\u001b[A"
     ]
    },
    {
     "name": "stdout",
     "output_type": "stream",
     "text": [
      "File 40492.csv could not be read due to being empty or invalid format. Skipping.\n",
      "File 555134101.csv could not be read due to being empty or invalid format. Skipping.\n",
      "File 2084.csv could not be read due to being empty or invalid format. Skipping.\n",
      "File 520330.csv could not be read due to being empty or invalid format. Skipping.\n",
      "File SE62SWL0RD.csv could not be read due to being empty or invalid format. Skipping.\n",
      "File SE93SNB0JK.csv could not be read due to being empty or invalid format. Skipping.\n"
     ]
    },
    {
     "name": "stderr",
     "output_type": "stream",
     "text": [
      "\n",
      "\n",
      "\n",
      "\u001b[A\u001b[A\u001b[A"
     ]
    },
    {
     "name": "stdout",
     "output_type": "stream",
     "text": [
      "File 713030.csv could not be read due to being empty or invalid format. Skipping.\n",
      "File TL78_041.csv could not be read due to being empty or invalid format. Skipping.\n",
      "File S46450_FW.csv could not be read due to being empty or invalid format. Skipping.\n",
      "File 0081GW.csv could not be read due to being empty or invalid format. Skipping.\n",
      "File TL65_710.csv could not be read due to being empty or invalid format. Skipping.\n",
      "File 2279.csv could not be read due to being empty or invalid format. Skipping.\n",
      "File 333665.csv could not be read due to being empty or invalid format. Skipping.\n"
     ]
    },
    {
     "name": "stderr",
     "output_type": "stream",
     "text": [
      "\n",
      "\n",
      "\n",
      "\u001b[A\u001b[A\u001b[A"
     ]
    },
    {
     "name": "stdout",
     "output_type": "stream",
     "text": [
      "File 0415GW.csv could not be read due to being empty or invalid format. Skipping.\n",
      "File 2537.csv could not be read due to being empty or invalid format. Skipping.\n",
      "File 8010GW.csv could not be read due to being empty or invalid format. Skipping.\n",
      "File TF80_217.csv could not be read due to being empty or invalid format. Skipping.\n",
      "File SE94WHF0CC.csv could not be read due to being empty or invalid format. Skipping.\n",
      "File 118464.csv could not be read due to being empty or invalid format. Skipping.\n",
      "File SE98WY02CO.csv could not be read due to being empty or invalid format. Skipping.\n"
     ]
    },
    {
     "name": "stderr",
     "output_type": "stream",
     "text": [
      "\n",
      "\n",
      "\n",
      "\u001b[A\u001b[A\u001b[A"
     ]
    },
    {
     "name": "stdout",
     "output_type": "stream",
     "text": [
      "File 8055GW.csv could not be read due to being empty or invalid format. Skipping.\n",
      "File 143460.csv could not be read due to being empty or invalid format. Skipping.\n",
      "File TW05_6.csv could not be read due to being empty or invalid format. Skipping.\n",
      "File 1645TH.csv could not be read due to being empty or invalid format. Skipping.\n",
      "File 644017001.csv could not be read due to being empty or invalid format. Skipping.\n",
      "File 46544.csv could not be read due to being empty or invalid format. Skipping.\n"
     ]
    },
    {
     "name": "stderr",
     "output_type": "stream",
     "text": [
      "\n",
      "\n",
      "\n",
      "\u001b[A\u001b[A\u001b[A"
     ]
    },
    {
     "name": "stdout",
     "output_type": "stream",
     "text": [
      "File TF81_010.csv could not be read due to being empty or invalid format. Skipping.\n",
      "File 46222.csv could not be read due to being empty or invalid format. Skipping.\n",
      "File NTF9182P2.csv could not be read due to being empty or invalid format. Skipping.\n",
      "File 642318004.csv could not be read due to being empty or invalid format. Skipping.\n",
      "File 4152.csv could not be read due to being empty or invalid format. Skipping.\n",
      "File 1_583.csv could not be read due to being empty or invalid format. Skipping.\n",
      "File SE92WLW2CC.csv could not be read due to being empty or invalid format. Skipping.\n",
      "File 420481.csv could not be read due to being empty or invalid format. Skipping.\n"
     ]
    },
    {
     "name": "stderr",
     "output_type": "stream",
     "text": [
      "\n",
      "\n",
      "\n",
      "\u001b[A\u001b[A\u001b[A"
     ]
    },
    {
     "name": "stdout",
     "output_type": "stream",
     "text": [
      "File 7_505.csv could not be read due to being empty or invalid format. Skipping.\n",
      "File 440375.csv could not be read due to being empty or invalid format. Skipping.\n",
      "File TQ68_500.csv could not be read due to being empty or invalid format. Skipping.\n",
      "File 593893.csv could not be read due to being empty or invalid format. Skipping.\n",
      "File SP00_141A.csv could not be read due to being empty or invalid format. Skipping.\n"
     ]
    },
    {
     "name": "stderr",
     "output_type": "stream",
     "text": [
      "\n",
      "\n",
      "\n",
      "\u001b[A\u001b[A\u001b[A"
     ]
    },
    {
     "name": "stdout",
     "output_type": "stream",
     "text": [
      "File TL55_031.csv could not be read due to being empty or invalid format. Skipping.\n",
      "File FWPM01_FW.csv could not be read due to being empty or invalid format. Skipping.\n",
      "File TL44_236.csv could not be read due to being empty or invalid format. Skipping.\n",
      "File 8_812.csv could not be read due to being empty or invalid format. Skipping.\n",
      "File 5322TH.csv could not be read due to being empty or invalid format. Skipping.\n",
      "File SU28_71A.csv could not be read due to being empty or invalid format. Skipping.\n",
      "File 22015.csv could not be read due to being empty or invalid format. Skipping.\n",
      "File 142202044.csv could not be read due to being empty or invalid format. Skipping.\n",
      "File 22-2-33.csv could not be read due to being empty or invalid format. Skipping.\n",
      "File TF82_676.csv could not be read due to being empty or invalid format. Skipping.\n",
      "File 1993TH.csv could not be read due to being empty or invalid format. Skipping.\n",
      "File SE62HIW0SS.csv could not be read due to being empty or invalid format. Skipping.\n"
     ]
    },
    {
     "name": "stderr",
     "output_type": "stream",
     "text": [
      "\n",
      "\n",
      "\n",
      "\u001b[A\u001b[A\u001b[A"
     ]
    },
    {
     "name": "stdout",
     "output_type": "stream",
     "text": [
      "File SJ55_69B.csv could not be read due to being empty or invalid format. Skipping.\n",
      "File 30377.csv could not be read due to being empty or invalid format. Skipping.\n",
      "File 1501TH.csv could not be read due to being empty or invalid format. Skipping.\n",
      "File 361862.csv could not be read due to being empty or invalid format. Skipping.\n",
      "File L1358.csv could not be read due to being empty or invalid format. Skipping.\n",
      "File 142202722.csv could not be read due to being empty or invalid format. Skipping.\n"
     ]
    },
    {
     "name": "stderr",
     "output_type": "stream",
     "text": [
      "\n",
      "\n",
      "\n",
      "\u001b[A\u001b[A\u001b[A"
     ]
    },
    {
     "name": "stdout",
     "output_type": "stream",
     "text": [
      "File L17013.csv could not be read due to being empty or invalid format. Skipping.\n",
      "File 681290.csv could not be read due to being empty or invalid format. Skipping.\n",
      "File 26228.csv could not be read due to being empty or invalid format. Skipping.\n",
      "File SU74_8.csv could not be read due to being empty or invalid format. Skipping.\n"
     ]
    },
    {
     "name": "stderr",
     "output_type": "stream",
     "text": [
      "\n",
      "\n",
      "\n",
      "\u001b[A\u001b[A\u001b[A"
     ]
    },
    {
     "name": "stdout",
     "output_type": "stream",
     "text": [
      "File L1303.csv could not be read due to being empty or invalid format. Skipping.\n",
      "File TG32_760a.csv could not be read due to being empty or invalid format. Skipping.\n",
      "File 644621016.csv could not be read due to being empty or invalid format. Skipping.\n",
      "File TQ36_38.csv could not be read due to being empty or invalid format. Skipping.\n",
      "File SD31_46.csv could not be read due to being empty or invalid format. Skipping.\n",
      "File 364799.csv could not be read due to being empty or invalid format. Skipping.\n",
      "File 642224003.csv could not be read due to being empty or invalid format. Skipping.\n"
     ]
    },
    {
     "name": "stderr",
     "output_type": "stream",
     "text": [
      "\n",
      "\n",
      "\n",
      "\u001b[A\u001b[A\u001b[A"
     ]
    },
    {
     "name": "stdout",
     "output_type": "stream",
     "text": [
      "File 530193_FW.csv could not be read due to being empty or invalid format. Skipping.\n",
      "File 245031.csv could not be read due to being empty or invalid format. Skipping.\n",
      "File 444174.csv could not be read due to being empty or invalid format. Skipping.\n",
      "File SJ37_2H.csv could not be read due to being empty or invalid format. Skipping.\n",
      "File 596026.csv could not be read due to being empty or invalid format. Skipping.\n",
      "File TL31_173.csv could not be read due to being empty or invalid format. Skipping.\n",
      "File 4690.csv could not be read due to being empty or invalid format. Skipping.\n",
      "File 254154010.csv could not be read due to being empty or invalid format. Skipping.\n",
      "File 300237.csv could not be read due to being empty or invalid format. Skipping.\n",
      "File L33827.csv could not be read due to being empty or invalid format. Skipping.\n",
      "File 90888236.csv could not be read due to being empty or invalid format. Skipping.\n",
      "File ST21G010.csv could not be read due to being empty or invalid format. Skipping.\n"
     ]
    },
    {
     "name": "stderr",
     "output_type": "stream",
     "text": [
      "\n",
      "\n",
      "\n",
      "\u001b[A\u001b[A\u001b[A"
     ]
    },
    {
     "name": "stdout",
     "output_type": "stream",
     "text": [
      "File 119912.csv could not be read due to being empty or invalid format. Skipping.\n",
      "File 25-4-133.csv could not be read due to being empty or invalid format. Skipping.\n",
      "File SU38_76B.csv could not be read due to being empty or invalid format. Skipping.\n",
      "File 142502278.csv could not be read due to being empty or invalid format. Skipping.\n",
      "File 4684.csv could not be read due to being empty or invalid format. Skipping.\n"
     ]
    },
    {
     "name": "stderr",
     "output_type": "stream",
     "text": [
      "\n",
      "\n",
      "\n",
      "\u001b[A\u001b[A\u001b[A"
     ]
    },
    {
     "name": "stdout",
     "output_type": "stream",
     "text": [
      "File 316327.csv could not be read due to being empty or invalid format. Skipping.\n",
      "File 1924.csv could not be read due to being empty or invalid format. Skipping.\n",
      "File 2170GW.csv could not be read due to being empty or invalid format. Skipping.\n",
      "File 2862TH.csv could not be read due to being empty or invalid format. Skipping.\n",
      "File TQ25_87.csv could not be read due to being empty or invalid format. Skipping.\n",
      "File 453300010.csv could not be read due to being empty or invalid format. Skipping.\n"
     ]
    },
    {
     "name": "stderr",
     "output_type": "stream",
     "text": [
      "\n",
      "\n",
      "\n",
      "\u001b[A\u001b[A\u001b[A"
     ]
    },
    {
     "name": "stdout",
     "output_type": "stream",
     "text": [
      "File 453300004.csv could not be read due to being empty or invalid format. Skipping.\n",
      "File 141811444.csv could not be read due to being empty or invalid format. Skipping.\n",
      "File 254290001.csv could not be read due to being empty or invalid format. Skipping.\n",
      "File TL44_286.csv could not be read due to being empty or invalid format. Skipping.\n",
      "File NTG3224P2.csv could not be read due to being empty or invalid format. Skipping.\n"
     ]
    },
    {
     "name": "stderr",
     "output_type": "stream",
     "text": [
      "\n",
      "\n",
      "\n",
      "\u001b[A\u001b[A\u001b[A"
     ]
    },
    {
     "name": "stdout",
     "output_type": "stream",
     "text": [
      "File TF70_127.csv could not be read due to being empty or invalid format. Skipping.\n",
      "File TL42_8.csv could not be read due to being empty or invalid format. Skipping.\n",
      "File 4653.csv could not be read due to being empty or invalid format. Skipping.\n",
      "File NTG3261P2.csv could not be read due to being empty or invalid format. Skipping.\n",
      "File SU47_141.csv could not be read due to being empty or invalid format. Skipping.\n",
      "File TL43_007.csv could not be read due to being empty or invalid format. Skipping.\n",
      "File 153900002.csv could not be read due to being empty or invalid format. Skipping.\n"
     ]
    },
    {
     "name": "stderr",
     "output_type": "stream",
     "text": [
      "\n",
      "\n",
      "\n",
      "\u001b[A\u001b[A\u001b[A"
     ]
    },
    {
     "name": "stdout",
     "output_type": "stream",
     "text": [
      "File 2544.csv could not be read due to being empty or invalid format. Skipping.\n",
      "File 690404.csv could not be read due to being empty or invalid format. Skipping.\n",
      "File 2234GW.csv could not be read due to being empty or invalid format. Skipping.\n",
      "File SP52_19B.csv could not be read due to being empty or invalid format. Skipping.\n",
      "File 4121.csv could not be read due to being empty or invalid format. Skipping.\n",
      "File SU57_155.csv could not be read due to being empty or invalid format. Skipping.\n",
      "File 179957.csv could not be read due to being empty or invalid format. Skipping.\n"
     ]
    },
    {
     "name": "stderr",
     "output_type": "stream",
     "text": [
      "\n",
      "\n",
      "\n",
      "\u001b[A\u001b[A\u001b[A"
     ]
    },
    {
     "name": "stdout",
     "output_type": "stream",
     "text": [
      "File 7_006.csv could not be read due to being empty or invalid format. Skipping.\n",
      "File 2_631.csv could not be read due to being empty or invalid format. Skipping.\n",
      "File 1737GW.csv could not be read due to being empty or invalid format. Skipping.\n",
      "File L2408.csv could not be read due to being empty or invalid format. Skipping.\n",
      "File 238605TP.csv could not be read due to being empty or invalid format. Skipping.\n",
      "File 591239.csv could not be read due to being empty or invalid format. Skipping.\n",
      "File 240470TP.csv could not be read due to being empty or invalid format. Skipping.\n",
      "File 2090GW.csv could not be read due to being empty or invalid format. Skipping.\n"
     ]
    },
    {
     "name": "stderr",
     "output_type": "stream",
     "text": [
      "\n",
      "\n",
      "\n",
      "\u001b[A\u001b[A\u001b[A"
     ]
    },
    {
     "name": "stdout",
     "output_type": "stream",
     "text": [
      "File L1115.csv could not be read due to being empty or invalid format. Skipping.\n",
      "File 546612003.csv could not be read due to being empty or invalid format. Skipping.\n",
      "File 161473.csv could not be read due to being empty or invalid format. Skipping.\n",
      "File SS43F020.csv could not be read due to being empty or invalid format. Skipping.\n",
      "File SE44BCR0ML.csv could not be read due to being empty or invalid format. Skipping.\n",
      "File 21037.csv could not be read due to being empty or invalid format. Skipping.\n",
      "File 90114305.csv could not be read due to being empty or invalid format. Skipping.\n"
     ]
    },
    {
     "name": "stderr",
     "output_type": "stream",
     "text": [
      "\n",
      "\n",
      "\n",
      "\u001b[A\u001b[A\u001b[A"
     ]
    },
    {
     "name": "stdout",
     "output_type": "stream",
     "text": [
      "File SU17_98.csv could not be read due to being empty or invalid format. Skipping.\n",
      "File 383328.csv could not be read due to being empty or invalid format. Skipping.\n",
      "File 356501.csv could not be read due to being empty or invalid format. Skipping.\n",
      "File 294126.csv could not be read due to being empty or invalid format. Skipping.\n",
      "File SS53F020.csv could not be read due to being empty or invalid format. Skipping.\n",
      "File 577794.csv could not be read due to being empty or invalid format. Skipping.\n",
      "File 556510005.csv could not be read due to being empty or invalid format. Skipping.\n",
      "File 3285TH.csv could not be read due to being empty or invalid format. Skipping.\n",
      "File TL53_007.csv could not be read due to being empty or invalid format. Skipping.\n",
      "File L0237.csv could not be read due to being empty or invalid format. Skipping.\n"
     ]
    },
    {
     "name": "stderr",
     "output_type": "stream",
     "text": [
      "\n",
      "\n",
      "\n",
      "\u001b[A\u001b[A\u001b[A"
     ]
    },
    {
     "name": "stdout",
     "output_type": "stream",
     "text": [
      "File 035024NE.csv could not be read due to being empty or invalid format. Skipping.\n",
      "File 584191.csv could not be read due to being empty or invalid format. Skipping.\n",
      "File NY54_55.csv could not be read due to being empty or invalid format. Skipping.\n",
      "File 337114.csv could not be read due to being empty or invalid format. Skipping.\n",
      "File TQ48_72D.csv could not be read due to being empty or invalid format. Skipping.\n",
      "File 17220.csv could not be read due to being empty or invalid format. Skipping.\n",
      "File 642312002.csv could not be read due to being empty or invalid format. Skipping.\n",
      "File 5001.csv could not be read due to being empty or invalid format. Skipping.\n"
     ]
    },
    {
     "name": "stderr",
     "output_type": "stream",
     "text": [
      "\n",
      "\n",
      "\n",
      "\u001b[A\u001b[A\u001b[A"
     ]
    },
    {
     "name": "stdout",
     "output_type": "stream",
     "text": [
      "File 401831.csv could not be read due to being empty or invalid format. Skipping.\n",
      "File SE52HDS2RD.csv could not be read due to being empty or invalid format. Skipping.\n",
      "File 295589.csv could not be read due to being empty or invalid format. Skipping.\n",
      "File 644013002.csv could not be read due to being empty or invalid format. Skipping.\n",
      "File 151901001.csv could not be read due to being empty or invalid format. Skipping.\n",
      "File 694460.csv could not be read due to being empty or invalid format. Skipping.\n",
      "File TL52_002.csv could not be read due to being empty or invalid format. Skipping.\n",
      "File L32046.csv could not be read due to being empty or invalid format. Skipping.\n",
      "File 8033GW.csv could not be read due to being empty or invalid format. Skipping.\n"
     ]
    },
    {
     "name": "stderr",
     "output_type": "stream",
     "text": [
      "\n",
      "\n",
      "\n",
      "\u001b[A\u001b[A\u001b[A"
     ]
    },
    {
     "name": "stdout",
     "output_type": "stream",
     "text": [
      "File TG01_736.csv could not be read due to being empty or invalid format. Skipping.\n",
      "File 48718.csv could not be read due to being empty or invalid format. Skipping.\n",
      "File 151806008.csv could not be read due to being empty or invalid format. Skipping.\n",
      "File 4045TH.csv could not be read due to being empty or invalid format. Skipping.\n"
     ]
    },
    {
     "name": "stderr",
     "output_type": "stream",
     "text": [
      "\n",
      "\n",
      "\n",
      "\u001b[A\u001b[A\u001b[A"
     ]
    },
    {
     "name": "stdout",
     "output_type": "stream",
     "text": [
      "File L32052.csv could not be read due to being empty or invalid format. Skipping.\n",
      "File 151801001.csv could not be read due to being empty or invalid format. Skipping.\n",
      "File SJ49_43.csv could not be read due to being empty or invalid format. Skipping.\n",
      "File 3245TH.csv could not be read due to being empty or invalid format. Skipping.\n",
      "File 441324002.csv could not be read due to being empty or invalid format. Skipping.\n"
     ]
    },
    {
     "name": "stderr",
     "output_type": "stream",
     "text": [
      "\n",
      "\n",
      "\n",
      "\u001b[A\u001b[A\u001b[A"
     ]
    },
    {
     "name": "stdout",
     "output_type": "stream",
     "text": [
      "File 737526.csv could not be read due to being empty or invalid format. Skipping.\n",
      "File 000076TP.csv could not be read due to being empty or invalid format. Skipping.\n",
      "File 450263.csv could not be read due to being empty or invalid format. Skipping.\n",
      "File 4384TH.csv could not be read due to being empty or invalid format. Skipping.\n"
     ]
    },
    {
     "name": "stderr",
     "output_type": "stream",
     "text": [
      "\n",
      "\n",
      "\n",
      "\u001b[A\u001b[A\u001b[A"
     ]
    },
    {
     "name": "stdout",
     "output_type": "stream",
     "text": [
      "File 142201660.csv could not be read due to being empty or invalid format. Skipping.\n",
      "File 142209228.csv could not be read due to being empty or invalid format. Skipping.\n",
      "File 244140021.csv could not be read due to being empty or invalid format. Skipping.\n",
      "File 23026.csv could not be read due to being empty or invalid format. Skipping.\n",
      "File 341554003.csv could not be read due to being empty or invalid format. Skipping.\n",
      "File 2694TH.csv could not be read due to being empty or invalid format. Skipping.\n",
      "File L1707.csv could not be read due to being empty or invalid format. Skipping.\n",
      "File 575975.csv could not be read due to being empty or invalid format. Skipping.\n",
      "File 90756231.csv could not be read due to being empty or invalid format. Skipping.\n",
      "File TL77_048.csv could not be read due to being empty or invalid format. Skipping.\n",
      "File 91474301.csv could not be read due to being empty or invalid format. Skipping.\n",
      "File 24013.csv could not be read due to being empty or invalid format. Skipping.\n"
     ]
    },
    {
     "name": "stderr",
     "output_type": "stream",
     "text": [
      "\n",
      "\n",
      "\n",
      "\u001b[A\u001b[A\u001b[A\n",
      "\n",
      "\n",
      "\u001b[A\u001b[A\u001b[A"
     ]
    },
    {
     "name": "stdout",
     "output_type": "stream",
     "text": [
      "File 730513.csv could not be read due to being empty or invalid format. Skipping.\n",
      "File 143701796.csv could not be read due to being empty or invalid format. Skipping.\n",
      "File TM15_5324.csv could not be read due to being empty or invalid format. Skipping.\n",
      "File 1418011001.csv could not be read due to being empty or invalid format. Skipping.\n",
      "File NTG1212P6.csv could not be read due to being empty or invalid format. Skipping.\n",
      "File 90180410.csv could not be read due to being empty or invalid format. Skipping.\n",
      "File 245221014.csv could not be read due to being empty or invalid format. Skipping.\n",
      "File TA05TDN0CC.csv could not be read due to being empty or invalid format. Skipping.\n",
      "File 443531005.csv could not be read due to being empty or invalid format. Skipping.\n",
      "File 24007.csv could not be read due to being empty or invalid format. Skipping.\n",
      "File 353280.csv could not be read due to being empty or invalid format. Skipping.\n",
      "File 605543.csv could not be read due to being empty or invalid format. Skipping.\n",
      "File 546331001.csv could not be read due to being empty or invalid format. Skipping.\n",
      "File 3101TH.csv could not be read due to being empty or invalid format. Skipping.\n"
     ]
    },
    {
     "name": "stderr",
     "output_type": "stream",
     "text": [
      "\n",
      "\n",
      "\n",
      "\u001b[A\u001b[A\u001b[A"
     ]
    },
    {
     "name": "stdout",
     "output_type": "stream",
     "text": [
      "File L1908.csv could not be read due to being empty or invalid format. Skipping.\n",
      "File 40101092.csv could not be read due to being empty or invalid format. Skipping.\n",
      "File TL98_013.csv could not be read due to being empty or invalid format. Skipping.\n",
      "File 341223007.csv could not be read due to being empty or invalid format. Skipping.\n",
      "File S50436_FW.csv could not be read due to being empty or invalid format. Skipping.\n"
     ]
    },
    {
     "name": "stderr",
     "output_type": "stream",
     "text": [
      "\n",
      "\n",
      "\n",
      "\u001b[A\u001b[A\u001b[A"
     ]
    },
    {
     "name": "stdout",
     "output_type": "stream",
     "text": [
      "File 287947.csv could not be read due to being empty or invalid format. Skipping.\n",
      "File 46655.csv could not be read due to being empty or invalid format. Skipping.\n",
      "File SE68GDS0CO.csv could not be read due to being empty or invalid format. Skipping.\n",
      "File SU99_64.csv could not be read due to being empty or invalid format. Skipping.\n",
      "File 1062GW.csv could not be read due to being empty or invalid format. Skipping.\n",
      "File 1027GW.csv could not be read due to being empty or invalid format. Skipping.\n",
      "File TM15_5481.csv could not be read due to being empty or invalid format. Skipping.\n"
     ]
    },
    {
     "name": "stderr",
     "output_type": "stream",
     "text": [
      "\n",
      "\n",
      "\n",
      "\u001b[A\u001b[A\u001b[A"
     ]
    },
    {
     "name": "stdout",
     "output_type": "stream",
     "text": [
      "File 40301002.csv could not be read due to being empty or invalid format. Skipping.\n",
      "File 3_032.csv could not be read due to being empty or invalid format. Skipping.\n",
      "File 8_518.csv could not be read due to being empty or invalid format. Skipping.\n",
      "File 2_547.csv could not be read due to being empty or invalid format. Skipping.\n",
      "File 142207775.csv could not be read due to being empty or invalid format. Skipping.\n",
      "File 154782.csv could not be read due to being empty or invalid format. Skipping.\n",
      "File NTG2166PB.csv could not be read due to being empty or invalid format. Skipping.\n"
     ]
    },
    {
     "name": "stderr",
     "output_type": "stream",
     "text": [
      "\n",
      "\n",
      "\n",
      "\u001b[A\u001b[A\u001b[A"
     ]
    },
    {
     "name": "stdout",
     "output_type": "stream",
     "text": [
      "File L1505.csv could not be read due to being empty or invalid format. Skipping.\n",
      "File 351124.csv could not be read due to being empty or invalid format. Skipping.\n",
      "File 2_553.csv could not be read due to being empty or invalid format. Skipping.\n",
      "File SP00_110.csv could not be read due to being empty or invalid format. Skipping.\n",
      "File 39268.csv could not be read due to being empty or invalid format. Skipping.\n",
      "File 520586.csv could not be read due to being empty or invalid format. Skipping.\n"
     ]
    },
    {
     "name": "stderr",
     "output_type": "stream",
     "text": [
      "\n",
      "\n",
      "\n",
      "\u001b[A\u001b[A\u001b[A"
     ]
    },
    {
     "name": "stdout",
     "output_type": "stream",
     "text": [
      "File 520881_FW.csv could not be read due to being empty or invalid format. Skipping.\n",
      "File 141806919.csv could not be read due to being empty or invalid format. Skipping.\n",
      "File L2024.csv could not be read due to being empty or invalid format. Skipping.\n"
     ]
    },
    {
     "name": "stderr",
     "output_type": "stream",
     "text": [
      "\n",
      "\n",
      "\n",
      "\u001b[A\u001b[A\u001b[A"
     ]
    },
    {
     "name": "stdout",
     "output_type": "stream",
     "text": [
      "File 115084.csv could not be read due to being empty or invalid format. Skipping.\n",
      "File GP01_94.csv could not be read due to being empty or invalid format. Skipping.\n",
      "File 8_901.csv could not be read due to being empty or invalid format. Skipping.\n",
      "File 545450.csv could not be read due to being empty or invalid format. Skipping.\n",
      "File 2731TH.csv could not be read due to being empty or invalid format. Skipping.\n",
      "File TA06KSW0CC.csv could not be read due to being empty or invalid format. Skipping.\n",
      "File SD20_17.csv could not be read due to being empty or invalid format. Skipping.\n",
      "File L1539.csv could not be read due to being empty or invalid format. Skipping.\n",
      "File 0890TH.csv could not be read due to being empty or invalid format. Skipping.\n",
      "File SD53_12.csv could not be read due to being empty or invalid format. Skipping.\n",
      "File 0553GW.csv could not be read due to being empty or invalid format. Skipping.\n"
     ]
    },
    {
     "name": "stderr",
     "output_type": "stream",
     "text": [
      "\n",
      "\n",
      "\n",
      "\u001b[A\u001b[A\u001b[A"
     ]
    },
    {
     "name": "stdout",
     "output_type": "stream",
     "text": [
      "File 0182GW.csv could not be read due to being empty or invalid format. Skipping.\n",
      "File 520551.csv could not be read due to being empty or invalid format. Skipping.\n",
      "File 37292.csv could not be read due to being empty or invalid format. Skipping.\n",
      "File SE62CLN0SS.csv could not be read due to being empty or invalid format. Skipping.\n",
      "File TQ48_5.csv could not be read due to being empty or invalid format. Skipping.\n"
     ]
    },
    {
     "name": "stderr",
     "output_type": "stream",
     "text": [
      "\n",
      "\n",
      "\n",
      "\u001b[A\u001b[A\u001b[A"
     ]
    },
    {
     "name": "stdout",
     "output_type": "stream",
     "text": [
      "File 453202001.csv could not be read due to being empty or invalid format. Skipping.\n",
      "File 4069.csv could not be read due to being empty or invalid format. Skipping.\n",
      "File 243111008.csv could not be read due to being empty or invalid format. Skipping.\n",
      "File SD54_5.csv could not be read due to being empty or invalid format. Skipping.\n",
      "File TL99_002.csv could not be read due to being empty or invalid format. Skipping.\n",
      "File L0800.csv could not be read due to being empty or invalid format. Skipping.\n"
     ]
    },
    {
     "name": "stderr",
     "output_type": "stream",
     "text": [
      "\n",
      "\n",
      "\n",
      "\u001b[A\u001b[A\u001b[A"
     ]
    },
    {
     "name": "stdout",
     "output_type": "stream",
     "text": [
      "File SU74_61B.csv could not be read due to being empty or invalid format. Skipping.\n",
      "File 4165TH.csv could not be read due to being empty or invalid format. Skipping.\n",
      "File TM08_008.csv could not be read due to being empty or invalid format. Skipping.\n",
      "File SE46MRH0SS.csv could not be read due to being empty or invalid format. Skipping.\n",
      "File SD54_27.csv could not be read due to being empty or invalid format. Skipping.\n",
      "File 342640011.csv could not be read due to being empty or invalid format. Skipping.\n",
      "File SU49_84E.csv could not be read due to being empty or invalid format. Skipping.\n"
     ]
    },
    {
     "name": "stderr",
     "output_type": "stream",
     "text": [
      "\n",
      "\n",
      "\n",
      "\u001b[A\u001b[A\u001b[A"
     ]
    },
    {
     "name": "stdout",
     "output_type": "stream",
     "text": [
      "File 21-0-157.csv could not be read due to being empty or invalid format. Skipping.\n",
      "File 245122002.csv could not be read due to being empty or invalid format. Skipping.\n",
      "File TQ47_95A.csv could not be read due to being empty or invalid format. Skipping.\n",
      "File NTG0111P4.csv could not be read due to being empty or invalid format. Skipping.\n",
      "File 274865TP.csv could not be read due to being empty or invalid format. Skipping.\n",
      "File 5318TH.csv could not be read due to being empty or invalid format. Skipping.\n",
      "File 90877341.csv could not be read due to being empty or invalid format. Skipping.\n",
      "File 562992.csv could not be read due to being empty or invalid format. Skipping.\n",
      "File TQ08_49.csv could not be read due to being empty or invalid format. Skipping.\n",
      "File 97221000.csv could not be read due to being empty or invalid format. Skipping.\n"
     ]
    },
    {
     "name": "stderr",
     "output_type": "stream",
     "text": [
      "\n",
      "\n",
      "\n",
      "\u001b[A\u001b[A\u001b[A\n",
      "\n",
      "\n",
      "\u001b[A\u001b[A\u001b[A"
     ]
    },
    {
     "name": "stdout",
     "output_type": "stream",
     "text": [
      "File SE56YB00RD.csv could not be read due to being empty or invalid format. Skipping.\n",
      "File 141365.csv could not be read due to being empty or invalid format. Skipping.\n",
      "File 4726.csv could not be read due to being empty or invalid format. Skipping.\n",
      "File TF81_116.csv could not be read due to being empty or invalid format. Skipping.\n",
      "File 1805GW.csv could not be read due to being empty or invalid format. Skipping.\n",
      "File L2780.csv could not be read due to being empty or invalid format. Skipping.\n",
      "File 27902.csv could not be read due to being empty or invalid format. Skipping.\n",
      "File 151814009.csv could not be read due to being empty or invalid format. Skipping.\n",
      "File 245413029.csv could not be read due to being empty or invalid format. Skipping.\n",
      "File 451519002.csv could not be read due to being empty or invalid format. Skipping.\n",
      "File TL89_017.csv could not be read due to being empty or invalid format. Skipping.\n",
      "File SE55FF00SS.csv could not be read due to being empty or invalid format. Skipping.\n"
     ]
    },
    {
     "name": "stderr",
     "output_type": "stream",
     "text": [
      "\n",
      "\n",
      "\n",
      "\u001b[A\u001b[A\u001b[A"
     ]
    },
    {
     "name": "stdout",
     "output_type": "stream",
     "text": [
      "File L0801.csv could not be read due to being empty or invalid format. Skipping.\n",
      "File 384917.csv could not be read due to being empty or invalid format. Skipping.\n",
      "File 143306958.csv could not be read due to being empty or invalid format. Skipping.\n",
      "File TL99_003.csv could not be read due to being empty or invalid format. Skipping.\n",
      "File SE46ABI2SS.csv could not be read due to being empty or invalid format. Skipping.\n",
      "File SD54_4.csv could not be read due to being empty or invalid format. Skipping.\n",
      "File 556220001.csv could not be read due to being empty or invalid format. Skipping.\n",
      "File 602749.csv could not be read due to being empty or invalid format. Skipping.\n"
     ]
    },
    {
     "name": "stderr",
     "output_type": "stream",
     "text": [
      "\n",
      "\n",
      "\n",
      "\u001b[A\u001b[A\u001b[A"
     ]
    },
    {
     "name": "stdout",
     "output_type": "stream",
     "text": [
      "File 333011.csv could not be read due to being empty or invalid format. Skipping.\n",
      "File NY52_21.csv could not be read due to being empty or invalid format. Skipping.\n",
      "File 2966TH.csv could not be read due to being empty or invalid format. Skipping.\n",
      "File SD53_13.csv could not be read due to being empty or invalid format. Skipping.\n",
      "File 2089GW.csv could not be read due to being empty or invalid format. Skipping.\n"
     ]
    },
    {
     "name": "stderr",
     "output_type": "stream",
     "text": [
      "\n",
      "\n",
      "\n",
      "\u001b[A\u001b[A\u001b[A"
     ]
    },
    {
     "name": "stdout",
     "output_type": "stream",
     "text": [
      "File TQ08_107.csv could not be read due to being empty or invalid format. Skipping.\n",
      "File 1418101005.csv could not be read due to being empty or invalid format. Skipping.\n",
      "File SE52GHS0SS.csv could not be read due to being empty or invalid format. Skipping.\n",
      "File L1538.csv could not be read due to being empty or invalid format. Skipping.\n",
      "File 90193109.csv could not be read due to being empty or invalid format. Skipping.\n",
      "File 2031GW.csv could not be read due to being empty or invalid format. Skipping.\n",
      "File 576925.csv could not be read due to being empty or invalid format. Skipping.\n"
     ]
    },
    {
     "name": "stderr",
     "output_type": "stream",
     "text": [
      "\n",
      "\n",
      "\n",
      "\u001b[A\u001b[A\u001b[A"
     ]
    },
    {
     "name": "stdout",
     "output_type": "stream",
     "text": [
      "File SU59_117.csv could not be read due to being empty or invalid format. Skipping.\n",
      "File SP90_63.csv could not be read due to being empty or invalid format. Skipping.\n",
      "File 216534.csv could not be read due to being empty or invalid format. Skipping.\n"
     ]
    },
    {
     "name": "stderr",
     "output_type": "stream",
     "text": [
      "\n",
      "\n",
      "\n",
      "\u001b[A\u001b[A\u001b[A"
     ]
    },
    {
     "name": "stdout",
     "output_type": "stream",
     "text": [
      "File 8_914.csv could not be read due to being empty or invalid format. Skipping.\n",
      "File 1796GW.csv could not be read due to being empty or invalid format. Skipping.\n",
      "File 555211001.csv could not be read due to being empty or invalid format. Skipping.\n",
      "File TQ08_113.csv could not be read due to being empty or invalid format. Skipping.\n",
      "File TF62_029A.csv could not be read due to being empty or invalid format. Skipping.\n",
      "File 560835.csv could not be read due to being empty or invalid format. Skipping.\n"
     ]
    },
    {
     "name": "stderr",
     "output_type": "stream",
     "text": [
      "\n",
      "\n",
      "\n",
      "\u001b[A\u001b[A\u001b[A"
     ]
    },
    {
     "name": "stdout",
     "output_type": "stream",
     "text": [
      "File 21-0-181.csv could not be read due to being empty or invalid format. Skipping.\n",
      "File SP10_105.csv could not be read due to being empty or invalid format. Skipping.\n",
      "File 1911TH.csv could not be read due to being empty or invalid format. Skipping.\n",
      "File L3313.csv could not be read due to being empty or invalid format. Skipping.\n",
      "File 24-5-140.csv could not be read due to being empty or invalid format. Skipping.\n",
      "File 12P03.csv could not be read due to being empty or invalid format. Skipping.\n",
      "File TM03_721.csv could not be read due to being empty or invalid format. Skipping.\n"
     ]
    },
    {
     "name": "stderr",
     "output_type": "stream",
     "text": [
      "\n",
      "\n",
      "\n",
      "\u001b[A\u001b[A\u001b[A"
     ]
    },
    {
     "name": "stdout",
     "output_type": "stream",
     "text": [
      "File 520593.csv could not be read due to being empty or invalid format. Skipping.\n",
      "File SJ56_123.csv could not be read due to being empty or invalid format. Skipping.\n",
      "File TQ67_093.csv could not be read due to being empty or invalid format. Skipping.\n",
      "File 2_546.csv could not be read due to being empty or invalid format. Skipping.\n",
      "File 520190_FW.csv could not be read due to being empty or invalid format. Skipping.\n",
      "File 0911TH.csv could not be read due to being empty or invalid format. Skipping.\n"
     ]
    },
    {
     "name": "stderr",
     "output_type": "stream",
     "text": [
      "\n",
      "\n",
      "\n",
      "\u001b[A\u001b[A\u001b[A"
     ]
    },
    {
     "name": "stdout",
     "output_type": "stream",
     "text": [
      "File GP06_8.csv could not be read due to being empty or invalid format. Skipping.\n",
      "File 700406.csv could not be read due to being empty or invalid format. Skipping.\n",
      "File 322336.csv could not be read due to being empty or invalid format. Skipping.\n",
      "File 103354.csv could not be read due to being empty or invalid format. Skipping.\n",
      "File 2627.csv could not be read due to being empty or invalid format. Skipping.\n",
      "File NY46_3.csv could not be read due to being empty or invalid format. Skipping.\n",
      "File 90874339.csv could not be read due to being empty or invalid format. Skipping.\n"
     ]
    },
    {
     "name": "stderr",
     "output_type": "stream",
     "text": [
      "\n",
      "\n",
      "\n",
      "\u001b[A\u001b[A\u001b[A"
     ]
    },
    {
     "name": "stdout",
     "output_type": "stream",
     "text": [
      "File SD44_23.csv could not be read due to being empty or invalid format. Skipping.\n",
      "File 2886TH.csv could not be read due to being empty or invalid format. Skipping.\n",
      "File SD44_37.csv could not be read due to being empty or invalid format. Skipping.\n",
      "File SU99_65.csv could not be read due to being empty or invalid format. Skipping.\n",
      "File 188373.csv could not be read due to being empty or invalid format. Skipping.\n",
      "File SE95WW00CC.csv could not be read due to being empty or invalid format. Skipping.\n"
     ]
    },
    {
     "name": "stderr",
     "output_type": "stream",
     "text": [
      "\n",
      "\n",
      "\n",
      "\u001b[A\u001b[A\u001b[A"
     ]
    },
    {
     "name": "stdout",
     "output_type": "stream",
     "text": [
      "File 744250.csv could not be read due to being empty or invalid format. Skipping.\n",
      "File 5141TH.csv could not be read due to being empty or invalid format. Skipping.\n",
      "File 0577GW.csv could not be read due to being empty or invalid format. Skipping.\n",
      "File TL98_012.csv could not be read due to being empty or invalid format. Skipping.\n",
      "File 377323.csv could not be read due to being empty or invalid format. Skipping.\n",
      "File TG32_710.csv could not be read due to being empty or invalid format. Skipping.\n",
      "File 316905.csv could not be read due to being empty or invalid format. Skipping.\n",
      "File 83534.csv could not be read due to being empty or invalid format. Skipping.\n",
      "File NY00_377B.csv could not be read due to being empty or invalid format. Skipping.\n",
      "File SU99_59.csv could not be read due to being empty or invalid format. Skipping.\n"
     ]
    },
    {
     "name": "stderr",
     "output_type": "stream",
     "text": [
      "\n",
      "\n",
      "\n",
      "\u001b[A\u001b[A\u001b[A"
     ]
    },
    {
     "name": "stdout",
     "output_type": "stream",
     "text": [
      "File 2169.csv could not be read due to being empty or invalid format. Skipping.\n",
      "File 145329.csv could not be read due to being empty or invalid format. Skipping.\n",
      "File 256306.csv could not be read due to being empty or invalid format. Skipping.\n",
      "File SU29_17.csv could not be read due to being empty or invalid format. Skipping.\n",
      "File 1418011000.csv could not be read due to being empty or invalid format. Skipping.\n",
      "File 730506.csv could not be read due to being empty or invalid format. Skipping.\n"
     ]
    },
    {
     "name": "stderr",
     "output_type": "stream",
     "text": [
      "\n",
      "\n",
      "\n",
      "\u001b[A\u001b[A\u001b[A"
     ]
    },
    {
     "name": "stdout",
     "output_type": "stream",
     "text": [
      "File 644302001.csv could not be read due to being empty or invalid format. Skipping.\n",
      "File SJ56_45E.csv could not be read due to being empty or invalid format. Skipping.\n",
      "File 1918GW.csv could not be read due to being empty or invalid format. Skipping.\n",
      "File 24006.csv could not be read due to being empty or invalid format. Skipping.\n",
      "File 24012.csv could not be read due to being empty or invalid format. Skipping.\n",
      "File L30081.csv could not be read due to being empty or invalid format. Skipping.\n",
      "File 2715TH.csv could not be read due to being empty or invalid format. Skipping.\n",
      "File SE55UPP1SS.csv could not be read due to being empty or invalid format. Skipping.\n"
     ]
    },
    {
     "name": "stderr",
     "output_type": "stream",
     "text": [
      "\n",
      "\n",
      "\n",
      "\u001b[A\u001b[A\u001b[A\n",
      "\n",
      "\n",
      "\u001b[A\u001b[A\u001b[A"
     ]
    },
    {
     "name": "stdout",
     "output_type": "stream",
     "text": [
      "File 90194470.csv could not be read due to being empty or invalid format. Skipping.\n",
      "File SX98G515.csv could not be read due to being empty or invalid format. Skipping.\n",
      "File SU58_88B.csv could not be read due to being empty or invalid format. Skipping.\n",
      "File SE37RTE0RD.csv could not be read due to being empty or invalid format. Skipping.\n",
      "File 90180405.csv could not be read due to being empty or invalid format. Skipping.\n",
      "File 730512.csv could not be read due to being empty or invalid format. Skipping.\n",
      "File SE47SF00SS.csv could not be read due to being empty or invalid format. Skipping.\n",
      "File L3111.csv could not be read due to being empty or invalid format. Skipping.\n"
     ]
    },
    {
     "name": "stderr",
     "output_type": "stream",
     "text": [
      "\n",
      "\n",
      "\n",
      "\u001b[A\u001b[A\u001b[A"
     ]
    },
    {
     "name": "stdout",
     "output_type": "stream",
     "text": [
      "File TA07OCG0CC.csv could not be read due to being empty or invalid format. Skipping.\n",
      "File TL63_451.csv could not be read due to being empty or invalid format. Skipping.\n",
      "File 453650002.csv could not be read due to being empty or invalid format. Skipping.\n",
      "File SU48_67B.csv could not be read due to being empty or invalid format. Skipping.\n",
      "File SD54_20A.csv could not be read due to being empty or invalid format. Skipping.\n",
      "File 142201661.csv could not be read due to being empty or invalid format. Skipping.\n",
      "File 23027.csv could not be read due to being empty or invalid format. Skipping.\n"
     ]
    },
    {
     "name": "stderr",
     "output_type": "stream",
     "text": [
      "\n",
      "\n",
      "\n",
      "\u001b[A\u001b[A\u001b[A"
     ]
    },
    {
     "name": "stdout",
     "output_type": "stream",
     "text": [
      "File SP11_25.csv could not be read due to being empty or invalid format. Skipping.\n",
      "File 692825.csv could not be read due to being empty or invalid format. Skipping.\n",
      "File 442921.csv could not be read due to being empty or invalid format. Skipping.\n",
      "File 2210GW.csv could not be read due to being empty or invalid format. Skipping.\n",
      "File SE39GH00SS.csv could not be read due to being empty or invalid format. Skipping.\n",
      "File SU27_119.csv could not be read due to being empty or invalid format. Skipping.\n",
      "File 142502912.csv could not be read due to being empty or invalid format. Skipping.\n",
      "File SJ49_56.csv could not be read due to being empty or invalid format. Skipping.\n",
      "File 644422001.csv could not be read due to being empty or invalid format. Skipping.\n",
      "File TG02_804.csv could not be read due to being empty or invalid format. Skipping.\n",
      "File NY54_54.csv could not be read due to being empty or invalid format. Skipping.\n",
      "File TQ48_72E.csv could not be read due to being empty or invalid format. Skipping.\n"
     ]
    },
    {
     "name": "stderr",
     "output_type": "stream",
     "text": [
      "\n",
      "\n",
      "\n",
      "\u001b[A\u001b[A\u001b[A\n",
      "\n",
      "\n",
      "\u001b[A\u001b[A\u001b[A"
     ]
    },
    {
     "name": "stdout",
     "output_type": "stream",
     "text": [
      "File 713532.csv could not be read due to being empty or invalid format. Skipping.\n",
      "File 2803TH.csv could not be read due to being empty or invalid format. Skipping.\n",
      "File SE78SNT0CO.csv could not be read due to being empty or invalid format. Skipping.\n",
      "File 556232001.csv could not be read due to being empty or invalid format. Skipping.\n",
      "File SE46KMP2RD.csv could not be read due to being empty or invalid format. Skipping.\n",
      "File 644046002.csv could not be read due to being empty or invalid format. Skipping.\n",
      "File SE44MLDLML.csv could not be read due to being empty or invalid format. Skipping.\n"
     ]
    },
    {
     "name": "stderr",
     "output_type": "stream",
     "text": [
      "\n",
      "\n",
      "\n",
      "\u001b[A\u001b[A\u001b[A"
     ]
    },
    {
     "name": "stdout",
     "output_type": "stream",
     "text": [
      "File TF62_037.csv could not be read due to being empty or invalid format. Skipping.\n",
      "File 146967.csv could not be read due to being empty or invalid format. Skipping.\n",
      "File L0550.csv could not be read due to being empty or invalid format. Skipping.\n",
      "File 90189227.csv could not be read due to being empty or invalid format. Skipping.\n",
      "File 90114304.csv could not be read due to being empty or invalid format. Skipping.\n",
      "File 556510004.csv could not be read due to being empty or invalid format. Skipping.\n",
      "File 2111GW.csv could not be read due to being empty or invalid format. Skipping.\n",
      "File 570788.csv could not be read due to being empty or invalid format. Skipping.\n",
      "File SE78WTP0CO.csv could not be read due to being empty or invalid format. Skipping.\n",
      "File 566710501.csv could not be read due to being empty or invalid format. Skipping.\n",
      "File 344138.csv could not be read due to being empty or invalid format. Skipping.\n"
     ]
    },
    {
     "name": "stderr",
     "output_type": "stream",
     "text": [
      "\n",
      "\n",
      "\n",
      "\u001b[A\u001b[A\u001b[A"
     ]
    },
    {
     "name": "stdout",
     "output_type": "stream",
     "text": [
      "File 644404005.csv could not be read due to being empty or invalid format. Skipping.\n",
      "File 2_630.csv could not be read due to being empty or invalid format. Skipping.\n",
      "File L2409.csv could not be read due to being empty or invalid format. Skipping.\n"
     ]
    },
    {
     "name": "stderr",
     "output_type": "stream",
     "text": [
      "\n",
      "\n",
      "\n",
      "\u001b[A\u001b[A\u001b[A"
     ]
    },
    {
     "name": "stdout",
     "output_type": "stream",
     "text": [
      "File SX98F025.csv could not be read due to being empty or invalid format. Skipping.\n",
      "File SU36_108.csv could not be read due to being empty or invalid format. Skipping.\n",
      "File 712412.csv could not be read due to being empty or invalid format. Skipping.\n",
      "File 2551.csv could not be read due to being empty or invalid format. Skipping.\n",
      "File 744132.csv could not be read due to being empty or invalid format. Skipping.\n",
      "File SJ97_140.csv could not be read due to being empty or invalid format. Skipping.\n",
      "File SU47_140.csv could not be read due to being empty or invalid format. Skipping.\n",
      "File TL51_3.csv could not be read due to being empty or invalid format. Skipping.\n",
      "File 4652.csv could not be read due to being empty or invalid format. Skipping.\n"
     ]
    },
    {
     "name": "stderr",
     "output_type": "stream",
     "text": [
      "\n",
      "\n",
      "\n",
      "\u001b[A\u001b[A\u001b[A\n",
      "\n",
      "\n",
      "\u001b[A\u001b[A\u001b[A"
     ]
    },
    {
     "name": "stdout",
     "output_type": "stream",
     "text": [
      "File TF70_126.csv could not be read due to being empty or invalid format. Skipping.\n",
      "File TL44_287.csv could not be read due to being empty or invalid format. Skipping.\n",
      "File 2223.csv could not be read due to being empty or invalid format. Skipping.\n",
      "File 2545.csv could not be read due to being empty or invalid format. Skipping.\n",
      "File TQ04_74.csv could not be read due to being empty or invalid format. Skipping.\n",
      "File 3_806.csv could not be read due to being empty or invalid format. Skipping.\n",
      "File SU57_154.csv could not be read due to being empty or invalid format. Skipping.\n",
      "File NTG3261P3.csv could not be read due to being empty or invalid format. Skipping.\n",
      "File TA08SMC0CO.csv could not be read due to being empty or invalid format. Skipping.\n",
      "File 3219TH.csv could not be read due to being empty or invalid format. Skipping.\n",
      "File 1412GW.csv could not be read due to being empty or invalid format. Skipping.\n",
      "File 453300005.csv could not be read due to being empty or invalid format. Skipping.\n",
      "File SJ46_094.csv could not be read due to being empty or invalid format. Skipping.\n"
     ]
    },
    {
     "name": "stderr",
     "output_type": "stream",
     "text": [
      "\n",
      "\n",
      "\n",
      "\u001b[A\u001b[A\u001b[A"
     ]
    },
    {
     "name": "stdout",
     "output_type": "stream",
     "text": [
      "File 0412GW.csv could not be read due to being empty or invalid format. Skipping.\n",
      "File TL65_004.csv could not be read due to being empty or invalid format. Skipping.\n",
      "File 520430.csv could not be read due to being empty or invalid format. Skipping.\n",
      "File TQ26_143A.csv could not be read due to being empty or invalid format. Skipping.\n",
      "File 0457GW.csv could not be read due to being empty or invalid format. Skipping.\n",
      "File L2810.csv could not be read due to being empty or invalid format. Skipping.\n"
     ]
    },
    {
     "name": "stderr",
     "output_type": "stream",
     "text": [
      "\n",
      "\n",
      "\n",
      "\u001b[A\u001b[A\u001b[A"
     ]
    },
    {
     "name": "stdout",
     "output_type": "stream",
     "text": [
      "File SJ45_143.csv could not be read due to being empty or invalid format. Skipping.\n",
      "File 530151.csv could not be read due to being empty or invalid format. Skipping.\n",
      "File TQ25_86.csv could not be read due to being empty or invalid format. Skipping.\n",
      "File 104003.csv could not be read due to being empty or invalid format. Skipping.\n",
      "File 245176TP.csv could not be read due to being empty or invalid format. Skipping.\n",
      "File TG03_934A.csv could not be read due to being empty or invalid format. Skipping.\n",
      "File 4685.csv could not be read due to being empty or invalid format. Skipping.\n",
      "File 556400001.csv could not be read due to being empty or invalid format. Skipping.\n"
     ]
    },
    {
     "name": "stderr",
     "output_type": "stream",
     "text": [
      "\n",
      "\n",
      "\n",
      "\u001b[A\u001b[A\u001b[A"
     ]
    },
    {
     "name": "stdout",
     "output_type": "stream",
     "text": [
      "File 4691.csv could not be read due to being empty or invalid format. Skipping.\n",
      "File 556500001.csv could not be read due to being empty or invalid format. Skipping.\n",
      "File 3635TH.csv could not be read due to being empty or invalid format. Skipping.\n",
      "File SE55STS1SS.csv could not be read due to being empty or invalid format. Skipping.\n"
     ]
    },
    {
     "name": "stderr",
     "output_type": "stream",
     "text": [
      "\n",
      "\n",
      "\n",
      "\u001b[A\u001b[A\u001b[A"
     ]
    },
    {
     "name": "stdout",
     "output_type": "stream",
     "text": [
      "File L11311.csv could not be read due to being empty or invalid format. Skipping.\n",
      "File 1713GW.csv could not be read due to being empty or invalid format. Skipping.\n",
      "File SO90_67.csv could not be read due to being empty or invalid format. Skipping.\n",
      "File 642224002.csv could not be read due to being empty or invalid format. Skipping.\n",
      "File 444175.csv could not be read due to being empty or invalid format. Skipping.\n",
      "File 750806.csv could not be read due to being empty or invalid format. Skipping.\n",
      "File 301666.csv could not be read due to being empty or invalid format. Skipping.\n"
     ]
    },
    {
     "name": "stderr",
     "output_type": "stream",
     "text": [
      "\n",
      "\n",
      "\n",
      "\u001b[A\u001b[A\u001b[A"
     ]
    },
    {
     "name": "stdout",
     "output_type": "stream",
     "text": [
      "File 1756GW.csv could not be read due to being empty or invalid format. Skipping.\n",
      "File TL31_172.csv could not be read due to being empty or invalid format. Skipping.\n",
      "File L17012.csv could not be read due to being empty or invalid format. Skipping.\n",
      "File 23-5-74.csv could not be read due to being empty or invalid format. Skipping.\n",
      "File SU74_9.csv could not be read due to being empty or invalid format. Skipping.\n",
      "File 3_621.csv could not be read due to being empty or invalid format. Skipping.\n",
      "File TQ27_285A.csv could not be read due to being empty or invalid format. Skipping.\n",
      "File 77066.csv could not be read due to being empty or invalid format. Skipping.\n"
     ]
    },
    {
     "name": "stderr",
     "output_type": "stream",
     "text": [
      "\n",
      "\n",
      "\n",
      "\u001b[A\u001b[A\u001b[A"
     ]
    },
    {
     "name": "stdout",
     "output_type": "stream",
     "text": [
      "File TL76_110.csv could not be read due to being empty or invalid format. Skipping.\n",
      "File 4863.csv could not be read due to being empty or invalid format. Skipping.\n",
      "File L3503.csv could not be read due to being empty or invalid format. Skipping.\n",
      "File L13512.csv could not be read due to being empty or invalid format. Skipping.\n",
      "File 3_637.csv could not be read due to being empty or invalid format. Skipping.\n",
      "File 141001943.csv could not be read due to being empty or invalid format. Skipping.\n"
     ]
    },
    {
     "name": "stderr",
     "output_type": "stream",
     "text": [
      "\n",
      "\n",
      "\n",
      "\u001b[A\u001b[A\u001b[A"
     ]
    },
    {
     "name": "stdout",
     "output_type": "stream",
     "text": [
      "File 644621015.csv could not be read due to being empty or invalid format. Skipping.\n",
      "File L33818.csv could not be read due to being empty or invalid format. Skipping.\n",
      "File 644621001.csv could not be read due to being empty or invalid format. Skipping.\n",
      "File SE86LMT0CC.csv could not be read due to being empty or invalid format. Skipping.\n",
      "File 4687.csv could not be read due to being empty or invalid format. Skipping.\n",
      "File 1199GW.csv could not be read due to being empty or invalid format. Skipping.\n",
      "File SE94DEW0CC.csv could not be read due to being empty or invalid format. Skipping.\n",
      "File SD31_45.csv could not be read due to being empty or invalid format. Skipping.\n"
     ]
    },
    {
     "name": "stderr",
     "output_type": "stream",
     "text": [
      "\n",
      "\n",
      "\n",
      "\u001b[A\u001b[A\u001b[A\n",
      "\n",
      "\n",
      "\u001b[A\u001b[A\u001b[A"
     ]
    },
    {
     "name": "stdout",
     "output_type": "stream",
     "text": [
      "File 135237.csv could not be read due to being empty or invalid format. Skipping.\n",
      "File 556400003.csv could not be read due to being empty or invalid format. Skipping.\n",
      "File 142205983.csv could not be read due to being empty or invalid format. Skipping.\n",
      "File 241961TP.csv could not be read due to being empty or invalid format. Skipping.\n",
      "File 730100.csv could not be read due to being empty or invalid format. Skipping.\n",
      "File 560943.csv could not be read due to being empty or invalid format. Skipping.\n",
      "File SU38_76A.csv could not be read due to being empty or invalid format. Skipping.\n",
      "File 4693.csv could not be read due to being empty or invalid format. Skipping.\n",
      "File 138061.csv could not be read due to being empty or invalid format. Skipping.\n",
      "File 2209.csv could not be read due to being empty or invalid format. Skipping.\n",
      "File 40401104.csv could not be read due to being empty or invalid format. Skipping.\n",
      "File 4678.csv could not be read due to being empty or invalid format. Skipping.\n",
      "File SJ46_096.csv could not be read due to being empty or invalid format. Skipping.\n"
     ]
    },
    {
     "name": "stderr",
     "output_type": "stream",
     "text": [
      "\n",
      "\n",
      "\n",
      "\u001b[A\u001b[A\u001b[A"
     ]
    },
    {
     "name": "stdout",
     "output_type": "stream",
     "text": [
      "File SJ45_155.csv could not be read due to being empty or invalid format. Skipping.\n",
      "File 530147.csv could not be read due to being empty or invalid format. Skipping.\n",
      "File 254290002.csv could not be read due to being empty or invalid format. Skipping.\n",
      "File L2806.csv could not be read due to being empty or invalid format. Skipping.\n"
     ]
    },
    {
     "name": "stderr",
     "output_type": "stream",
     "text": [
      "\n",
      "\n",
      "\n",
      "\u001b[A\u001b[A\u001b[A"
     ]
    },
    {
     "name": "stdout",
     "output_type": "stream",
     "text": [
      "File 451211001.csv could not be read due to being empty or invalid format. Skipping.\n",
      "File 5_114.csv could not be read due to being empty or invalid format. Skipping.\n",
      "File SJ58_162.csv could not be read due to being empty or invalid format. Skipping.\n",
      "File SX76F045.csv could not be read due to being empty or invalid format. Skipping.\n",
      "File F3004.csv could not be read due to being empty or invalid format. Skipping.\n"
     ]
    },
    {
     "name": "stderr",
     "output_type": "stream",
     "text": [
      "\n",
      "\n",
      "\n",
      "\u001b[A\u001b[A\u001b[A"
     ]
    },
    {
     "name": "stdout",
     "output_type": "stream",
     "text": [
      "File 713040.csv could not be read due to being empty or invalid format. Skipping.\n",
      "File TM45_383.csv could not be read due to being empty or invalid format. Skipping.\n",
      "File 744118.csv could not be read due to being empty or invalid format. Skipping.\n",
      "File SU09_6B.csv could not be read due to being empty or invalid format. Skipping.\n",
      "File TL65_006.csv could not be read due to being empty or invalid format. Skipping.\n"
     ]
    },
    {
     "name": "stderr",
     "output_type": "stream",
     "text": [
      "\n",
      "\n",
      "\n",
      "\u001b[A\u001b[A\u001b[A"
     ]
    },
    {
     "name": "stdout",
     "output_type": "stream",
     "text": [
      "File TA14HS00CC.csv could not be read due to being empty or invalid format. Skipping.\n",
      "File 744130.csv could not be read due to being empty or invalid format. Skipping.\n",
      "File 207598.csv could not be read due to being empty or invalid format. Skipping.\n",
      "File TF70_130.csv could not be read due to being empty or invalid format. Skipping.\n",
      "File 5000MI.csv could not be read due to being empty or invalid format. Skipping.\n",
      "File 4122.csv could not be read due to being empty or invalid format. Skipping.\n"
     ]
    },
    {
     "name": "stderr",
     "output_type": "stream",
     "text": [
      "\n",
      "\n",
      "\n",
      "\u001b[A\u001b[A\u001b[A"
     ]
    },
    {
     "name": "stdout",
     "output_type": "stream",
     "text": [
      "File 752020.csv could not be read due to being empty or invalid format. Skipping.\n",
      "File 153900001.csv could not be read due to being empty or invalid format. Skipping.\n",
      "File 2553.csv could not be read due to being empty or invalid format. Skipping.\n",
      "File 0164GW.csv could not be read due to being empty or invalid format. Skipping.\n",
      "File 2547.csv could not be read due to being empty or invalid format. Skipping.\n",
      "File SU73_9D.csv could not be read due to being empty or invalid format. Skipping.\n",
      "File 4650.csv could not be read due to being empty or invalid format. Skipping.\n",
      "File 2221.csv could not be read due to being empty or invalid format. Skipping.\n",
      "File 416802.csv could not be read due to being empty or invalid format. Skipping.\n",
      "File L0208.csv could not be read due to being empty or invalid format. Skipping.\n",
      "File TQ35_42.csv could not be read due to being empty or invalid format. Skipping.\n",
      "File TQ19_27.csv could not be read due to being empty or invalid format. Skipping.\n"
     ]
    },
    {
     "name": "stderr",
     "output_type": "stream",
     "text": [
      "\n",
      "\n",
      "\n",
      "\u001b[A\u001b[A\u001b[A"
     ]
    },
    {
     "name": "stdout",
     "output_type": "stream",
     "text": [
      "File SD26_7C.csv could not be read due to being empty or invalid format. Skipping.\n",
      "File 1754GW.csv could not be read due to being empty or invalid format. Skipping.\n",
      "File SE68SI00CO.csv could not be read due to being empty or invalid format. Skipping.\n",
      "File TL67_117.csv could not be read due to being empty or invalid format. Skipping.\n",
      "File TL52_940.csv could not be read due to being empty or invalid format. Skipping.\n"
     ]
    },
    {
     "name": "stderr",
     "output_type": "stream",
     "text": [
      "\n",
      "\n",
      "\n",
      "\u001b[A\u001b[A\u001b[A"
     ]
    },
    {
     "name": "stdout",
     "output_type": "stream",
     "text": [
      "File SU79_18.csv could not be read due to being empty or invalid format. Skipping.\n",
      "File 0079GW.csv could not be read due to being empty or invalid format. Skipping.\n",
      "File 5362TH.csv could not be read due to being empty or invalid format. Skipping.\n",
      "File 556510006.csv could not be read due to being empty or invalid format. Skipping.\n"
     ]
    },
    {
     "name": "stderr",
     "output_type": "stream",
     "text": [
      "\n",
      "\n",
      "\n",
      "\u001b[A\u001b[A\u001b[A"
     ]
    },
    {
     "name": "stdout",
     "output_type": "stream",
     "text": [
      "File 369094.csv could not be read due to being empty or invalid format. Skipping.\n",
      "File TF62_035.csv could not be read due to being empty or invalid format. Skipping.\n",
      "File 5327TH.csv could not be read due to being empty or invalid format. Skipping.\n",
      "File 341503010.csv could not be read due to being empty or invalid format. Skipping.\n",
      "File L2351.csv could not be read due to being empty or invalid format. Skipping.\n",
      "File 292554.csv could not be read due to being empty or invalid format. Skipping.\n",
      "File SP00_62.csv could not be read due to being empty or invalid format. Skipping.\n",
      "File SU38_78.csv could not be read due to being empty or invalid format. Skipping.\n",
      "File SE55STS3SS.csv could not be read due to being empty or invalid format. Skipping.\n",
      "File SE45WL00SS.csv could not be read due to being empty or invalid format. Skipping.\n",
      "File 642312001.csv could not be read due to being empty or invalid format. Skipping.\n",
      "File 137805.csv could not be read due to being empty or invalid format. Skipping.\n"
     ]
    },
    {
     "name": "stderr",
     "output_type": "stream",
     "text": [
      "\n",
      "\n",
      "\n",
      "\u001b[A\u001b[A\u001b[A"
     ]
    },
    {
     "name": "stdout",
     "output_type": "stream",
     "text": [
      "File 90764337.csv could not be read due to being empty or invalid format. Skipping.\n",
      "File TL79_020.csv could not be read due to being empty or invalid format. Skipping.\n",
      "File 644422003.csv could not be read due to being empty or invalid format. Skipping.\n",
      "File NY54_56.csv could not be read due to being empty or invalid format. Skipping.\n",
      "File 13045.csv could not be read due to being empty or invalid format. Skipping.\n",
      "File S75143_FW.csv could not be read due to being empty or invalid format. Skipping.\n"
     ]
    },
    {
     "name": "stderr",
     "output_type": "stream",
     "text": [
      "\n",
      "\n",
      "\n",
      "\u001b[A\u001b[A\u001b[A"
     ]
    },
    {
     "name": "stdout",
     "output_type": "stream",
     "text": [
      "File 520630.csv could not be read due to being empty or invalid format. Skipping.\n",
      "File 244351020.csv could not be read due to being empty or invalid format. Skipping.\n",
      "File 0410GW.csv could not be read due to being empty or invalid format. Skipping.\n",
      "File SE92EBD0JK.csv could not be read due to being empty or invalid format. Skipping.\n",
      "File 562417.csv could not be read due to being empty or invalid format. Skipping.\n",
      "File 110276.csv could not be read due to being empty or invalid format. Skipping.\n",
      "File TA07HHS0CC.csv could not be read due to being empty or invalid format. Skipping.\n"
     ]
    },
    {
     "name": "stderr",
     "output_type": "stream",
     "text": [
      "\n",
      "\n",
      "\n",
      "\u001b[A\u001b[A\u001b[A"
     ]
    },
    {
     "name": "stdout",
     "output_type": "stream",
     "text": [
      "File 257039TP.csv could not be read due to being empty or invalid format. Skipping.\n",
      "File 510917.csv could not be read due to being empty or invalid format. Skipping.\n",
      "File 433102.csv could not be read due to being empty or invalid format. Skipping.\n",
      "File 142801884.csv could not be read due to being empty or invalid format. Skipping.\n",
      "File 342812007.csv could not be read due to being empty or invalid format. Skipping.\n",
      "File 8015GW.csv could not be read due to being empty or invalid format. Skipping.\n"
     ]
    },
    {
     "name": "stderr",
     "output_type": "stream",
     "text": [
      "\n",
      "\n",
      "\n",
      "\u001b[A\u001b[A\u001b[A"
     ]
    },
    {
     "name": "stdout",
     "output_type": "stream",
     "text": [
      "File 90170131.csv could not be read due to being empty or invalid format. Skipping.\n",
      "File 151901002.csv could not be read due to being empty or invalid format. Skipping.\n",
      "File 530172_FW.csv could not be read due to being empty or invalid format. Skipping.\n",
      "File SE29WW00SS.csv could not be read due to being empty or invalid format. Skipping.\n",
      "File 142204684.csv could not be read due to being empty or invalid format. Skipping.\n",
      "File 644733001.csv could not be read due to being empty or invalid format. Skipping.\n",
      "File 1433061018.csv could not be read due to being empty or invalid format. Skipping.\n",
      "File ST99_98.csv could not be read due to being empty or invalid format. Skipping.\n",
      "File 520779_FW.csv could not be read due to being empty or invalid format. Skipping.\n",
      "File 900.csv could not be read due to being empty or invalid format. Skipping.\n"
     ]
    },
    {
     "name": "stderr",
     "output_type": "stream",
     "text": [
      "\n",
      "\n",
      "\n",
      "\u001b[A\u001b[A\u001b[A"
     ]
    },
    {
     "name": "stdout",
     "output_type": "stream",
     "text": [
      "File 23025.csv could not be read due to being empty or invalid format. Skipping.\n",
      "File L1704.csv could not be read due to being empty or invalid format. Skipping.\n",
      "File 375293.csv could not be read due to being empty or invalid format. Skipping.\n",
      "File TL67_077.csv could not be read due to being empty or invalid format. Skipping.\n",
      "File TQ09_128.csv could not be read due to being empty or invalid format. Skipping.\n",
      "File 8028GW.csv could not be read due to being empty or invalid format. Skipping.\n"
     ]
    },
    {
     "name": "stderr",
     "output_type": "stream",
     "text": [
      "\n",
      "\n",
      "\n",
      "\u001b[A\u001b[A\u001b[A"
     ]
    },
    {
     "name": "stdout",
     "output_type": "stream",
     "text": [
      "File 5566GW.csv could not be read due to being empty or invalid format. Skipping.\n",
      "File 141809181.csv could not be read due to being empty or invalid format. Skipping.\n",
      "File 0913TH.csv could not be read due to being empty or invalid format. Skipping.\n",
      "File 254330101.csv could not be read due to being empty or invalid format. Skipping.\n",
      "File SU68_49.csv could not be read due to being empty or invalid format. Skipping.\n"
     ]
    },
    {
     "name": "stderr",
     "output_type": "stream",
     "text": [
      "\n",
      "\n",
      "\n",
      "\u001b[A\u001b[A\u001b[A"
     ]
    },
    {
     "name": "stdout",
     "output_type": "stream",
     "text": [
      "File 5523GW.csv could not be read due to being empty or invalid format. Skipping.\n",
      "File SU27_38.csv could not be read due to being empty or invalid format. Skipping.\n",
      "File NTG1212P5.csv could not be read due to being empty or invalid format. Skipping.\n",
      "File 356476.csv could not be read due to being empty or invalid format. Skipping.\n",
      "File SE62WRF2RD.csv could not be read due to being empty or invalid format. Skipping.\n",
      "File SP80_64.csv could not be read due to being empty or invalid format. Skipping.\n",
      "File 2180.csv could not be read due to being empty or invalid format. Skipping.\n",
      "File 24010.csv could not be read due to being empty or invalid format. Skipping.\n",
      "File L2225.csv could not be read due to being empty or invalid format. Skipping.\n",
      "File 341501001.csv could not be read due to being empty or invalid format. Skipping.\n"
     ]
    },
    {
     "name": "stderr",
     "output_type": "stream",
     "text": [
      "\n",
      "\n",
      "\n",
      "\u001b[A\u001b[A\u001b[A"
     ]
    },
    {
     "name": "stdout",
     "output_type": "stream",
     "text": [
      "File 142206865.csv could not be read due to being empty or invalid format. Skipping.\n",
      "File TL88_004.csv could not be read due to being empty or invalid format. Skipping.\n",
      "File 2619.csv could not be read due to being empty or invalid format. Skipping.\n",
      "File 40101091.csv could not be read due to being empty or invalid format. Skipping.\n",
      "File 3033GW.csv could not be read due to being empty or invalid format. Skipping.\n",
      "File TG22_060.csv could not be read due to being empty or invalid format. Skipping.\n",
      "File 1769GW.csv could not be read due to being empty or invalid format. Skipping.\n"
     ]
    },
    {
     "name": "stderr",
     "output_type": "stream",
     "text": [
      "\n",
      "\n",
      "\n",
      "\u001b[A\u001b[A\u001b[A"
     ]
    },
    {
     "name": "stdout",
     "output_type": "stream",
     "text": [
      "File 530225.csv could not be read due to being empty or invalid format. Skipping.\n",
      "File TL98_004.csv could not be read due to being empty or invalid format. Skipping.\n",
      "File S16539_FW.csv could not be read due to being empty or invalid format. Skipping.\n",
      "File 142201878.csv could not be read due to being empty or invalid format. Skipping.\n",
      "File 141801244.csv could not be read due to being empty or invalid format. Skipping.\n"
     ]
    },
    {
     "name": "stderr",
     "output_type": "stream",
     "text": [
      "\n",
      "\n",
      "\n",
      "\u001b[A\u001b[A\u001b[A"
     ]
    },
    {
     "name": "stdout",
     "output_type": "stream",
     "text": [
      "File SD44_21.csv could not be read due to being empty or invalid format. Skipping.\n",
      "File TL88_010.csv could not be read due to being empty or invalid format. Skipping.\n",
      "File TF72_828.csv could not be read due to being empty or invalid format. Skipping.\n",
      "File 2625.csv could not be read due to being empty or invalid format. Skipping.\n",
      "File 0001GW.csv could not be read due to being empty or invalid format. Skipping.\n",
      "File G432410.csv could not be read due to being empty or invalid format. Skipping.\n",
      "File 601068.csv could not be read due to being empty or invalid format. Skipping.\n",
      "File 700404.csv could not be read due to being empty or invalid format. Skipping.\n",
      "File 0495GW.csv could not be read due to being empty or invalid format. Skipping.\n",
      "File 654801001.csv could not be read due to being empty or invalid format. Skipping.\n"
     ]
    },
    {
     "name": "stderr",
     "output_type": "stream",
     "text": [
      "\n",
      "\n",
      "\n",
      "\u001b[A\u001b[A\u001b[A"
     ]
    },
    {
     "name": "stdout",
     "output_type": "stream",
     "text": [
      "File 1044GW.csv could not be read due to being empty or invalid format. Skipping.\n",
      "File 141806503.csv could not be read due to being empty or invalid format. Skipping.\n",
      "File 21A13.csv could not be read due to being empty or invalid format. Skipping.\n",
      "File SU99_67.csv could not be read due to being empty or invalid format. Skipping.\n",
      "File 1842GW.csv could not be read due to being empty or invalid format. Skipping.\n",
      "File SD44_35.csv could not be read due to being empty or invalid format. Skipping.\n",
      "File 592860.csv could not be read due to being empty or invalid format. Skipping.\n",
      "File L3311.csv could not be read due to being empty or invalid format. Skipping.\n"
     ]
    },
    {
     "name": "stderr",
     "output_type": "stream",
     "text": [
      "\n",
      "\n",
      "\n",
      "\u001b[A\u001b[A\u001b[A"
     ]
    },
    {
     "name": "stdout",
     "output_type": "stream",
     "text": [
      "File 763404.csv could not be read due to being empty or invalid format. Skipping.\n",
      "File L1506.csv could not be read due to being empty or invalid format. Skipping.\n",
      "File SP90_49.csv could not be read due to being empty or invalid format. Skipping.\n",
      "File SE77BTS0CO.csv could not be read due to being empty or invalid format. Skipping.\n",
      "File 2_550.csv could not be read due to being empty or invalid format. Skipping.\n",
      "File SE43CHF0ML.csv could not be read due to being empty or invalid format. Skipping.\n",
      "File 542314.csv could not be read due to being empty or invalid format. Skipping.\n"
     ]
    },
    {
     "name": "stderr",
     "output_type": "stream",
     "text": [
      "\n",
      "\n",
      "\n",
      "\u001b[A\u001b[A\u001b[A"
     ]
    },
    {
     "name": "stdout",
     "output_type": "stream",
     "text": [
      "File SE93LTW0CC.csv could not be read due to being empty or invalid format. Skipping.\n",
      "File 642326005.csv could not be read due to being empty or invalid format. Skipping.\n",
      "File TQ28_181.csv could not be read due to being empty or invalid format. Skipping.\n",
      "File NTG2166PA.csv could not be read due to being empty or invalid format. Skipping.\n",
      "File 2_544.csv could not be read due to being empty or invalid format. Skipping.\n",
      "File SU65_21.csv could not be read due to being empty or invalid format. Skipping.\n",
      "File 153788.csv could not be read due to being empty or invalid format. Skipping.\n",
      "File 3_031.csv could not be read due to being empty or invalid format. Skipping.\n"
     ]
    },
    {
     "name": "stderr",
     "output_type": "stream",
     "text": [
      "\n",
      "\n",
      "\n",
      "\u001b[A\u001b[A\u001b[A"
     ]
    },
    {
     "name": "stdout",
     "output_type": "stream",
     "text": [
      "File SD20_14.csv could not be read due to being empty or invalid format. Skipping.\n",
      "File TM26_169A.csv could not be read due to being empty or invalid format. Skipping.\n",
      "File 414608.csv could not be read due to being empty or invalid format. Skipping.\n",
      "File SJ89_101.csv could not be read due to being empty or invalid format. Skipping.\n",
      "File 555211003.csv could not be read due to being empty or invalid format. Skipping.\n",
      "File SE55UPP3SS.csv could not be read due to being empty or invalid format. Skipping.\n"
     ]
    },
    {
     "name": "stderr",
     "output_type": "stream",
     "text": [
      "\n",
      "\n",
      "\n",
      "\u001b[A\u001b[A\u001b[A"
     ]
    },
    {
     "name": "stdout",
     "output_type": "stream",
     "text": [
      "File SJ46_109.csv could not be read due to being empty or invalid format. Skipping.\n",
      "File 521196_FW.csv could not be read due to being empty or invalid format. Skipping.\n",
      "File 0159GW.csv could not be read due to being empty or invalid format. Skipping.\n",
      "File 300426.csv could not be read due to being empty or invalid format. Skipping.\n"
     ]
    },
    {
     "name": "stderr",
     "output_type": "stream",
     "text": [
      "\n",
      "\n",
      "\n",
      "\u001b[A\u001b[A\u001b[A"
     ]
    },
    {
     "name": "stdout",
     "output_type": "stream",
     "text": [
      "File 0588GW.csv could not be read due to being empty or invalid format. Skipping.\n",
      "File 254310004.csv could not be read due to being empty or invalid format. Skipping.\n",
      "File 644602009.csv could not be read due to being empty or invalid format. Skipping.\n",
      "File L0803.csv could not be read due to being empty or invalid format. Skipping.\n",
      "File 288092TP.csv could not be read due to being empty or invalid format. Skipping.\n"
     ]
    },
    {
     "name": "stderr",
     "output_type": "stream",
     "text": [
      "\n",
      "\n",
      "\n",
      "\u001b[A\u001b[A\u001b[A"
     ]
    },
    {
     "name": "stdout",
     "output_type": "stream",
     "text": [
      "File TL89_015.csv could not be read due to being empty or invalid format. Skipping.\n",
      "File TA13CAS0CC.csv could not be read due to being empty or invalid format. Skipping.\n",
      "File 243679RG.csv could not be read due to being empty or invalid format. Skipping.\n",
      "File 690201.csv could not be read due to being empty or invalid format. Skipping.\n",
      "File 530160_FW.csv could not be read due to being empty or invalid format. Skipping.\n",
      "File L29061.csv could not be read due to being empty or invalid format. Skipping.\n",
      "File 132389.csv could not be read due to being empty or invalid format. Skipping.\n"
     ]
    },
    {
     "name": "stderr",
     "output_type": "stream",
     "text": [
      "\n",
      "\n",
      "\n",
      "\u001b[A\u001b[A\u001b[A"
     ]
    },
    {
     "name": "stdout",
     "output_type": "stream",
     "text": [
      "File TQ49_16.csv could not be read due to being empty or invalid format. Skipping.\n",
      "File TF60_050.csv could not be read due to being empty or invalid format. Skipping.\n",
      "File TM23_7950.csv could not be read due to being empty or invalid format. Skipping.\n",
      "File 2416TH.csv could not be read due to being empty or invalid format. Skipping.\n",
      "File 91488350.csv could not be read due to being empty or invalid format. Skipping.\n"
     ]
    },
    {
     "name": "stderr",
     "output_type": "stream",
     "text": [
      "\n",
      "\n",
      "\n",
      "\u001b[A\u001b[A\u001b[A"
     ]
    },
    {
     "name": "stdout",
     "output_type": "stream",
     "text": [
      "File 21-0-140.csv could not be read due to being empty or invalid format. Skipping.\n",
      "File SU74_61A.csv could not be read due to being empty or invalid format. Skipping.\n",
      "File 710401.csv could not be read due to being empty or invalid format. Skipping.\n",
      "File 690215.csv could not be read due to being empty or invalid format. Skipping.\n",
      "File ST10F011.csv could not be read due to being empty or invalid format. Skipping.\n"
     ]
    },
    {
     "name": "stderr",
     "output_type": "stream",
     "text": [
      "\n",
      "\n",
      "\n",
      "\u001b[A\u001b[A\u001b[A"
     ]
    },
    {
     "name": "stdout",
     "output_type": "stream",
     "text": [
      "File 644650001.csv could not be read due to being empty or invalid format. Skipping.\n",
      "File 21-0-141.csv could not be read due to being empty or invalid format. Skipping.\n",
      "File 313498.csv could not be read due to being empty or invalid format. Skipping.\n",
      "File SU94_22A.csv could not be read due to being empty or invalid format. Skipping.\n",
      "File 100448.csv could not be read due to being empty or invalid format. Skipping.\n",
      "File 342640013.csv could not be read due to being empty or invalid format. Skipping.\n"
     ]
    },
    {
     "name": "stderr",
     "output_type": "stream",
     "text": [
      "\n",
      "\n",
      "\n",
      "\u001b[A\u001b[A\u001b[A"
     ]
    },
    {
     "name": "stdout",
     "output_type": "stream",
     "text": [
      "File 1025GW.csv could not be read due to being empty or invalid format. Skipping.\n",
      "File 690200.csv could not be read due to being empty or invalid format. Skipping.\n",
      "File 382381.csv could not be read due to being empty or invalid format. Skipping.\n",
      "File TF70_045.csv could not be read due to being empty or invalid format. Skipping.\n",
      "File 1823GW.csv could not be read due to being empty or invalid format. Skipping.\n",
      "File ST00F010.csv could not be read due to being empty or invalid format. Skipping.\n"
     ]
    },
    {
     "name": "stderr",
     "output_type": "stream",
     "text": [
      "\n",
      "\n",
      "\n",
      "\u001b[A\u001b[A\u001b[A"
     ]
    },
    {
     "name": "stdout",
     "output_type": "stream",
     "text": [
      "File 4087TH.csv could not be read due to being empty or invalid format. Skipping.\n",
      "File SD54_19.csv could not be read due to being empty or invalid format. Skipping.\n",
      "File NY52_22.csv could not be read due to being empty or invalid format. Skipping.\n",
      "File SD53_10.csv could not be read due to being empty or invalid format. Skipping.\n",
      "File S12559_FW.csv could not be read due to being empty or invalid format. Skipping.\n",
      "File 520553.csv could not be read due to being empty or invalid format. Skipping.\n",
      "File 244311001.csv could not be read due to being empty or invalid format. Skipping.\n"
     ]
    },
    {
     "name": "stderr",
     "output_type": "stream",
     "text": [
      "\n",
      "\n",
      "\n",
      "\u001b[A\u001b[A\u001b[A"
     ]
    },
    {
     "name": "stdout",
     "output_type": "stream",
     "text": [
      "File 451519001.csv could not be read due to being empty or invalid format. Skipping.\n",
      "File 441312001.csv could not be read due to being empty or invalid format. Skipping.\n",
      "File 556220002.csv could not be read due to being empty or invalid format. Skipping.\n",
      "File L0802.csv could not be read due to being empty or invalid format. Skipping.\n",
      "File 698106.csv could not be read due to being empty or invalid format. Skipping.\n",
      "File SU56_218.csv could not be read due to being empty or invalid format. Skipping.\n",
      "File SE45MHL0SS.csv could not be read due to being empty or invalid format. Skipping.\n"
     ]
    },
    {
     "name": "stderr",
     "output_type": "stream",
     "text": [
      "\n",
      "\n",
      "\n",
      "\u001b[A\u001b[A\u001b[A"
     ]
    },
    {
     "name": "stdout",
     "output_type": "stream",
     "text": [
      "File 443521002.csv could not be read due to being empty or invalid format. Skipping.\n",
      "File TA06BBD0RD.csv could not be read due to being empty or invalid format. Skipping.\n",
      "File 5542GW.csv could not be read due to being empty or invalid format. Skipping.\n",
      "File 25-3-73.csv could not be read due to being empty or invalid format. Skipping.\n",
      "File 90111109.csv could not be read due to being empty or invalid format. Skipping.\n",
      "File 4094.csv could not be read due to being empty or invalid format. Skipping.\n",
      "File 17A13.csv could not be read due to being empty or invalid format. Skipping.\n",
      "File NY00_416.csv could not be read due to being empty or invalid format. Skipping.\n",
      "File TF83_560.csv could not be read due to being empty or invalid format. Skipping.\n"
     ]
    },
    {
     "name": "stderr",
     "output_type": "stream",
     "text": [
      "\n",
      "\n",
      "\n",
      "\u001b[A\u001b[A\u001b[A"
     ]
    },
    {
     "name": "stdout",
     "output_type": "stream",
     "text": [
      "File 25-3-3.csv could not be read due to being empty or invalid format. Skipping.\n",
      "File TL44_469.csv could not be read due to being empty or invalid format. Skipping.\n",
      "File 3247TH.csv could not be read due to being empty or invalid format. Skipping.\n",
      "File 251530TP.csv could not be read due to being empty or invalid format. Skipping.\n",
      "File 3_030.csv could not be read due to being empty or invalid format. Skipping.\n",
      "File SU89_88.csv could not be read due to being empty or invalid format. Skipping.\n",
      "File 1409GW.csv could not be read due to being empty or invalid format. Skipping.\n",
      "File SY09F400.csv could not be read due to being empty or invalid format. Skipping.\n",
      "File SJ56_120.csv could not be read due to being empty or invalid format. Skipping.\n",
      "File 4902.csv could not be read due to being empty or invalid format. Skipping.\n"
     ]
    },
    {
     "name": "stderr",
     "output_type": "stream",
     "text": [
      "\n",
      "\n",
      "\n",
      "\u001b[A\u001b[A\u001b[A"
     ]
    },
    {
     "name": "stdout",
     "output_type": "stream",
     "text": [
      "File L1507.csv could not be read due to being empty or invalid format. Skipping.\n",
      "File 290008.csv could not be read due to being empty or invalid format. Skipping.\n",
      "File S45422_FW.csv could not be read due to being empty or invalid format. Skipping.\n",
      "File 2_551.csv could not be read due to being empty or invalid format. Skipping.\n",
      "File 381111.csv could not be read due to being empty or invalid format. Skipping.\n"
     ]
    },
    {
     "name": "stderr",
     "output_type": "stream",
     "text": [
      "\n",
      "\n",
      "\n",
      "\u001b[A\u001b[A\u001b[A"
     ]
    },
    {
     "name": "stdout",
     "output_type": "stream",
     "text": [
      "File SU99_66.csv could not be read due to being empty or invalid format. Skipping.\n",
      "File 46657.csv could not be read due to being empty or invalid format. Skipping.\n",
      "File SD44_34.csv could not be read due to being empty or invalid format. Skipping.\n",
      "File SU57_221.csv could not be read due to being empty or invalid format. Skipping.\n",
      "File 226147.csv could not be read due to being empty or invalid format. Skipping.\n",
      "File 40301014.csv could not be read due to being empty or invalid format. Skipping.\n"
     ]
    },
    {
     "name": "stderr",
     "output_type": "stream",
     "text": [
      "\n",
      "\n",
      "\n",
      "\u001b[A\u001b[A\u001b[A"
     ]
    },
    {
     "name": "stdout",
     "output_type": "stream",
     "text": [
      "File 2432TH.csv could not be read due to being empty or invalid format. Skipping.\n",
      "File SD44_20.csv could not be read due to being empty or invalid format. Skipping.\n",
      "File 141804301.csv could not be read due to being empty or invalid format. Skipping.\n",
      "File 0239GW.csv could not be read due to being empty or invalid format. Skipping.\n",
      "File 700405.csv could not be read due to being empty or invalid format. Skipping.\n",
      "File SU99_72.csv could not be read due to being empty or invalid format. Skipping.\n",
      "File 0701TH.csv could not be read due to being empty or invalid format. Skipping.\n"
     ]
    },
    {
     "name": "stderr",
     "output_type": "stream",
     "text": [
      "\n",
      "\n",
      "\n",
      "\u001b[A\u001b[A\u001b[A"
     ]
    },
    {
     "name": "stdout",
     "output_type": "stream",
     "text": [
      "File NY00_377A.csv could not be read due to being empty or invalid format. Skipping.\n",
      "File 520620_FW.csv could not be read due to being empty or invalid format. Skipping.\n",
      "File 0180GW.csv could not be read due to being empty or invalid format. Skipping.\n",
      "File 0551GW.csv could not be read due to being empty or invalid format. Skipping.\n",
      "File 141802758.csv could not be read due to being empty or invalid format. Skipping.\n"
     ]
    },
    {
     "name": "stderr",
     "output_type": "stream",
     "text": [
      "\n",
      "\n",
      "\n",
      "\u001b[A\u001b[A\u001b[A"
     ]
    },
    {
     "name": "stdout",
     "output_type": "stream",
     "text": [
      "File TL88_005.csv could not be read due to being empty or invalid format. Skipping.\n",
      "File 2618.csv could not be read due to being empty or invalid format. Skipping.\n",
      "File SE55MMP0RD.csv could not be read due to being empty or invalid format. Skipping.\n",
      "File BENFLR.csv could not be read due to being empty or invalid format. Skipping.\n",
      "File 142803857.csv could not be read due to being empty or invalid format. Skipping.\n",
      "File SX98G516.csv could not be read due to being empty or invalid format. Skipping.\n",
      "File SU58_88A.csv could not be read due to being empty or invalid format. Skipping.\n",
      "File 0138GW.csv could not be read due to being empty or invalid format. Skipping.\n"
     ]
    },
    {
     "name": "stderr",
     "output_type": "stream",
     "text": [
      "\n",
      "\n",
      "\n",
      "\u001b[A\u001b[A\u001b[A"
     ]
    },
    {
     "name": "stdout",
     "output_type": "stream",
     "text": [
      "File FWBM01_FW.csv could not be read due to being empty or invalid format. Skipping.\n",
      "File 2733TH.csv could not be read due to being empty or invalid format. Skipping.\n",
      "File SP80_65.csv could not be read due to being empty or invalid format. Skipping.\n"
     ]
    },
    {
     "name": "stderr",
     "output_type": "stream",
     "text": [
      "\n",
      "\n",
      "\n",
      "\u001b[A\u001b[A\u001b[A\n",
      "\n",
      "\n",
      "\u001b[A\u001b[A\u001b[A"
     ]
    },
    {
     "name": "stdout",
     "output_type": "stream",
     "text": [
      "File NTG1212P4.csv could not be read due to being empty or invalid format. Skipping.\n",
      "File 245221016.csv could not be read due to being empty or invalid format. Skipping.\n",
      "File L1711.csv could not be read due to being empty or invalid format. Skipping.\n",
      "File 313103.csv could not be read due to being empty or invalid format. Skipping.\n",
      "File SU48_67A.csv could not be read due to being empty or invalid format. Skipping.\n",
      "File 23024.csv could not be read due to being empty or invalid format. Skipping.\n",
      "File 142201104.csv could not be read due to being empty or invalid format. Skipping.\n",
      "File 33237.csv could not be read due to being empty or invalid format. Skipping.\n",
      "File 1650GW.csv could not be read due to being empty or invalid format. Skipping.\n",
      "File ST99_99.csv could not be read due to being empty or invalid format. Skipping.\n",
      "File 733030.csv could not be read due to being empty or invalid format. Skipping.\n",
      "File SD54_20B.csv could not be read due to being empty or invalid format. Skipping.\n",
      "File SE44GLDLML.csv could not be read due to being empty or invalid format. Skipping.\n",
      "File L3112.csv could not be read due to being empty or invalid format. Skipping.\n",
      "File TL94_590.csv could not be read due to being empty or invalid format. Skipping.\n"
     ]
    },
    {
     "name": "stderr",
     "output_type": "stream",
     "text": [
      "\n",
      "\n",
      "\n",
      "\u001b[A\u001b[A\u001b[A\n",
      "\n",
      "\n",
      "\u001b[A\u001b[A\u001b[A"
     ]
    },
    {
     "name": "stdout",
     "output_type": "stream",
     "text": [
      "File SP80_59.csv could not be read due to being empty or invalid format. Skipping.\n",
      "File TL63_452.csv could not be read due to being empty or invalid format. Skipping.\n",
      "File 412867.csv could not be read due to being empty or invalid format. Skipping.\n",
      "File TL44_119.csv could not be read due to being empty or invalid format. Skipping.\n",
      "File 243103022.csv could not be read due to being empty or invalid format. Skipping.\n",
      "File 141809745.csv could not be read due to being empty or invalid format. Skipping.\n",
      "File NTF9187P3.csv could not be read due to being empty or invalid format. Skipping.\n",
      "File TM06_288.csv could not be read due to being empty or invalid format. Skipping.\n",
      "File F2125.csv could not be read due to being empty or invalid format. Skipping.\n",
      "File SE45HPT0SS.csv could not be read due to being empty or invalid format. Skipping.\n",
      "File 342912006.csv could not be read due to being empty or invalid format. Skipping.\n",
      "File SU19_74.csv could not be read due to being empty or invalid format. Skipping.\n",
      "File 55039.csv could not be read due to being empty or invalid format. Skipping.\n",
      "File SD41_38.csv could not be read due to being empty or invalid format. Skipping.\n",
      "File TQ17_156.csv could not be read due to being empty or invalid format. Skipping.\n"
     ]
    },
    {
     "name": "stderr",
     "output_type": "stream",
     "text": [
      "\n",
      "\n",
      "\n",
      "\u001b[A\u001b[A\u001b[A\n",
      "\n",
      "\n",
      "\u001b[A\u001b[A\u001b[A"
     ]
    },
    {
     "name": "stdout",
     "output_type": "stream",
     "text": [
      "File 712175.csv could not be read due to being empty or invalid format. Skipping.\n",
      "File 433103.csv could not be read due to being empty or invalid format. Skipping.\n",
      "File 310001TP.csv could not be read due to being empty or invalid format. Skipping.\n",
      "File 142801885.csv could not be read due to being empty or invalid format. Skipping.\n",
      "File NTM1951P3.csv could not be read due to being empty or invalid format. Skipping.\n",
      "File 244136002.csv could not be read due to being empty or invalid format. Skipping.\n",
      "File 254250031.csv could not be read due to being empty or invalid format. Skipping.\n",
      "File 510916.csv could not be read due to being empty or invalid format. Skipping.\n"
     ]
    },
    {
     "name": "stderr",
     "output_type": "stream",
     "text": [
      "\n",
      "\n",
      "\n",
      "\u001b[A\u001b[A\u001b[A"
     ]
    },
    {
     "name": "stdout",
     "output_type": "stream",
     "text": [
      "File 644717001.csv could not be read due to being empty or invalid format. Skipping.\n",
      "File 23839.csv could not be read due to being empty or invalid format. Skipping.\n",
      "File 15347.csv could not be read due to being empty or invalid format. Skipping.\n",
      "File 556232002.csv could not be read due to being empty or invalid format. Skipping.\n",
      "File SU78_7.csv could not be read due to being empty or invalid format. Skipping.\n",
      "File SE83DNC0RD.csv could not be read due to being empty or invalid format. Skipping.\n",
      "File TL33_060.csv could not be read due to being empty or invalid format. Skipping.\n",
      "File 5003.csv could not be read due to being empty or invalid format. Skipping.\n",
      "File SU38_79.csv could not be read due to being empty or invalid format. Skipping.\n",
      "File 362640501.csv could not be read due to being empty or invalid format. Skipping.\n",
      "File 301329.csv could not be read due to being empty or invalid format. Skipping.\n",
      "File SU79_25.csv could not be read due to being empty or invalid format. Skipping.\n"
     ]
    },
    {
     "name": "stderr",
     "output_type": "stream",
     "text": [
      "\n",
      "\n",
      "\n",
      "\u001b[A\u001b[A\u001b[A"
     ]
    },
    {
     "name": "stdout",
     "output_type": "stream",
     "text": [
      "File TF62_034.csv could not be read due to being empty or invalid format. Skipping.\n",
      "File 593362.csv could not be read due to being empty or invalid format. Skipping.\n",
      "File 0204GW.csv could not be read due to being empty or invalid format. Skipping.\n",
      "File 341503011.csv could not be read due to being empty or invalid format. Skipping.\n",
      "File 21009.csv could not be read due to being empty or invalid format. Skipping.\n",
      "File L0235.csv could not be read due to being empty or invalid format. Skipping.\n",
      "File 0241GW.csv could not be read due to being empty or invalid format. Skipping.\n"
     ]
    },
    {
     "name": "stderr",
     "output_type": "stream",
     "text": [
      "\n",
      "\n",
      "\n",
      "\u001b[A\u001b[A\u001b[A"
     ]
    },
    {
     "name": "stdout",
     "output_type": "stream",
     "text": [
      "File 21021.csv could not be read due to being empty or invalid format. Skipping.\n",
      "File SU06_1.csv could not be read due to being empty or invalid format. Skipping.\n",
      "File SU79_19.csv could not be read due to being empty or invalid format. Skipping.\n",
      "File L1103.csv could not be read due to being empty or invalid format. Skipping.\n",
      "File 277407TP.csv could not be read due to being empty or invalid format. Skipping.\n",
      "File 764020.csv could not be read due to being empty or invalid format. Skipping.\n",
      "File SU38_51.csv could not be read due to being empty or invalid format. Skipping.\n"
     ]
    },
    {
     "name": "stderr",
     "output_type": "stream",
     "text": [
      "\n",
      "\n",
      "\n",
      "\u001b[A\u001b[A\u001b[A"
     ]
    },
    {
     "name": "stdout",
     "output_type": "stream",
     "text": [
      "File 90188106.csv could not be read due to being empty or invalid format. Skipping.\n",
      "File SE55LMT1SS.csv could not be read due to being empty or invalid format. Skipping.\n",
      "File TM45_2136.csv could not be read due to being empty or invalid format. Skipping.\n",
      "File 23-5-88.csv could not be read due to being empty or invalid format. Skipping.\n",
      "File 4651.csv could not be read due to being empty or invalid format. Skipping.\n",
      "File SU46_14.csv could not be read due to being empty or invalid format. Skipping.\n"
     ]
    },
    {
     "name": "stderr",
     "output_type": "stream",
     "text": [
      "\n",
      "\n",
      "\n",
      "\u001b[A\u001b[A\u001b[A"
     ]
    },
    {
     "name": "stdout",
     "output_type": "stream",
     "text": [
      "File 2546.csv could not be read due to being empty or invalid format. Skipping.\n",
      "File 744131.csv could not be read due to being empty or invalid format. Skipping.\n",
      "File SJ45_168.csv could not be read due to being empty or invalid format. Skipping.\n",
      "File 101150.csv could not be read due to being empty or invalid format. Skipping.\n",
      "File S12555_FW.csv could not be read due to being empty or invalid format. Skipping.\n",
      "File SJ58_163.csv could not be read due to being empty or invalid format. Skipping.\n",
      "File 4123.csv could not be read due to being empty or invalid format. Skipping.\n",
      "File 2552.csv could not be read due to being empty or invalid format. Skipping.\n",
      "File SU73_93.csv could not be read due to being empty or invalid format. Skipping.\n",
      "File SX97F100.csv could not be read due to being empty or invalid format. Skipping.\n"
     ]
    },
    {
     "name": "stderr",
     "output_type": "stream",
     "text": [
      "\n",
      "\n",
      "\n",
      "\u001b[A\u001b[A\u001b[A"
     ]
    },
    {
     "name": "stdout",
     "output_type": "stream",
     "text": [
      "File SE46LLL0SS.csv could not be read due to being empty or invalid format. Skipping.\n",
      "File 530152.csv could not be read due to being empty or invalid format. Skipping.\n",
      "File 141805341.csv could not be read due to being empty or invalid format. Skipping.\n",
      "File TL65_007.csv could not be read due to being empty or invalid format. Skipping.\n",
      "File L0962.csv could not be read due to being empty or invalid format. Skipping.\n",
      "File SX87F100.csv could not be read due to being empty or invalid format. Skipping.\n",
      "File 0434GW.csv could not be read due to being empty or invalid format. Skipping.\n"
     ]
    },
    {
     "name": "stderr",
     "output_type": "stream",
     "text": [
      "\n",
      "\n",
      "\n",
      "\u001b[A\u001b[A\u001b[A"
     ]
    },
    {
     "name": "stdout",
     "output_type": "stream",
     "text": [
      "File 0471GW.csv could not be read due to being empty or invalid format. Skipping.\n",
      "File 4679.csv could not be read due to being empty or invalid format. Skipping.\n",
      "File 530146.csv could not be read due to being empty or invalid format. Skipping.\n",
      "File TM11_551.csv could not be read due to being empty or invalid format. Skipping.\n",
      "File 453300006.csv could not be read due to being empty or invalid format. Skipping.\n",
      "File SU88_177.csv could not be read due to being empty or invalid format. Skipping.\n",
      "File 50101003.csv could not be read due to being empty or invalid format. Skipping.\n",
      "File 2613TH.csv could not be read due to being empty or invalid format. Skipping.\n"
     ]
    },
    {
     "name": "stderr",
     "output_type": "stream",
     "text": [
      "\n",
      "\n",
      "\n",
      "\u001b[A\u001b[A\u001b[A"
     ]
    },
    {
     "name": "stdout",
     "output_type": "stream",
     "text": [
      "File 4692.csv could not be read due to being empty or invalid format. Skipping.\n",
      "File 254829TP.csv could not be read due to being empty or invalid format. Skipping.\n",
      "File 1926.csv could not be read due to being empty or invalid format. Skipping.\n"
     ]
    },
    {
     "name": "stderr",
     "output_type": "stream",
     "text": [
      "\n",
      "\n",
      "\n",
      "\u001b[A\u001b[A\u001b[A"
     ]
    },
    {
     "name": "stdout",
     "output_type": "stream",
     "text": [
      "File 4686.csv could not be read due to being empty or invalid format. Skipping.\n",
      "File TG03_934B.csv could not be read due to being empty or invalid format. Skipping.\n",
      "File SD17_9A.csv could not be read due to being empty or invalid format. Skipping.\n",
      "File 394332.csv could not be read due to being empty or invalid format. Skipping.\n",
      "File SU73_78.csv could not be read due to being empty or invalid format. Skipping.\n"
     ]
    },
    {
     "name": "stderr",
     "output_type": "stream",
     "text": [
      "\n",
      "\n",
      "\n",
      "\u001b[A\u001b[A\u001b[A"
     ]
    },
    {
     "name": "stdout",
     "output_type": "stream",
     "text": [
      "File SJ65_24.csv could not be read due to being empty or invalid format. Skipping.\n",
      "File 1735GW.csv could not be read due to being empty or invalid format. Skipping.\n",
      "File SE62ECW1SS.csv could not be read due to being empty or invalid format. Skipping.\n",
      "File SE46TNL0RD.csv could not be read due to being empty or invalid format. Skipping.\n",
      "File SD31_44.csv could not be read due to being empty or invalid format. Skipping.\n"
     ]
    },
    {
     "name": "stderr",
     "output_type": "stream",
     "text": [
      "\n",
      "\n",
      "\n",
      "\u001b[A\u001b[A\u001b[A"
     ]
    },
    {
     "name": "stdout",
     "output_type": "stream",
     "text": [
      "File SE45WDL0SS.csv could not be read due to being empty or invalid format. Skipping.\n",
      "File 2092GW.csv could not be read due to being empty or invalid format. Skipping.\n",
      "File 319994.csv could not be read due to being empty or invalid format. Skipping.\n",
      "File 142203317.csv could not be read due to being empty or invalid format. Skipping.\n",
      "File 141001942.csv could not be read due to being empty or invalid format. Skipping.\n"
     ]
    },
    {
     "name": "stderr",
     "output_type": "stream",
     "text": [
      "\n",
      "\n",
      "\n",
      "\u001b[A\u001b[A\u001b[A"
     ]
    },
    {
     "name": "stdout",
     "output_type": "stream",
     "text": [
      "File 530185.csv could not be read due to being empty or invalid format. Skipping.\n",
      "File 595273.csv could not be read due to being empty or invalid format. Skipping.\n",
      "File TF93_362.csv could not be read due to being empty or invalid format. Skipping.\n",
      "File 1418081004.csv could not be read due to being empty or invalid format. Skipping.\n",
      "File 4682.csv could not be read due to being empty or invalid format. Skipping.\n",
      "File SE46TNL0SS.csv could not be read due to being empty or invalid format. Skipping.\n"
     ]
    },
    {
     "name": "stderr",
     "output_type": "stream",
     "text": [
      "\n",
      "\n",
      "\n",
      "\u001b[A\u001b[A\u001b[A"
     ]
    },
    {
     "name": "stdout",
     "output_type": "stream",
     "text": [
      "File 0179GW.csv could not be read due to being empty or invalid format. Skipping.\n",
      "File 5588.csv could not be read due to being empty or invalid format. Skipping.\n",
      "File SE45WDL0RD.csv could not be read due to being empty or invalid format. Skipping.\n",
      "File 471687.csv could not be read due to being empty or invalid format. Skipping.\n",
      "File 750801.csv could not be read due to being empty or invalid format. Skipping.\n",
      "File 3_632.csv could not be read due to being empty or invalid format. Skipping.\n",
      "File 63028.csv could not be read due to being empty or invalid format. Skipping.\n",
      "File 1654GW.csv could not be read due to being empty or invalid format. Skipping.\n",
      "File TL31_175.csv could not be read due to being empty or invalid format. Skipping.\n"
     ]
    },
    {
     "name": "stderr",
     "output_type": "stream",
     "text": [
      "\n",
      "\n",
      "\n",
      "\u001b[A\u001b[A\u001b[A"
     ]
    },
    {
     "name": "stdout",
     "output_type": "stream",
     "text": [
      "File L1305.csv could not be read due to being empty or invalid format. Skipping.\n",
      "File 363232501.csv could not be read due to being empty or invalid format. Skipping.\n",
      "File 2556.csv could not be read due to being empty or invalid format. Skipping.\n",
      "File 4127.csv could not be read due to being empty or invalid format. Skipping.\n",
      "File 530162_FW.csv could not be read due to being empty or invalid format. Skipping.\n",
      "File TW24_2.csv could not be read due to being empty or invalid format. Skipping.\n",
      "File 712415.csv could not be read due to being empty or invalid format. Skipping.\n"
     ]
    },
    {
     "name": "stderr",
     "output_type": "stream",
     "text": [
      "\n",
      "\n",
      "\n",
      "\u001b[A\u001b[A\u001b[A"
     ]
    },
    {
     "name": "stdout",
     "output_type": "stream",
     "text": [
      "File 2436TH.csv could not be read due to being empty or invalid format. Skipping.\n",
      "File 441345001.csv could not be read due to being empty or invalid format. Skipping.\n",
      "File SE46CHB0SS.csv could not be read due to being empty or invalid format. Skipping.\n",
      "File 2473TH.csv could not be read due to being empty or invalid format. Skipping.\n",
      "File SU57_153.csv could not be read due to being empty or invalid format. Skipping.\n",
      "File S45408_FW.csv could not be read due to being empty or invalid format. Skipping.\n",
      "File TL43_001.csv could not be read due to being empty or invalid format. Skipping.\n",
      "File 4133.csv could not be read due to being empty or invalid format. Skipping.\n"
     ]
    },
    {
     "name": "stderr",
     "output_type": "stream",
     "text": [
      "\n",
      "\n",
      "\n",
      "\u001b[A\u001b[A\u001b[A\n",
      "\n",
      "\n",
      "\u001b[A\u001b[A\u001b[A"
     ]
    },
    {
     "name": "stdout",
     "output_type": "stream",
     "text": [
      "File 453300002.csv could not be read due to being empty or invalid format. Skipping.\n",
      "File L31005.csv could not be read due to being empty or invalid format. Skipping.\n",
      "File SU98_22.csv could not be read due to being empty or invalid format. Skipping.\n",
      "File L2803.csv could not be read due to being empty or invalid format. Skipping.\n",
      "File 245411003.csv could not be read due to being empty or invalid format. Skipping.\n",
      "File SE52HDS0SS.csv could not be read due to being empty or invalid format. Skipping.\n",
      "File 2542.csv could not be read due to being empty or invalid format. Skipping.\n",
      "File 0510GW.csv could not be read due to being empty or invalid format. Skipping.\n",
      "File 8047.csv could not be read due to being empty or invalid format. Skipping.\n",
      "File SD17_5.csv could not be read due to being empty or invalid format. Skipping.\n",
      "File 2218.csv could not be read due to being empty or invalid format. Skipping.\n",
      "File 46519.csv could not be read due to being empty or invalid format. Skipping.\n",
      "File SU73_97.csv could not be read due to being empty or invalid format. Skipping.\n",
      "File NTG3224PB.csv could not be read due to being empty or invalid format. Skipping.\n",
      "File 530156.csv could not be read due to being empty or invalid format. Skipping.\n",
      "File 8_898.csv could not be read due to being empty or invalid format. Skipping.\n"
     ]
    },
    {
     "name": "stderr",
     "output_type": "stream",
     "text": [
      "\n",
      "\n",
      "\n",
      "\u001b[A\u001b[A\u001b[A"
     ]
    },
    {
     "name": "stdout",
     "output_type": "stream",
     "text": [
      "File 596791.csv could not be read due to being empty or invalid format. Skipping.\n",
      "File 5546GW.csv could not be read due to being empty or invalid format. Skipping.\n",
      "File SU68_78E.csv could not be read due to being empty or invalid format. Skipping.\n",
      "File TF62_030.csv could not be read due to being empty or invalid format. Skipping.\n",
      "File 274178TP.csv could not be read due to being empty or invalid format. Skipping.\n",
      "File FWBS01_FW.csv could not be read due to being empty or invalid format. Skipping.\n",
      "File ST30G007.csv could not be read due to being empty or invalid format. Skipping.\n"
     ]
    },
    {
     "name": "stderr",
     "output_type": "stream",
     "text": [
      "\n",
      "\n",
      "\n",
      "\u001b[A\u001b[A\u001b[A"
     ]
    },
    {
     "name": "stdout",
     "output_type": "stream",
     "text": [
      "File 2876A.csv could not be read due to being empty or invalid format. Skipping.\n",
      "File SE46GL00SS.csv could not be read due to being empty or invalid format. Skipping.\n",
      "File 4382TH.csv could not be read due to being empty or invalid format. Skipping.\n",
      "File SU66_111.csv could not be read due to being empty or invalid format. Skipping.\n",
      "File L1113.csv could not be read due to being empty or invalid format. Skipping.\n",
      "File TM09_180.csv could not be read due to being empty or invalid format. Skipping.\n",
      "File 2692TH.csv could not be read due to being empty or invalid format. Skipping.\n"
     ]
    },
    {
     "name": "stderr",
     "output_type": "stream",
     "text": [
      "\n",
      "\n",
      "\n",
      "\u001b[A\u001b[A\u001b[A"
     ]
    },
    {
     "name": "stdout",
     "output_type": "stream",
     "text": [
      "File 90114303.csv could not be read due to being empty or invalid format. Skipping.\n",
      "File 0448GW.csv could not be read due to being empty or invalid format. Skipping.\n",
      "File SU48_70A.csv could not be read due to being empty or invalid format. Skipping.\n",
      "File SJ49_45.csv could not be read due to being empty or invalid format. Skipping.\n",
      "File SD52_54.csv could not be read due to being empty or invalid format. Skipping.\n",
      "File L32054.csv could not be read due to being empty or invalid format. Skipping.\n",
      "File SE43SQ01ML.csv could not be read due to being empty or invalid format. Skipping.\n",
      "File 141802166.csv could not be read due to being empty or invalid format. Skipping.\n"
     ]
    },
    {
     "name": "stderr",
     "output_type": "stream",
     "text": [
      "\n",
      "\n",
      "\n",
      "\u001b[A\u001b[A\u001b[A"
     ]
    },
    {
     "name": "stdout",
     "output_type": "stream",
     "text": [
      "File SD41_28.csv could not be read due to being empty or invalid format. Skipping.\n",
      "File 151801007.csv could not be read due to being empty or invalid format. Skipping.\n",
      "File 5602GW.csv could not be read due to being empty or invalid format. Skipping.\n",
      "File TM14_5281.csv could not be read due to being empty or invalid format. Skipping.\n"
     ]
    },
    {
     "name": "stderr",
     "output_type": "stream",
     "text": [
      "\n",
      "\n",
      "\n",
      "\u001b[A\u001b[A\u001b[A"
     ]
    },
    {
     "name": "stdout",
     "output_type": "stream",
     "text": [
      "File 1064GW.csv could not be read due to being empty or invalid format. Skipping.\n",
      "File 339117.csv could not be read due to being empty or invalid format. Skipping.\n",
      "File TL98_149.csv could not be read due to being empty or invalid format. Skipping.\n",
      "File SE39STV0SS.csv could not be read due to being empty or invalid format. Skipping.\n",
      "File 190329.csv could not be read due to being empty or invalid format. Skipping.\n",
      "File L3937.csv could not be read due to being empty or invalid format. Skipping.\n",
      "File 90124203.csv could not be read due to being empty or invalid format. Skipping.\n"
     ]
    },
    {
     "name": "stderr",
     "output_type": "stream",
     "text": [
      "\n",
      "\n",
      "\n",
      "\u001b[A\u001b[A\u001b[A"
     ]
    },
    {
     "name": "stdout",
     "output_type": "stream",
     "text": [
      "File 281186TP.csv could not be read due to being empty or invalid format. Skipping.\n",
      "File 642312004.csv could not be read due to being empty or invalid format. Skipping.\n",
      "File SE72KLT2SS.csv could not be read due to being empty or invalid format. Skipping.\n",
      "File 47439.csv could not be read due to being empty or invalid format. Skipping.\n",
      "File 243103026.csv could not be read due to being empty or invalid format. Skipping.\n",
      "File SU19_70.csv could not be read due to being empty or invalid format. Skipping.\n"
     ]
    },
    {
     "name": "stderr",
     "output_type": "stream",
     "text": [
      "\n",
      "\n",
      "\n",
      "\u001b[A\u001b[A\u001b[A"
     ]
    },
    {
     "name": "stdout",
     "output_type": "stream",
     "text": [
      "File 559484.csv could not be read due to being empty or invalid format. Skipping.\n",
      "File TL79_031.csv could not be read due to being empty or invalid format. Skipping.\n",
      "File TA15BG01CC.csv could not be read due to being empty or invalid format. Skipping.\n",
      "File 24-3-512.csv could not be read due to being empty or invalid format. Skipping.\n",
      "File 2901TH.csv could not be read due to being empty or invalid format. Skipping.\n",
      "File SE45HPT0RD.csv could not be read due to being empty or invalid format. Skipping.\n",
      "File L30092.csv could not be read due to being empty or invalid format. Skipping.\n",
      "File 0488GW.csv could not be read due to being empty or invalid format. Skipping.\n",
      "File 0059GW.csv could not be read due to being empty or invalid format. Skipping.\n",
      "File 148187.csv could not be read due to being empty or invalid format. Skipping.\n",
      "File 91862.csv could not be read due to being empty or invalid format. Skipping.\n"
     ]
    },
    {
     "name": "stderr",
     "output_type": "stream",
     "text": [
      "\n",
      "\n",
      "\n",
      "\u001b[A\u001b[A\u001b[A"
     ]
    },
    {
     "name": "stdout",
     "output_type": "stream",
     "text": [
      "File NTG1271P3.csv could not be read due to being empty or invalid format. Skipping.\n",
      "File 24015.csv could not be read due to being empty or invalid format. Skipping.\n",
      "File TA05KIE0CC.csv could not be read due to being empty or invalid format. Skipping.\n",
      "File 143306208.csv could not be read due to being empty or invalid format. Skipping.\n",
      "File 91260101.csv could not be read due to being empty or invalid format. Skipping.\n",
      "File SJ38_79.csv could not be read due to being empty or invalid format. Skipping.\n",
      "File L0351.csv could not be read due to being empty or invalid format. Skipping.\n",
      "File 1059GW.csv could not be read due to being empty or invalid format. Skipping.\n"
     ]
    },
    {
     "name": "stderr",
     "output_type": "stream",
     "text": [
      "\n",
      "\n",
      "\n",
      "\u001b[A\u001b[A\u001b[A"
     ]
    },
    {
     "name": "stdout",
     "output_type": "stream",
     "text": [
      "File L2208.csv could not be read due to being empty or invalid format. Skipping.\n",
      "File SU58_101.csv could not be read due to being empty or invalid format. Skipping.\n",
      "File 1731GW.csv could not be read due to being empty or invalid format. Skipping.\n",
      "File 530591.csv could not be read due to being empty or invalid format. Skipping.\n"
     ]
    },
    {
     "name": "stderr",
     "output_type": "stream",
     "text": [
      "\n",
      "\n",
      "\n",
      "\u001b[A\u001b[A\u001b[A"
     ]
    },
    {
     "name": "stdout",
     "output_type": "stream",
     "text": [
      "File SP80_22B.csv could not be read due to being empty or invalid format. Skipping.\n",
      "File 40101057.csv could not be read due to being empty or invalid format. Skipping.\n",
      "File 644733004.csv could not be read due to being empty or invalid format. Skipping.\n",
      "File 23020.csv could not be read due to being empty or invalid format. Skipping.\n",
      "File ST99_89.csv could not be read due to being empty or invalid format. Skipping.\n",
      "File 142203071.csv could not be read due to being empty or invalid format. Skipping.\n"
     ]
    },
    {
     "name": "stderr",
     "output_type": "stream",
     "text": [
      "\n",
      "\n",
      "\n",
      "\u001b[A\u001b[A\u001b[A"
     ]
    },
    {
     "name": "stdout",
     "output_type": "stream",
     "text": [
      "File 94701.csv could not be read due to being empty or invalid format. Skipping.\n",
      "File 700401.csv could not be read due to being empty or invalid format. Skipping.\n",
      "File SP80_49.csv could not be read due to being empty or invalid format. Skipping.\n",
      "File TL98_029.csv could not be read due to being empty or invalid format. Skipping.\n",
      "File NY45_16.csv could not be read due to being empty or invalid format. Skipping.\n",
      "File 644640001.csv could not be read due to being empty or invalid format. Skipping.\n",
      "File S16537_FW.csv could not be read due to being empty or invalid format. Skipping.\n"
     ]
    },
    {
     "name": "stderr",
     "output_type": "stream",
     "text": [
      "\n",
      "\n",
      "\n",
      "\u001b[A\u001b[A\u001b[A"
     ]
    },
    {
     "name": "stdout",
     "output_type": "stream",
     "text": [
      "File 2634.csv could not be read due to being empty or invalid format. Skipping.\n",
      "File 521311.csv could not be read due to being empty or invalid format. Skipping.\n",
      "File 710160.csv could not be read due to being empty or invalid format. Skipping.\n",
      "File SD44_24.csv could not be read due to being empty or invalid format. Skipping.\n",
      "File 142803890.csv could not be read due to being empty or invalid format. Skipping.\n",
      "File TF91_6221.csv could not be read due to being empty or invalid format. Skipping.\n",
      "File TQ59_16.csv could not be read due to being empty or invalid format. Skipping.\n",
      "File 654110005.csv could not be read due to being empty or invalid format. Skipping.\n"
     ]
    },
    {
     "name": "stderr",
     "output_type": "stream",
     "text": [
      "\n",
      "\n",
      "\n",
      "\u001b[A\u001b[A\u001b[A"
     ]
    },
    {
     "name": "stdout",
     "output_type": "stream",
     "text": [
      "File R559100.csv could not be read due to being empty or invalid format. Skipping.\n",
      "File 432810_1.csv could not be read due to being empty or invalid format. Skipping.\n",
      "File SD44_18.csv could not be read due to being empty or invalid format. Skipping.\n",
      "File TL88_001.csv could not be read due to being empty or invalid format. Skipping.\n",
      "File 1430GW.csv could not be read due to being empty or invalid format. Skipping.\n",
      "File TL67_099.csv could not be read due to being empty or invalid format. Skipping.\n"
     ]
    },
    {
     "name": "stderr",
     "output_type": "stream",
     "text": [
      "\n",
      "\n",
      "\n",
      "\u001b[A\u001b[A\u001b[A"
     ]
    },
    {
     "name": "stdout",
     "output_type": "stream",
     "text": [
      "File 0430GW.csv could not be read due to being empty or invalid format. Skipping.\n",
      "File S46456_FW.csv could not be read due to being empty or invalid format. Skipping.\n",
      "File 530220.csv could not be read due to being empty or invalid format. Skipping.\n",
      "File TL88_015.csv could not be read due to being empty or invalid format. Skipping.\n",
      "File TF71_078.csv could not be read due to being empty or invalid format. Skipping.\n",
      "File 141801902.csv could not be read due to being empty or invalid format. Skipping.\n",
      "File SD41_153.csv could not be read due to being empty or invalid format. Skipping.\n"
     ]
    },
    {
     "name": "stderr",
     "output_type": "stream",
     "text": [
      "\n",
      "\n",
      "\n",
      "\u001b[A\u001b[A\u001b[A"
     ]
    },
    {
     "name": "stdout",
     "output_type": "stream",
     "text": [
      "File SP40_47.csv could not be read due to being empty or invalid format. Skipping.\n",
      "File 598145.csv could not be read due to being empty or invalid format. Skipping.\n",
      "File 141808926.csv could not be read due to being empty or invalid format. Skipping.\n",
      "File SP90_70.csv could not be read due to being empty or invalid format. Skipping.\n",
      "File 1200GW.csv could not be read due to being empty or invalid format. Skipping.\n",
      "File 152502010.csv could not be read due to being empty or invalid format. Skipping.\n",
      "File 142805946.csv could not be read due to being empty or invalid format. Skipping.\n"
     ]
    },
    {
     "name": "stderr",
     "output_type": "stream",
     "text": [
      "\n",
      "\n",
      "\n",
      "\u001b[A\u001b[A\u001b[A"
     ]
    },
    {
     "name": "stdout",
     "output_type": "stream",
     "text": [
      "File 444990.csv could not be read due to being empty or invalid format. Skipping.\n",
      "File TF83_570.csv could not be read due to being empty or invalid format. Skipping.\n",
      "File 341411001.csv could not be read due to being empty or invalid format. Skipping.\n",
      "File SP90_64.csv could not be read due to being empty or invalid format. Skipping.\n",
      "File 90112404.csv could not be read due to being empty or invalid format. Skipping.\n",
      "File GP01_92.csv could not be read due to being empty or invalid format. Skipping.\n",
      "File SJ56_118.csv could not be read due to being empty or invalid format. Skipping.\n"
     ]
    },
    {
     "name": "stderr",
     "output_type": "stream",
     "text": [
      "\n",
      "\n",
      "\n",
      "\u001b[A\u001b[A\u001b[A"
     ]
    },
    {
     "name": "stdout",
     "output_type": "stream",
     "text": [
      "File 34004.csv could not be read due to being empty or invalid format. Skipping.\n",
      "File 755825.csv could not be read due to being empty or invalid format. Skipping.\n",
      "File 2176GW.csv could not be read due to being empty or invalid format. Skipping.\n",
      "File SE52HCL1SS.csv could not be read due to being empty or invalid format. Skipping.\n",
      "File 606299.csv could not be read due to being empty or invalid format. Skipping.\n",
      "File SD41_147.csv could not be read due to being empty or invalid format. Skipping.\n",
      "File 8_913.csv could not be read due to being empty or invalid format. Skipping.\n",
      "File SU78_49.csv could not be read due to being empty or invalid format. Skipping.\n"
     ]
    },
    {
     "name": "stderr",
     "output_type": "stream",
     "text": [
      "\n",
      "\n",
      "\n",
      "\u001b[A\u001b[A\u001b[A"
     ]
    },
    {
     "name": "stdout",
     "output_type": "stream",
     "text": [
      "File SU89_98.csv could not be read due to being empty or invalid format. Skipping.\n",
      "File NY00_348.csv could not be read due to being empty or invalid format. Skipping.\n",
      "File 3_034.csv could not be read due to being empty or invalid format. Skipping.\n",
      "File SU65_30.csv could not be read due to being empty or invalid format. Skipping.\n",
      "File L3314.csv could not be read due to being empty or invalid format. Skipping.\n",
      "File 410325.csv could not be read due to being empty or invalid format. Skipping.\n",
      "File L08041.csv could not be read due to being empty or invalid format. Skipping.\n",
      "File SJ56_124.csv could not be read due to being empty or invalid format. Skipping.\n",
      "File TM34_3472.csv could not be read due to being empty or invalid format. Skipping.\n"
     ]
    },
    {
     "name": "stderr",
     "output_type": "stream",
     "text": [
      "\n",
      "\n",
      "\n",
      "\u001b[A\u001b[A\u001b[A"
     ]
    },
    {
     "name": "stdout",
     "output_type": "stream",
     "text": [
      "File SU56_220.csv could not be read due to being empty or invalid format. Skipping.\n",
      "File 152206005.csv could not be read due to being empty or invalid format. Skipping.\n",
      "File 24-5-153.csv could not be read due to being empty or invalid format. Skipping.\n",
      "File 40752.csv could not be read due to being empty or invalid format. Skipping.\n",
      "File 713119.csv could not be read due to being empty or invalid format. Skipping.\n",
      "File 1942GW.csv could not be read due to being empty or invalid format. Skipping.\n",
      "File 690210.csv could not be read due to being empty or invalid format. Skipping.\n",
      "File 433503.csv could not be read due to being empty or invalid format. Skipping.\n"
     ]
    },
    {
     "name": "stderr",
     "output_type": "stream",
     "text": [
      "\n",
      "\n",
      "\n",
      "\u001b[A\u001b[A\u001b[A"
     ]
    },
    {
     "name": "stdout",
     "output_type": "stream",
     "text": [
      "File 644650004.csv could not be read due to being empty or invalid format. Skipping.\n",
      "File 74385.csv could not be read due to being empty or invalid format. Skipping.\n",
      "File SE45MHL0RD.csv could not be read due to being empty or invalid format. Skipping.\n",
      "File 229066.csv could not be read due to being empty or invalid format. Skipping.\n"
     ]
    },
    {
     "name": "stderr",
     "output_type": "stream",
     "text": [
      "\n",
      "\n",
      "\n",
      "\u001b[A\u001b[A\u001b[A"
     ]
    },
    {
     "name": "stdout",
     "output_type": "stream",
     "text": [
      "File TQ28_153.csv could not be read due to being empty or invalid format. Skipping.\n",
      "File NTG0111P2.csv could not be read due to being empty or invalid format. Skipping.\n",
      "File L29058.csv could not be read due to being empty or invalid format. Skipping.\n",
      "File 3066.csv could not be read due to being empty or invalid format. Skipping.\n"
     ]
    },
    {
     "name": "stderr",
     "output_type": "stream",
     "text": [
      "\n",
      "\n",
      "\n",
      "\u001b[A\u001b[A\u001b[A"
     ]
    },
    {
     "name": "stdout",
     "output_type": "stream",
     "text": [
      "File 2821TH.csv could not be read due to being empty or invalid format. Skipping.\n",
      "File 13336.csv could not be read due to being empty or invalid format. Skipping.\n",
      "File 441354050.csv could not be read due to being empty or invalid format. Skipping.\n",
      "File SE62WCW2RD.csv could not be read due to being empty or invalid format. Skipping.\n",
      "File TL99_004.csv could not be read due to being empty or invalid format. Skipping.\n",
      "File SE39WLN0SS.csv could not be read due to being empty or invalid format. Skipping.\n",
      "File 346489.csv could not be read due to being empty or invalid format. Skipping.\n"
     ]
    },
    {
     "name": "stderr",
     "output_type": "stream",
     "text": [
      "\n",
      "\n",
      "\n",
      "\u001b[A\u001b[A\u001b[A"
     ]
    },
    {
     "name": "stdout",
     "output_type": "stream",
     "text": [
      "File L0812.csv could not be read due to being empty or invalid format. Skipping.\n",
      "File 520557.csv could not be read due to being empty or invalid format. Skipping.\n",
      "File 654604001.csv could not be read due to being empty or invalid format. Skipping.\n",
      "File SU98_98C.csv could not be read due to being empty or invalid format. Skipping.\n",
      "File 398493.csv could not be read due to being empty or invalid format. Skipping.\n",
      "File TA05NES0CC.csv could not be read due to being empty or invalid format. Skipping.\n",
      "File 644602018.csv could not be read due to being empty or invalid format. Skipping.\n"
     ]
    },
    {
     "name": "stderr",
     "output_type": "stream",
     "text": [
      "\n",
      "\n",
      "\n",
      "\u001b[A\u001b[A\u001b[A"
     ]
    },
    {
     "name": "stdout",
     "output_type": "stream",
     "text": [
      "File 1886GW.csv could not be read due to being empty or invalid format. Skipping.\n",
      "File NY52_26.csv could not be read due to being empty or invalid format. Skipping.\n",
      "File 0414GW.csv could not be read due to being empty or invalid format. Skipping.\n",
      "File 5_064.csv could not be read due to being empty or invalid format. Skipping.\n",
      "File 644602019.csv could not be read due to being empty or invalid format. Skipping.\n",
      "File 432620.csv could not be read due to being empty or invalid format. Skipping.\n"
     ]
    },
    {
     "name": "stderr",
     "output_type": "stream",
     "text": [
      "\n",
      "\n",
      "\n",
      "\u001b[A\u001b[A\u001b[A"
     ]
    },
    {
     "name": "stdout",
     "output_type": "stream",
     "text": [
      "File 47000.csv could not be read due to being empty or invalid format. Skipping.\n",
      "File SD54_3B.csv could not be read due to being empty or invalid format. Skipping.\n",
      "File SJ55_41.csv could not be read due to being empty or invalid format. Skipping.\n",
      "File 5_070.csv could not be read due to being empty or invalid format. Skipping.\n",
      "File L0807.csv could not be read due to being empty or invalid format. Skipping.\n",
      "File 441354051.csv could not be read due to being empty or invalid format. Skipping.\n",
      "File TL99_005.csv could not be read due to being empty or invalid format. Skipping.\n",
      "File 141813446.csv could not be read due to being empty or invalid format. Skipping.\n"
     ]
    },
    {
     "name": "stderr",
     "output_type": "stream",
     "text": [
      "\n",
      "\n",
      "\n",
      "\u001b[A\u001b[A\u001b[A"
     ]
    },
    {
     "name": "stdout",
     "output_type": "stream",
     "text": [
      "File SD53_29.csv could not be read due to being empty or invalid format. Skipping.\n",
      "File 8054GW.csv could not be read due to being empty or invalid format. Skipping.\n",
      "File 644650005.csv could not be read due to being empty or invalid format. Skipping.\n",
      "File NTG0111P3.csv could not be read due to being empty or invalid format. Skipping.\n",
      "File 690211.csv could not be read due to being empty or invalid format. Skipping.\n",
      "File TL66_089.csv could not be read due to being empty or invalid format. Skipping.\n",
      "File 292197.csv could not be read due to being empty or invalid format. Skipping.\n",
      "File 8011GW.csv could not be read due to being empty or invalid format. Skipping.\n",
      "File NY62_4.csv could not be read due to being empty or invalid format. Skipping.\n",
      "File SU56_221.csv could not be read due to being empty or invalid format. Skipping.\n"
     ]
    },
    {
     "name": "stderr",
     "output_type": "stream",
     "text": [
      "\n",
      "\n",
      "\n",
      "\u001b[A\u001b[A\u001b[A"
     ]
    },
    {
     "name": "stdout",
     "output_type": "stream",
     "text": [
      "File 713118.csv could not be read due to being empty or invalid format. Skipping.\n",
      "File 694063.csv could not be read due to being empty or invalid format. Skipping.\n",
      "File TM03_900.csv could not be read due to being empty or invalid format. Skipping.\n",
      "File TM16_9006.csv could not be read due to being empty or invalid format. Skipping.\n",
      "File SJ56_125.csv could not be read due to being empty or invalid format. Skipping.\n",
      "File 303117.csv could not be read due to being empty or invalid format. Skipping.\n"
     ]
    },
    {
     "name": "stderr",
     "output_type": "stream",
     "text": [
      "\n",
      "\n",
      "\n",
      "\u001b[A\u001b[A\u001b[A\n",
      "\n",
      "\n",
      "\u001b[A\u001b[A\u001b[A"
     ]
    },
    {
     "name": "stdout",
     "output_type": "stream",
     "text": [
      "File 441320061.csv could not be read due to being empty or invalid format. Skipping.\n",
      "File 25-3-6.csv could not be read due to being empty or invalid format. Skipping.\n",
      "File 244330009.csv could not be read due to being empty or invalid format. Skipping.\n",
      "File 24-5-152.csv could not be read due to being empty or invalid format. Skipping.\n",
      "File TQ37_276.csv could not be read due to being empty or invalid format. Skipping.\n",
      "File 3_021.csv could not be read due to being empty or invalid format. Skipping.\n",
      "File 0381GW.csv could not be read due to being empty or invalid format. Skipping.\n",
      "File SP10_103.csv could not be read due to being empty or invalid format. Skipping.\n",
      "File SU37_9.csv could not be read due to being empty or invalid format. Skipping.\n",
      "File TM46_481.csv could not be read due to being empty or invalid format. Skipping.\n"
     ]
    },
    {
     "name": "stderr",
     "output_type": "stream",
     "text": [
      "\n",
      "\n",
      "\n",
      "\u001b[A\u001b[A\u001b[A"
     ]
    },
    {
     "name": "stdout",
     "output_type": "stream",
     "text": [
      "File SJ56_119.csv could not be read due to being empty or invalid format. Skipping.\n",
      "File 76550.csv could not be read due to being empty or invalid format. Skipping.\n",
      "File L2023.csv could not be read due to being empty or invalid format. Skipping.\n",
      "File L1502.csv could not be read due to being empty or invalid format. Skipping.\n",
      "File 25-3-76.csv could not be read due to being empty or invalid format. Skipping.\n",
      "File SU78_48.csv could not be read due to being empty or invalid format. Skipping.\n",
      "File SD41_146.csv could not be read due to being empty or invalid format. Skipping.\n",
      "File 90112405.csv could not be read due to being empty or invalid format. Skipping.\n",
      "File GP01_93.csv could not be read due to being empty or invalid format. Skipping.\n"
     ]
    },
    {
     "name": "stderr",
     "output_type": "stream",
     "text": [
      "\n",
      "\n",
      "\n",
      "\u001b[A\u001b[A\u001b[A"
     ]
    },
    {
     "name": "stdout",
     "output_type": "stream",
     "text": [
      "File NY00_413.csv could not be read due to being empty or invalid format. Skipping.\n",
      "File 8_906.csv could not be read due to being empty or invalid format. Skipping.\n",
      "File 25-3-62.csv could not be read due to being empty or invalid format. Skipping.\n",
      "File 411012.csv could not be read due to being empty or invalid format. Skipping.\n",
      "File SP31_2.csv could not be read due to being empty or invalid format. Skipping.\n",
      "File SE98SGG0CO.csv could not be read due to being empty or invalid format. Skipping.\n",
      "File SE38SH07RD.csv could not be read due to being empty or invalid format. Skipping.\n",
      "File SP90_71.csv could not be read due to being empty or invalid format. Skipping.\n"
     ]
    },
    {
     "name": "stderr",
     "output_type": "stream",
     "text": [
      "\n",
      "\n",
      "\n",
      "\u001b[A\u001b[A\u001b[A"
     ]
    },
    {
     "name": "stdout",
     "output_type": "stream",
     "text": [
      "File L30078.csv could not be read due to being empty or invalid format. Skipping.\n",
      "File 2003TH.csv could not be read due to being empty or invalid format. Skipping.\n",
      "File F1207.csv could not be read due to being empty or invalid format. Skipping.\n",
      "File 2497TH.csv could not be read due to being empty or invalid format. Skipping.\n"
     ]
    },
    {
     "name": "stderr",
     "output_type": "stream",
     "text": [
      "\n",
      "\n",
      "\n",
      "\u001b[A\u001b[A\u001b[A"
     ]
    },
    {
     "name": "stdout",
     "output_type": "stream",
     "text": [
      "File 314866.csv could not be read due to being empty or invalid format. Skipping.\n",
      "File TL00_96.csv could not be read due to being empty or invalid format. Skipping.\n",
      "File S12549_FW.csv could not be read due to being empty or invalid format. Skipping.\n",
      "File TL98_014.csv could not be read due to being empty or invalid format. Skipping.\n"
     ]
    },
    {
     "name": "stderr",
     "output_type": "stream",
     "text": [
      "\n",
      "\n",
      "\n",
      "\u001b[A\u001b[A\u001b[A"
     ]
    },
    {
     "name": "stdout",
     "output_type": "stream",
     "text": [
      "File SD44_19.csv could not be read due to being empty or invalid format. Skipping.\n",
      "File 128855.csv could not be read due to being empty or invalid format. Skipping.\n",
      "File SD44_31.csv could not be read due to being empty or invalid format. Skipping.\n",
      "File 329517.csv could not be read due to being empty or invalid format. Skipping.\n",
      "File 2635.csv could not be read due to being empty or invalid format. Skipping.\n",
      "File 142206861.csv could not be read due to being empty or invalid format. Skipping.\n",
      "File SE46ABI0RD.csv could not be read due to being empty or invalid format. Skipping.\n",
      "File SU99_63.csv could not be read due to being empty or invalid format. Skipping.\n"
     ]
    },
    {
     "name": "stderr",
     "output_type": "stream",
     "text": [
      "\n",
      "\n",
      "\n",
      "\u001b[A\u001b[A\u001b[A"
     ]
    },
    {
     "name": "stdout",
     "output_type": "stream",
     "text": [
      "File SE02HTH0MG.csv could not be read due to being empty or invalid format. Skipping.\n",
      "File 521310.csv could not be read due to being empty or invalid format. Skipping.\n",
      "File SD43_38.csv could not be read due to being empty or invalid format. Skipping.\n",
      "File 2153.csv could not be read due to being empty or invalid format. Skipping.\n",
      "File NY45_17.csv could not be read due to being empty or invalid format. Skipping.\n",
      "File TL98_028.csv could not be read due to being empty or invalid format. Skipping.\n",
      "File 644900001.csv could not be read due to being empty or invalid format. Skipping.\n"
     ]
    },
    {
     "name": "stderr",
     "output_type": "stream",
     "text": [
      "\n",
      "\n",
      "\n",
      "\u001b[A\u001b[A\u001b[A"
     ]
    },
    {
     "name": "stdout",
     "output_type": "stream",
     "text": [
      "File 0160GW.csv could not be read due to being empty or invalid format. Skipping.\n",
      "File 2621.csv could not be read due to being empty or invalid format. Skipping.\n",
      "File S45432_FW.csv could not be read due to being empty or invalid format. Skipping.\n",
      "File 581159.csv could not be read due to being empty or invalid format. Skipping.\n",
      "File TG03_644L.csv could not be read due to being empty or invalid format. Skipping.\n",
      "File 0509GW.csv could not be read due to being empty or invalid format. Skipping.\n",
      "File ST99_63.csv could not be read due to being empty or invalid format. Skipping.\n",
      "File 441324005.csv could not be read due to being empty or invalid format. Skipping.\n"
     ]
    },
    {
     "name": "stderr",
     "output_type": "stream",
     "text": [
      "\n",
      "\n",
      "\n",
      "\u001b[A\u001b[A\u001b[A"
     ]
    },
    {
     "name": "stdout",
     "output_type": "stream",
     "text": [
      "File SE62WRF2SS.csv could not be read due to being empty or invalid format. Skipping.\n",
      "File 142203070.csv could not be read due to being empty or invalid format. Skipping.\n",
      "File 23021.csv could not be read due to being empty or invalid format. Skipping.\n",
      "File 700399.csv could not be read due to being empty or invalid format. Skipping.\n",
      "File SE93TPT0CC.csv could not be read due to being empty or invalid format. Skipping.\n",
      "File SJ38_78.csv could not be read due to being empty or invalid format. Skipping.\n",
      "File NTG1271P2.csv could not be read due to being empty or invalid format. Skipping.\n",
      "File 2302TH.csv could not be read due to being empty or invalid format. Skipping.\n",
      "File 24014.csv could not be read due to being empty or invalid format. Skipping.\n"
     ]
    },
    {
     "name": "stderr",
     "output_type": "stream",
     "text": [
      "\n",
      "\n",
      "\n",
      "\u001b[A\u001b[A\u001b[A"
     ]
    },
    {
     "name": "stdout",
     "output_type": "stream",
     "text": [
      "File SE55WDG1SS.csv could not be read due to being empty or invalid format. Skipping.\n",
      "File SD62_35.csv could not be read due to being empty or invalid format. Skipping.\n",
      "File L2221.csv could not be read due to being empty or invalid format. Skipping.\n",
      "File S27573_FW.csv could not be read due to being empty or invalid format. Skipping.\n",
      "File L0422.csv could not be read due to being empty or invalid format. Skipping.\n",
      "File 396130.csv could not be read due to being empty or invalid format. Skipping.\n"
     ]
    },
    {
     "name": "stderr",
     "output_type": "stream",
     "text": [
      "\n",
      "\n",
      "\n",
      "\u001b[A\u001b[A\u001b[A"
     ]
    },
    {
     "name": "stdout",
     "output_type": "stream",
     "text": [
      "File 24000.csv could not be read due to being empty or invalid format. Skipping.\n",
      "File 0224GW.csv could not be read due to being empty or invalid format. Skipping.\n",
      "File 574488.csv could not be read due to being empty or invalid format. Skipping.\n",
      "File TF83_001.csv could not be read due to being empty or invalid format. Skipping.\n",
      "File 141809185.csv could not be read due to being empty or invalid format. Skipping.\n",
      "File 590691.csv could not be read due to being empty or invalid format. Skipping.\n",
      "File 453210006.csv could not be read due to being empty or invalid format. Skipping.\n",
      "File L32069.csv could not be read due to being empty or invalid format. Skipping.\n"
     ]
    },
    {
     "name": "stderr",
     "output_type": "stream",
     "text": [
      "\n",
      "\n",
      "\n",
      "\u001b[A\u001b[A\u001b[A"
     ]
    },
    {
     "name": "stdout",
     "output_type": "stream",
     "text": [
      "File 5006.csv could not be read due to being empty or invalid format. Skipping.\n",
      "File 642312005.csv could not be read due to being empty or invalid format. Skipping.\n",
      "File 24-3-507.csv could not be read due to being empty or invalid format. Skipping.\n",
      "File 3880TH.csv could not be read due to being empty or invalid format. Skipping.\n",
      "File 2999.csv could not be read due to being empty or invalid format. Skipping.\n",
      "File 1219GW.csv could not be read due to being empty or invalid format. Skipping.\n",
      "File 243103027.csv could not be read due to being empty or invalid format. Skipping.\n",
      "File 305837.csv could not be read due to being empty or invalid format. Skipping.\n",
      "File 3086TH.csv could not be read due to being empty or invalid format. Skipping.\n"
     ]
    },
    {
     "name": "stderr",
     "output_type": "stream",
     "text": [
      "\n",
      "\n",
      "\n",
      "\u001b[A\u001b[A\u001b[A"
     ]
    },
    {
     "name": "stdout",
     "output_type": "stream",
     "text": [
      "File 2880TH.csv could not be read due to being empty or invalid format. Skipping.\n",
      "File 419923.csv could not be read due to being empty or invalid format. Skipping.\n",
      "File 712170.csv could not be read due to being empty or invalid format. Skipping.\n",
      "File SE78MTC0CO.csv could not be read due to being empty or invalid format. Skipping.\n"
     ]
    },
    {
     "name": "stderr",
     "output_type": "stream",
     "text": [
      "\n",
      "\n",
      "\n",
      "\u001b[A\u001b[A\u001b[A"
     ]
    },
    {
     "name": "stdout",
     "output_type": "stream",
     "text": [
      "File NY53_9.csv could not be read due to being empty or invalid format. Skipping.\n"
     ]
    },
    {
     "name": "stderr",
     "output_type": "stream",
     "text": [
      "\n",
      "\n",
      "\n",
      "\u001b[A\u001b[A\u001b[A"
     ]
    },
    {
     "name": "stdout",
     "output_type": "stream",
     "text": [
      "File 2_636.csv could not be read due to being empty or invalid format. Skipping.\n",
      "File L0218.csv could not be read due to being empty or invalid format. Skipping.\n",
      "File SP13_26.csv could not be read due to being empty or invalid format. Skipping.\n",
      "File 690198.csv could not be read due to being empty or invalid format. Skipping.\n",
      "File SP91_31.csv could not be read due to being empty or invalid format. Skipping.\n",
      "File 372710001.csv could not be read due to being empty or invalid format. Skipping.\n",
      "File 7_001.csv could not be read due to being empty or invalid format. Skipping.\n"
     ]
    },
    {
     "name": "stderr",
     "output_type": "stream",
     "text": [
      "\n",
      "\n",
      "\n",
      "\u001b[A\u001b[A\u001b[A"
     ]
    },
    {
     "name": "stdout",
     "output_type": "stream",
     "text": [
      "File SU36_79.csv could not be read due to being empty or invalid format. Skipping.\n",
      "File 3838TH.csv could not be read due to being empty or invalid format. Skipping.\n",
      "File L15401.csv could not be read due to being empty or invalid format. Skipping.\n",
      "File TM16_8085.csv could not be read due to being empty or invalid format. Skipping.\n",
      "File SE62DXD2RD.csv could not be read due to being empty or invalid format. Skipping.\n",
      "File 4016GW.csv could not be read due to being empty or invalid format. Skipping.\n",
      "File SU66_110.csv could not be read due to being empty or invalid format. Skipping.\n",
      "File 21030.csv could not be read due to being empty or invalid format. Skipping.\n"
     ]
    },
    {
     "name": "stderr",
     "output_type": "stream",
     "text": [
      "\n",
      "\n",
      "\n",
      "\u001b[A\u001b[A\u001b[A"
     ]
    },
    {
     "name": "stdout",
     "output_type": "stream",
     "text": [
      "File 255310922.csv could not be read due to being empty or invalid format. Skipping.\n",
      "File 1799TH.csv could not be read due to being empty or invalid format. Skipping.\n",
      "File 1465TH.csv could not be read due to being empty or invalid format. Skipping.\n",
      "File TA06HPH0CC.csv could not be read due to being empty or invalid format. Skipping.\n",
      "File 276036TP.csv could not be read due to being empty or invalid format. Skipping.\n",
      "File 644035001.csv could not be read due to being empty or invalid format. Skipping.\n",
      "File TQ07_184.csv could not be read due to being empty or invalid format. Skipping.\n",
      "File 556410002.csv could not be read due to being empty or invalid format. Skipping.\n"
     ]
    },
    {
     "name": "stderr",
     "output_type": "stream",
     "text": [
      "\n",
      "\n",
      "\n",
      "\u001b[A\u001b[A\u001b[A"
     ]
    },
    {
     "name": "stdout",
     "output_type": "stream",
     "text": [
      "File SJ69_130.csv could not be read due to being empty or invalid format. Skipping.\n",
      "File TA16THM0CC.csv could not be read due to being empty or invalid format. Skipping.\n",
      "File 475190.csv could not be read due to being empty or invalid format. Skipping.\n",
      "File REDISHR.csv could not be read due to being empty or invalid format. Skipping.\n",
      "File 441422001.csv could not be read due to being empty or invalid format. Skipping.\n"
     ]
    },
    {
     "name": "stderr",
     "output_type": "stream",
     "text": [
      "\n",
      "\n",
      "\n",
      "\u001b[A\u001b[A\u001b[A"
     ]
    },
    {
     "name": "stdout",
     "output_type": "stream",
     "text": [
      "File 90104105.csv could not be read due to being empty or invalid format. Skipping.\n",
      "File 558016.csv could not be read due to being empty or invalid format. Skipping.\n",
      "File 90191308.csv could not be read due to being empty or invalid format. Skipping.\n",
      "File 720101.csv could not be read due to being empty or invalid format. Skipping.\n",
      "File 229891.csv could not be read due to being empty or invalid format. Skipping.\n",
      "File D29035.csv could not be read due to being empty or invalid format. Skipping.\n",
      "File SE46FGL1SS.csv could not be read due to being empty or invalid format. Skipping.\n",
      "File 1210TH.csv could not be read due to being empty or invalid format. Skipping.\n"
     ]
    },
    {
     "name": "stderr",
     "output_type": "stream",
     "text": [
      "\n",
      "\n",
      "\n",
      "\u001b[A\u001b[A\u001b[A"
     ]
    },
    {
     "name": "stdout",
     "output_type": "stream",
     "text": [
      "File 8_899.csv could not be read due to being empty or invalid format. Skipping.\n",
      "File 724830.csv could not be read due to being empty or invalid format. Skipping.\n",
      "File 751511.csv could not be read due to being empty or invalid format. Skipping.\n",
      "File 5_110.csv could not be read due to being empty or invalid format. Skipping.\n",
      "File SJ56_90B.csv could not be read due to being empty or invalid format. Skipping.\n",
      "File 600986.csv could not be read due to being empty or invalid format. Skipping.\n"
     ]
    },
    {
     "name": "stderr",
     "output_type": "stream",
     "text": [
      "\n",
      "\n",
      "\n",
      "\u001b[A\u001b[A\u001b[A"
     ]
    },
    {
     "name": "stdout",
     "output_type": "stream",
     "text": [
      "File 441310001.csv could not be read due to being empty or invalid format. Skipping.\n",
      "File 453300003.csv could not be read due to being empty or invalid format. Skipping.\n",
      "File NY00_435A.csv could not be read due to being empty or invalid format. Skipping.\n",
      "File TL01_127.csv could not be read due to being empty or invalid format. Skipping.\n",
      "File 334156.csv could not be read due to being empty or invalid format. Skipping.\n",
      "File 2543.csv could not be read due to being empty or invalid format. Skipping.\n",
      "File 2225.csv could not be read due to being empty or invalid format. Skipping.\n",
      "File 4654.csv could not be read due to being empty or invalid format. Skipping.\n"
     ]
    },
    {
     "name": "stderr",
     "output_type": "stream",
     "text": [
      "\n",
      "\n",
      "\n",
      "\u001b[A\u001b[A\u001b[A"
     ]
    },
    {
     "name": "stdout",
     "output_type": "stream",
     "text": [
      "File TL32_6.csv could not be read due to being empty or invalid format. Skipping.\n",
      "File SU57_146.csv could not be read due to being empty or invalid format. Skipping.\n",
      "File 4126.csv could not be read due to being empty or invalid format. Skipping.\n",
      "File SE46KMP0SS.csv could not be read due to being empty or invalid format. Skipping.\n",
      "File 153900005.csv could not be read due to being empty or invalid format. Skipping.\n",
      "File SJ39_106.csv could not be read due to being empty or invalid format. Skipping.\n"
     ]
    },
    {
     "name": "stderr",
     "output_type": "stream",
     "text": [
      "\n",
      "\n",
      "\n",
      "\u001b[A\u001b[A\u001b[A"
     ]
    },
    {
     "name": "stdout",
     "output_type": "stream",
     "text": [
      "File 4873.csv could not be read due to being empty or invalid format. Skipping.\n",
      "File 397170.csv could not be read due to being empty or invalid format. Skipping.\n",
      "File SJ37_019.csv could not be read due to being empty or invalid format. Skipping.\n",
      "File 644812001.csv could not be read due to being empty or invalid format. Skipping.\n",
      "File 4898.csv could not be read due to being empty or invalid format. Skipping.\n",
      "File 644621011.csv could not be read due to being empty or invalid format. Skipping.\n",
      "File L1304.csv could not be read due to being empty or invalid format. Skipping.\n",
      "File SY08F010.csv could not be read due to being empty or invalid format. Skipping.\n",
      "File SD31_41.csv could not be read due to being empty or invalid format. Skipping.\n"
     ]
    },
    {
     "name": "stderr",
     "output_type": "stream",
     "text": [
      "\n",
      "\n",
      "\n",
      "\u001b[A\u001b[A\u001b[A"
     ]
    },
    {
     "name": "stdout",
     "output_type": "stream",
     "text": [
      "File L3261.csv could not be read due to being empty or invalid format. Skipping.\n",
      "File TL31_174.csv could not be read due to being empty or invalid format. Skipping.\n",
      "File 142203312.csv could not be read due to being empty or invalid format. Skipping.\n",
      "File SE53SST0SS.csv could not be read due to being empty or invalid format. Skipping.\n",
      "File 755950.csv could not be read due to being empty or invalid format. Skipping.\n",
      "File 4697.csv could not be read due to being empty or invalid format. Skipping.\n",
      "File 415472.csv could not be read due to being empty or invalid format. Skipping.\n",
      "File 5527GW.csv could not be read due to being empty or invalid format. Skipping.\n"
     ]
    },
    {
     "name": "stderr",
     "output_type": "stream",
     "text": [
      "\n",
      "\n",
      "\n",
      "\u001b[A\u001b[A\u001b[A"
     ]
    },
    {
     "name": "stdout",
     "output_type": "stream",
     "text": [
      "File 1679TH.csv could not be read due to being empty or invalid format. Skipping.\n",
      "File SU69_25.csv could not be read due to being empty or invalid format. Skipping.\n",
      "File 613905.csv could not be read due to being empty or invalid format. Skipping.\n",
      "File 294323.csv could not be read due to being empty or invalid format. Skipping.\n",
      "File 4683.csv could not be read due to being empty or invalid format. Skipping.\n"
     ]
    },
    {
     "name": "stderr",
     "output_type": "stream",
     "text": [
      "\n",
      "\n",
      "\n",
      "\u001b[A\u001b[A\u001b[A"
     ]
    },
    {
     "name": "stdout",
     "output_type": "stream",
     "text": [
      "File 169228.csv could not be read due to being empty or invalid format. Skipping.\n",
      "File TL76_128.csv could not be read due to being empty or invalid format. Skipping.\n",
      "File SU26_42.csv could not be read due to being empty or invalid format. Skipping.\n",
      "File 306643.csv could not be read due to being empty or invalid format. Skipping.\n",
      "File 90112201.csv could not be read due to being empty or invalid format. Skipping.\n"
     ]
    },
    {
     "name": "stderr",
     "output_type": "stream",
     "text": [
      "\n",
      "\n",
      "\n",
      "\u001b[A\u001b[A\u001b[A"
     ]
    },
    {
     "name": "stdout",
     "output_type": "stream",
     "text": [
      "File 4681.csv could not be read due to being empty or invalid format. Skipping.\n",
      "File 575384.csv could not be read due to being empty or invalid format. Skipping.\n",
      "File 153302001.csv could not be read due to being empty or invalid format. Skipping.\n",
      "File 442141001.csv could not be read due to being empty or invalid format. Skipping.\n",
      "File TF73_988.csv could not be read due to being empty or invalid format. Skipping.\n"
     ]
    },
    {
     "name": "stderr",
     "output_type": "stream",
     "text": [
      "\n",
      "\n",
      "\n",
      "\u001b[A\u001b[A\u001b[A"
     ]
    },
    {
     "name": "stdout",
     "output_type": "stream",
     "text": [
      "File 5014GW.csv could not be read due to being empty or invalid format. Skipping.\n",
      "File 453419.csv could not be read due to being empty or invalid format. Skipping.\n",
      "File 642324006.csv could not be read due to being empty or invalid format. Skipping.\n",
      "File SD31_43.csv could not be read due to being empty or invalid format. Skipping.\n",
      "File TW32_14.csv could not be read due to being empty or invalid format. Skipping.\n",
      "File TQ38_10.csv could not be read due to being empty or invalid format. Skipping.\n",
      "File 445509.csv could not be read due to being empty or invalid format. Skipping.\n",
      "File TM17_507.csv could not be read due to being empty or invalid format. Skipping.\n",
      "File SE55STS1RD.csv could not be read due to being empty or invalid format. Skipping.\n",
      "File 141811482.csv could not be read due to being empty or invalid format. Skipping.\n",
      "File TL31_176.csv could not be read due to being empty or invalid format. Skipping.\n",
      "File 141802398.csv could not be read due to being empty or invalid format. Skipping.\n"
     ]
    },
    {
     "name": "stderr",
     "output_type": "stream",
     "text": [
      "\n",
      "\n",
      "\n",
      "\u001b[A\u001b[A\u001b[A"
     ]
    },
    {
     "name": "stdout",
     "output_type": "stream",
     "text": [
      "File NY24_10.csv could not be read due to being empty or invalid format. Skipping.\n",
      "File 320121.csv could not be read due to being empty or invalid format. Skipping.\n",
      "File TL43_002.csv could not be read due to being empty or invalid format. Skipping.\n",
      "File 141811469.csv could not be read due to being empty or invalid format. Skipping.\n"
     ]
    },
    {
     "name": "stderr",
     "output_type": "stream",
     "text": [
      "\n",
      "\n",
      "\n",
      "\u001b[A\u001b[A\u001b[A"
     ]
    },
    {
     "name": "stdout",
     "output_type": "stream",
     "text": [
      "File SU73_9B.csv could not be read due to being empty or invalid format. Skipping.\n",
      "File 530169.csv could not be read due to being empty or invalid format. Skipping.\n",
      "File 644912003.csv could not be read due to being empty or invalid format. Skipping.\n",
      "File 2541.csv could not be read due to being empty or invalid format. Skipping.\n",
      "File 2227.csv could not be read due to being empty or invalid format. Skipping.\n",
      "File SE68ST00CO.csv could not be read due to being empty or invalid format. Skipping.\n"
     ]
    },
    {
     "name": "stderr",
     "output_type": "stream",
     "text": [
      "\n",
      "\n",
      "\n",
      "\u001b[A\u001b[A\u001b[A"
     ]
    },
    {
     "name": "stdout",
     "output_type": "stream",
     "text": [
      "File NY00_435C.csv could not be read due to being empty or invalid format. Skipping.\n",
      "File SE62DRX2SS.csv could not be read due to being empty or invalid format. Skipping.\n",
      "File 2882TH.csv could not be read due to being empty or invalid format. Skipping.\n",
      "File 3084TH.csv could not be read due to being empty or invalid format. Skipping.\n",
      "File 336031.csv could not be read due to being empty or invalid format. Skipping.\n",
      "File 301845.csv could not be read due to being empty or invalid format. Skipping.\n"
     ]
    },
    {
     "name": "stderr",
     "output_type": "stream",
     "text": [
      "\n",
      "\n",
      "\n",
      "\u001b[A\u001b[A\u001b[A"
     ]
    },
    {
     "name": "stdout",
     "output_type": "stream",
     "text": [
      "File 2455TH.csv could not be read due to being empty or invalid format. Skipping.\n",
      "File 4124.csv could not be read due to being empty or invalid format. Skipping.\n",
      "File SJ39_104.csv could not be read due to being empty or invalid format. Skipping.\n",
      "File 442132004.csv could not be read due to being empty or invalid format. Skipping.\n",
      "File 90122301.csv could not be read due to being empty or invalid format. Skipping.\n",
      "File 712370.csv could not be read due to being empty or invalid format. Skipping.\n",
      "File 5_112.csv could not be read due to being empty or invalid format. Skipping.\n",
      "File 530155.csv could not be read due to being empty or invalid format. Skipping.\n",
      "File 441413037.csv could not be read due to being empty or invalid format. Skipping.\n"
     ]
    },
    {
     "name": "stderr",
     "output_type": "stream",
     "text": [
      "\n",
      "\n",
      "\n",
      "\u001b[A\u001b[A\u001b[A"
     ]
    },
    {
     "name": "stdout",
     "output_type": "stream",
     "text": [
      "File 0536GW.csv could not be read due to being empty or invalid format. Skipping.\n",
      "File 342940.csv could not be read due to being empty or invalid format. Skipping.\n",
      "File 2128GW.csv could not be read due to being empty or invalid format. Skipping.\n",
      "File 693120.csv could not be read due to being empty or invalid format. Skipping.\n",
      "File 25-3-348.csv could not be read due to being empty or invalid format. Skipping.\n",
      "File 8044.csv could not be read due to being empty or invalid format. Skipping.\n",
      "File 369509.csv could not be read due to being empty or invalid format. Skipping.\n",
      "File SJ57_46.csv could not be read due to being empty or invalid format. Skipping.\n",
      "File NTG3224PA.csv could not be read due to being empty or invalid format. Skipping.\n"
     ]
    },
    {
     "name": "stderr",
     "output_type": "stream",
     "text": [
      "\n",
      "\n",
      "\n",
      "\u001b[A\u001b[A\u001b[A\n",
      "\n",
      "\n",
      "\u001b[A\u001b[A\u001b[A"
     ]
    },
    {
     "name": "stdout",
     "output_type": "stream",
     "text": [
      "File 5_106.csv could not be read due to being empty or invalid format. Skipping.\n",
      "File 561468.csv could not be read due to being empty or invalid format. Skipping.\n",
      "File E20514_FW.csv could not be read due to being empty or invalid format. Skipping.\n",
      "File 243321002.csv could not be read due to being empty or invalid format. Skipping.\n",
      "File 111378.csv could not be read due to being empty or invalid format. Skipping.\n",
      "File SD86_38.csv could not be read due to being empty or invalid format. Skipping.\n",
      "File 2199TH.csv could not be read due to being empty or invalid format. Skipping.\n",
      "File 2876B.csv could not be read due to being empty or invalid format. Skipping.\n",
      "File 5525GW.csv could not be read due to being empty or invalid format. Skipping.\n",
      "File 2035GW.csv could not be read due to being empty or invalid format. Skipping.\n",
      "File 0306GW.csv could not be read due to being empty or invalid format. Skipping.\n",
      "File 5560GW.csv could not be read due to being empty or invalid format. Skipping.\n"
     ]
    },
    {
     "name": "stderr",
     "output_type": "stream",
     "text": [
      "\n",
      "\n",
      "\n",
      "\u001b[A\u001b[A\u001b[A"
     ]
    },
    {
     "name": "stdout",
     "output_type": "stream",
     "text": [
      "File 1792GW.csv could not be read due to being empty or invalid format. Skipping.\n",
      "File TL11_12.csv could not be read due to being empty or invalid format. Skipping.\n",
      "File 244142009.csv could not be read due to being empty or invalid format. Skipping.\n",
      "File 90159214.csv could not be read due to being empty or invalid format. Skipping.\n",
      "File 142803930.csv could not be read due to being empty or invalid format. Skipping.\n",
      "File 142201739.csv could not be read due to being empty or invalid format. Skipping.\n",
      "File 510920_FW.csv could not be read due to being empty or invalid format. Skipping.\n",
      "File 85960.csv could not be read due to being empty or invalid format. Skipping.\n"
     ]
    },
    {
     "name": "stderr",
     "output_type": "stream",
     "text": [
      "\n",
      "\n",
      "\n",
      "\u001b[A\u001b[A\u001b[A"
     ]
    },
    {
     "name": "stdout",
     "output_type": "stream",
     "text": [
      "File 644504001.csv could not be read due to being empty or invalid format. Skipping.\n",
      "File TL83_110.csv could not be read due to being empty or invalid format. Skipping.\n",
      "File SU48_70B.csv could not be read due to being empty or invalid format. Skipping.\n",
      "File L2419.csv could not be read due to being empty or invalid format. Skipping.\n",
      "File 7_017.csv could not be read due to being empty or invalid format. Skipping.\n",
      "File 520193.csv could not be read due to being empty or invalid format. Skipping.\n",
      "File 230871.csv could not be read due to being empty or invalid format. Skipping.\n",
      "File T22526_FW.csv could not be read due to being empty or invalid format. Skipping.\n"
     ]
    },
    {
     "name": "stderr",
     "output_type": "stream",
     "text": [
      "\n",
      "\n",
      "\n",
      "\u001b[A\u001b[A\u001b[A"
     ]
    },
    {
     "name": "stdout",
     "output_type": "stream",
     "text": [
      "File SU19_73.csv could not be read due to being empty or invalid format. Skipping.\n",
      "File TQ09_30.csv could not be read due to being empty or invalid format. Skipping.\n",
      "File 141802617.csv could not be read due to being empty or invalid format. Skipping.\n",
      "File 142502916.csv could not be read due to being empty or invalid format. Skipping.\n",
      "File 243103025.csv could not be read due to being empty or invalid format. Skipping.\n",
      "File 2298TH.csv could not be read due to being empty or invalid format. Skipping.\n",
      "File 247281TP.csv could not be read due to being empty or invalid format. Skipping.\n"
     ]
    },
    {
     "name": "stderr",
     "output_type": "stream",
     "text": [
      "\n",
      "\n",
      "\n",
      "\u001b[A\u001b[A\u001b[A"
     ]
    },
    {
     "name": "stdout",
     "output_type": "stream",
     "text": [
      "File 0493GW.csv could not be read due to being empty or invalid format. Skipping.\n",
      "File SX97G027.csv could not be read due to being empty or invalid format. Skipping.\n",
      "File 141802165.csv could not be read due to being empty or invalid format. Skipping.\n",
      "File 1007GW.csv could not be read due to being empty or invalid format. Skipping.\n",
      "File SJ59_149.csv could not be read due to being empty or invalid format. Skipping.\n",
      "File L3934.csv could not be read due to being empty or invalid format. Skipping.\n"
     ]
    },
    {
     "name": "stderr",
     "output_type": "stream",
     "text": [
      "\n",
      "\n",
      "\n",
      "\u001b[A\u001b[A\u001b[A"
     ]
    },
    {
     "name": "stdout",
     "output_type": "stream",
     "text": [
      "File 1844GW.csv could not be read due to being empty or invalid format. Skipping.\n",
      "File 3307.csv could not be read due to being empty or invalid format. Skipping.\n",
      "File SE62WCK1SS.csv could not be read due to being empty or invalid format. Skipping.\n",
      "File 433104.csv could not be read due to being empty or invalid format. Skipping.\n",
      "File TM14_5282.csv could not be read due to being empty or invalid format. Skipping.\n",
      "File 261602TP.csv could not be read due to being empty or invalid format. Skipping.\n",
      "File 90178231.csv could not be read due to being empty or invalid format. Skipping.\n",
      "File TQ07_179.csv could not be read due to being empty or invalid format. Skipping.\n",
      "File 24-3-511.csv could not be read due to being empty or invalid format. Skipping.\n"
     ]
    },
    {
     "name": "stderr",
     "output_type": "stream",
     "text": [
      "\n",
      "\n",
      "\n",
      "\u001b[A\u001b[A\u001b[A\n",
      "\n",
      "\n",
      "\u001b[A\u001b[A\u001b[A"
     ]
    },
    {
     "name": "stdout",
     "output_type": "stream",
     "text": [
      "File 5004.csv could not be read due to being empty or invalid format. Skipping.\n",
      "File TL02_91.csv could not be read due to being empty or invalid format. Skipping.\n",
      "File 571479.csv could not be read due to being empty or invalid format. Skipping.\n",
      "File 2927TH.csv could not be read due to being empty or invalid format. Skipping.\n",
      "File 452318003.csv could not be read due to being empty or invalid format. Skipping.\n",
      "File TQ09_18.csv could not be read due to being empty or invalid format. Skipping.\n",
      "File 713536.csv could not be read due to being empty or invalid format. Skipping.\n",
      "File SU88_30.csv could not be read due to being empty or invalid format. Skipping.\n",
      "File 238550.csv could not be read due to being empty or invalid format. Skipping.\n",
      "File 95554.csv could not be read due to being empty or invalid format. Skipping.\n",
      "File 644422005.csv could not be read due to being empty or invalid format. Skipping.\n",
      "File 371530001.csv could not be read due to being empty or invalid format. Skipping.\n",
      "File 5364TH.csv could not be read due to being empty or invalid format. Skipping.\n",
      "File SE47SF00RD.csv could not be read due to being empty or invalid format. Skipping.\n"
     ]
    },
    {
     "name": "stderr",
     "output_type": "stream",
     "text": [
      "\n",
      "\n",
      "\n",
      "\u001b[A\u001b[A\u001b[A"
     ]
    },
    {
     "name": "stdout",
     "output_type": "stream",
     "text": [
      "File SX98G511.csv could not be read due to being empty or invalid format. Skipping.\n",
      "File 90106116.csv could not be read due to being empty or invalid format. Skipping.\n",
      "File 736601.csv could not be read due to being empty or invalid format. Skipping.\n",
      "File 24016.csv could not be read due to being empty or invalid format. Skipping.\n"
     ]
    },
    {
     "name": "stderr",
     "output_type": "stream",
     "text": [
      "\n",
      "\n",
      "\n",
      "\u001b[A\u001b[A\u001b[A"
     ]
    },
    {
     "name": "stdout",
     "output_type": "stream",
     "text": [
      "File 414418.csv could not be read due to being empty or invalid format. Skipping.\n",
      "File 141811904.csv could not be read due to being empty or invalid format. Skipping.\n",
      "File L2545.csv could not be read due to being empty or invalid format. Skipping.\n",
      "File TQ09_112.csv could not be read due to being empty or invalid format. Skipping.\n",
      "File 1990TH.csv could not be read due to being empty or invalid format. Skipping.\n",
      "File L2551.csv could not be read due to being empty or invalid format. Skipping.\n",
      "File 520784_FW.csv could not be read due to being empty or invalid format. Skipping.\n"
     ]
    },
    {
     "name": "stderr",
     "output_type": "stream",
     "text": [
      "\n",
      "\n",
      "\n",
      "\u001b[A\u001b[A\u001b[A"
     ]
    },
    {
     "name": "stdout",
     "output_type": "stream",
     "text": [
      "File 1502TH.csv could not be read due to being empty or invalid format. Skipping.\n",
      "File 520533_FW.csv could not be read due to being empty or invalid format. Skipping.\n",
      "File NTG1212P3.csv could not be read due to being empty or invalid format. Skipping.\n",
      "File 23023.csv could not be read due to being empty or invalid format. Skipping.\n",
      "File SP80_62.csv could not be read due to being empty or invalid format. Skipping.\n",
      "File 244140024.csv could not be read due to being empty or invalid format. Skipping.\n"
     ]
    },
    {
     "name": "stderr",
     "output_type": "stream",
     "text": [
      "\n",
      "\n",
      "\n",
      "\u001b[A\u001b[A\u001b[A"
     ]
    },
    {
     "name": "stdout",
     "output_type": "stream",
     "text": [
      "File 242622006.csv could not be read due to being empty or invalid format. Skipping.\n",
      "File 1460_w1TH.csv could not be read due to being empty or invalid format. Skipping.\n",
      "File L1388B.csv could not be read due to being empty or invalid format. Skipping.\n",
      "File SE37RTE0SS.csv could not be read due to being empty or invalid format. Skipping.\n",
      "File TL03_168.csv could not be read due to being empty or invalid format. Skipping.\n",
      "File TQ37_41.csv could not be read due to being empty or invalid format. Skipping.\n",
      "File SU19_69B.csv could not be read due to being empty or invalid format. Skipping.\n"
     ]
    },
    {
     "name": "stderr",
     "output_type": "stream",
     "text": [
      "\n",
      "\n",
      "\n",
      "\u001b[A\u001b[A\u001b[A"
     ]
    },
    {
     "name": "stdout",
     "output_type": "stream",
     "text": [
      "File 8056GW.csv could not be read due to being empty or invalid format. Skipping.\n",
      "File TA04HHM0RD.csv could not be read due to being empty or invalid format. Skipping.\n",
      "File 179365.csv could not be read due to being empty or invalid format. Skipping.\n",
      "File L1931.csv could not be read due to being empty or invalid format. Skipping.\n",
      "File 521312.csv could not be read due to being empty or invalid format. Skipping.\n",
      "File SU99_61.csv could not be read due to being empty or invalid format. Skipping.\n",
      "File 644011002.csv could not be read due to being empty or invalid format. Skipping.\n"
     ]
    },
    {
     "name": "stderr",
     "output_type": "stream",
     "text": [
      "\n",
      "\n",
      "\n",
      "\u001b[A\u001b[A\u001b[A"
     ]
    },
    {
     "name": "stdout",
     "output_type": "stream",
     "text": [
      "File 2637.csv could not be read due to being empty or invalid format. Skipping.\n",
      "File SE53LF00SS.csv could not be read due to being empty or invalid format. Skipping.\n",
      "File SU68_98.csv could not be read due to being empty or invalid format. Skipping.\n",
      "File SE98WY01CO.csv could not be read due to being empty or invalid format. Skipping.\n",
      "File 290580.csv could not be read due to being empty or invalid format. Skipping.\n",
      "File 545694.csv could not be read due to being empty or invalid format. Skipping.\n",
      "File TM48_583A.csv could not be read due to being empty or invalid format. Skipping.\n",
      "File 142201856.csv could not be read due to being empty or invalid format. Skipping.\n"
     ]
    },
    {
     "name": "stderr",
     "output_type": "stream",
     "text": [
      "\n",
      "\n",
      "\n",
      "\u001b[A\u001b[A\u001b[A"
     ]
    },
    {
     "name": "stdout",
     "output_type": "stream",
     "text": [
      "File L2592.csv could not be read due to being empty or invalid format. Skipping.\n",
      "File 4020TH.csv could not be read due to being empty or invalid format. Skipping.\n",
      "File 700402.csv could not be read due to being empty or invalid format. Skipping.\n",
      "File 372821002.csv could not be read due to being empty or invalid format. Skipping.\n",
      "File 579623.csv could not be read due to being empty or invalid format. Skipping.\n",
      "File 1416GW.csv could not be read due to being empty or invalid format. Skipping.\n",
      "File TL23_113.csv could not be read due to being empty or invalid format. Skipping.\n"
     ]
    },
    {
     "name": "stderr",
     "output_type": "stream",
     "text": [
      "\n",
      "\n",
      "\n",
      "\u001b[A\u001b[A\u001b[A"
     ]
    },
    {
     "name": "stdout",
     "output_type": "stream",
     "text": [
      "File SU47_47.csv could not be read due to being empty or invalid format. Skipping.\n",
      "File SU66_89.csv could not be read due to being empty or invalid format. Skipping.\n",
      "File 443313005.csv could not be read due to being empty or invalid format. Skipping.\n",
      "File 8_521.csv could not be read due to being empty or invalid format. Skipping.\n",
      "File SU08_22.csv could not be read due to being empty or invalid format. Skipping.\n"
     ]
    },
    {
     "name": "stderr",
     "output_type": "stream",
     "text": [
      "\n",
      "\n",
      "\n",
      "\u001b[A\u001b[A\u001b[A"
     ]
    },
    {
     "name": "stdout",
     "output_type": "stream",
     "text": [
      "File 0453GW.csv could not be read due to being empty or invalid format. Skipping.\n",
      "File 0082GW.csv could not be read due to being empty or invalid format. Skipping.\n",
      "File TF82_006.csv could not be read due to being empty or invalid format. Skipping.\n",
      "File NTG2166P1.csv could not be read due to being empty or invalid format. Skipping.\n",
      "File 4087.csv could not be read due to being empty or invalid format. Skipping.\n",
      "File TF83_567.csv could not be read due to being empty or invalid format. Skipping.\n",
      "File 738348.csv could not be read due to being empty or invalid format. Skipping.\n",
      "File TA15LSM0CC.csv could not be read due to being empty or invalid format. Skipping.\n"
     ]
    },
    {
     "name": "stderr",
     "output_type": "stream",
     "text": [
      "\n",
      "\n",
      "\n",
      "\u001b[A\u001b[A\u001b[A"
     ]
    },
    {
     "name": "stdout",
     "output_type": "stream",
     "text": [
      "File SX98G061.csv could not be read due to being empty or invalid format. Skipping.\n",
      "File L2035.csv could not be read due to being empty or invalid format. Skipping.\n",
      "File 0263GW.csv could not be read due to being empty or invalid format. Skipping.\n",
      "File TL01_90B.csv could not be read due to being empty or invalid format. Skipping.\n",
      "File 25-3-60.csv could not be read due to being empty or invalid format. Skipping.\n",
      "File 8_904.csv could not be read due to being empty or invalid format. Skipping.\n"
     ]
    },
    {
     "name": "stderr",
     "output_type": "stream",
     "text": [
      "\n",
      "\n",
      "\n",
      "\u001b[A\u001b[A\u001b[A"
     ]
    },
    {
     "name": "stdout",
     "output_type": "stream",
     "text": [
      "File NY00_439.csv could not be read due to being empty or invalid format. Skipping.\n",
      "File 24-5-150.csv could not be read due to being empty or invalid format. Skipping.\n",
      "File TG31_364.csv could not be read due to being empty or invalid format. Skipping.\n",
      "File 416743.csv could not be read due to being empty or invalid format. Skipping.\n",
      "File S25527_FW.csv could not be read due to being empty or invalid format. Skipping.\n",
      "File SX99F150.csv could not be read due to being empty or invalid format. Skipping.\n"
     ]
    },
    {
     "name": "stderr",
     "output_type": "stream",
     "text": [
      "\n",
      "\n",
      "\n",
      "\u001b[A\u001b[A\u001b[A"
     ]
    },
    {
     "name": "stdout",
     "output_type": "stream",
     "text": [
      "File 530191_FW.csv could not be read due to being empty or invalid format. Skipping.\n",
      "File 644623002.csv could not be read due to being empty or invalid format. Skipping.\n",
      "File L2009.csv could not be read due to being empty or invalid format. Skipping.\n",
      "File 556201008.csv could not be read due to being empty or invalid format. Skipping.\n",
      "File 90190438.csv could not be read due to being empty or invalid format. Skipping.\n",
      "File 738360.csv could not be read due to being empty or invalid format. Skipping.\n"
     ]
    },
    {
     "name": "stderr",
     "output_type": "stream",
     "text": [
      "\n",
      "\n",
      "\n",
      "\u001b[A\u001b[A\u001b[A"
     ]
    },
    {
     "name": "stdout",
     "output_type": "stream",
     "text": [
      "File TL84_781.csv could not be read due to being empty or invalid format. Skipping.\n",
      "File 521110.csv could not be read due to being empty or invalid format. Skipping.\n",
      "File 308901.csv could not be read due to being empty or invalid format. Skipping.\n",
      "File 694075.csv could not be read due to being empty or invalid format. Skipping.\n",
      "File 342640014.csv could not be read due to being empty or invalid format. Skipping.\n",
      "File TL12_1.csv could not be read due to being empty or invalid format. Skipping.\n"
     ]
    },
    {
     "name": "stderr",
     "output_type": "stream",
     "text": [
      "\n",
      "\n",
      "\n",
      "\u001b[A\u001b[A\u001b[A"
     ]
    },
    {
     "name": "stdout",
     "output_type": "stream",
     "text": [
      "File 0162GW.csv could not be read due to being empty or invalid format. Skipping.\n",
      "File SU89_64.csv could not be read due to being empty or invalid format. Skipping.\n",
      "File FWIF01_FW.csv could not be read due to being empty or invalid format. Skipping.\n",
      "File 141802561.csv could not be read due to being empty or invalid format. Skipping.\n",
      "File NY52_25.csv could not be read due to being empty or invalid format. Skipping.\n",
      "File 693040.csv could not be read due to being empty or invalid format. Skipping.\n",
      "File 4078.csv could not be read due to being empty or invalid format. Skipping.\n",
      "File 2001TH.csv could not be read due to being empty or invalid format. Skipping.\n",
      "File 330252.csv could not be read due to being empty or invalid format. Skipping.\n"
     ]
    },
    {
     "name": "stderr",
     "output_type": "stream",
     "text": [
      "\n",
      "\n",
      "\n",
      "\u001b[A\u001b[A\u001b[A"
     ]
    },
    {
     "name": "stdout",
     "output_type": "stream",
     "text": [
      "File 2495TH.csv could not be read due to being empty or invalid format. Skipping.\n",
      "File 692438.csv could not be read due to being empty or invalid format. Skipping.\n",
      "File 2807TH.csv could not be read due to being empty or invalid format. Skipping.\n",
      "File 143306948.csv could not be read due to being empty or invalid format. Skipping.\n",
      "File 199736.csv could not be read due to being empty or invalid format. Skipping.\n",
      "File SJ55_43.csv could not be read due to being empty or invalid format. Skipping.\n",
      "File L0805.csv could not be read due to being empty or invalid format. Skipping.\n",
      "File SE56YB00SS.csv could not be read due to being empty or invalid format. Skipping.\n"
     ]
    },
    {
     "name": "stderr",
     "output_type": "stream",
     "text": [
      "\n",
      "\n",
      "\n",
      "\u001b[A\u001b[A\u001b[A"
     ]
    },
    {
     "name": "stdout",
     "output_type": "stream",
     "text": [
      "File 25-4-97.csv could not be read due to being empty or invalid format. Skipping.\n",
      "File 47002.csv could not be read due to being empty or invalid format. Skipping.\n",
      "File 93535.csv could not be read due to being empty or invalid format. Skipping.\n",
      "File SD54_3A.csv could not be read due to being empty or invalid format. Skipping.\n",
      "File 520541.csv could not be read due to being empty or invalid format. Skipping.\n"
     ]
    },
    {
     "name": "stderr",
     "output_type": "stream",
     "text": [
      "\n",
      "\n",
      "\n",
      "\u001b[A\u001b[A\u001b[A"
     ]
    },
    {
     "name": "stdout",
     "output_type": "stream",
     "text": [
      "File 288504TP.csv could not be read due to being empty or invalid format. Skipping.\n",
      "File 453202005.csv could not be read due to being empty or invalid format. Skipping.\n",
      "File 520555.csv could not be read due to being empty or invalid format. Skipping.\n",
      "File 2180TH.csv could not be read due to being empty or invalid format. Skipping.\n",
      "File 780001.csv could not be read due to being empty or invalid format. Skipping.\n",
      "File SE62CLN0RD.csv could not be read due to being empty or invalid format. Skipping.\n",
      "File 8037GW.csv could not be read due to being empty or invalid format. Skipping.\n",
      "File SE55MMP2SS.csv could not be read due to being empty or invalid format. Skipping.\n",
      "File 141808918.csv could not be read due to being empty or invalid format. Skipping.\n",
      "File SY09G095.csv could not be read due to being empty or invalid format. Skipping.\n"
     ]
    },
    {
     "name": "stderr",
     "output_type": "stream",
     "text": [
      "\n",
      "\n",
      "\n",
      "\u001b[A\u001b[A\u001b[A"
     ]
    },
    {
     "name": "stdout",
     "output_type": "stream",
     "text": [
      "File L2008.csv could not be read due to being empty or invalid format. Skipping.\n",
      "File TF83_567L.csv could not be read due to being empty or invalid format. Skipping.\n",
      "File L3316.csv could not be read due to being empty or invalid format. Skipping.\n",
      "File 556201009.csv could not be read due to being empty or invalid format. Skipping.\n",
      "File 1776GW.csv could not be read due to being empty or invalid format. Skipping.\n"
     ]
    },
    {
     "name": "stderr",
     "output_type": "stream",
     "text": [
      "\n",
      "\n",
      "\n",
      "\u001b[A\u001b[A\u001b[A"
     ]
    },
    {
     "name": "stdout",
     "output_type": "stream",
     "text": [
      "File 692388.csv could not be read due to being empty or invalid format. Skipping.\n",
      "File 375928.csv could not be read due to being empty or invalid format. Skipping.\n",
      "File NY00_438.csv could not be read due to being empty or invalid format. Skipping.\n",
      "File 25-5-112B.csv could not be read due to being empty or invalid format. Skipping.\n",
      "File 720248.csv could not be read due to being empty or invalid format. Skipping.\n",
      "File 25-3-5.csv could not be read due to being empty or invalid format. Skipping.\n"
     ]
    },
    {
     "name": "stderr",
     "output_type": "stream",
     "text": [
      "\n",
      "\n",
      "\n",
      "\u001b[A\u001b[A\u001b[A"
     ]
    },
    {
     "name": "stdout",
     "output_type": "stream",
     "text": [
      "File 265038TP.csv could not be read due to being empty or invalid format. Skipping.\n",
      "File 297775.csv could not be read due to being empty or invalid format. Skipping.\n",
      "File L1515.csv could not be read due to being empty or invalid format. Skipping.\n",
      "File L32012_NE.csv could not be read due to being empty or invalid format. Skipping.\n",
      "File 142206309.csv could not be read due to being empty or invalid format. Skipping.\n",
      "File SJ56_126.csv could not be read due to being empty or invalid format. Skipping.\n",
      "File 149927.csv could not be read due to being empty or invalid format. Skipping.\n"
     ]
    },
    {
     "name": "stderr",
     "output_type": "stream",
     "text": [
      "\n",
      "\n",
      "\n",
      "\u001b[A\u001b[A\u001b[A"
     ]
    },
    {
     "name": "stdout",
     "output_type": "stream",
     "text": [
      "File 432810.csv could not be read due to being empty or invalid format. Skipping.\n",
      "File SX98G060.csv could not be read due to being empty or invalid format. Skipping.\n",
      "File TF83_566.csv could not be read due to being empty or invalid format. Skipping.\n",
      "File SP90_72.csv could not be read due to being empty or invalid format. Skipping.\n",
      "File 555211004.csv could not be read due to being empty or invalid format. Skipping.\n",
      "File 3650TH.csv could not be read due to being empty or invalid format. Skipping.\n",
      "File 25-3-61.csv could not be read due to being empty or invalid format. Skipping.\n",
      "File L2020.csv could not be read due to being empty or invalid format. Skipping.\n"
     ]
    },
    {
     "name": "stderr",
     "output_type": "stream",
     "text": [
      "\n",
      "\n",
      "\n",
      "\u001b[A\u001b[A\u001b[A"
     ]
    },
    {
     "name": "stdout",
     "output_type": "stream",
     "text": [
      "File 1818GW.csv could not be read due to being empty or invalid format. Skipping.\n",
      "File NX91_84.csv could not be read due to being empty or invalid format. Skipping.\n",
      "File 244150008.csv could not be read due to being empty or invalid format. Skipping.\n",
      "File TL84_541.csv could not be read due to being empty or invalid format. Skipping.\n",
      "File 141803332.csv could not be read due to being empty or invalid format. Skipping.\n",
      "File TL88_003.csv could not be read due to being empty or invalid format. Skipping.\n"
     ]
    },
    {
     "name": "stderr",
     "output_type": "stream",
     "text": [
      "\n",
      "\n",
      "\n",
      "\u001b[A\u001b[A\u001b[A"
     ]
    },
    {
     "name": "stdout",
     "output_type": "stream",
     "text": [
      "File SE52BCF0SS.csv could not be read due to being empty or invalid format. Skipping.\n",
      "File 2189GW.csv could not be read due to being empty or invalid format. Skipping.\n",
      "File 644044002.csv could not be read due to being empty or invalid format. Skipping.\n",
      "File 40101082.csv could not be read due to being empty or invalid format. Skipping.\n",
      "File 3823TH.csv could not be read due to being empty or invalid format. Skipping.\n",
      "File 2622.csv could not be read due to being empty or invalid format. Skipping.\n"
     ]
    },
    {
     "name": "stderr",
     "output_type": "stream",
     "text": [
      "\n",
      "\n",
      "\n",
      "\u001b[A\u001b[A\u001b[A"
     ]
    },
    {
     "name": "stdout",
     "output_type": "stream",
     "text": [
      "File ST99_60.csv could not be read due to being empty or invalid format. Skipping.\n",
      "File 644900002.csv could not be read due to being empty or invalid format. Skipping.\n",
      "File 4535.csv could not be read due to being empty or invalid format. Skipping.\n",
      "File SU99_60.csv could not be read due to being empty or invalid format. Skipping.\n",
      "File TM16_3058.csv could not be read due to being empty or invalid format. Skipping.\n",
      "File 21A14.csv could not be read due to being empty or invalid format. Skipping.\n",
      "File 240201TP.csv could not be read due to being empty or invalid format. Skipping.\n"
     ]
    },
    {
     "name": "stderr",
     "output_type": "stream",
     "text": [
      "\n",
      "\n",
      "\n",
      "\u001b[A\u001b[A\u001b[A"
     ]
    },
    {
     "name": "stdout",
     "output_type": "stream",
     "text": [
      "File 243101021.csv could not be read due to being empty or invalid format. Skipping.\n",
      "File SD44_32.csv could not be read due to being empty or invalid format. Skipping.\n",
      "File ST99_74.csv could not be read due to being empty or invalid format. Skipping.\n",
      "File 320530.csv could not be read due to being empty or invalid format. Skipping.\n",
      "File 111741.csv could not be read due to being empty or invalid format. Skipping.\n"
     ]
    },
    {
     "name": "stderr",
     "output_type": "stream",
     "text": [
      "\n",
      "\n",
      "\n",
      "\u001b[A\u001b[A\u001b[A"
     ]
    },
    {
     "name": "stdout",
     "output_type": "stream",
     "text": [
      "File 521313.csv could not be read due to being empty or invalid format. Skipping.\n",
      "File 2636.csv could not be read due to being empty or invalid format. Skipping.\n",
      "File 144783.csv could not be read due to being empty or invalid format. Skipping.\n",
      "File 23036.csv could not be read due to being empty or invalid format. Skipping.\n",
      "File L1703.csv could not be read due to being empty or invalid format. Skipping.\n",
      "File 737536.csv could not be read due to being empty or invalid format. Skipping.\n",
      "File 143701751.csv could not be read due to being empty or invalid format. Skipping.\n"
     ]
    },
    {
     "name": "stderr",
     "output_type": "stream",
     "text": [
      "\n",
      "\n",
      "\n",
      "\u001b[A\u001b[A\u001b[A"
     ]
    },
    {
     "name": "stdout",
     "output_type": "stream",
     "text": [
      "File 83280.csv could not be read due to being empty or invalid format. Skipping.\n",
      "File SU75_23.csv could not be read due to being empty or invalid format. Skipping.\n",
      "File 1483TH.csv could not be read due to being empty or invalid format. Skipping.\n",
      "File SE29RH00ML.csv could not be read due to being empty or invalid format. Skipping.\n",
      "File 246886.csv could not be read due to being empty or invalid format. Skipping.\n",
      "File 692820.csv could not be read due to being empty or invalid format. Skipping.\n"
     ]
    },
    {
     "name": "stderr",
     "output_type": "stream",
     "text": [
      "\n",
      "\n",
      "\n",
      "\u001b[A\u001b[A\u001b[A"
     ]
    },
    {
     "name": "stdout",
     "output_type": "stream",
     "text": [
      "File 443531001.csv could not be read due to being empty or invalid format. Skipping.\n",
      "File 720710.csv could not be read due to being empty or invalid format. Skipping.\n",
      "File SP80_63.csv could not be read due to being empty or invalid format. Skipping.\n",
      "File 181385.csv could not be read due to being empty or invalid format. Skipping.\n",
      "File NTG1212P2.csv could not be read due to being empty or invalid format. Skipping.\n",
      "File 2409TH.csv could not be read due to being empty or invalid format. Skipping.\n",
      "File 0202GW.csv could not be read due to being empty or invalid format. Skipping.\n",
      "File 62724.csv could not be read due to being empty or invalid format. Skipping.\n",
      "File 0247GW.csv could not be read due to being empty or invalid format. Skipping.\n"
     ]
    },
    {
     "name": "stderr",
     "output_type": "stream",
     "text": [
      "\n",
      "\n",
      "\n",
      "\u001b[A\u001b[A\u001b[A"
     ]
    },
    {
     "name": "stdout",
     "output_type": "stream",
     "text": [
      "File 0557GW.csv could not be read due to being empty or invalid format. Skipping.\n",
      "File 371623.csv could not be read due to being empty or invalid format. Skipping.\n",
      "File SX98G510.csv could not be read due to being empty or invalid format. Skipping.\n",
      "File 24017.csv could not be read due to being empty or invalid format. Skipping.\n",
      "File NTG1271P1.csv could not be read due to being empty or invalid format. Skipping.\n",
      "File F1402.csv could not be read due to being empty or invalid format. Skipping.\n",
      "File SE25HTF0MG.csv could not be read due to being empty or invalid format. Skipping.\n",
      "File 5005.csv could not be read due to being empty or invalid format. Skipping.\n"
     ]
    },
    {
     "name": "stderr",
     "output_type": "stream",
     "text": [
      "\n",
      "\n",
      "\n",
      "\u001b[A\u001b[A\u001b[A"
     ]
    },
    {
     "name": "stdout",
     "output_type": "stream",
     "text": [
      "File 24-3-510.csv could not be read due to being empty or invalid format. Skipping.\n",
      "File 243103018.csv could not be read due to being empty or invalid format. Skipping.\n",
      "File L3921.csv could not be read due to being empty or invalid format. Skipping.\n",
      "File 90178230.csv could not be read due to being empty or invalid format. Skipping.\n",
      "File 141808449.csv could not be read due to being empty or invalid format. Skipping.\n",
      "File 2230_w2TH.csv could not be read due to being empty or invalid format. Skipping.\n"
     ]
    },
    {
     "name": "stderr",
     "output_type": "stream",
     "text": [
      "\n",
      "\n",
      "\n",
      "\u001b[A\u001b[A\u001b[A"
     ]
    },
    {
     "name": "stdout",
     "output_type": "stream",
     "text": [
      "File SS54F500.csv could not be read due to being empty or invalid format. Skipping.\n",
      "File 254330099.csv could not be read due to being empty or invalid format. Skipping.\n"
     ]
    },
    {
     "name": "stderr",
     "output_type": "stream",
     "text": [
      "\n",
      "\n",
      "\n",
      "\u001b[A\u001b[A\u001b[A"
     ]
    },
    {
     "name": "stdout",
     "output_type": "stream",
     "text": [
      "File L32042.csv could not be read due to being empty or invalid format. Skipping.\n",
      "File 2434TH.csv could not be read due to being empty or invalid format. Skipping.\n",
      "File SE95GS00CC.csv could not be read due to being empty or invalid format. Skipping.\n",
      "File L2418.csv could not be read due to being empty or invalid format. Skipping.\n",
      "File 605382.csv could not be read due to being empty or invalid format. Skipping.\n"
     ]
    },
    {
     "name": "stderr",
     "output_type": "stream",
     "text": [
      "\n",
      "\n",
      "\n",
      "\u001b[A\u001b[A\u001b[A"
     ]
    },
    {
     "name": "stdout",
     "output_type": "stream",
     "text": [
      "File 141804298.csv could not be read due to being empty or invalid format. Skipping.\n",
      "File 141805186.csv could not be read due to being empty or invalid format. Skipping.\n",
      "File 160755.csv could not be read due to being empty or invalid format. Skipping.\n",
      "File SJ89_258.csv could not be read due to being empty or invalid format. Skipping.\n",
      "File 74740.csv could not be read due to being empty or invalid format. Skipping.\n",
      "File L0233.csv could not be read due to being empty or invalid format. Skipping.\n"
     ]
    },
    {
     "name": "stderr",
     "output_type": "stream",
     "text": [
      "\n",
      "\n",
      "\n",
      "\u001b[A\u001b[A\u001b[A"
     ]
    },
    {
     "name": "stdout",
     "output_type": "stream",
     "text": [
      "File 244142008.csv could not be read due to being empty or invalid format. Skipping.\n",
      "File FWCK01_FW.csv could not be read due to being empty or invalid format. Skipping.\n",
      "File 556510001.csv could not be read due to being empty or invalid format. Skipping.\n",
      "File 142501211.csv could not be read due to being empty or invalid format. Skipping.\n",
      "File 2735TH.csv could not be read due to being empty or invalid format. Skipping.\n",
      "File SJ69_133.csv could not be read due to being empty or invalid format. Skipping.\n",
      "File 1418091003.csv could not be read due to being empty or invalid format. Skipping.\n",
      "File 585512.csv could not be read due to being empty or invalid format. Skipping.\n",
      "File 90180212.csv could not be read due to being empty or invalid format. Skipping.\n",
      "File TQ38_263A.csv could not be read due to being empty or invalid format. Skipping.\n",
      "File 40401103.csv could not be read due to being empty or invalid format. Skipping.\n"
     ]
    },
    {
     "name": "stderr",
     "output_type": "stream",
     "text": [
      "\n",
      "\n",
      "\n",
      "\u001b[A\u001b[A\u001b[A"
     ]
    },
    {
     "name": "stdout",
     "output_type": "stream",
     "text": [
      "File 1236TH.csv could not be read due to being empty or invalid format. Skipping.\n",
      "File TQ25_97.csv could not be read due to being empty or invalid format. Skipping.\n",
      "File SU73_81.csv could not be read due to being empty or invalid format. Skipping.\n",
      "File SJ56_90A.csv could not be read due to being empty or invalid format. Skipping.\n",
      "File L2801.csv could not be read due to being empty or invalid format. Skipping.\n",
      "File 4119.csv could not be read due to being empty or invalid format. Skipping.\n"
     ]
    },
    {
     "name": "stderr",
     "output_type": "stream",
     "text": [
      "\n",
      "\n",
      "\n",
      "\u001b[A\u001b[A\u001b[A"
     ]
    },
    {
     "name": "stdout",
     "output_type": "stream",
     "text": [
      "File SE63BST0SS.csv could not be read due to being empty or invalid format. Skipping.\n",
      "File 5_107.csv could not be read due to being empty or invalid format. Skipping.\n",
      "File 530154.csv could not be read due to being empty or invalid format. Skipping.\n",
      "File TM04_360.csv could not be read due to being empty or invalid format. Skipping.\n",
      "File SD17_7.csv could not be read due to being empty or invalid format. Skipping.\n",
      "File SE53KF01RD.csv could not be read due to being empty or invalid format. Skipping.\n",
      "File 290185.csv could not be read due to being empty or invalid format. Skipping.\n"
     ]
    },
    {
     "name": "stderr",
     "output_type": "stream",
     "text": [
      "\n",
      "\n",
      "\n",
      "\u001b[A\u001b[A\u001b[A"
     ]
    },
    {
     "name": "stdout",
     "output_type": "stream",
     "text": [
      "File TL53_003.csv could not be read due to being empty or invalid format. Skipping.\n",
      "File 90168209.csv could not be read due to being empty or invalid format. Skipping.\n",
      "File 4125.csv could not be read due to being empty or invalid format. Skipping.\n",
      "File 51729.csv could not be read due to being empty or invalid format. Skipping.\n",
      "File 142800021.csv could not be read due to being empty or invalid format. Skipping.\n",
      "File 91488237.csv could not be read due to being empty or invalid format. Skipping.\n"
     ]
    },
    {
     "name": "stderr",
     "output_type": "stream",
     "text": [
      "\n",
      "\n",
      "\n",
      "\u001b[A\u001b[A\u001b[A"
     ]
    },
    {
     "name": "stdout",
     "output_type": "stream",
     "text": [
      "File 710200.csv could not be read due to being empty or invalid format. Skipping.\n",
      "File 530168.csv could not be read due to being empty or invalid format. Skipping.\n",
      "File SJ39_105.csv could not be read due to being empty or invalid format. Skipping.\n",
      "File 2540.csv could not be read due to being empty or invalid format. Skipping.\n",
      "File SU73_9C.csv could not be read due to being empty or invalid format. Skipping.\n",
      "File 4131.csv could not be read due to being empty or invalid format. Skipping.\n"
     ]
    },
    {
     "name": "stderr",
     "output_type": "stream",
     "text": [
      "\n",
      "\n",
      "\n",
      "\u001b[A\u001b[A\u001b[A"
     ]
    },
    {
     "name": "stdout",
     "output_type": "stream",
     "text": [
      "File TL33_67.csv could not be read due to being empty or invalid format. Skipping.\n",
      "File 1290_w2TH.csv could not be read due to being empty or invalid format. Skipping.\n",
      "File 1860GW.csv could not be read due to being empty or invalid format. Skipping.\n",
      "File 153900006.csv could not be read due to being empty or invalid format. Skipping.\n",
      "File 234627.csv could not be read due to being empty or invalid format. Skipping.\n",
      "File 1066GW.csv could not be read due to being empty or invalid format. Skipping.\n"
     ]
    },
    {
     "name": "stderr",
     "output_type": "stream",
     "text": [
      "\n",
      "\n",
      "\n",
      "\u001b[A\u001b[A\u001b[A"
     ]
    },
    {
     "name": "stdout",
     "output_type": "stream",
     "text": [
      "File TL31_177.csv could not be read due to being empty or invalid format. Skipping.\n",
      "File 4380TH.csv could not be read due to being empty or invalid format. Skipping.\n",
      "File SU55_85.csv could not be read due to being empty or invalid format. Skipping.\n",
      "File 445508.csv could not be read due to being empty or invalid format. Skipping.\n",
      "File 2226.csv could not be read due to being empty or invalid format. Skipping.\n",
      "File 141811483.csv could not be read due to being empty or invalid format. Skipping.\n",
      "File TL44_282.csv could not be read due to being empty or invalid format. Skipping.\n",
      "File 530183.csv could not be read due to being empty or invalid format. Skipping.\n",
      "File 297167.csv could not be read due to being empty or invalid format. Skipping.\n",
      "File 2241TH.csv could not be read due to being empty or invalid format. Skipping.\n"
     ]
    },
    {
     "name": "stderr",
     "output_type": "stream",
     "text": [
      "\n",
      "\n",
      "\n",
      "\u001b[A\u001b[A\u001b[A"
     ]
    },
    {
     "name": "stdout",
     "output_type": "stream",
     "text": [
      "File 644621012.csv could not be read due to being empty or invalid format. Skipping.\n",
      "File L1307.csv could not be read due to being empty or invalid format. Skipping.\n",
      "File 2204TH.csv could not be read due to being empty or invalid format. Skipping.\n",
      "File SD31_42.csv could not be read due to being empty or invalid format. Skipping.\n",
      "File 372841.csv could not be read due to being empty or invalid format. Skipping.\n",
      "File 205363.csv could not be read due to being empty or invalid format. Skipping.\n",
      "File 1908.csv could not be read due to being empty or invalid format. Skipping.\n",
      "File 152204002.csv could not be read due to being empty or invalid format. Skipping.\n"
     ]
    },
    {
     "name": "stderr",
     "output_type": "stream",
     "text": [
      "\n",
      "\n",
      "\n",
      "\u001b[A\u001b[A\u001b[A"
     ]
    },
    {
     "name": "stdout",
     "output_type": "stream",
     "text": [
      "File 5544GW.csv could not be read due to being empty or invalid format. Skipping.\n",
      "File 530829.csv could not be read due to being empty or invalid format. Skipping.\n",
      "File 4680.csv could not be read due to being empty or invalid format. Skipping.\n",
      "File 5039TH.csv could not be read due to being empty or invalid format. Skipping.\n",
      "File 294452.csv could not be read due to being empty or invalid format. Skipping.\n",
      "File 720300.csv could not be read due to being empty or invalid format. Skipping.\n",
      "File 2011GW.csv could not be read due to being empty or invalid format. Skipping.\n",
      "File 355568.csv could not be read due to being empty or invalid format. Skipping.\n"
     ]
    },
    {
     "name": "stderr",
     "output_type": "stream",
     "text": [
      "\n",
      "\n",
      "\n",
      "\u001b[A\u001b[A\u001b[A"
     ]
    },
    {
     "name": "stdout",
     "output_type": "stream",
     "text": [
      "File 555213001.csv could not be read due to being empty or invalid format. Skipping.\n",
      "File SS70G043.csv could not be read due to being empty or invalid format. Skipping.\n",
      "File 6677GW.csv could not be read due to being empty or invalid format. Skipping.\n",
      "File 131724.csv could not be read due to being empty or invalid format. Skipping.\n",
      "File 90805.csv could not be read due to being empty or invalid format. Skipping.\n",
      "File L17032.csv could not be read due to being empty or invalid format. Skipping.\n",
      "File 453610002.csv could not be read due to being empty or invalid format. Skipping.\n"
     ]
    },
    {
     "name": "stderr",
     "output_type": "stream",
     "text": [
      "\n",
      "\n",
      "\n",
      "\u001b[A\u001b[A\u001b[A\n",
      "\n",
      "\n",
      "\u001b[A\u001b[A\u001b[A"
     ]
    },
    {
     "name": "stdout",
     "output_type": "stream",
     "text": [
      "File 397156.csv could not be read due to being empty or invalid format. Skipping.\n",
      "File SE68APF0CO.csv could not be read due to being empty or invalid format. Skipping.\n",
      "File 750832.csv could not be read due to being empty or invalid format. Skipping.\n",
      "File 590310.csv could not be read due to being empty or invalid format. Skipping.\n",
      "File ST20F100.csv could not be read due to being empty or invalid format. Skipping.\n",
      "File L1322.csv could not be read due to being empty or invalid format. Skipping.\n",
      "File 530194_FW.csv could not be read due to being empty or invalid format. Skipping.\n",
      "File TL12_015.csv could not be read due to being empty or invalid format. Skipping.\n",
      "File 1911.csv could not be read due to being empty or invalid format. Skipping.\n",
      "File 3_629.csv could not be read due to being empty or invalid format. Skipping.\n",
      "File 21228.csv could not be read due to being empty or invalid format. Skipping.\n",
      "File L2603.csv could not be read due to being empty or invalid format. Skipping.\n"
     ]
    },
    {
     "name": "stderr",
     "output_type": "stream",
     "text": [
      "\n",
      "\n",
      "\n",
      "\u001b[A\u001b[A\u001b[A"
     ]
    },
    {
     "name": "stdout",
     "output_type": "stream",
     "text": [
      "File 441011.csv could not be read due to being empty or invalid format. Skipping.\n",
      "File SE62GRR0SS.csv could not be read due to being empty or invalid format. Skipping.\n",
      "File NTG3193P4.csv could not be read due to being empty or invalid format. Skipping.\n",
      "File SU26_72.csv could not be read due to being empty or invalid format. Skipping.\n",
      "File TL01_27.csv could not be read due to being empty or invalid format. Skipping.\n"
     ]
    },
    {
     "name": "stderr",
     "output_type": "stream",
     "text": [
      "\n",
      "\n",
      "\n",
      "\u001b[A\u001b[A\u001b[A"
     ]
    },
    {
     "name": "stdout",
     "output_type": "stream",
     "text": [
      "File 441231002.csv could not be read due to being empty or invalid format. Skipping.\n",
      "File SU74_1.csv could not be read due to being empty or invalid format. Skipping.\n",
      "File 4896.csv could not be read due to being empty or invalid format. Skipping.\n",
      "File 91266.csv could not be read due to being empty or invalid format. Skipping.\n",
      "File 0898TH.csv could not be read due to being empty or invalid format. Skipping.\n",
      "File 0177GW.csv could not be read due to being empty or invalid format. Skipping.\n",
      "File SU36_100.csv could not be read due to being empty or invalid format. Skipping.\n"
     ]
    },
    {
     "name": "stderr",
     "output_type": "stream",
     "text": [
      "\n",
      "\n",
      "\n",
      "\u001b[A\u001b[A\u001b[A"
     ]
    },
    {
     "name": "stdout",
     "output_type": "stream",
     "text": [
      "File SJ39_108.csv could not be read due to being empty or invalid format. Skipping.\n",
      "File 530171.csv could not be read due to being empty or invalid format. Skipping.\n",
      "File TA02ALYTCC.csv could not be read due to being empty or invalid format. Skipping.\n",
      "File SU36_114.csv could not be read due to being empty or invalid format. Skipping.\n",
      "File 459879.csv could not be read due to being empty or invalid format. Skipping.\n",
      "File 530165.csv could not be read due to being empty or invalid format. Skipping.\n",
      "File 334158.csv could not be read due to being empty or invalid format. Skipping.\n"
     ]
    },
    {
     "name": "stderr",
     "output_type": "stream",
     "text": [
      "\n",
      "\n",
      "\n",
      "\u001b[A\u001b[A\u001b[A"
     ]
    },
    {
     "name": "stdout",
     "output_type": "stream",
     "text": [
      "File TL32_8.csv could not be read due to being empty or invalid format. Skipping.\n",
      "File 23-5-83.csv could not be read due to being empty or invalid format. Skipping.\n",
      "File SE52WRJ2SS.csv could not be read due to being empty or invalid format. Skipping.\n",
      "File SJ39_134.csv could not be read due to being empty or invalid format. Skipping.\n",
      "File 399184.csv could not be read due to being empty or invalid format. Skipping.\n",
      "File SP20_99B.csv could not be read due to being empty or invalid format. Skipping.\n"
     ]
    },
    {
     "name": "stderr",
     "output_type": "stream",
     "text": [
      "\n",
      "\n",
      "\n",
      "\u001b[A\u001b[A\u001b[A"
     ]
    },
    {
     "name": "stdout",
     "output_type": "stream",
     "text": [
      "File TL43_032.csv could not be read due to being empty or invalid format. Skipping.\n",
      "File 244121011.csv could not be read due to being empty or invalid format. Skipping.\n",
      "File 138094.csv could not be read due to being empty or invalid format. Skipping.\n",
      "File 520781_FW.csv could not be read due to being empty or invalid format. Skipping.\n",
      "File TL35_006.csv could not be read due to being empty or invalid format. Skipping.\n",
      "File 1829GW.csv could not be read due to being empty or invalid format. Skipping.\n",
      "File 283596TP.csv could not be read due to being empty or invalid format. Skipping.\n",
      "File L13042.csv could not be read due to being empty or invalid format. Skipping.\n",
      "File 90113305.csv could not be read due to being empty or invalid format. Skipping.\n"
     ]
    },
    {
     "name": "stderr",
     "output_type": "stream",
     "text": [
      "\n",
      "\n",
      "\n",
      "\u001b[A\u001b[A\u001b[A"
     ]
    },
    {
     "name": "stdout",
     "output_type": "stream",
     "text": [
      "File SU48_73B.csv could not be read due to being empty or invalid format. Skipping.\n",
      "File 68416.csv could not be read due to being empty or invalid format. Skipping.\n",
      "File S50440_FW.csv could not be read due to being empty or invalid format. Skipping.\n",
      "File NTG3093P1.csv could not be read due to being empty or invalid format. Skipping.\n"
     ]
    },
    {
     "name": "stderr",
     "output_type": "stream",
     "text": [
      "\n",
      "\n",
      "\n",
      "\u001b[A\u001b[A\u001b[A"
     ]
    },
    {
     "name": "stdout",
     "output_type": "stream",
     "text": [
      "File SE92MTB0CC.csv could not be read due to being empty or invalid format. Skipping.\n",
      "File L2373.csv could not be read due to being empty or invalid format. Skipping.\n",
      "File 1747GW.csv could not be read due to being empty or invalid format. Skipping.\n",
      "File TL43_16.csv could not be read due to being empty or invalid format. Skipping.\n",
      "File 371821.csv could not be read due to being empty or invalid format. Skipping.\n"
     ]
    },
    {
     "name": "stderr",
     "output_type": "stream",
     "text": [
      "\n",
      "\n",
      "\n",
      "\u001b[A\u001b[A\u001b[A"
     ]
    },
    {
     "name": "stdout",
     "output_type": "stream",
     "text": [
      "File 1702GW.csv could not be read due to being empty or invalid format. Skipping.\n",
      "File TA03KRT0RD.csv could not be read due to being empty or invalid format. Skipping.\n",
      "File L1108.csv could not be read due to being empty or invalid format. Skipping.\n",
      "File SU09_93B.csv could not be read due to being empty or invalid format. Skipping.\n",
      "File SD41_27.csv could not be read due to being empty or invalid format. Skipping.\n",
      "File 2875B.csv could not be read due to being empty or invalid format. Skipping.\n",
      "File 141802169.csv could not be read due to being empty or invalid format. Skipping.\n"
     ]
    },
    {
     "name": "stderr",
     "output_type": "stream",
     "text": [
      "\n",
      "\n",
      "\n",
      "\u001b[A\u001b[A\u001b[A"
     ]
    },
    {
     "name": "stdout",
     "output_type": "stream",
     "text": [
      "File 90874251.csv could not be read due to being empty or invalid format. Skipping.\n",
      "File 348093.csv could not be read due to being empty or invalid format. Skipping.\n",
      "File TG13_389.csv could not be read due to being empty or invalid format. Skipping.\n",
      "File SW74F056.csv could not be read due to being empty or invalid format. Skipping.\n",
      "File 4070TH.csv could not be read due to being empty or invalid format. Skipping.\n",
      "File 8006GW.csv could not be read due to being empty or invalid format. Skipping.\n",
      "File TL33_043.csv could not be read due to being empty or invalid format. Skipping.\n"
     ]
    },
    {
     "name": "stderr",
     "output_type": "stream",
     "text": [
      "\n",
      "\n",
      "\n",
      "\u001b[A\u001b[A\u001b[A"
     ]
    },
    {
     "name": "stdout",
     "output_type": "stream",
     "text": [
      "File 2058GW.csv could not be read due to being empty or invalid format. Skipping.\n",
      "File 8043GW.csv could not be read due to being empty or invalid format. Skipping.\n",
      "File TL84_410.csv could not be read due to being empty or invalid format. Skipping.\n",
      "File 682223.csv could not be read due to being empty or invalid format. Skipping.\n",
      "File 91487337.csv could not be read due to being empty or invalid format. Skipping.\n",
      "File 510921.csv could not be read due to being empty or invalid format. Skipping.\n",
      "File SD43_2.csv could not be read due to being empty or invalid format. Skipping.\n"
     ]
    },
    {
     "name": "stderr",
     "output_type": "stream",
     "text": [
      "\n",
      "\n",
      "\n",
      "\u001b[A\u001b[A\u001b[A"
     ]
    },
    {
     "name": "stdout",
     "output_type": "stream",
     "text": [
      "File 684120.csv could not be read due to being empty or invalid format. Skipping.\n",
      "File 1446GW.csv could not be read due to being empty or invalid format. Skipping.\n",
      "File 243103015.csv could not be read due to being empty or invalid format. Skipping.\n",
      "File SP00_28B.csv could not be read due to being empty or invalid format. Skipping.\n",
      "File 690155.csv could not be read due to being empty or invalid format. Skipping.\n",
      "File SU64_80.csv could not be read due to being empty or invalid format. Skipping.\n",
      "File 40101064.csv could not be read due to being empty or invalid format. Skipping.\n",
      "File 35103.csv could not be read due to being empty or invalid format. Skipping.\n",
      "File 642215002.csv could not be read due to being empty or invalid format. Skipping.\n"
     ]
    },
    {
     "name": "stderr",
     "output_type": "stream",
     "text": [
      "\n",
      "\n",
      "\n",
      "\u001b[A\u001b[A\u001b[A"
     ]
    },
    {
     "name": "stdout",
     "output_type": "stream",
     "text": [
      "File 2020GW.csv could not be read due to being empty or invalid format. Skipping.\n",
      "File 254310003H.csv could not be read due to being empty or invalid format. Skipping.\n",
      "File TL00_73.csv could not be read due to being empty or invalid format. Skipping.\n",
      "File FWEN01_FW.csv could not be read due to being empty or invalid format. Skipping.\n",
      "File TL83_040.csv could not be read due to being empty or invalid format. Skipping.\n"
     ]
    },
    {
     "name": "stderr",
     "output_type": "stream",
     "text": [
      "\n",
      "\n",
      "\n",
      "\u001b[A\u001b[A\u001b[A"
     ]
    },
    {
     "name": "stdout",
     "output_type": "stream",
     "text": [
      "File 3235TH.csv could not be read due to being empty or invalid format. Skipping.\n",
      "File 530460_FW.csv could not be read due to being empty or invalid format. Skipping.\n",
      "File SP00_32A.csv could not be read due to being empty or invalid format. Skipping.\n",
      "File L0410.csv could not be read due to being empty or invalid format. Skipping.\n",
      "File 24026.csv could not be read due to being empty or invalid format. Skipping.\n",
      "File 55807.csv could not be read due to being empty or invalid format. Skipping.\n",
      "File 142204711.csv could not be read due to being empty or invalid format. Skipping.\n"
     ]
    },
    {
     "name": "stderr",
     "output_type": "stream",
     "text": [
      "\n",
      "\n",
      "\n",
      "\u001b[A\u001b[A\u001b[A"
     ]
    },
    {
     "name": "stdout",
     "output_type": "stream",
     "text": [
      "File 26A04.csv could not be read due to being empty or invalid format. Skipping.\n",
      "File SP11_13B.csv could not be read due to being empty or invalid format. Skipping.\n",
      "File TL54_112.csv could not be read due to being empty or invalid format. Skipping.\n",
      "File 1814GW.csv could not be read due to being empty or invalid format. Skipping.\n",
      "File NW_TG418A.csv could not be read due to being empty or invalid format. Skipping.\n",
      "File L2401A.csv could not be read due to being empty or invalid format. Skipping.\n",
      "File 1057GW.csv could not be read due to being empty or invalid format. Skipping.\n"
     ]
    },
    {
     "name": "stderr",
     "output_type": "stream",
     "text": [
      "\n",
      "\n",
      "\n",
      "\u001b[A\u001b[A\u001b[A"
     ]
    },
    {
     "name": "stdout",
     "output_type": "stream",
     "text": [
      "File 432404.csv could not be read due to being empty or invalid format. Skipping.\n",
      "File NY36_2.csv could not be read due to being empty or invalid format. Skipping.\n",
      "File TL98_026.csv could not be read due to being empty or invalid format. Skipping.\n",
      "File 1012GW.csv could not be read due to being empty or invalid format. Skipping.\n",
      "File 28185.csv could not be read due to being empty or invalid format. Skipping.\n"
     ]
    },
    {
     "name": "stderr",
     "output_type": "stream",
     "text": [
      "\n",
      "\n",
      "\n",
      "\u001b[A\u001b[A\u001b[A"
     ]
    },
    {
     "name": "stdout",
     "output_type": "stream",
     "text": [
      "File SU66_91.csv could not be read due to being empty or invalid format. Skipping.\n",
      "File 0012GW.csv could not be read due to being empty or invalid format. Skipping.\n",
      "File TL98_032.csv could not be read due to being empty or invalid format. Skipping.\n",
      "File 510001TP.csv could not be read due to being empty or invalid format. Skipping.\n",
      "File 40301037.csv could not be read due to being empty or invalid format. Skipping.\n",
      "File SY29F100.csv could not be read due to being empty or invalid format. Skipping.\n"
     ]
    },
    {
     "name": "stderr",
     "output_type": "stream",
     "text": [
      "\n",
      "\n",
      "\n",
      "\u001b[A\u001b[A\u001b[A"
     ]
    },
    {
     "name": "stdout",
     "output_type": "stream",
     "text": [
      "File 2098GW.csv could not be read due to being empty or invalid format. Skipping.\n",
      "File TQ48_88A.csv could not be read due to being empty or invalid format. Skipping.\n",
      "File 346848.csv could not be read due to being empty or invalid format. Skipping.\n",
      "File 463220502.csv could not be read due to being empty or invalid format. Skipping.\n",
      "File 2175.csv could not be read due to being empty or invalid format. Skipping.\n"
     ]
    },
    {
     "name": "stderr",
     "output_type": "stream",
     "text": [
      "\n",
      "\n",
      "\n",
      "\u001b[A\u001b[A\u001b[A"
     ]
    },
    {
     "name": "stdout",
     "output_type": "stream",
     "text": [
      "File 419871.csv could not be read due to being empty or invalid format. Skipping.\n",
      "File 664717901.csv could not be read due to being empty or invalid format. Skipping.\n",
      "File 644612006.csv could not be read due to being empty or invalid format. Skipping.\n",
      "File SE53HST0SS.csv could not be read due to being empty or invalid format. Skipping.\n",
      "File SJ38_89.csv could not be read due to being empty or invalid format. Skipping.\n",
      "File 4461TH.csv could not be read due to being empty or invalid format. Skipping.\n",
      "File TL87_114.csv could not be read due to being empty or invalid format. Skipping.\n",
      "File 438101.csv could not be read due to being empty or invalid format. Skipping.\n",
      "File 142802798.csv could not be read due to being empty or invalid format. Skipping.\n",
      "File 25-3-78.csv could not be read due to being empty or invalid format. Skipping.\n",
      "File 2_566.csv could not be read due to being empty or invalid format. Skipping.\n",
      "File 642326033.csv could not be read due to being empty or invalid format. Skipping.\n",
      "File 402074.csv could not be read due to being empty or invalid format. Skipping.\n"
     ]
    },
    {
     "name": "stderr",
     "output_type": "stream",
     "text": [
      "\n",
      "\n",
      "\n",
      "\u001b[A\u001b[A\u001b[A"
     ]
    },
    {
     "name": "stdout",
     "output_type": "stream",
     "text": [
      "File SJ56_117.csv could not be read due to being empty or invalid format. Skipping.\n",
      "File 244150005.csv could not be read due to being empty or invalid format. Skipping.\n",
      "File 520793_FW.csv could not be read due to being empty or invalid format. Skipping.\n",
      "File NY00_347.csv could not be read due to being empty or invalid format. Skipping.\n",
      "File 3029TH.csv could not be read due to being empty or invalid format. Skipping.\n"
     ]
    },
    {
     "name": "stderr",
     "output_type": "stream",
     "text": [
      "\n",
      "\n",
      "\n",
      "\u001b[A\u001b[A\u001b[A"
     ]
    },
    {
     "name": "stdout",
     "output_type": "stream",
     "text": [
      "File SU89_97.csv could not be read due to being empty or invalid format. Skipping.\n",
      "File 556201004.csv could not be read due to being empty or invalid format. Skipping.\n",
      "File L2005.csv could not be read due to being empty or invalid format. Skipping.\n",
      "File 253340TP.csv could not be read due to being empty or invalid format. Skipping.\n",
      "File SE46BTG0SS.csv could not be read due to being empty or invalid format. Skipping.\n",
      "File TL65_811.csv could not be read due to being empty or invalid format. Skipping.\n",
      "File 142501630.csv could not be read due to being empty or invalid format. Skipping.\n"
     ]
    },
    {
     "name": "stderr",
     "output_type": "stream",
     "text": [
      "\n",
      "\n",
      "\n",
      "\u001b[A\u001b[A\u001b[A"
     ]
    },
    {
     "name": "stdout",
     "output_type": "stream",
     "text": [
      "File 76204.csv could not be read due to being empty or invalid format. Skipping.\n",
      "File 2185GW.csv could not be read due to being empty or invalid format. Skipping.\n",
      "File 2834B.csv could not be read due to being empty or invalid format. Skipping.\n",
      "File SE45WFL0ML.csv could not be read due to being empty or invalid format. Skipping.\n"
     ]
    },
    {
     "name": "stderr",
     "output_type": "stream",
     "text": [
      "\n",
      "\n",
      "\n",
      "\u001b[A\u001b[A\u001b[A"
     ]
    },
    {
     "name": "stdout",
     "output_type": "stream",
     "text": [
      "File 432606.csv could not be read due to being empty or invalid format. Skipping.\n",
      "File L29080.csv could not be read due to being empty or invalid format. Skipping.\n",
      "File L2011.csv could not be read due to being empty or invalid format. Skipping.\n",
      "File SU93_30.csv could not be read due to being empty or invalid format. Skipping.\n"
     ]
    },
    {
     "name": "stderr",
     "output_type": "stream",
     "text": [
      "\n",
      "\n",
      "\n",
      "\u001b[A\u001b[A\u001b[A"
     ]
    },
    {
     "name": "stdout",
     "output_type": "stream",
     "text": [
      "File 387594.csv could not be read due to being empty or invalid format. Skipping.\n",
      "File 2178GW.csv could not be read due to being empty or invalid format. Skipping.\n",
      "File NY44_9.csv could not be read due to being empty or invalid format. Skipping.\n",
      "File TM08_015.csv could not be read due to being empty or invalid format. Skipping.\n",
      "File SY29G020.csv could not be read due to being empty or invalid format. Skipping.\n",
      "File SE61TIF0SS.csv could not be read due to being empty or invalid format. Skipping.\n",
      "File 368747.csv could not be read due to being empty or invalid format. Skipping.\n",
      "File 4433131004.csv could not be read due to being empty or invalid format. Skipping.\n",
      "File SE95SBB0CC.csv could not be read due to being empty or invalid format. Skipping.\n",
      "File FWLL01_FW.csv could not be read due to being empty or invalid format. Skipping.\n"
     ]
    },
    {
     "name": "stderr",
     "output_type": "stream",
     "text": [
      "\n",
      "\n",
      "\n",
      "\u001b[A\u001b[A\u001b[A"
     ]
    },
    {
     "name": "stdout",
     "output_type": "stream",
     "text": [
      "File TL66_087.csv could not be read due to being empty or invalid format. Skipping.\n",
      "File 4150TH.csv could not be read due to being empty or invalid format. Skipping.\n",
      "File SE45PB00RD.csv could not be read due to being empty or invalid format. Skipping.\n",
      "File TL46_003.csv could not be read due to being empty or invalid format. Skipping.\n",
      "File L0809.csv could not be read due to being empty or invalid format. Skipping.\n",
      "File SE62HCT1SS.csv could not be read due to being empty or invalid format. Skipping.\n"
     ]
    },
    {
     "name": "stderr",
     "output_type": "stream",
     "text": [
      "\n",
      "\n",
      "\n",
      "\u001b[A\u001b[A\u001b[A"
     ]
    },
    {
     "name": "stdout",
     "output_type": "stream",
     "text": [
      "File 363148.csv could not be read due to being empty or invalid format. Skipping.\n",
      "File F2502.csv could not be read due to being empty or invalid format. Skipping.\n",
      "File SE83HHC0RD.csv could not be read due to being empty or invalid format. Skipping.\n",
      "File 694045.csv could not be read due to being empty or invalid format. Skipping.\n",
      "File 21-0-177.csv could not be read due to being empty or invalid format. Skipping.\n",
      "File 712221.csv could not be read due to being empty or invalid format. Skipping.\n",
      "File 2916TH.csv could not be read due to being empty or invalid format. Skipping.\n",
      "File TL56_002.csv could not be read due to being empty or invalid format. Skipping.\n"
     ]
    },
    {
     "name": "stderr",
     "output_type": "stream",
     "text": [
      "\n",
      "\n",
      "\n",
      "\u001b[A\u001b[A\u001b[A"
     ]
    },
    {
     "name": "stdout",
     "output_type": "stream",
     "text": [
      "File SE95EBW0CC.csv could not be read due to being empty or invalid format. Skipping.\n",
      "File L0808.csv could not be read due to being empty or invalid format. Skipping.\n",
      "File 531440.csv could not be read due to being empty or invalid format. Skipping.\n",
      "File 556112002.csv could not be read due to being empty or invalid format. Skipping.\n",
      "File 8_048.csv could not be read due to being empty or invalid format. Skipping.\n",
      "File 141804135.csv could not be read due to being empty or invalid format. Skipping.\n",
      "File NY14_41.csv could not be read due to being empty or invalid format. Skipping.\n",
      "File 761595.csv could not be read due to being empty or invalid format. Skipping.\n",
      "File 1875GW.csv could not be read due to being empty or invalid format. Skipping.\n"
     ]
    },
    {
     "name": "stderr",
     "output_type": "stream",
     "text": [
      "\n",
      "\n",
      "\n",
      "\u001b[A\u001b[A\u001b[A"
     ]
    },
    {
     "name": "stdout",
     "output_type": "stream",
     "text": [
      "File 243102040.csv could not be read due to being empty or invalid format. Skipping.\n",
      "File 432613.csv could not be read due to being empty or invalid format. Skipping.\n",
      "File 1036GW.csv could not be read due to being empty or invalid format. Skipping.\n",
      "File S10541_FW.csv could not be read due to being empty or invalid format. Skipping.\n",
      "File TL99_022.csv could not be read due to being empty or invalid format. Skipping.\n",
      "File TL98_231.csv could not be read due to being empty or invalid format. Skipping.\n"
     ]
    },
    {
     "name": "stderr",
     "output_type": "stream",
     "text": [
      "\n",
      "\n",
      "\n",
      "\u001b[A\u001b[A\u001b[A"
     ]
    },
    {
     "name": "stdout",
     "output_type": "stream",
     "text": [
      "File SD53_26.csv could not be read due to being empty or invalid format. Skipping.\n",
      "File 43533.csv could not be read due to being empty or invalid format. Skipping.\n",
      "File 453401001.csv could not be read due to being empty or invalid format. Skipping.\n",
      "File SE44SHFLML.csv could not be read due to being empty or invalid format. Skipping.\n",
      "File SD53_32.csv could not be read due to being empty or invalid format. Skipping.\n"
     ]
    },
    {
     "name": "stderr",
     "output_type": "stream",
     "text": [
      "\n",
      "\n",
      "\n",
      "\u001b[A\u001b[A\u001b[A"
     ]
    },
    {
     "name": "stdout",
     "output_type": "stream",
     "text": [
      "File NY34_1.csv could not be read due to being empty or invalid format. Skipping.\n",
      "File 0073GW.csv could not be read due to being empty or invalid format. Skipping.\n",
      "File 463630901.csv could not be read due to being empty or invalid format. Skipping.\n",
      "File SU78_90.csv could not be read due to being empty or invalid format. Skipping.\n",
      "File SU89_82.csv could not be read due to being empty or invalid format. Skipping.\n",
      "File 5171_w1TH.csv could not be read due to being empty or invalid format. Skipping.\n"
     ]
    },
    {
     "name": "stderr",
     "output_type": "stream",
     "text": [
      "\n",
      "\n",
      "\n",
      "\u001b[A\u001b[A\u001b[A"
     ]
    },
    {
     "name": "stdout",
     "output_type": "stream",
     "text": [
      "File SP90_56.csv could not be read due to being empty or invalid format. Skipping.\n",
      "File TG23_913.csv could not be read due to being empty or invalid format. Skipping.\n",
      "File L0607.csv could not be read due to being empty or invalid format. Skipping.\n",
      "File SY19G066.csv could not be read due to being empty or invalid format. Skipping.\n",
      "File 2254TH.csv could not be read due to being empty or invalid format. Skipping.\n",
      "File 1888GW.csv could not be read due to being empty or invalid format. Skipping.\n",
      "File 556201005.csv could not be read due to being empty or invalid format. Skipping.\n",
      "File 521690.csv could not be read due to being empty or invalid format. Skipping.\n"
     ]
    },
    {
     "name": "stderr",
     "output_type": "stream",
     "text": [
      "\n",
      "\n",
      "\n",
      "\u001b[A\u001b[A\u001b[A"
     ]
    },
    {
     "name": "stdout",
     "output_type": "stream",
     "text": [
      "File SU89_96.csv could not be read due to being empty or invalid format. Skipping.\n",
      "File 304663.csv could not be read due to being empty or invalid format. Skipping.\n",
      "File TL65_810.csv could not be read due to being empty or invalid format. Skipping.\n",
      "File TM17_330.csv could not be read due to being empty or invalid format. Skipping.\n",
      "File SE62WHL2SS.csv could not be read due to being empty or invalid format. Skipping.\n",
      "File 642326032.csv could not be read due to being empty or invalid format. Skipping.\n",
      "File 40401090.csv could not be read due to being empty or invalid format. Skipping.\n"
     ]
    },
    {
     "name": "stderr",
     "output_type": "stream",
     "text": [
      "\n",
      "\n",
      "\n",
      "\u001b[A\u001b[A\u001b[A"
     ]
    },
    {
     "name": "stdout",
     "output_type": "stream",
     "text": [
      "File 738345.csv could not be read due to being empty or invalid format. Skipping.\n",
      "File 654021003.csv could not be read due to being empty or invalid format. Skipping.\n",
      "File 1961TH.csv could not be read due to being empty or invalid format. Skipping.\n",
      "File 244150004.csv could not be read due to being empty or invalid format. Skipping.\n",
      "File 3041GW.csv could not be read due to being empty or invalid format. Skipping.\n",
      "File SJ56_116.csv could not be read due to being empty or invalid format. Skipping.\n",
      "File 555216001.csv could not be read due to being empty or invalid format. Skipping.\n"
     ]
    },
    {
     "name": "stderr",
     "output_type": "stream",
     "text": [
      "\n",
      "\n",
      "\n",
      "\u001b[A\u001b[A\u001b[A"
     ]
    },
    {
     "name": "stdout",
     "output_type": "stream",
     "text": [
      "File 0372GW.csv could not be read due to being empty or invalid format. Skipping.\n",
      "File 442111001.csv could not be read due to being empty or invalid format. Skipping.\n",
      "File 2041GW.csv could not be read due to being empty or invalid format. Skipping.\n",
      "File 142203533.csv could not be read due to being empty or invalid format. Skipping.\n",
      "File 152206023.csv could not be read due to being empty or invalid format. Skipping.\n",
      "File 664014505.csv could not be read due to being empty or invalid format. Skipping.\n",
      "File NTG3032P1.csv could not be read due to being empty or invalid format. Skipping.\n"
     ]
    },
    {
     "name": "stderr",
     "output_type": "stream",
     "text": [
      "\n",
      "\n",
      "\n",
      "\u001b[A\u001b[A\u001b[A"
     ]
    },
    {
     "name": "stdout",
     "output_type": "stream",
     "text": [
      "File SJ38_88.csv could not be read due to being empty or invalid format. Skipping.\n",
      "File 141808519.csv could not be read due to being empty or invalid format. Skipping.\n",
      "File 433055.csv could not be read due to being empty or invalid format. Skipping.\n",
      "File 44704.csv could not be read due to being empty or invalid format. Skipping.\n",
      "File SD63_6.csv could not be read due to being empty or invalid format. Skipping.\n",
      "File SE62CLO1SS.csv could not be read due to being empty or invalid format. Skipping.\n",
      "File SU66_90.csv could not be read due to being empty or invalid format. Skipping.\n",
      "File SE97ROD0CC.csv could not be read due to being empty or invalid format. Skipping.\n",
      "File 0542GW.csv could not be read due to being empty or invalid format. Skipping.\n"
     ]
    },
    {
     "name": "stderr",
     "output_type": "stream",
     "text": [
      "\n",
      "\n",
      "\n",
      "\u001b[A\u001b[A\u001b[A"
     ]
    },
    {
     "name": "stdout",
     "output_type": "stream",
     "text": [
      "File SX99G082.csv could not be read due to being empty or invalid format. Skipping.\n",
      "File TL00_99.csv could not be read due to being empty or invalid format. Skipping.\n",
      "File 9009.csv could not be read due to being empty or invalid format. Skipping.\n",
      "File 644018003.csv could not be read due to being empty or invalid format. Skipping.\n",
      "File 0712TH.csv could not be read due to being empty or invalid format. Skipping.\n",
      "File 325444.csv could not be read due to being empty or invalid format. Skipping.\n",
      "File SD43_37.csv could not be read due to being empty or invalid format. Skipping.\n",
      "File 153218.csv could not be read due to being empty or invalid format. Skipping.\n"
     ]
    },
    {
     "name": "stderr",
     "output_type": "stream",
     "text": [
      "\n",
      "\n",
      "\n",
      "\u001b[A\u001b[A\u001b[A"
     ]
    },
    {
     "name": "stdout",
     "output_type": "stream",
     "text": [
      "File TM09_005.csv could not be read due to being empty or invalid format. Skipping.\n",
      "File NY36_3.csv could not be read due to being empty or invalid format. Skipping.\n",
      "File TL98_027.csv could not be read due to being empty or invalid format. Skipping.\n",
      "File 1757TH.csv could not be read due to being empty or invalid format. Skipping.\n",
      "File 613467.csv could not be read due to being empty or invalid format. Skipping.\n",
      "File 26A05.csv could not be read due to being empty or invalid format. Skipping.\n"
     ]
    },
    {
     "name": "stderr",
     "output_type": "stream",
     "text": [
      "\n",
      "\n",
      "\n",
      "\u001b[A\u001b[A\u001b[A"
     ]
    },
    {
     "name": "stdout",
     "output_type": "stream",
     "text": [
      "File TG02_776.csv could not be read due to being empty or invalid format. Skipping.\n",
      "File 142204710.csv could not be read due to being empty or invalid format. Skipping.\n",
      "File SE95ESH0CC.csv could not be read due to being empty or invalid format. Skipping.\n",
      "File GP06_1.csv could not be read due to being empty or invalid format. Skipping.\n",
      "File L0405.csv could not be read due to being empty or invalid format. Skipping.\n",
      "File 24027.csv could not be read due to being empty or invalid format. Skipping.\n",
      "File TA14RLF0CC.csv could not be read due to being empty or invalid format. Skipping.\n",
      "File TL54_113.csv could not be read due to being empty or invalid format. Skipping.\n",
      "File TG21_619.csv could not be read due to being empty or invalid format. Skipping.\n"
     ]
    },
    {
     "name": "stderr",
     "output_type": "stream",
     "text": [
      "\n",
      "\n",
      "\n",
      "\u001b[A\u001b[A\u001b[A"
     ]
    },
    {
     "name": "stdout",
     "output_type": "stream",
     "text": [
      "File 26142.csv could not be read due to being empty or invalid format. Skipping.\n",
      "File 2499TH.csv could not be read due to being empty or invalid format. Skipping.\n",
      "File 123714.csv could not be read due to being empty or invalid format. Skipping.\n",
      "File 67650.csv could not be read due to being empty or invalid format. Skipping.\n",
      "File 397235.csv could not be read due to being empty or invalid format. Skipping.\n",
      "File L3130.csv could not be read due to being empty or invalid format. Skipping.\n",
      "File 245221008.csv could not be read due to being empty or invalid format. Skipping.\n",
      "File 720708.csv could not be read due to being empty or invalid format. Skipping.\n"
     ]
    },
    {
     "name": "stderr",
     "output_type": "stream",
     "text": [
      "\n",
      "\n",
      "\n",
      "\u001b[A\u001b[A\u001b[A"
     ]
    },
    {
     "name": "stdout",
     "output_type": "stream",
     "text": [
      "File 644921017.csv could not be read due to being empty or invalid format. Skipping.\n",
      "File 692810.csv could not be read due to being empty or invalid format. Skipping.\n",
      "File 644821003.csv could not be read due to being empty or invalid format. Skipping.\n",
      "File TA17BS00CC.csv could not be read due to being empty or invalid format. Skipping.\n",
      "File 40101065.csv could not be read due to being empty or invalid format. Skipping.\n",
      "File TG02_776A.csv could not be read due to being empty or invalid format. Skipping.\n",
      "File 90193302.csv could not be read due to being empty or invalid format. Skipping.\n"
     ]
    },
    {
     "name": "stderr",
     "output_type": "stream",
     "text": [
      "\n",
      "\n",
      "\n",
      "\u001b[A\u001b[A\u001b[A"
     ]
    },
    {
     "name": "stdout",
     "output_type": "stream",
     "text": [
      "File 50501003.csv could not be read due to being empty or invalid format. Skipping.\n",
      "File 3075TH.csv could not be read due to being empty or invalid format. Skipping.\n",
      "File 1303TH.csv could not be read due to being empty or invalid format. Skipping.\n",
      "File 356284.csv could not be read due to being empty or invalid format. Skipping.\n",
      "File SE61PCG0SS.csv could not be read due to being empty or invalid format. Skipping.\n",
      "File 91497131.csv could not be read due to being empty or invalid format. Skipping.\n"
     ]
    },
    {
     "name": "stderr",
     "output_type": "stream",
     "text": [
      "\n",
      "\n",
      "\n",
      "\u001b[A\u001b[A\u001b[A"
     ]
    },
    {
     "name": "stdout",
     "output_type": "stream",
     "text": [
      "File SD43_3.csv could not be read due to being empty or invalid format. Skipping.\n",
      "File 132976.csv could not be read due to being empty or invalid format. Skipping.\n",
      "File 24-3-508.csv could not be read due to being empty or invalid format. Skipping.\n",
      "File 417083.csv could not be read due to being empty or invalid format. Skipping.\n",
      "File 0116GW.csv could not be read due to being empty or invalid format. Skipping.\n",
      "File TL98_147.csv could not be read due to being empty or invalid format. Skipping.\n"
     ]
    },
    {
     "name": "stderr",
     "output_type": "stream",
     "text": [
      "\n",
      "\n",
      "\n",
      "\u001b[A\u001b[A\u001b[A"
     ]
    },
    {
     "name": "stdout",
     "output_type": "stream",
     "text": [
      "File SE46UDC4RD.csv could not be read due to being empty or invalid format. Skipping.\n",
      "File 243103028.csv could not be read due to being empty or invalid format. Skipping.\n",
      "File TL79_003.csv could not be read due to being empty or invalid format. Skipping.\n",
      "File 2758TH.csv could not be read due to being empty or invalid format. Skipping.\n",
      "File 0582GW.csv could not be read due to being empty or invalid format. Skipping.\n",
      "File SD41_32.csv could not be read due to being empty or invalid format. Skipping.\n"
     ]
    },
    {
     "name": "stderr",
     "output_type": "stream",
     "text": [
      "\n",
      "\n",
      "\n",
      "\u001b[A\u001b[A\u001b[A"
     ]
    },
    {
     "name": "stdout",
     "output_type": "stream",
     "text": [
      "File SD42_31A.csv could not be read due to being empty or invalid format. Skipping.\n",
      "File SE35CSF0ML.csv could not be read due to being empty or invalid format. Skipping.\n",
      "File TL23_042.csv could not be read due to being empty or invalid format. Skipping.\n",
      "File SD41_26.csv could not be read due to being empty or invalid format. Skipping.\n",
      "File SP00_55.csv could not be read due to being empty or invalid format. Skipping.\n",
      "File 588006.csv could not be read due to being empty or invalid format. Skipping.\n",
      "File TF72_002.csv could not be read due to being empty or invalid format. Skipping.\n",
      "File SP13_29.csv could not be read due to being empty or invalid format. Skipping.\n",
      "File 441321006.csv could not be read due to being empty or invalid format. Skipping.\n"
     ]
    },
    {
     "name": "stderr",
     "output_type": "stream",
     "text": [
      "\n",
      "\n",
      "\n",
      "\u001b[A\u001b[A\u001b[A"
     ]
    },
    {
     "name": "stdout",
     "output_type": "stream",
     "text": [
      "File 418367.csv could not be read due to being empty or invalid format. Skipping.\n",
      "File 36225.csv could not be read due to being empty or invalid format. Skipping.\n",
      "File L13043.csv could not be read due to being empty or invalid format. Skipping.\n",
      "File 0217GW.csv could not be read due to being empty or invalid format. Skipping.\n",
      "File 296705.csv could not be read due to being empty or invalid format. Skipping.\n",
      "File TL05_083.csv could not be read due to being empty or invalid format. Skipping.\n"
     ]
    },
    {
     "name": "stderr",
     "output_type": "stream",
     "text": [
      "\n",
      "\n",
      "\n",
      "\u001b[A\u001b[A\u001b[A"
     ]
    },
    {
     "name": "stdout",
     "output_type": "stream",
     "text": [
      "File SE63SBS0SS.csv could not be read due to being empty or invalid format. Skipping.\n"
     ]
    },
    {
     "name": "stderr",
     "output_type": "stream",
     "text": [
      "\n",
      "\n",
      "\n",
      "\u001b[A\u001b[A\u001b[A"
     ]
    },
    {
     "name": "stdout",
     "output_type": "stream",
     "text": [
      "File 3088TH.csv could not be read due to being empty or invalid format. Skipping.\n",
      "File 1217GW.csv could not be read due to being empty or invalid format. Skipping.\n",
      "File 2_611.csv could not be read due to being empty or invalid format. Skipping.\n",
      "File 244142010.csv could not be read due to being empty or invalid format. Skipping.\n",
      "File 141811458.csv could not be read due to being empty or invalid format. Skipping.\n",
      "File SU57_161.csv could not be read due to being empty or invalid format. Skipping.\n",
      "File 530158.csv could not be read due to being empty or invalid format. Skipping.\n"
     ]
    },
    {
     "name": "stderr",
     "output_type": "stream",
     "text": [
      "\n",
      "\n",
      "\n",
      "\u001b[A\u001b[A\u001b[A"
     ]
    },
    {
     "name": "stdout",
     "output_type": "stream",
     "text": [
      "File 600023.csv could not be read due to being empty or invalid format. Skipping.\n",
      "File 563500.csv could not be read due to being empty or invalid format. Skipping.\n",
      "File 2216.csv could not be read due to being empty or invalid format. Skipping.\n",
      "File 3269TH.csv could not be read due to being empty or invalid format. Skipping.\n",
      "File 41231800.csv could not be read due to being empty or invalid format. Skipping.\n",
      "File 369504.csv could not be read due to being empty or invalid format. Skipping.\n",
      "File 644600007.csv could not be read due to being empty or invalid format. Skipping.\n",
      "File TF80_244.csv could not be read due to being empty or invalid format. Skipping.\n"
     ]
    },
    {
     "name": "stderr",
     "output_type": "stream",
     "text": [
      "\n",
      "\n",
      "\n",
      "\u001b[A\u001b[A\u001b[A"
     ]
    },
    {
     "name": "stdout",
     "output_type": "stream",
     "text": [
      "File 1919TH.csv could not be read due to being empty or invalid format. Skipping.\n",
      "File 269627TP.csv could not be read due to being empty or invalid format. Skipping.\n",
      "File 141809203.csv could not be read due to being empty or invalid format. Skipping.\n",
      "File TF92_816.csv could not be read due to being empty or invalid format. Skipping.\n",
      "File 3652.csv could not be read due to being empty or invalid format. Skipping.\n",
      "File SD54_18A.csv could not be read due to being empty or invalid format. Skipping.\n",
      "File 521280_FW.csv could not be read due to being empty or invalid format. Skipping.\n"
     ]
    },
    {
     "name": "stderr",
     "output_type": "stream",
     "text": [
      "\n",
      "\n",
      "\n",
      "\u001b[A\u001b[A\u001b[A"
     ]
    },
    {
     "name": "stdout",
     "output_type": "stream",
     "text": [
      "File 57426.csv could not be read due to being empty or invalid format. Skipping.\n",
      "File 4883.csv could not be read due to being empty or invalid format. Skipping.\n",
      "File SE72HKS2SS.csv could not be read due to being empty or invalid format. Skipping.\n",
      "File SU26_98.csv could not be read due to being empty or invalid format. Skipping.\n",
      "File 546520001.csv could not be read due to being empty or invalid format. Skipping.\n"
     ]
    },
    {
     "name": "stderr",
     "output_type": "stream",
     "text": [
      "\n",
      "\n",
      "\n",
      "\u001b[A\u001b[A\u001b[A"
     ]
    },
    {
     "name": "stdout",
     "output_type": "stream",
     "text": [
      "File 5485TH.csv could not be read due to being empty or invalid format. Skipping.\n",
      "File 4129.csv could not be read due to being empty or invalid format. Skipping.\n",
      "File 245212005.csv could not be read due to being empty or invalid format. Skipping.\n",
      "File 2195TH.csv could not be read due to being empty or invalid format. Skipping.\n",
      "File TL21_3.csv could not be read due to being empty or invalid format. Skipping.\n",
      "File 255313001.csv could not be read due to being empty or invalid format. Skipping.\n",
      "File SU38_74B.csv could not be read due to being empty or invalid format. Skipping.\n",
      "File 1904.csv could not be read due to being empty or invalid format. Skipping.\n",
      "File 445510.csv could not be read due to being empty or invalid format. Skipping.\n",
      "File 1910.csv could not be read due to being empty or invalid format. Skipping.\n",
      "File TG13_320B.csv could not be read due to being empty or invalid format. Skipping.\n",
      "File 1763GW.csv could not be read due to being empty or invalid format. Skipping.\n",
      "File 50101021.csv could not be read due to being empty or invalid format. Skipping.\n"
     ]
    },
    {
     "name": "stderr",
     "output_type": "stream",
     "text": [
      "\n",
      "\n",
      "\n",
      "\u001b[A\u001b[A\u001b[A"
     ]
    },
    {
     "name": "stdout",
     "output_type": "stream",
     "text": [
      "File TF73_007.csv could not be read due to being empty or invalid format. Skipping.\n",
      "File SE62TPH2SS.csv could not be read due to being empty or invalid format. Skipping.\n",
      "File 4310TH.csv could not be read due to being empty or invalid format. Skipping.\n",
      "File TL40_46.csv could not be read due to being empty or invalid format. Skipping.\n",
      "File 1848GW.csv could not be read due to being empty or invalid format. Skipping.\n",
      "File L3246.csv could not be read due to being empty or invalid format. Skipping.\n"
     ]
    },
    {
     "name": "stderr",
     "output_type": "stream",
     "text": [
      "\n",
      "\n",
      "\n",
      "\u001b[A\u001b[A\u001b[A"
     ]
    },
    {
     "name": "stdout",
     "output_type": "stream",
     "text": [
      "File 531110_FW.csv could not be read due to being empty or invalid format. Skipping.\n",
      "File 3294TH.csv could not be read due to being empty or invalid format. Skipping.\n",
      "File 4698.csv could not be read due to being empty or invalid format. Skipping.\n",
      "File SE95DTETCC.csv could not be read due to being empty or invalid format. Skipping.\n",
      "File 454435.csv could not be read due to being empty or invalid format. Skipping.\n",
      "File 5355TH.csv could not be read due to being empty or invalid format. Skipping.\n"
     ]
    },
    {
     "name": "stderr",
     "output_type": "stream",
     "text": [
      "\n",
      "\n",
      "\n",
      "\u001b[A\u001b[A\u001b[A"
     ]
    },
    {
     "name": "stdout",
     "output_type": "stream",
     "text": [
      "File TA06BAR0CC.csv could not be read due to being empty or invalid format. Skipping.\n",
      "File 2645TH.csv could not be read due to being empty or invalid format. Skipping.\n",
      "File TL01_18.csv could not be read due to being empty or invalid format. Skipping.\n",
      "File L17033.csv could not be read due to being empty or invalid format. Skipping.\n",
      "File 90191113.csv could not be read due to being empty or invalid format. Skipping.\n",
      "File 90191107.csv could not be read due to being empty or invalid format. Skipping.\n",
      "File SE37RT00RD.csv could not be read due to being empty or invalid format. Skipping.\n"
     ]
    },
    {
     "name": "stderr",
     "output_type": "stream",
     "text": [
      "\n",
      "\n",
      "\n",
      "\u001b[A\u001b[A\u001b[A"
     ]
    },
    {
     "name": "stdout",
     "output_type": "stream",
     "text": [
      "File 126524.csv could not be read due to being empty or invalid format. Skipping.\n",
      "File 1215GW.csv could not be read due to being empty or invalid format. Skipping.\n",
      "File SU28_74.csv could not be read due to being empty or invalid format. Skipping.\n",
      "File L3250.csv could not be read due to being empty or invalid format. Skipping.\n",
      "File SO90_50.csv could not be read due to being empty or invalid format. Skipping.\n",
      "File 924203.csv could not be read due to being empty or invalid format. Skipping.\n",
      "File 141804080.csv could not be read due to being empty or invalid format. Skipping.\n",
      "File 214274.csv could not be read due to being empty or invalid format. Skipping.\n",
      "File TL01_30.csv could not be read due to being empty or invalid format. Skipping.\n",
      "File 2228.csv could not be read due to being empty or invalid format. Skipping.\n"
     ]
    },
    {
     "name": "stderr",
     "output_type": "stream",
     "text": [
      "\n",
      "\n",
      "\n",
      "\u001b[A\u001b[A\u001b[A"
     ]
    },
    {
     "name": "stdout",
     "output_type": "stream",
     "text": [
      "File SE98DWF0CO.csv could not be read due to being empty or invalid format. Skipping.\n",
      "File 0580GW.csv could not be read due to being empty or invalid format. Skipping.\n",
      "File 141811466.csv could not be read due to being empty or invalid format. Skipping.\n",
      "File 530166.csv could not be read due to being empty or invalid format. Skipping.\n",
      "File SD54_18C.csv could not be read due to being empty or invalid format. Skipping.\n"
     ]
    },
    {
     "name": "stderr",
     "output_type": "stream",
     "text": [
      "\n",
      "\n",
      "\n",
      "\u001b[A\u001b[A\u001b[A"
     ]
    },
    {
     "name": "stdout",
     "output_type": "stream",
     "text": [
      "File SJ45_160.csv could not be read due to being empty or invalid format. Skipping.\n",
      "File 2227GW.csv could not be read due to being empty or invalid format. Skipping.\n",
      "File U28.csv could not be read due to being empty or invalid format. Skipping.\n",
      "File 0151GW.csv could not be read due to being empty or invalid format. Skipping.\n",
      "File TL65_741.csv could not be read due to being empty or invalid format. Skipping.\n"
     ]
    },
    {
     "name": "stderr",
     "output_type": "stream",
     "text": [
      "\n",
      "\n",
      "\n",
      "\u001b[A\u001b[A\u001b[A\n",
      "\n",
      "\n",
      "\u001b[A\u001b[A\u001b[A"
     ]
    },
    {
     "name": "stdout",
     "output_type": "stream",
     "text": [
      "File 1301TH.csv could not be read due to being empty or invalid format. Skipping.\n",
      "File 103001.csv could not be read due to being empty or invalid format. Skipping.\n",
      "File 371375.csv could not be read due to being empty or invalid format. Skipping.\n",
      "File L0942.csv could not be read due to being empty or invalid format. Skipping.\n",
      "File TL78_004.csv could not be read due to being empty or invalid format. Skipping.\n",
      "File 4895.csv could not be read due to being empty or invalid format. Skipping.\n",
      "File 574718.csv could not be read due to being empty or invalid format. Skipping.\n",
      "File 107267.csv could not be read due to being empty or invalid format. Skipping.\n",
      "File SP10_85.csv could not be read due to being empty or invalid format. Skipping.\n",
      "File 0301TH.csv could not be read due to being empty or invalid format. Skipping.\n",
      "File TL43_031.csv could not be read due to being empty or invalid format. Skipping.\n"
     ]
    },
    {
     "name": "stderr",
     "output_type": "stream",
     "text": [
      "\n",
      "\n",
      "\n",
      "\u001b[A\u001b[A\u001b[A"
     ]
    },
    {
     "name": "stdout",
     "output_type": "stream",
     "text": [
      "File 90160101.csv could not be read due to being empty or invalid format. Skipping.\n",
      "File 170945.csv could not be read due to being empty or invalid format. Skipping.\n",
      "File TQ25_99.csv could not be read due to being empty or invalid format. Skipping.\n",
      "File SJ39_137.csv could not be read due to being empty or invalid format. Skipping.\n",
      "File 2490_w1TH.csv could not be read due to being empty or invalid format. Skipping.\n",
      "File SP10_91.csv could not be read due to being empty or invalid format. Skipping.\n",
      "File 5522TH.csv could not be read due to being empty or invalid format. Skipping.\n",
      "File 1009GW.csv could not be read due to being empty or invalid format. Skipping.\n",
      "File 61431.csv could not be read due to being empty or invalid format. Skipping.\n",
      "File TL35_011.csv could not be read due to being empty or invalid format. Skipping.\n"
     ]
    },
    {
     "name": "stderr",
     "output_type": "stream",
     "text": [
      "\n",
      "\n",
      "\n",
      "\u001b[A\u001b[A\u001b[A"
     ]
    },
    {
     "name": "stdout",
     "output_type": "stream",
     "text": [
      "File 3296TH.csv could not be read due to being empty or invalid format. Skipping.\n",
      "File 266474TP.csv could not be read due to being empty or invalid format. Skipping.\n",
      "File 244142012.csv could not be read due to being empty or invalid format. Skipping.\n",
      "File SU48_73A.csv could not be read due to being empty or invalid format. Skipping.\n",
      "File L13041.csv could not be read due to being empty or invalid format. Skipping.\n",
      "File 23164.csv could not be read due to being empty or invalid format. Skipping.\n"
     ]
    },
    {
     "name": "stderr",
     "output_type": "stream",
     "text": [
      "\n",
      "\n",
      "\n",
      "\u001b[A\u001b[A\u001b[A"
     ]
    },
    {
     "name": "stdout",
     "output_type": "stream",
     "text": [
      "File 7_024.csv could not be read due to being empty or invalid format. Skipping.\n",
      "File 2602TH.csv could not be read due to being empty or invalid format. Skipping.\n",
      "File L2402.csv could not be read due to being empty or invalid format. Skipping.\n",
      "File 441321004.csv could not be read due to being empty or invalid format. Skipping.\n",
      "File L0215.csv could not be read due to being empty or invalid format. Skipping.\n",
      "File 2_613.csv could not be read due to being empty or invalid format. Skipping.\n",
      "File 244110026.csv could not be read due to being empty or invalid format. Skipping.\n"
     ]
    },
    {
     "name": "stderr",
     "output_type": "stream",
     "text": [
      "\n",
      "\n",
      "\n",
      "\u001b[A\u001b[A\u001b[A"
     ]
    },
    {
     "name": "stdout",
     "output_type": "stream",
     "text": [
      "File 1675TH.csv could not be read due to being empty or invalid format. Skipping.\n",
      "File SJ68_78.csv could not be read due to being empty or invalid format. Skipping.\n",
      "File TG12_172.csv could not be read due to being empty or invalid format. Skipping.\n",
      "File 141804296.csv could not be read due to being empty or invalid format. Skipping.\n",
      "File 2875A.csv could not be read due to being empty or invalid format. Skipping.\n",
      "File TL33_040.csv could not be read due to being empty or invalid format. Skipping.\n",
      "File 4815TH.csv could not be read due to being empty or invalid format. Skipping.\n",
      "File SX97G028.csv could not be read due to being empty or invalid format. Skipping.\n",
      "File 142201087.csv could not be read due to being empty or invalid format. Skipping.\n",
      "File SD41_30.csv could not be read due to being empty or invalid format. Skipping.\n",
      "File SJ59_146.csv could not be read due to being empty or invalid format. Skipping.\n"
     ]
    },
    {
     "name": "stderr",
     "output_type": "stream",
     "text": [
      "\n",
      "\n",
      "\n",
      "\u001b[A\u001b[A\u001b[A\n",
      "\n",
      "\n",
      "\u001b[A\u001b[A\u001b[A"
     ]
    },
    {
     "name": "stdout",
     "output_type": "stream",
     "text": [
      "File SJ68_87.csv could not be read due to being empty or invalid format. Skipping.\n",
      "File SP21_72.csv could not be read due to being empty or invalid format. Skipping.\n",
      "File SJ49_49.csv could not be read due to being empty or invalid format. Skipping.\n",
      "File 331553.csv could not be read due to being empty or invalid format. Skipping.\n",
      "File 141802618.csv could not be read due to being empty or invalid format. Skipping.\n",
      "File TL78_206.csv could not be read due to being empty or invalid format. Skipping.\n",
      "File SD85_66.csv could not be read due to being empty or invalid format. Skipping.\n",
      "File SJ47_64.csv could not be read due to being empty or invalid format. Skipping.\n",
      "File 546580.csv could not be read due to being empty or invalid format. Skipping.\n",
      "File 151806002.csv could not be read due to being empty or invalid format. Skipping.\n"
     ]
    },
    {
     "name": "stderr",
     "output_type": "stream",
     "text": [
      "\n",
      "\n",
      "\n",
      "\u001b[A\u001b[A\u001b[A"
     ]
    },
    {
     "name": "stdout",
     "output_type": "stream",
     "text": [
      "File TL23_040.csv could not be read due to being empty or invalid format. Skipping.\n",
      "File 113776.csv could not be read due to being empty or invalid format. Skipping.\n",
      "File SD41_24.csv could not be read due to being empty or invalid format. Skipping.\n",
      "File 145518.csv could not be read due to being empty or invalid format. Skipping.\n",
      "File TL95_600.csv could not be read due to being empty or invalid format. Skipping.\n",
      "File 243103016.csv could not be read due to being empty or invalid format. Skipping.\n",
      "File TL10_113.csv could not be read due to being empty or invalid format. Skipping.\n",
      "File 90179120.csv could not be read due to being empty or invalid format. Skipping.\n",
      "File L3907.csv could not be read due to being empty or invalid format. Skipping.\n",
      "File 141806324.csv could not be read due to being empty or invalid format. Skipping.\n"
     ]
    },
    {
     "name": "stderr",
     "output_type": "stream",
     "text": [
      "\n",
      "\n",
      "\n",
      "\u001b[A\u001b[A\u001b[A"
     ]
    },
    {
     "name": "stdout",
     "output_type": "stream",
     "text": [
      "File 690142.csv could not be read due to being empty or invalid format. Skipping.\n",
      "File 510922.csv could not be read due to being empty or invalid format. Skipping.\n",
      "File 531052.csv could not be read due to being empty or invalid format. Skipping.\n",
      "File 242601015.csv could not be read due to being empty or invalid format. Skipping.\n",
      "File 40101073.csv could not be read due to being empty or invalid format. Skipping.\n",
      "File 293045.csv could not be read due to being empty or invalid format. Skipping.\n",
      "File 644821001.csv could not be read due to being empty or invalid format. Skipping.\n",
      "File SD43_1.csv could not be read due to being empty or invalid format. Skipping.\n"
     ]
    },
    {
     "name": "stderr",
     "output_type": "stream",
     "text": [
      "\n",
      "\n",
      "\n",
      "\u001b[A\u001b[A\u001b[A\n",
      "\n",
      "\n",
      "\u001b[A\u001b[A\u001b[A"
     ]
    },
    {
     "name": "stdout",
     "output_type": "stream",
     "text": [
      "File TL52_44.csv could not be read due to being empty or invalid format. Skipping.\n",
      "File 0370GW.csv could not be read due to being empty or invalid format. Skipping.\n",
      "File 78772.csv could not be read due to being empty or invalid format. Skipping.\n",
      "File 24019.csv could not be read due to being empty or invalid format. Skipping.\n",
      "File SJ38_75.csv could not be read due to being empty or invalid format. Skipping.\n",
      "File 115298.csv could not be read due to being empty or invalid format. Skipping.\n",
      "File SU83_9.csv could not be read due to being empty or invalid format. Skipping.\n",
      "File TL77_056.csv could not be read due to being empty or invalid format. Skipping.\n",
      "File SU58_119.csv could not be read due to being empty or invalid format. Skipping.\n",
      "File TG32_914.csv could not be read due to being empty or invalid format. Skipping.\n",
      "File SP50_72.csv could not be read due to being empty or invalid format. Skipping.\n",
      "File 644634001.csv could not be read due to being empty or invalid format. Skipping.\n",
      "File 242622009.csv could not be read due to being empty or invalid format. Skipping.\n",
      "File TG03_644A.csv could not be read due to being empty or invalid format. Skipping.\n",
      "File L2210.csv could not be read due to being empty or invalid format. Skipping.\n"
     ]
    },
    {
     "name": "stderr",
     "output_type": "stream",
     "text": [
      "\n",
      "\n",
      "\n",
      "\u001b[A\u001b[A\u001b[A"
     ]
    },
    {
     "name": "stdout",
     "output_type": "stream",
     "text": [
      "File 125415.csv could not be read due to being empty or invalid format. Skipping.\n",
      "File SD30_24.csv could not be read due to being empty or invalid format. Skipping.\n",
      "File 730525.csv could not be read due to being empty or invalid format. Skipping.\n",
      "File L0407.csv could not be read due to being empty or invalid format. Skipping.\n",
      "File TL00_58.csv could not be read due to being empty or invalid format. Skipping.\n",
      "File 23038.csv could not be read due to being empty or invalid format. Skipping.\n",
      "File L1719.csv could not be read due to being empty or invalid format. Skipping.\n"
     ]
    },
    {
     "name": "stderr",
     "output_type": "stream",
     "text": [
      "\n",
      "\n",
      "\n",
      "\u001b[A\u001b[A\u001b[A"
     ]
    },
    {
     "name": "stdout",
     "output_type": "stream",
     "text": [
      "File 289102TP.csv could not be read due to being empty or invalid format. Skipping.\n",
      "File 4249.csv could not be read due to being empty or invalid format. Skipping.\n",
      "File 644401002.csv could not be read due to being empty or invalid format. Skipping.\n",
      "File 521490.csv could not be read due to being empty or invalid format. Skipping.\n",
      "File 142804895.csv could not be read due to being empty or invalid format. Skipping.\n",
      "File TL98_031.csv could not be read due to being empty or invalid format. Skipping.\n",
      "File 58461.csv could not be read due to being empty or invalid format. Skipping.\n",
      "File 1877GW.csv could not be read due to being empty or invalid format. Skipping.\n"
     ]
    },
    {
     "name": "stderr",
     "output_type": "stream",
     "text": [
      "\n",
      "\n",
      "\n",
      "\u001b[A\u001b[A\u001b[A\n",
      "\n",
      "\n",
      "\u001b[A\u001b[A\u001b[A"
     ]
    },
    {
     "name": "stdout",
     "output_type": "stream",
     "text": [
      "File 348682.csv could not be read due to being empty or invalid format. Skipping.\n",
      "File 652412001.csv could not be read due to being empty or invalid format. Skipping.\n",
      "File TQ38_413.csv could not be read due to being empty or invalid format. Skipping.\n",
      "File L2401B.csv could not be read due to being empty or invalid format. Skipping.\n",
      "File 521321.csv could not be read due to being empty or invalid format. Skipping.\n",
      "File 0034GW.csv could not be read due to being empty or invalid format. Skipping.\n",
      "File TL98_019.csv could not be read due to being empty or invalid format. Skipping.\n",
      "File SD44_14.csv could not be read due to being empty or invalid format. Skipping.\n",
      "File 220264.csv could not be read due to being empty or invalid format. Skipping.\n",
      "File 644612005.csv could not be read due to being empty or invalid format. Skipping.\n",
      "File 586820.csv could not be read due to being empty or invalid format. Skipping.\n",
      "File 2951TH.csv could not be read due to being empty or invalid format. Skipping.\n"
     ]
    },
    {
     "name": "stderr",
     "output_type": "stream",
     "text": [
      "\n",
      "\n",
      "\n",
      "\u001b[A\u001b[A\u001b[A"
     ]
    },
    {
     "name": "stdout",
     "output_type": "stream",
     "text": [
      "File 3_004.csv could not be read due to being empty or invalid format. Skipping.\n",
      "File L3330.csv could not be read due to being empty or invalid format. Skipping.\n",
      "File L30061.csv could not be read due to being empty or invalid format. Skipping.\n",
      "File 521245_FW.csv could not be read due to being empty or invalid format. Skipping.\n",
      "File L24014.csv could not be read due to being empty or invalid format. Skipping.\n",
      "File 244150006.csv could not be read due to being empty or invalid format. Skipping.\n",
      "File L1527.csv could not be read due to being empty or invalid format. Skipping.\n",
      "File SU84_17.csv could not be read due to being empty or invalid format. Skipping.\n"
     ]
    },
    {
     "name": "stderr",
     "output_type": "stream",
     "text": [
      "\n",
      "\n",
      "\n",
      "\u001b[A\u001b[A\u001b[A"
     ]
    },
    {
     "name": "stdout",
     "output_type": "stream",
     "text": [
      "File 644931004.csv could not be read due to being empty or invalid format. Skipping.\n",
      "File L1241.csv could not be read due to being empty or invalid format. Skipping.\n",
      "File SE93DPT0CC.csv could not be read due to being empty or invalid format. Skipping.\n",
      "File SJ46_114.csv could not be read due to being empty or invalid format. Skipping.\n",
      "File SX75F010.csv could not be read due to being empty or invalid format. Skipping.\n",
      "File 644120005.csv could not be read due to being empty or invalid format. Skipping.\n",
      "File 35302.csv could not be read due to being empty or invalid format. Skipping.\n"
     ]
    },
    {
     "name": "stderr",
     "output_type": "stream",
     "text": [
      "\n",
      "\n",
      "\n",
      "\u001b[A\u001b[A\u001b[A"
     ]
    },
    {
     "name": "stdout",
     "output_type": "stream",
     "text": [
      "File L1255.csv could not be read due to being empty or invalid format. Skipping.\n",
      "File SJ56_128.csv could not be read due to being empty or invalid format. Skipping.\n",
      "File 1085TH.csv could not be read due to being empty or invalid format. Skipping.\n",
      "File 2834A.csv could not be read due to being empty or invalid format. Skipping.\n",
      "File L2012.csv could not be read due to being empty or invalid format. Skipping.\n",
      "File 341543005.csv could not be read due to being empty or invalid format. Skipping.\n"
     ]
    },
    {
     "name": "stderr",
     "output_type": "stream",
     "text": [
      "\n",
      "\n",
      "\n",
      "\u001b[A\u001b[A\u001b[A"
     ]
    },
    {
     "name": "stdout",
     "output_type": "stream",
     "text": [
      "File 586439.csv could not be read due to being empty or invalid format. Skipping.\n",
      "File TG13_765.csv could not be read due to being empty or invalid format. Skipping.\n",
      "File TL77_268.csv could not be read due to being empty or invalid format. Skipping.\n",
      "File 244330010.csv could not be read due to being empty or invalid format. Skipping.\n",
      "File 0290GW.csv could not be read due to being empty or invalid format. Skipping.\n"
     ]
    },
    {
     "name": "stderr",
     "output_type": "stream",
     "text": [
      "\n",
      "\n",
      "\n",
      "\u001b[A\u001b[A\u001b[A"
     ]
    },
    {
     "name": "stdout",
     "output_type": "stream",
     "text": [
      "File SU89_94.csv could not be read due to being empty or invalid format. Skipping.\n",
      "File SD20_21.csv could not be read due to being empty or invalid format. Skipping.\n",
      "File SY19G064.csv could not be read due to being empty or invalid format. Skipping.\n",
      "File 556201007.csv could not be read due to being empty or invalid format. Skipping.\n",
      "File TL99_020.csv could not be read due to being empty or invalid format. Skipping.\n"
     ]
    },
    {
     "name": "stderr",
     "output_type": "stream",
     "text": [
      "\n",
      "\n",
      "\n",
      "\u001b[A\u001b[A\u001b[A"
     ]
    },
    {
     "name": "stdout",
     "output_type": "stream",
     "text": [
      "File TL85_210.csv could not be read due to being empty or invalid format. Skipping.\n",
      "File 441340001.csv could not be read due to being empty or invalid format. Skipping.\n",
      "File 25878.csv could not be read due to being empty or invalid format. Skipping.\n",
      "File 90168401.csv could not be read due to being empty or invalid format. Skipping.\n",
      "File 2809TH.csv could not be read due to being empty or invalid format. Skipping.\n",
      "File 0710TH.csv could not be read due to being empty or invalid format. Skipping.\n",
      "File 151814002.csv could not be read due to being empty or invalid format. Skipping.\n",
      "File 243102042.csv could not be read due to being empty or invalid format. Skipping.\n",
      "File 0228GW.csv could not be read due to being empty or invalid format. Skipping.\n",
      "File 8_704.csv could not be read due to being empty or invalid format. Skipping.\n",
      "File 2423TH.csv could not be read due to being empty or invalid format. Skipping.\n",
      "File TL89_020.csv could not be read due to being empty or invalid format. Skipping.\n",
      "File NY71_3.csv could not be read due to being empty or invalid format. Skipping.\n"
     ]
    },
    {
     "name": "stderr",
     "output_type": "stream",
     "text": [
      "\n",
      "\n",
      "\n",
      "\u001b[A\u001b[A\u001b[A"
     ]
    },
    {
     "name": "stdout",
     "output_type": "stream",
     "text": [
      "File 520573.csv could not be read due to being empty or invalid format. Skipping.\n",
      "File 432605.csv could not be read due to being empty or invalid format. Skipping.\n",
      "File 560631.csv could not be read due to being empty or invalid format. Skipping.\n",
      "File 5_041.csv could not be read due to being empty or invalid format. Skipping.\n",
      "File SD53_30.csv could not be read due to being empty or invalid format. Skipping.\n",
      "File 4711.csv could not be read due to being empty or invalid format. Skipping.\n",
      "File G433505.csv could not be read due to being empty or invalid format. Skipping.\n",
      "File TL99_034.csv could not be read due to being empty or invalid format. Skipping.\n"
     ]
    },
    {
     "name": "stderr",
     "output_type": "stream",
     "text": [
      "\n",
      "\n",
      "\n",
      "\u001b[A\u001b[A\u001b[A"
     ]
    },
    {
     "name": "stdout",
     "output_type": "stream",
     "text": [
      "File L29040.csv could not be read due to being empty or invalid format. Skipping.\n",
      "File SJ46_24.csv could not be read due to being empty or invalid format. Skipping.\n",
      "File 377658.csv could not be read due to being empty or invalid format. Skipping.\n",
      "File 644602014.csv could not be read due to being empty or invalid format. Skipping.\n",
      "File 143306947.csv could not be read due to being empty or invalid format. Skipping.\n",
      "File 712223.csv could not be read due to being empty or invalid format. Skipping.\n",
      "File TQ27_88.csv could not be read due to being empty or invalid format. Skipping.\n"
     ]
    },
    {
     "name": "stderr",
     "output_type": "stream",
     "text": [
      "\n",
      "\n",
      "\n",
      "\u001b[A\u001b[A\u001b[A"
     ]
    },
    {
     "name": "stdout",
     "output_type": "stream",
     "text": [
      "File TL89_008.csv could not be read due to being empty or invalid format. Skipping.\n",
      "File 81894.csv could not be read due to being empty or invalid format. Skipping.\n",
      "File 690552.csv could not be read due to being empty or invalid format. Skipping.\n",
      "File SU74_14B.csv could not be read due to being empty or invalid format. Skipping.\n",
      "File 242534TP.csv could not be read due to being empty or invalid format. Skipping.\n",
      "File 577417.csv could not be read due to being empty or invalid format. Skipping.\n",
      "File TF70_071.csv could not be read due to being empty or invalid format. Skipping.\n"
     ]
    },
    {
     "name": "stderr",
     "output_type": "stream",
     "text": [
      "\n",
      "\n",
      "\n",
      "\u001b[A\u001b[A\u001b[A"
     ]
    },
    {
     "name": "stdout",
     "output_type": "stream",
     "text": [
      "File SJ45_029.csv could not be read due to being empty or invalid format. Skipping.\n",
      "File 350594.csv could not be read due to being empty or invalid format. Skipping.\n",
      "File SE37ACB0SS.csv could not be read due to being empty or invalid format. Skipping.\n",
      "File 91359216.csv could not be read due to being empty or invalid format. Skipping.\n",
      "File TM47_885.csv could not be read due to being empty or invalid format. Skipping.\n",
      "File 430991.csv could not be read due to being empty or invalid format. Skipping.\n"
     ]
    },
    {
     "name": "stderr",
     "output_type": "stream",
     "text": [
      "\n",
      "\n",
      "\n",
      "\u001b[A\u001b[A\u001b[A"
     ]
    },
    {
     "name": "stdout",
     "output_type": "stream",
     "text": [
      "File TL46_001.csv could not be read due to being empty or invalid format. Skipping.\n",
      "File SD84_33.csv could not be read due to being empty or invalid format. Skipping.\n",
      "File 644602001.csv could not be read due to being empty or invalid format. Skipping.\n",
      "File 556112001.csv could not be read due to being empty or invalid format. Skipping.\n",
      "File TF70_070.csv could not be read due to being empty or invalid format. Skipping.\n",
      "File TL99_009.csv could not be read due to being empty or invalid format. Skipping.\n",
      "File 600140.csv could not be read due to being empty or invalid format. Skipping.\n"
     ]
    },
    {
     "name": "stderr",
     "output_type": "stream",
     "text": [
      "\n",
      "\n",
      "\n",
      "\u001b[A\u001b[A\u001b[A"
     ]
    },
    {
     "name": "stdout",
     "output_type": "stream",
     "text": [
      "File 4710.csv could not be read due to being empty or invalid format. Skipping.\n",
      "File 431325.csv could not be read due to being empty or invalid format. Skipping.\n",
      "File 1816GW.csv could not be read due to being empty or invalid format. Skipping.\n",
      "File SE94CBU0CC.csv could not be read due to being empty or invalid format. Skipping.\n"
     ]
    },
    {
     "name": "stderr",
     "output_type": "stream",
     "text": [
      "\n",
      "\n",
      "\n",
      "\u001b[A\u001b[A\u001b[A"
     ]
    },
    {
     "name": "stdout",
     "output_type": "stream",
     "text": [
      "File 5_040.csv could not be read due to being empty or invalid format. Skipping.\n",
      "File 142209960.csv could not be read due to being empty or invalid format. Skipping.\n",
      "File SU78_93.csv could not be read due to being empty or invalid format. Skipping.\n",
      "File 693700.csv could not be read due to being empty or invalid format. Skipping.\n",
      "File 1853GW.csv could not be read due to being empty or invalid format. Skipping.\n",
      "File L29069.csv could not be read due to being empty or invalid format. Skipping.\n",
      "File 243102043.csv could not be read due to being empty or invalid format. Skipping.\n",
      "File 443500006.csv could not be read due to being empty or invalid format. Skipping.\n",
      "File SD53_25.csv could not be read due to being empty or invalid format. Skipping.\n",
      "File TL99_021.csv could not be read due to being empty or invalid format. Skipping.\n"
     ]
    },
    {
     "name": "stderr",
     "output_type": "stream",
     "text": [
      "\n",
      "\n",
      "\n",
      "\u001b[A\u001b[A\u001b[A"
     ]
    },
    {
     "name": "stdout",
     "output_type": "stream",
     "text": [
      "File TM08_003.csv could not be read due to being empty or invalid format. Skipping.\n",
      "File 151814003.csv could not be read due to being empty or invalid format. Skipping.\n",
      "File 0010GW.csv could not be read due to being empty or invalid format. Skipping.\n",
      "File NY14_42.csv could not be read due to being empty or invalid format. Skipping.\n",
      "File 2_558.csv could not be read due to being empty or invalid format. Skipping.\n",
      "File 117868.csv could not be read due to being empty or invalid format. Skipping.\n",
      "File 0902TH.csv could not be read due to being empty or invalid format. Skipping.\n"
     ]
    },
    {
     "name": "stderr",
     "output_type": "stream",
     "text": [
      "\n",
      "\n",
      "\n",
      "\u001b[A\u001b[A\u001b[A"
     ]
    },
    {
     "name": "stdout",
     "output_type": "stream",
     "text": [
      "File 143301026.csv could not be read due to being empty or invalid format. Skipping.\n",
      "File L2007.csv could not be read due to being empty or invalid format. Skipping.\n",
      "File 556201006.csv could not be read due to being empty or invalid format. Skipping.\n",
      "File SD20_20.csv could not be read due to being empty or invalid format. Skipping.\n",
      "File L2013.csv could not be read due to being empty or invalid format. Skipping.\n"
     ]
    },
    {
     "name": "stderr",
     "output_type": "stream",
     "text": [
      "\n",
      "\n",
      "\n",
      "\u001b[A\u001b[A\u001b[A"
     ]
    },
    {
     "name": "stdout",
     "output_type": "stream",
     "text": [
      "File 720535.csv could not be read due to being empty or invalid format. Skipping.\n",
      "File SE45CT00RD.csv could not be read due to being empty or invalid format. Skipping.\n",
      "File 319143.csv could not be read due to being empty or invalid format. Skipping.\n",
      "File SD33_48.csv could not be read due to being empty or invalid format. Skipping.\n",
      "File 25-3-46.csv could not be read due to being empty or invalid format. Skipping.\n"
     ]
    },
    {
     "name": "stderr",
     "output_type": "stream",
     "text": [
      "\n",
      "\n",
      "\n",
      "\u001b[A\u001b[A\u001b[A"
     ]
    },
    {
     "name": "stdout",
     "output_type": "stream",
     "text": [
      "File SE93WR00CC.csv could not be read due to being empty or invalid format. Skipping.\n",
      "File 1785GW.csv could not be read due to being empty or invalid format. Skipping.\n",
      "File 642326025.csv could not be read due to being empty or invalid format. Skipping.\n",
      "File 297752.csv could not be read due to being empty or invalid format. Skipping.\n"
     ]
    },
    {
     "name": "stderr",
     "output_type": "stream",
     "text": [
      "\n",
      "\n",
      "\n",
      "\u001b[A\u001b[A\u001b[A"
     ]
    },
    {
     "name": "stdout",
     "output_type": "stream",
     "text": [
      "File 5532GW.csv could not be read due to being empty or invalid format. Skipping.\n",
      "File SJ69_39.csv could not be read due to being empty or invalid format. Skipping.\n",
      "File 68762.csv could not be read due to being empty or invalid format. Skipping.\n",
      "File FWPE01_FW.csv could not be read due to being empty or invalid format. Skipping.\n",
      "File L1526.csv could not be read due to being empty or invalid format. Skipping.\n"
     ]
    },
    {
     "name": "stderr",
     "output_type": "stream",
     "text": [
      "\n",
      "\n",
      "\n",
      "\u001b[A\u001b[A\u001b[A"
     ]
    },
    {
     "name": "stdout",
     "output_type": "stream",
     "text": [
      "File 244150007.csv could not be read due to being empty or invalid format. Skipping.\n",
      "File SP90_69.csv could not be read due to being empty or invalid format. Skipping.\n",
      "File 90115400.csv could not be read due to being empty or invalid format. Skipping.\n",
      "File L3331.csv could not be read due to being empty or invalid format. Skipping.\n",
      "File SJ56_115.csv could not be read due to being empty or invalid format. Skipping.\n",
      "File 555123001.csv could not be read due to being empty or invalid format. Skipping.\n",
      "File SE63HWP1SS.csv could not be read due to being empty or invalid format. Skipping.\n",
      "File 642326031.csv could not be read due to being empty or invalid format. Skipping.\n",
      "File 364802.csv could not be read due to being empty or invalid format. Skipping.\n"
     ]
    },
    {
     "name": "stderr",
     "output_type": "stream",
     "text": [
      "\n",
      "\n",
      "\n",
      "\u001b[A\u001b[A\u001b[A"
     ]
    },
    {
     "name": "stdout",
     "output_type": "stream",
     "text": [
      "File TL57_004.csv could not be read due to being empty or invalid format. Skipping.\n",
      "File ST99_53.csv could not be read due to being empty or invalid format. Skipping.\n",
      "File 2611.csv could not be read due to being empty or invalid format. Skipping.\n",
      "File TL83_240.csv could not be read due to being empty or invalid format. Skipping.\n",
      "File 24-5-162.csv could not be read due to being empty or invalid format. Skipping.\n",
      "File 342386.csv could not be read due to being empty or invalid format. Skipping.\n",
      "File 710151.csv could not be read due to being empty or invalid format. Skipping.\n",
      "File L24001.csv could not be read due to being empty or invalid format. Skipping.\n",
      "File SD44_15.csv could not be read due to being empty or invalid format. Skipping.\n",
      "File 378768.csv could not be read due to being empty or invalid format. Skipping.\n"
     ]
    },
    {
     "name": "stderr",
     "output_type": "stream",
     "text": [
      "\n",
      "\n",
      "\n",
      "\u001b[A\u001b[A\u001b[A"
     ]
    },
    {
     "name": "stdout",
     "output_type": "stream",
     "text": [
      "File 443121001.csv could not be read due to being empty or invalid format. Skipping.\n",
      "File SU65_154.csv could not be read due to being empty or invalid format. Skipping.\n",
      "File GP06_2.csv could not be read due to being empty or invalid format. Skipping.\n",
      "File SD43_20.csv could not be read due to being empty or invalid format. Skipping.\n",
      "File TL98_024.csv could not be read due to being empty or invalid format. Skipping.\n",
      "File SE62CWB1SS.csv could not be read due to being empty or invalid format. Skipping.\n",
      "File 2639.csv could not be read due to being empty or invalid format. Skipping.\n",
      "File 26A06.csv could not be read due to being empty or invalid format. Skipping.\n"
     ]
    },
    {
     "name": "stderr",
     "output_type": "stream",
     "text": [
      "\n",
      "\n",
      "\n",
      "\u001b[A\u001b[A\u001b[A"
     ]
    },
    {
     "name": "stdout",
     "output_type": "stream",
     "text": [
      "File 1771TH.csv could not be read due to being empty or invalid format. Skipping.\n",
      "File TL98_030.csv could not be read due to being empty or invalid format. Skipping.\n",
      "File SU06_29.csv could not be read due to being empty or invalid format. Skipping.\n",
      "File L2205.csv could not be read due to being empty or invalid format. Skipping.\n",
      "File 26141.csv could not be read due to being empty or invalid format. Skipping.\n",
      "File SE62HCT3SS.csv could not be read due to being empty or invalid format. Skipping.\n",
      "File S11571_FW.csv could not be read due to being empty or invalid format. Skipping.\n"
     ]
    },
    {
     "name": "stderr",
     "output_type": "stream",
     "text": [
      "\n",
      "\n",
      "\n",
      "\u001b[A\u001b[A\u001b[A"
     ]
    },
    {
     "name": "stdout",
     "output_type": "stream",
     "text": [
      "File TQ37_7E.csv could not be read due to being empty or invalid format. Skipping.\n",
      "File 762510.csv could not be read due to being empty or invalid format. Skipping.\n",
      "File 24030.csv could not be read due to being empty or invalid format. Skipping.\n",
      "File 309146.csv could not be read due to being empty or invalid format. Skipping.\n",
      "File 23039.csv could not be read due to being empty or invalid format. Skipping.\n",
      "File 55811.csv could not be read due to being empty or invalid format. Skipping.\n"
     ]
    },
    {
     "name": "stderr",
     "output_type": "stream",
     "text": [
      "\n",
      "\n",
      "\n",
      "\u001b[A\u001b[A\u001b[A"
     ]
    },
    {
     "name": "stdout",
     "output_type": "stream",
     "text": [
      "File 24024.csv could not be read due to being empty or invalid format. Skipping.\n",
      "File 244320014.csv could not be read due to being empty or invalid format. Skipping.\n",
      "File 766010.csv could not be read due to being empty or invalid format. Skipping.\n",
      "File SJ33_021.csv could not be read due to being empty or invalid format. Skipping.\n",
      "File 135607.csv could not be read due to being empty or invalid format. Skipping.\n"
     ]
    },
    {
     "name": "stderr",
     "output_type": "stream",
     "text": [
      "\n",
      "\n",
      "\n",
      "\u001b[A\u001b[A\u001b[A\n",
      "\n",
      "\n",
      "\u001b[A\u001b[A\u001b[A"
     ]
    },
    {
     "name": "stdout",
     "output_type": "stream",
     "text": [
      "File SU58_118.csv could not be read due to being empty or invalid format. Skipping.\n",
      "File TG02_776B.csv could not be read due to being empty or invalid format. Skipping.\n",
      "File 40101066.csv could not be read due to being empty or invalid format. Skipping.\n",
      "File 2188.csv could not be read due to being empty or invalid format. Skipping.\n",
      "File 768001.csv could not be read due to being empty or invalid format. Skipping.\n",
      "File SE62CTB0SS.csv could not be read due to being empty or invalid format. Skipping.\n",
      "File 100858.csv could not be read due to being empty or invalid format. Skipping.\n",
      "File 594202.csv could not be read due to being empty or invalid format. Skipping.\n",
      "File 13878.csv could not be read due to being empty or invalid format. Skipping.\n",
      "File 4192TH.csv could not be read due to being empty or invalid format. Skipping.\n",
      "File 2810TH.csv could not be read due to being empty or invalid format. Skipping.\n",
      "File 510923.csv could not be read due to being empty or invalid format. Skipping.\n",
      "File 92235.csv could not be read due to being empty or invalid format. Skipping.\n",
      "File 427625.csv could not be read due to being empty or invalid format. Skipping.\n",
      "File 56505.csv could not be read due to being empty or invalid format. Skipping.\n",
      "File 530297_FW.csv could not be read due to being empty or invalid format. Skipping.\n",
      "File SJ47_65.csv could not be read due to being empty or invalid format. Skipping.\n"
     ]
    },
    {
     "name": "stderr",
     "output_type": "stream",
     "text": [
      "\n",
      "\n",
      "\n",
      "\u001b[A\u001b[A\u001b[A"
     ]
    },
    {
     "name": "stdout",
     "output_type": "stream",
     "text": [
      "File 163501021.csv could not be read due to being empty or invalid format. Skipping.\n",
      "File TG12_198.csv could not be read due to being empty or invalid format. Skipping.\n",
      "File TL23_041.csv could not be read due to being empty or invalid format. Skipping.\n",
      "File SD42_31B.csv could not be read due to being empty or invalid format. Skipping.\n",
      "File 142201092.csv could not be read due to being empty or invalid format. Skipping.\n",
      "File SD41_31.csv could not be read due to being empty or invalid format. Skipping.\n"
     ]
    },
    {
     "name": "stderr",
     "output_type": "stream",
     "text": [
      "\n",
      "\n",
      "\n",
      "\u001b[A\u001b[A\u001b[A"
     ]
    },
    {
     "name": "stdout",
     "output_type": "stream",
     "text": [
      "File 642411001.csv could not be read due to being empty or invalid format. Skipping.\n",
      "File 206498.csv could not be read due to being empty or invalid format. Skipping.\n",
      "File 1408TH.csv could not be read due to being empty or invalid format. Skipping.\n",
      "File SJ59_147.csv could not be read due to being empty or invalid format. Skipping.\n"
     ]
    },
    {
     "name": "stderr",
     "output_type": "stream",
     "text": [
      "\n",
      "\n",
      "\n",
      "\u001b[A\u001b[A\u001b[A"
     ]
    },
    {
     "name": "stdout",
     "output_type": "stream",
     "text": [
      "File 690180.csv could not be read due to being empty or invalid format. Skipping.\n",
      "File SY18G100.csv could not be read due to being empty or invalid format. Skipping.\n",
      "File 80194.csv could not be read due to being empty or invalid format. Skipping.\n",
      "File 21028.csv could not be read due to being empty or invalid format. Skipping.\n",
      "File 113978.csv could not be read due to being empty or invalid format. Skipping.\n",
      "File S82484_FW.csv could not be read due to being empty or invalid format. Skipping.\n"
     ]
    },
    {
     "name": "stderr",
     "output_type": "stream",
     "text": [
      "\n",
      "\n",
      "\n",
      "\u001b[A\u001b[A\u001b[A"
     ]
    },
    {
     "name": "stdout",
     "output_type": "stream",
     "text": [
      "File L2403.csv could not be read due to being empty or invalid format. Skipping.\n",
      "File 441321005.csv could not be read due to being empty or invalid format. Skipping.\n",
      "File SU79_10.csv could not be read due to being empty or invalid format. Skipping.\n",
      "File SJ89_257.csv could not be read due to being empty or invalid format. Skipping.\n",
      "File TQ26_22.csv could not be read due to being empty or invalid format. Skipping.\n",
      "File 26021.csv could not be read due to being empty or invalid format. Skipping.\n"
     ]
    },
    {
     "name": "stderr",
     "output_type": "stream",
     "text": [
      "\n",
      "\n",
      "\n",
      "\u001b[A\u001b[A\u001b[A"
     ]
    },
    {
     "name": "stdout",
     "output_type": "stream",
     "text": [
      "File 2147GW.csv could not be read due to being empty or invalid format. Skipping.\n",
      "File SP91_15.csv could not be read due to being empty or invalid format. Skipping.\n",
      "File 90103100.csv could not be read due to being empty or invalid format. Skipping.\n",
      "File SU64_69.csv could not be read due to being empty or invalid format. Skipping.\n",
      "File TL35_004.csv could not be read due to being empty or invalid format. Skipping.\n",
      "File 102849.csv could not be read due to being empty or invalid format. Skipping.\n",
      "File 244142013.csv could not be read due to being empty or invalid format. Skipping.\n"
     ]
    },
    {
     "name": "stderr",
     "output_type": "stream",
     "text": [
      "\n",
      "\n",
      "\n",
      "\u001b[A\u001b[A\u001b[A"
     ]
    },
    {
     "name": "stdout",
     "output_type": "stream",
     "text": [
      "File SJ59_184.csv could not be read due to being empty or invalid format. Skipping.\n",
      "File 90191310.csv could not be read due to being empty or invalid format. Skipping.\n",
      "File 1231GW.csv could not be read due to being empty or invalid format. Skipping.\n",
      "File 443701001.csv could not be read due to being empty or invalid format. Skipping.\n"
     ]
    },
    {
     "name": "stderr",
     "output_type": "stream",
     "text": [
      "\n",
      "\n",
      "\n",
      "\u001b[A\u001b[A\u001b[A"
     ]
    },
    {
     "name": "stdout",
     "output_type": "stream",
     "text": [
      "File TL25_004.csv could not be read due to being empty or invalid format. Skipping.\n",
      "File S27576_FW.csv could not be read due to being empty or invalid format. Skipping.\n",
      "File SX99F200.csv could not be read due to being empty or invalid format. Skipping.\n",
      "File 91822102.csv could not be read due to being empty or invalid format. Skipping.\n",
      "File SX98F013.csv could not be read due to being empty or invalid format. Skipping.\n",
      "File 690341.csv could not be read due to being empty or invalid format. Skipping.\n",
      "File 5_108.csv could not be read due to being empty or invalid format. Skipping.\n",
      "File 692230.csv could not be read due to being empty or invalid format. Skipping.\n",
      "File TQ25_98.csv could not be read due to being empty or invalid format. Skipping.\n",
      "File TL01_103.csv could not be read due to being empty or invalid format. Skipping.\n"
     ]
    },
    {
     "name": "stderr",
     "output_type": "stream",
     "text": [
      "\n",
      "\n",
      "\n",
      "\u001b[A\u001b[A\u001b[A"
     ]
    },
    {
     "name": "stdout",
     "output_type": "stream",
     "text": [
      "File 1401GW.csv could not be read due to being empty or invalid format. Skipping.\n",
      "File 577210.csv could not be read due to being empty or invalid format. Skipping.\n",
      "File 2215.csv could not be read due to being empty or invalid format. Skipping.\n",
      "File TA06BB04CC.csv could not be read due to being empty or invalid format. Skipping.\n",
      "File 461466.csv could not be read due to being empty or invalid format. Skipping.\n",
      "File 570231.csv could not be read due to being empty or invalid format. Skipping.\n",
      "File SJ45_161.csv could not be read due to being empty or invalid format. Skipping.\n",
      "File 441413011.csv could not be read due to being empty or invalid format. Skipping.\n",
      "File 530173.csv could not be read due to being empty or invalid format. Skipping.\n"
     ]
    },
    {
     "name": "stderr",
     "output_type": "stream",
     "text": [
      "\n",
      "\n",
      "\n",
      "\u001b[A\u001b[A\u001b[A"
     ]
    },
    {
     "name": "stdout",
     "output_type": "stream",
     "text": [
      "File 530289_FW.csv could not be read due to being empty or invalid format. Skipping.\n",
      "File S12552_FW.csv could not be read due to being empty or invalid format. Skipping.\n",
      "File 644019054.csv could not be read due to being empty or invalid format. Skipping.\n",
      "File 530167.csv could not be read due to being empty or invalid format. Skipping.\n",
      "File 476898.csv could not be read due to being empty or invalid format. Skipping.\n",
      "File 8062.csv could not be read due to being empty or invalid format. Skipping.\n",
      "File 390161.csv could not be read due to being empty or invalid format. Skipping.\n",
      "File 354876.csv could not be read due to being empty or invalid format. Skipping.\n"
     ]
    },
    {
     "name": "stderr",
     "output_type": "stream",
     "text": [
      "\n",
      "\n",
      "\n",
      "\u001b[A\u001b[A\u001b[A"
     ]
    },
    {
     "name": "stdout",
     "output_type": "stream",
     "text": [
      "File TA06OCR0CC.csv could not be read due to being empty or invalid format. Skipping.\n",
      "File SP10_53.csv could not be read due to being empty or invalid format. Skipping.\n",
      "File 50101022.csv could not be read due to being empty or invalid format. Skipping.\n",
      "File 1238TH.csv could not be read due to being empty or invalid format. Skipping.\n",
      "File SU74_3.csv could not be read due to being empty or invalid format. Skipping.\n",
      "File NY71_23.csv could not be read due to being empty or invalid format. Skipping.\n"
     ]
    },
    {
     "name": "stderr",
     "output_type": "stream",
     "text": [
      "\n",
      "\n",
      "\n",
      "\u001b[A\u001b[A\u001b[A"
     ]
    },
    {
     "name": "stdout",
     "output_type": "stream",
     "text": [
      "File TG13_320A.csv could not be read due to being empty or invalid format. Skipping.\n",
      "File TA02ALYMCC.csv could not be read due to being empty or invalid format. Skipping.\n",
      "File SU09_93.csv could not be read due to being empty or invalid format. Skipping.\n",
      "File SU38_74A.csv could not be read due to being empty or invalid format. Skipping.\n",
      "File L1308.csv could not be read due to being empty or invalid format. Skipping.\n",
      "File 755790.csv could not be read due to being empty or invalid format. Skipping.\n"
     ]
    },
    {
     "name": "stderr",
     "output_type": "stream",
     "text": [
      "\n",
      "\n",
      "\n",
      "\u001b[A\u001b[A\u001b[A"
     ]
    },
    {
     "name": "stdout",
     "output_type": "stream",
     "text": [
      "File 3626TH.csv could not be read due to being empty or invalid format. Skipping.\n",
      "File SU94_6.csv could not be read due to being empty or invalid format. Skipping.\n",
      "File 1068GW.csv could not be read due to being empty or invalid format. Skipping.\n",
      "File TL34_015.csv could not be read due to being empty or invalid format. Skipping.\n",
      "File 172606.csv could not be read due to being empty or invalid format. Skipping.\n",
      "File 4843.csv could not be read due to being empty or invalid format. Skipping.\n"
     ]
    },
    {
     "name": "stderr",
     "output_type": "stream",
     "text": [
      "\n",
      "\n",
      "\n",
      "\u001b[A\u001b[A\u001b[A\n",
      "\n",
      "\n",
      "\u001b[A\u001b[A\u001b[A"
     ]
    },
    {
     "name": "stdout",
     "output_type": "stream",
     "text": [
      "File SD54_14A.csv could not be read due to being empty or invalid format. Skipping.\n",
      "File L33814.csv could not be read due to being empty or invalid format. Skipping.\n",
      "File SU88_195.csv could not be read due to being empty or invalid format. Skipping.\n",
      "File 531225_FW.csv could not be read due to being empty or invalid format. Skipping.\n",
      "File TL01_21.csv could not be read due to being empty or invalid format. Skipping.\n",
      "File 1903.csv could not be read due to being empty or invalid format. Skipping.\n",
      "File SU74_40.csv could not be read due to being empty or invalid format. Skipping.\n",
      "File 26227.csv could not be read due to being empty or invalid format. Skipping.\n",
      "File 642223005.csv could not be read due to being empty or invalid format. Skipping.\n"
     ]
    },
    {
     "name": "stderr",
     "output_type": "stream",
     "text": [
      "\n",
      "\n",
      "\n",
      "\u001b[A\u001b[A\u001b[A"
     ]
    },
    {
     "name": "stdout",
     "output_type": "stream",
     "text": [
      "File 770500.csv could not be read due to being empty or invalid format. Skipping.\n",
      "File SU38_75A.csv could not be read due to being empty or invalid format. Skipping.\n",
      "File 2747TH.csv could not be read due to being empty or invalid format. Skipping.\n",
      "File SE45CTB2SS.csv could not be read due to being empty or invalid format. Skipping.\n",
      "File SJ87_90.csv could not be read due to being empty or invalid format. Skipping.\n",
      "File SO90_69.csv could not be read due to being empty or invalid format. Skipping.\n",
      "File L3241.csv could not be read due to being empty or invalid format. Skipping.\n",
      "File 2702TH.csv could not be read due to being empty or invalid format. Skipping.\n",
      "File 446022.csv could not be read due to being empty or invalid format. Skipping.\n",
      "File FWGN02_FW.csv could not be read due to being empty or invalid format. Skipping.\n",
      "File 379923.csv could not be read due to being empty or invalid format. Skipping.\n"
     ]
    },
    {
     "name": "stderr",
     "output_type": "stream",
     "text": [
      "\n",
      "\n",
      "\n",
      "\u001b[A\u001b[A\u001b[A"
     ]
    },
    {
     "name": "stdout",
     "output_type": "stream",
     "text": [
      "File 261021TP.csv could not be read due to being empty or invalid format. Skipping.\n",
      "File 1431TH.csv could not be read due to being empty or invalid format. Skipping.\n",
      "File SJ69_149A.csv could not be read due to being empty or invalid format. Skipping.\n",
      "File 341514004.csv could not be read due to being empty or invalid format. Skipping.\n"
     ]
    },
    {
     "name": "stderr",
     "output_type": "stream",
     "text": [
      "\n",
      "\n",
      "\n",
      "\u001b[A\u001b[A\u001b[A"
     ]
    },
    {
     "name": "stdout",
     "output_type": "stream",
     "text": [
      "File NY24_26.csv could not be read due to being empty or invalid format. Skipping.\n",
      "File 142502277.csv could not be read due to being empty or invalid format. Skipping.\n",
      "File 368184.csv could not be read due to being empty or invalid format. Skipping.\n",
      "File NE083.csv could not be read due to being empty or invalid format. Skipping.\n",
      "File 322933.csv could not be read due to being empty or invalid format. Skipping.\n",
      "File TF91_736.csv could not be read due to being empty or invalid format. Skipping.\n",
      "File 692220.csv could not be read due to being empty or invalid format. Skipping.\n",
      "File 5_118.csv could not be read due to being empty or invalid format. Skipping.\n"
     ]
    },
    {
     "name": "stderr",
     "output_type": "stream",
     "text": [
      "\n",
      "\n",
      "\n",
      "\u001b[A\u001b[A\u001b[A"
     ]
    },
    {
     "name": "stdout",
     "output_type": "stream",
     "text": [
      "File SX76F049.csv could not be read due to being empty or invalid format. Skipping.\n",
      "File 644840001.csv could not be read due to being empty or invalid format. Skipping.\n",
      "File 163096.csv could not be read due to being empty or invalid format. Skipping.\n",
      "File 6077.csv could not be read due to being empty or invalid format. Skipping.\n",
      "File SP10_94.csv could not be read due to being empty or invalid format. Skipping.\n",
      "File 2282GW.csv could not be read due to being empty or invalid format. Skipping.\n",
      "File 242611001.csv could not be read due to being empty or invalid format. Skipping.\n",
      "File 240662TP.csv could not be read due to being empty or invalid format. Skipping.\n"
     ]
    },
    {
     "name": "stderr",
     "output_type": "stream",
     "text": [
      "\n",
      "\n",
      "\n",
      "\u001b[A\u001b[A\u001b[A"
     ]
    },
    {
     "name": "stdout",
     "output_type": "stream",
     "text": [
      "File SE53RT03RD.csv could not be read due to being empty or invalid format. Skipping.\n",
      "File L31024.csv could not be read due to being empty or invalid format. Skipping.\n",
      "File 141811463.csv could not be read due to being empty or invalid format. Skipping.\n",
      "File TL33_44.csv could not be read due to being empty or invalid format. Skipping.\n",
      "File TL43_008.csv could not be read due to being empty or invalid format. Skipping.\n",
      "File 0730TH.csv could not be read due to being empty or invalid format. Skipping.\n",
      "File SD54_18F.csv could not be read due to being empty or invalid format. Skipping.\n",
      "File SD53_46A.csv could not be read due to being empty or invalid format. Skipping.\n"
     ]
    },
    {
     "name": "stderr",
     "output_type": "stream",
     "text": [
      "\n",
      "\n",
      "\n",
      "\u001b[A\u001b[A\u001b[A"
     ]
    },
    {
     "name": "stdout",
     "output_type": "stream",
     "text": [
      "File SU48_34.csv could not be read due to being empty or invalid format. Skipping.\n",
      "File TL68_001.csv could not be read due to being empty or invalid format. Skipping.\n",
      "File TL20_10.csv could not be read due to being empty or invalid format. Skipping.\n",
      "File 2891TH.csv could not be read due to being empty or invalid format. Skipping.\n",
      "File SD70_252.csv could not be read due to being empty or invalid format. Skipping.\n"
     ]
    },
    {
     "name": "stderr",
     "output_type": "stream",
     "text": [
      "\n",
      "\n",
      "\n",
      "\u001b[A\u001b[A\u001b[A"
     ]
    },
    {
     "name": "stdout",
     "output_type": "stream",
     "text": [
      "File TL44_289.csv could not be read due to being empty or invalid format. Skipping.\n",
      "File 151816002.csv could not be read due to being empty or invalid format. Skipping.\n",
      "File TF70_128.csv could not be read due to being empty or invalid format. Skipping.\n",
      "File 4890.csv could not be read due to being empty or invalid format. Skipping.\n",
      "File SE45KHS1SS.csv could not be read due to being empty or invalid format. Skipping.\n",
      "File SU89_7.csv could not be read due to being empty or invalid format. Skipping.\n",
      "File NE040.csv could not be read due to being empty or invalid format. Skipping.\n"
     ]
    },
    {
     "name": "stderr",
     "output_type": "stream",
     "text": [
      "\n",
      "\n",
      "\n",
      "\u001b[A\u001b[A\u001b[A\n",
      "\n",
      "\n",
      "\u001b[A\u001b[A\u001b[A"
     ]
    },
    {
     "name": "stdout",
     "output_type": "stream",
     "text": [
      "File 141804293.csv could not be read due to being empty or invalid format. Skipping.\n",
      "File L2361.csv could not be read due to being empty or invalid format. Skipping.\n",
      "File SE94LWH0CC.csv could not be read due to being empty or invalid format. Skipping.\n",
      "File SE77AMP0CO.csv could not be read due to being empty or invalid format. Skipping.\n",
      "File 530177.csv could not be read due to being empty or invalid format. Skipping.\n",
      "File TA03WLH0CC.csv could not be read due to being empty or invalid format. Skipping.\n",
      "File L2413.csv could not be read due to being empty or invalid format. Skipping.\n",
      "File 441321001.csv could not be read due to being empty or invalid format. Skipping.\n",
      "File SU19_86.csv could not be read due to being empty or invalid format. Skipping.\n"
     ]
    },
    {
     "name": "stderr",
     "output_type": "stream",
     "text": [
      "\n",
      "\n",
      "\n",
      "\u001b[A\u001b[A\u001b[A"
     ]
    },
    {
     "name": "stdout",
     "output_type": "stream",
     "text": [
      "File SP00_25C.csv could not be read due to being empty or invalid format. Skipping.\n",
      "File 25-5-111.csv could not be read due to being empty or invalid format. Skipping.\n",
      "File L0204.csv could not be read due to being empty or invalid format. Skipping.\n",
      "File 441221001.csv could not be read due to being empty or invalid format. Skipping.\n",
      "File L13044.csv could not be read due to being empty or invalid format. Skipping.\n",
      "File TL05_084.csv could not be read due to being empty or invalid format. Skipping.\n",
      "File 606680.csv could not be read due to being empty or invalid format. Skipping.\n"
     ]
    },
    {
     "name": "stderr",
     "output_type": "stream",
     "text": [
      "\n",
      "\n",
      "\n",
      "\u001b[A\u001b[A\u001b[A"
     ]
    },
    {
     "name": "stdout",
     "output_type": "stream",
     "text": [
      "File 26019.csv could not be read due to being empty or invalid format. Skipping.\n",
      "File 90113303.csv could not be read due to being empty or invalid format. Skipping.\n",
      "File 1781GW.csv could not be read due to being empty or invalid format. Skipping.\n",
      "File 77256.csv could not be read due to being empty or invalid format. Skipping.\n",
      "File SJ69_138.csv could not be read due to being empty or invalid format. Skipping.\n",
      "File L1132.csv could not be read due to being empty or invalid format. Skipping.\n",
      "File 231581.csv could not be read due to being empty or invalid format. Skipping.\n",
      "File TG03_358.csv could not be read due to being empty or invalid format. Skipping.\n",
      "File 0350GW.csv could not be read due to being empty or invalid format. Skipping.\n",
      "File TQ37_120.csv could not be read due to being empty or invalid format. Skipping.\n",
      "File SD52_75.csv could not be read due to being empty or invalid format. Skipping.\n",
      "File 604040.csv could not be read due to being empty or invalid format. Skipping.\n"
     ]
    },
    {
     "name": "stderr",
     "output_type": "stream",
     "text": [
      "\n",
      "\n",
      "\n",
      "\u001b[A\u001b[A\u001b[A"
     ]
    },
    {
     "name": "stdout",
     "output_type": "stream",
     "text": [
      "File SX59F100.csv could not be read due to being empty or invalid format. Skipping.\n",
      "File 228985.csv could not be read due to being empty or invalid format. Skipping.\n",
      "File 26958.csv could not be read due to being empty or invalid format. Skipping.\n",
      "File L3902.csv could not be read due to being empty or invalid format. Skipping.\n",
      "File 2934TH.csv could not be read due to being empty or invalid format. Skipping.\n",
      "File 1739GW.csv could not be read due to being empty or invalid format. Skipping.\n",
      "File SE52EGB2SS.csv could not be read due to being empty or invalid format. Skipping.\n"
     ]
    },
    {
     "name": "stderr",
     "output_type": "stream",
     "text": [
      "\n",
      "\n",
      "\n",
      "\u001b[A\u001b[A\u001b[A"
     ]
    },
    {
     "name": "stdout",
     "output_type": "stream",
     "text": [
      "File SU64_92.csv could not be read due to being empty or invalid format. Skipping.\n",
      "File 1201TH.csv could not be read due to being empty or invalid format. Skipping.\n",
      "File 1014GW.csv could not be read due to being empty or invalid format. Skipping.\n",
      "File 371600.csv could not be read due to being empty or invalid format. Skipping.\n",
      "File 1051GW.csv could not be read due to being empty or invalid format. Skipping.\n",
      "File 1812GW.csv could not be read due to being empty or invalid format. Skipping.\n"
     ]
    },
    {
     "name": "stderr",
     "output_type": "stream",
     "text": [
      "\n",
      "\n",
      "\n",
      "\u001b[A\u001b[A\u001b[A"
     ]
    },
    {
     "name": "stdout",
     "output_type": "stream",
     "text": [
      "File SD41_35.csv could not be read due to being empty or invalid format. Skipping.\n",
      "File NTG3270P5.csv could not be read due to being empty or invalid format. Skipping.\n",
      "File 90178213.csv could not be read due to being empty or invalid format. Skipping.\n",
      "File TL98_154.csv could not be read due to being empty or invalid format. Skipping.\n",
      "File SD41_21.csv could not be read due to being empty or invalid format. Skipping.\n",
      "File TL79_010.csv could not be read due to being empty or invalid format. Skipping.\n",
      "File 141803517.csv could not be read due to being empty or invalid format. Skipping.\n"
     ]
    },
    {
     "name": "stderr",
     "output_type": "stream",
     "text": [
      "\n",
      "\n",
      "\n",
      "\u001b[A\u001b[A\u001b[A"
     ]
    },
    {
     "name": "stdout",
     "output_type": "stream",
     "text": [
      "File 730520.csv could not be read due to being empty or invalid format. Skipping.\n",
      "File 0569TH.csv could not be read due to being empty or invalid format. Skipping.\n",
      "File 362710501.csv could not be read due to being empty or invalid format. Skipping.\n",
      "File 644401007.csv could not be read due to being empty or invalid format. Skipping.\n",
      "File 725139.csv could not be read due to being empty or invalid format. Skipping.\n",
      "File L2201.csv could not be read due to being empty or invalid format. Skipping.\n",
      "File L1708.csv could not be read due to being empty or invalid format. Skipping.\n"
     ]
    },
    {
     "name": "stderr",
     "output_type": "stream",
     "text": [
      "\n",
      "\n",
      "\n",
      "\u001b[A\u001b[A\u001b[A"
     ]
    },
    {
     "name": "stdout",
     "output_type": "stream",
     "text": [
      "File NTG2030P4.csv could not be read due to being empty or invalid format. Skipping.\n",
      "File 1434001009.csv could not be read due to being empty or invalid format. Skipping.\n",
      "File 352608.csv could not be read due to being empty or invalid format. Skipping.\n",
      "File 1029GW.csv could not be read due to being empty or invalid format. Skipping.\n",
      "File 751690.csv could not be read due to being empty or invalid format. Skipping.\n",
      "File 55829.csv could not be read due to being empty or invalid format. Skipping.\n",
      "File SU97_114.csv could not be read due to being empty or invalid format. Skipping.\n"
     ]
    },
    {
     "name": "stderr",
     "output_type": "stream",
     "text": [
      "\n",
      "\n",
      "\n",
      "\u001b[A\u001b[A\u001b[A"
     ]
    },
    {
     "name": "stdout",
     "output_type": "stream",
     "text": [
      "File 768005.csv could not be read due to being empty or invalid format. Skipping.\n",
      "File TL77_053.csv could not be read due to being empty or invalid format. Skipping.\n",
      "File 77336.csv could not be read due to being empty or invalid format. Skipping.\n",
      "File 142206896.csv could not be read due to being empty or invalid format. Skipping.\n",
      "File 2832.csv could not be read due to being empty or invalid format. Skipping.\n",
      "File 282947TP.csv could not be read due to being empty or invalid format. Skipping.\n"
     ]
    },
    {
     "name": "stderr",
     "output_type": "stream",
     "text": [
      "\n",
      "\n",
      "\n",
      "\u001b[A\u001b[A\u001b[A"
     ]
    },
    {
     "name": "stdout",
     "output_type": "stream",
     "text": [
      "File L1907.csv could not be read due to being empty or invalid format. Skipping.\n",
      "File SD45_2.csv could not be read due to being empty or invalid format. Skipping.\n",
      "File 592850.csv could not be read due to being empty or invalid format. Skipping.\n",
      "File 2615.csv could not be read due to being empty or invalid format. Skipping.\n"
     ]
    },
    {
     "name": "stderr",
     "output_type": "stream",
     "text": [
      "\n",
      "\n",
      "\n",
      "\u001b[A\u001b[A\u001b[A"
     ]
    },
    {
     "name": "stdout",
     "output_type": "stream",
     "text": [
      "File SE62CWB1RD.csv could not be read due to being empty or invalid format. Skipping.\n",
      "File L30064.csv could not be read due to being empty or invalid format. Skipping.\n",
      "File 1405GW.csv could not be read due to being empty or invalid format. Skipping.\n",
      "File SD43_18.csv could not be read due to being empty or invalid format. Skipping.\n",
      "File SU38_38B.csv could not be read due to being empty or invalid format. Skipping.\n",
      "File 589294.csv could not be read due to being empty or invalid format. Skipping.\n"
     ]
    },
    {
     "name": "stderr",
     "output_type": "stream",
     "text": [
      "\n",
      "\n",
      "\n",
      "\u001b[A\u001b[A\u001b[A"
     ]
    },
    {
     "name": "stdout",
     "output_type": "stream",
     "text": [
      "File TM39_910.csv could not be read due to being empty or invalid format. Skipping.\n",
      "File SE45PB02SS.csv could not be read due to being empty or invalid format. Skipping.\n",
      "File TQ05_12.csv could not be read due to being empty or invalid format. Skipping.\n",
      "File 8000GW.csv could not be read due to being empty or invalid format. Skipping.\n",
      "File 143305913.csv could not be read due to being empty or invalid format. Skipping.\n",
      "File 196631.csv could not be read due to being empty or invalid format. Skipping.\n",
      "File TM09_002.csv could not be read due to being empty or invalid format. Skipping.\n",
      "File 579167.csv could not be read due to being empty or invalid format. Skipping.\n",
      "File 0328GW.csv could not be read due to being empty or invalid format. Skipping.\n",
      "File 2629.csv could not be read due to being empty or invalid format. Skipping.\n",
      "File SJ59_151B.csv could not be read due to being empty or invalid format. Skipping.\n"
     ]
    },
    {
     "name": "stderr",
     "output_type": "stream",
     "text": [
      "\n",
      "\n",
      "\n",
      "\u001b[A\u001b[A\u001b[A"
     ]
    },
    {
     "name": "stdout",
     "output_type": "stream",
     "text": [
      "File GP06_6.csv could not be read due to being empty or invalid format. Skipping.\n",
      "File SD43_24.csv could not be read due to being empty or invalid format. Skipping.\n",
      "File TL98_020.csv could not be read due to being empty or invalid format. Skipping.\n",
      "File 2_548.csv could not be read due to being empty or invalid format. Skipping.\n",
      "File 142202602.csv could not be read due to being empty or invalid format. Skipping.\n",
      "File SE96GTW0CC.csv could not be read due to being empty or invalid format. Skipping.\n"
     ]
    },
    {
     "name": "stderr",
     "output_type": "stream",
     "text": [
      "\n",
      "\n",
      "\n",
      "\u001b[A\u001b[A\u001b[A"
     ]
    },
    {
     "name": "stdout",
     "output_type": "stream",
     "text": [
      "File L02203.csv could not be read due to being empty or invalid format. Skipping.\n",
      "File L12010.csv could not be read due to being empty or invalid format. Skipping.\n",
      "File 644724001.csv could not be read due to being empty or invalid format. Skipping.\n",
      "File 760115.csv could not be read due to being empty or invalid format. Skipping.\n",
      "File 38179.csv could not be read due to being empty or invalid format. Skipping.\n"
     ]
    },
    {
     "name": "stderr",
     "output_type": "stream",
     "text": [
      "\n",
      "\n",
      "\n",
      "\u001b[A\u001b[A\u001b[A"
     ]
    },
    {
     "name": "stdout",
     "output_type": "stream",
     "text": [
      "File SU37_19.csv could not be read due to being empty or invalid format. Skipping.\n",
      "File 556201002.csv could not be read due to being empty or invalid format. Skipping.\n",
      "File 370683.csv could not be read due to being empty or invalid format. Skipping.\n",
      "File 128322.csv could not be read due to being empty or invalid format. Skipping.\n",
      "File SU37_1.csv could not be read due to being empty or invalid format. Skipping.\n"
     ]
    },
    {
     "name": "stderr",
     "output_type": "stream",
     "text": [
      "\n",
      "\n",
      "\n",
      "\u001b[A\u001b[A\u001b[A"
     ]
    },
    {
     "name": "stdout",
     "output_type": "stream",
     "text": [
      "File 372094.csv could not be read due to being empty or invalid format. Skipping.\n",
      "File SU47_8.csv could not be read due to being empty or invalid format. Skipping.\n",
      "File SU76_45.csv could not be read due to being empty or invalid format. Skipping.\n",
      "File 143302265.csv could not be read due to being empty or invalid format. Skipping.\n",
      "File L3335.csv could not be read due to being empty or invalid format. Skipping.\n",
      "File TL51_38.csv could not be read due to being empty or invalid format. Skipping.\n",
      "File 2143GW.csv could not be read due to being empty or invalid format. Skipping.\n"
     ]
    },
    {
     "name": "stderr",
     "output_type": "stream",
     "text": [
      "\n",
      "\n",
      "\n",
      "\u001b[A\u001b[A\u001b[A"
     ]
    },
    {
     "name": "stdout",
     "output_type": "stream",
     "text": [
      "File 244150003.csv could not be read due to being empty or invalid format. Skipping.\n",
      "File SY19G049.csv could not be read due to being empty or invalid format. Skipping.\n",
      "File 765045.csv could not be read due to being empty or invalid format. Skipping.\n",
      "File 33004.csv could not be read due to being empty or invalid format. Skipping.\n",
      "File 22109.csv could not be read due to being empty or invalid format. Skipping.\n",
      "File L1536.csv could not be read due to being empty or invalid format. Skipping.\n"
     ]
    },
    {
     "name": "stderr",
     "output_type": "stream",
     "text": [
      "\n",
      "\n",
      "\n",
      "\u001b[A\u001b[A\u001b[A"
     ]
    },
    {
     "name": "stdout",
     "output_type": "stream",
     "text": [
      "File SP90_79.csv could not be read due to being empty or invalid format. Skipping.\n",
      "File 545122001.csv could not be read due to being empty or invalid format. Skipping.\n",
      "File SE45CT00SS.csv could not be read due to being empty or invalid format. Skipping.\n",
      "File 40401083.csv could not be read due to being empty or invalid format. Skipping.\n",
      "File SE93WLP0CC.csv could not be read due to being empty or invalid format. Skipping.\n",
      "File TL34_165.csv could not be read due to being empty or invalid format. Skipping.\n",
      "File SD20_18.csv could not be read due to being empty or invalid format. Skipping.\n",
      "File 4099.csv could not be read due to being empty or invalid format. Skipping.\n"
     ]
    },
    {
     "name": "stderr",
     "output_type": "stream",
     "text": [
      "\n",
      "\n",
      "\n",
      "\u001b[A\u001b[A\u001b[A"
     ]
    },
    {
     "name": "stdout",
     "output_type": "stream",
     "text": [
      "File SU78_54.csv could not be read due to being empty or invalid format. Skipping.\n",
      "File 152206024.csv could not be read due to being empty or invalid format. Skipping.\n",
      "File 24-5-172.csv could not be read due to being empty or invalid format. Skipping.\n",
      "File TF91_871.csv could not be read due to being empty or invalid format. Skipping.\n",
      "File 597519.csv could not be read due to being empty or invalid format. Skipping.\n",
      "File TL99_019.csv could not be read due to being empty or invalid format. Skipping.\n",
      "File 3057TH.csv could not be read due to being empty or invalid format. Skipping.\n",
      "File 2814TH.csv could not be read due to being empty or invalid format. Skipping.\n",
      "File TL56_005.csv could not be read due to being empty or invalid format. Skipping.\n"
     ]
    },
    {
     "name": "stderr",
     "output_type": "stream",
     "text": [
      "\n",
      "\n",
      "\n",
      "\u001b[A\u001b[A\u001b[A"
     ]
    },
    {
     "name": "stdout",
     "output_type": "stream",
     "text": [
      "File 236601.csv could not be read due to being empty or invalid format. Skipping.\n",
      "File TL46_005.csv could not be read due to being empty or invalid format. Skipping.\n",
      "File 2486TH.csv could not be read due to being empty or invalid format. Skipping.\n",
      "File 143306956.csv could not be read due to being empty or invalid format. Skipping.\n",
      "File 432172.csv could not be read due to being empty or invalid format. Skipping.\n",
      "File S45403_FW.csv could not be read due to being empty or invalid format. Skipping.\n",
      "File TL89_019.csv could not be read due to being empty or invalid format. Skipping.\n",
      "File 2242GW.csv could not be read due to being empty or invalid format. Skipping.\n",
      "File 0134GW.csv could not be read due to being empty or invalid format. Skipping.\n",
      "File 143701558.csv could not be read due to being empty or invalid format. Skipping.\n"
     ]
    },
    {
     "name": "stderr",
     "output_type": "stream",
     "text": [
      "\n",
      "\n",
      "\n",
      "\u001b[A\u001b[A\u001b[A"
     ]
    },
    {
     "name": "stdout",
     "output_type": "stream",
     "text": [
      "File TL99_025.csv could not be read due to being empty or invalid format. Skipping.\n",
      "File 21-0-25.csv could not be read due to being empty or invalid format. Skipping.\n",
      "File ST00F009.csv could not be read due to being empty or invalid format. Skipping.\n",
      "File NY34_6.csv could not be read due to being empty or invalid format. Skipping.\n",
      "File TL66_095.csv could not be read due to being empty or invalid format. Skipping.\n",
      "File 40401040.csv could not be read due to being empty or invalid format. Skipping.\n"
     ]
    },
    {
     "name": "stderr",
     "output_type": "stream",
     "text": [
      "\n",
      "\n",
      "\n",
      "\u001b[A\u001b[A\u001b[A"
     ]
    },
    {
     "name": "stdout",
     "output_type": "stream",
     "text": [
      "File 246726TP.csv could not be read due to being empty or invalid format. Skipping.\n",
      "File 256230TP.csv could not be read due to being empty or invalid format. Skipping.\n",
      "File SU38_80B.csv could not be read due to being empty or invalid format. Skipping.\n",
      "File TL89_025.csv could not be read due to being empty or invalid format. Skipping.\n",
      "File TL99_030.csv could not be read due to being empty or invalid format. Skipping.\n",
      "File 231153.csv could not be read due to being empty or invalid format. Skipping.\n",
      "File 520577.csv could not be read due to being empty or invalid format. Skipping.\n"
     ]
    },
    {
     "name": "stderr",
     "output_type": "stream",
     "text": [
      "\n",
      "\n",
      "\n",
      "\u001b[A\u001b[A\u001b[A\n",
      "\n",
      "\n",
      "\u001b[A\u001b[A\u001b[A"
     ]
    },
    {
     "name": "stdout",
     "output_type": "stream",
     "text": [
      "File 8_700.csv could not be read due to being empty or invalid format. Skipping.\n",
      "File TF60_049.csv could not be read due to being empty or invalid format. Skipping.\n",
      "File SD54_29.csv could not be read due to being empty or invalid format. Skipping.\n",
      "File NY14_47.csv could not be read due to being empty or invalid format. Skipping.\n",
      "File L3491.csv could not be read due to being empty or invalid format. Skipping.\n",
      "File TL99_024.csv could not be read due to being empty or invalid format. Skipping.\n",
      "File TM08_006.csv could not be read due to being empty or invalid format. Skipping.\n",
      "File 230271.csv could not be read due to being empty or invalid format. Skipping.\n",
      "File 567600.csv could not be read due to being empty or invalid format. Skipping.\n",
      "File TA16EF00CC.csv could not be read due to being empty or invalid format. Skipping.\n",
      "File 351857.csv could not be read due to being empty or invalid format. Skipping.\n",
      "File TM06_864.csv could not be read due to being empty or invalid format. Skipping.\n",
      "File TL89_018.csv could not be read due to being empty or invalid format. Skipping.\n",
      "File 694042.csv could not be read due to being empty or invalid format. Skipping.\n",
      "File TL99_018.csv could not be read due to being empty or invalid format. Skipping.\n"
     ]
    },
    {
     "name": "stderr",
     "output_type": "stream",
     "text": [
      "\n",
      "\n",
      "\n",
      "\u001b[A\u001b[A\u001b[A"
     ]
    },
    {
     "name": "stdout",
     "output_type": "stream",
     "text": [
      "File 21-0-18.csv could not be read due to being empty or invalid format. Skipping.\n",
      "File 1421GW.csv could not be read due to being empty or invalid format. Skipping.\n",
      "File L3320.csv could not be read due to being empty or invalid format. Skipping.\n",
      "File 395632.csv could not be read due to being empty or invalid format. Skipping.\n",
      "File 90193106.csv could not be read due to being empty or invalid format. Skipping.\n"
     ]
    },
    {
     "name": "stderr",
     "output_type": "stream",
     "text": [
      "\n",
      "\n",
      "\n",
      "\u001b[A\u001b[A\u001b[A"
     ]
    },
    {
     "name": "stdout",
     "output_type": "stream",
     "text": [
      "File 244569TP.csv could not be read due to being empty or invalid format. Skipping.\n",
      "File 261923TP.csv could not be read due to being empty or invalid format. Skipping.\n",
      "File 1048GW.csv could not be read due to being empty or invalid format. Skipping.\n",
      "File 2_561.csv could not be read due to being empty or invalid format. Skipping.\n",
      "File 4098.csv could not be read due to being empty or invalid format. Skipping.\n",
      "File 143302264.csv could not be read due to being empty or invalid format. Skipping.\n"
     ]
    },
    {
     "name": "stderr",
     "output_type": "stream",
     "text": [
      "\n",
      "\n",
      "\n",
      "\u001b[A\u001b[A\u001b[A"
     ]
    },
    {
     "name": "stdout",
     "output_type": "stream",
     "text": [
      "File 340769.csv could not be read due to being empty or invalid format. Skipping.\n",
      "File SP00_136.csv could not be read due to being empty or invalid format. Skipping.\n",
      "File 644120001.csv could not be read due to being empty or invalid format. Skipping.\n",
      "File TQ08_90.csv could not be read due to being empty or invalid format. Skipping.\n"
     ]
    },
    {
     "name": "stderr",
     "output_type": "stream",
     "text": [
      "\n",
      "\n",
      "\n",
      "\u001b[A\u001b[A\u001b[A"
     ]
    },
    {
     "name": "stdout",
     "output_type": "stream",
     "text": [
      "File SY19G048.csv could not be read due to being empty or invalid format. Skipping.\n",
      "File 202566.csv could not be read due to being empty or invalid format. Skipping.\n",
      "File 90115405.csv could not be read due to being empty or invalid format. Skipping.\n",
      "File 2087GW.csv could not be read due to being empty or invalid format. Skipping.\n",
      "File 736420.csv could not be read due to being empty or invalid format. Skipping.\n",
      "File TQ28_198.csv could not be read due to being empty or invalid format. Skipping.\n",
      "File 556201003.csv could not be read due to being empty or invalid format. Skipping.\n"
     ]
    },
    {
     "name": "stderr",
     "output_type": "stream",
     "text": [
      "\n",
      "\n",
      "\n",
      "\u001b[A\u001b[A\u001b[A"
     ]
    },
    {
     "name": "stdout",
     "output_type": "stream",
     "text": [
      "File 244330014.csv could not be read due to being empty or invalid format. Skipping.\n",
      "File 592448.csv could not be read due to being empty or invalid format. Skipping.\n",
      "File 2_549.csv could not be read due to being empty or invalid format. Skipping.\n",
      "File 1765GW.csv could not be read due to being empty or invalid format. Skipping.\n",
      "File SU47_9.csv could not be read due to being empty or invalid format. Skipping.\n",
      "File 642321001.csv could not be read due to being empty or invalid format. Skipping.\n",
      "File 580058.csv could not be read due to being empty or invalid format. Skipping.\n"
     ]
    },
    {
     "name": "stderr",
     "output_type": "stream",
     "text": [
      "\n",
      "\n",
      "\n",
      "\u001b[A\u001b[A\u001b[A"
     ]
    },
    {
     "name": "stdout",
     "output_type": "stream",
     "text": [
      "File 1720GW.csv could not be read due to being empty or invalid format. Skipping.\n",
      "File L0601.csv could not be read due to being empty or invalid format. Skipping.\n",
      "File SE37DF00SS.csv could not be read due to being empty or invalid format. Skipping.\n",
      "File 0110GW.csv could not be read due to being empty or invalid format. Skipping.\n",
      "File TM09_003.csv could not be read due to being empty or invalid format. Skipping.\n",
      "File 4259.csv could not be read due to being empty or invalid format. Skipping.\n",
      "File 652318001.csv could not be read due to being empty or invalid format. Skipping.\n",
      "File 520775.csv could not be read due to being empty or invalid format. Skipping.\n",
      "File 432403.csv could not be read due to being empty or invalid format. Skipping.\n",
      "File TL85_002.csv could not be read due to being empty or invalid format. Skipping.\n",
      "File ST10G100.csv could not be read due to being empty or invalid format. Skipping.\n",
      "File SU48_68B.csv could not be read due to being empty or invalid format. Skipping.\n"
     ]
    },
    {
     "name": "stderr",
     "output_type": "stream",
     "text": [
      "\n",
      "\n",
      "\n",
      "\u001b[A\u001b[A\u001b[A"
     ]
    },
    {
     "name": "stdout",
     "output_type": "stream",
     "text": [
      "File S46504_FW.csv could not be read due to being empty or invalid format. Skipping.\n",
      "File GP06_7.csv could not be read due to being empty or invalid format. Skipping.\n",
      "File 4180_w1TH.csv could not be read due to being empty or invalid format. Skipping.\n",
      "File L3693.csv could not be read due to being empty or invalid format. Skipping.\n",
      "File L30065.csv could not be read due to being empty or invalid format. Skipping.\n",
      "File 1916GW.csv could not be read due to being empty or invalid format. Skipping.\n",
      "File 583948.csv could not be read due to being empty or invalid format. Skipping.\n",
      "File TL88_009.csv could not be read due to being empty or invalid format. Skipping.\n"
     ]
    },
    {
     "name": "stderr",
     "output_type": "stream",
     "text": [
      "\n",
      "\n",
      "\n",
      "\u001b[A\u001b[A\u001b[A"
     ]
    },
    {
     "name": "stdout",
     "output_type": "stream",
     "text": [
      "File TA06MF00CC.csv could not be read due to being empty or invalid format. Skipping.\n",
      "File 3073TH.csv could not be read due to being empty or invalid format. Skipping.\n",
      "File 2420_w1TH.csv could not be read due to being empty or invalid format. Skipping.\n",
      "File SD43_19.csv could not be read due to being empty or invalid format. Skipping.\n",
      "File SD45_3.csv could not be read due to being empty or invalid format. Skipping.\n"
     ]
    },
    {
     "name": "stderr",
     "output_type": "stream",
     "text": [
      "\n",
      "\n",
      "\n",
      "\u001b[A\u001b[A\u001b[A"
     ]
    },
    {
     "name": "stdout",
     "output_type": "stream",
     "text": [
      "File 700421.csv could not be read due to being empty or invalid format. Skipping.\n",
      "File TL98_009.csv could not be read due to being empty or invalid format. Skipping.\n",
      "File SE52ROA0SS.csv could not be read due to being empty or invalid format. Skipping.\n",
      "File TG12_198A.csv could not be read due to being empty or invalid format. Skipping.\n",
      "File 2888TH.csv could not be read due to being empty or invalid format. Skipping.\n",
      "File SE94SWF0CC.csv could not be read due to being empty or invalid format. Skipping.\n",
      "File 2833.csv could not be read due to being empty or invalid format. Skipping.\n",
      "File 40101088.csv could not be read due to being empty or invalid format. Skipping.\n"
     ]
    },
    {
     "name": "stderr",
     "output_type": "stream",
     "text": [
      "\n",
      "\n",
      "\n",
      "\u001b[A\u001b[A\u001b[A\n",
      "\n",
      "\n",
      "\u001b[A\u001b[A\u001b[A"
     ]
    },
    {
     "name": "stdout",
     "output_type": "stream",
     "text": [
      "File 566615502.csv could not be read due to being empty or invalid format. Skipping.\n",
      "File 232843.csv could not be read due to being empty or invalid format. Skipping.\n",
      "File TQ18_44B.csv could not be read due to being empty or invalid format. Skipping.\n",
      "File 584772.csv could not be read due to being empty or invalid format. Skipping.\n",
      "File 405278.csv could not be read due to being empty or invalid format. Skipping.\n",
      "File 46840.csv could not be read due to being empty or invalid format. Skipping.\n",
      "File 644921011.csv could not be read due to being empty or invalid format. Skipping.\n",
      "File 1211GW.csv could not be read due to being empty or invalid format. Skipping.\n",
      "File L1721.csv could not be read due to being empty or invalid format. Skipping.\n",
      "File SP20_3.csv could not be read due to being empty or invalid format. Skipping.\n",
      "File NY00_378B.csv could not be read due to being empty or invalid format. Skipping.\n",
      "File TL86_116.csv could not be read due to being empty or invalid format. Skipping.\n",
      "File TL77_046.csv could not be read due to being empty or invalid format. Skipping.\n",
      "File 40101077.csv could not be read due to being empty or invalid format. Skipping.\n"
     ]
    },
    {
     "name": "stderr",
     "output_type": "stream",
     "text": [
      "\n",
      "\n",
      "\n",
      "\u001b[A\u001b[A\u001b[A"
     ]
    },
    {
     "name": "stdout",
     "output_type": "stream",
     "text": [
      "File 322488.csv could not be read due to being empty or invalid format. Skipping.\n",
      "File 768010.csv could not be read due to being empty or invalid format. Skipping.\n",
      "File TA07WHWBCC.csv could not be read due to being empty or invalid format. Skipping.\n",
      "File 700390.csv could not be read due to being empty or invalid format. Skipping.\n",
      "File SY08G065.csv could not be read due to being empty or invalid format. Skipping.\n",
      "File 302770.csv could not be read due to being empty or invalid format. Skipping.\n"
     ]
    },
    {
     "name": "stderr",
     "output_type": "stream",
     "text": [
      "\n",
      "\n",
      "\n",
      "\u001b[A\u001b[A\u001b[A"
     ]
    },
    {
     "name": "stdout",
     "output_type": "stream",
     "text": [
      "File 380001.csv could not be read due to being empty or invalid format. Skipping.\n",
      "File 26144.csv could not be read due to being empty or invalid format. Skipping.\n",
      "File 90189406.csv could not be read due to being empty or invalid format. Skipping.\n",
      "File SU75_29.csv could not be read due to being empty or invalid format. Skipping.\n",
      "File L2200.csv could not be read due to being empty or invalid format. Skipping.\n",
      "File 223972.csv could not be read due to being empty or invalid format. Skipping.\n"
     ]
    },
    {
     "name": "stderr",
     "output_type": "stream",
     "text": [
      "\n",
      "\n",
      "\n",
      "\u001b[A\u001b[A\u001b[A"
     ]
    },
    {
     "name": "stdout",
     "output_type": "stream",
     "text": [
      "File 0579GW.csv could not be read due to being empty or invalid format. Skipping.\n",
      "File 23028.csv could not be read due to being empty or invalid format. Skipping.\n",
      "File NTG3270P4.csv could not be read due to being empty or invalid format. Skipping.\n",
      "File SD41_20.csv could not be read due to being empty or invalid format. Skipping.\n",
      "File TL94_371.csv could not be read due to being empty or invalid format. Skipping.\n",
      "File TL74_740.csv could not be read due to being empty or invalid format. Skipping.\n"
     ]
    },
    {
     "name": "stderr",
     "output_type": "stream",
     "text": [
      "\n",
      "\n",
      "\n",
      "\u001b[A\u001b[A\u001b[A"
     ]
    },
    {
     "name": "stdout",
     "output_type": "stream",
     "text": [
      "File 245202006.csv could not be read due to being empty or invalid format. Skipping.\n",
      "File 531348_FW.csv could not be read due to being empty or invalid format. Skipping.\n",
      "File 560557.csv could not be read due to being empty or invalid format. Skipping.\n",
      "File SD41_34.csv could not be read due to being empty or invalid format. Skipping.\n",
      "File TQ78_780.csv could not be read due to being empty or invalid format. Skipping.\n",
      "File 254130003.csv could not be read due to being empty or invalid format. Skipping.\n",
      "File 2878B.csv could not be read due to being empty or invalid format. Skipping.\n"
     ]
    },
    {
     "name": "stderr",
     "output_type": "stream",
     "text": [
      "\n",
      "\n",
      "\n",
      "\u001b[A\u001b[A\u001b[A"
     ]
    },
    {
     "name": "stdout",
     "output_type": "stream",
     "text": [
      "File 0544GW.csv could not be read due to being empty or invalid format. Skipping.\n",
      "File SE37LHL0SS.csv could not be read due to being empty or invalid format. Skipping.\n",
      "File 90191301.csv could not be read due to being empty or invalid format. Skipping.\n",
      "File 230675.csv could not be read due to being empty or invalid format. Skipping.\n",
      "File 531235_FW.csv could not be read due to being empty or invalid format. Skipping.\n",
      "File 2_617.csv could not be read due to being empty or invalid format. Skipping.\n"
     ]
    },
    {
     "name": "stderr",
     "output_type": "stream",
     "text": [
      "\n",
      "\n",
      "\n",
      "\u001b[A\u001b[A\u001b[A"
     ]
    },
    {
     "name": "stdout",
     "output_type": "stream",
     "text": [
      "File 0168GW.csv could not be read due to being empty or invalid format. Skipping.\n",
      "File 591579.csv could not be read due to being empty or invalid format. Skipping.\n",
      "File TL23_087.csv could not be read due to being empty or invalid format. Skipping.\n",
      "File SU48_72A.csv could not be read due to being empty or invalid format. Skipping.\n",
      "File 510701.csv could not be read due to being empty or invalid format. Skipping.\n",
      "File 000181TP.csv could not be read due to being empty or invalid format. Skipping.\n"
     ]
    },
    {
     "name": "stderr",
     "output_type": "stream",
     "text": [
      "\n",
      "\n",
      "\n",
      "\u001b[A\u001b[A\u001b[A"
     ]
    },
    {
     "name": "stdout",
     "output_type": "stream",
     "text": [
      "File 90113302.csv could not be read due to being empty or invalid format. Skipping.\n",
      "File SJ68_54.csv could not be read due to being empty or invalid format. Skipping.\n",
      "File 1415TH.csv could not be read due to being empty or invalid format. Skipping.\n",
      "File 5782.csv could not be read due to being empty or invalid format. Skipping.\n",
      "File TF62_004.csv could not be read due to being empty or invalid format. Skipping.\n",
      "File 238777TP.csv could not be read due to being empty or invalid format. Skipping.\n",
      "File 142201040.csv could not be read due to being empty or invalid format. Skipping.\n"
     ]
    },
    {
     "name": "stderr",
     "output_type": "stream",
     "text": [
      "\n",
      "\n",
      "\n",
      "\u001b[A\u001b[A\u001b[A"
     ]
    },
    {
     "name": "stdout",
     "output_type": "stream",
     "text": [
      "File L2412.csv could not be read due to being empty or invalid format. Skipping.\n",
      "File 125217.csv could not be read due to being empty or invalid format. Skipping.\n",
      "File 690185.csv could not be read due to being empty or invalid format. Skipping.\n",
      "File 764010.csv could not be read due to being empty or invalid format. Skipping.\n",
      "File 344137.csv could not be read due to being empty or invalid format. Skipping.\n",
      "File 21039.csv could not be read due to being empty or invalid format. Skipping.\n",
      "File 341511431.csv could not be read due to being empty or invalid format. Skipping.\n"
     ]
    },
    {
     "name": "stderr",
     "output_type": "stream",
     "text": [
      "\n",
      "\n",
      "\n",
      "\u001b[A\u001b[A\u001b[A"
     ]
    },
    {
     "name": "stdout",
     "output_type": "stream",
     "text": [
      "File 0600GW.csv could not be read due to being empty or invalid format. Skipping.\n",
      "File 288773TP.csv could not be read due to being empty or invalid format. Skipping.\n",
      "File TF72_004.csv could not be read due to being empty or invalid format. Skipping.\n",
      "File SU19_87.csv could not be read due to being empty or invalid format. Skipping.\n",
      "File 0294GW.csv could not be read due to being empty or invalid format. Skipping.\n",
      "File TL03_003.csv could not be read due to being empty or invalid format. Skipping.\n",
      "File L2406.csv could not be read due to being empty or invalid format. Skipping.\n",
      "File 55223.csv could not be read due to being empty or invalid format. Skipping.\n",
      "File SU07_50.csv could not be read due to being empty or invalid format. Skipping.\n"
     ]
    },
    {
     "name": "stderr",
     "output_type": "stream",
     "text": [
      "\n",
      "\n",
      "\n",
      "\u001b[A\u001b[A\u001b[A"
     ]
    },
    {
     "name": "stdout",
     "output_type": "stream",
     "text": [
      "File 380388.csv could not be read due to being empty or invalid format. Skipping.\n",
      "File TM46_503.csv could not be read due to being empty or invalid format. Skipping.\n",
      "File L2837.csv could not be read due to being empty or invalid format. Skipping.\n",
      "File 1030GW.csv could not be read due to being empty or invalid format. Skipping.\n",
      "File 141811476.csv could not be read due to being empty or invalid format. Skipping.\n"
     ]
    },
    {
     "name": "stderr",
     "output_type": "stream",
     "text": [
      "\n",
      "\n",
      "\n",
      "\u001b[A\u001b[A\u001b[A"
     ]
    },
    {
     "name": "stdout",
     "output_type": "stream",
     "text": [
      "File 255313007.csv could not be read due to being empty or invalid format. Skipping.\n",
      "File 571894.csv could not be read due to being empty or invalid format. Skipping.\n",
      "File SU85_47.csv could not be read due to being empty or invalid format. Skipping.\n",
      "File 409085.csv could not be read due to being empty or invalid format. Skipping.\n",
      "File T30004.csv could not be read due to being empty or invalid format. Skipping.\n",
      "File 90169109.csv could not be read due to being empty or invalid format. Skipping.\n",
      "File 348296.csv could not be read due to being empty or invalid format. Skipping.\n"
     ]
    },
    {
     "name": "stderr",
     "output_type": "stream",
     "text": [
      "\n",
      "\n",
      "\n",
      "\u001b[A\u001b[A\u001b[A"
     ]
    },
    {
     "name": "stdout",
     "output_type": "stream",
     "text": [
      "File 0075GW.csv could not be read due to being empty or invalid format. Skipping.\n",
      "File TL10_31C.csv could not be read due to being empty or invalid format. Skipping.\n",
      "File TL44_288.csv could not be read due to being empty or invalid format. Skipping.\n",
      "File 744129.csv could not be read due to being empty or invalid format. Skipping.\n",
      "File 222729.csv could not be read due to being empty or invalid format. Skipping.\n",
      "File 321552.csv could not be read due to being empty or invalid format. Skipping.\n",
      "File SE52HEB0SS.csv could not be read due to being empty or invalid format. Skipping.\n",
      "File TL42_6.csv could not be read due to being empty or invalid format. Skipping.\n"
     ]
    },
    {
     "name": "stderr",
     "output_type": "stream",
     "text": [
      "\n",
      "\n",
      "\n",
      "\u001b[A\u001b[A\u001b[A"
     ]
    },
    {
     "name": "stdout",
     "output_type": "stream",
     "text": [
      "File 4675.csv could not be read due to being empty or invalid format. Skipping.\n",
      "File 224358.csv could not be read due to being empty or invalid format. Skipping.\n",
      "File 694122.csv could not be read due to being empty or invalid format. Skipping.\n",
      "File SP10_95.csv could not be read due to being empty or invalid format. Skipping.\n",
      "File BURWER.csv could not be read due to being empty or invalid format. Skipping.\n",
      "File NTM2949P1.csv could not be read due to being empty or invalid format. Skipping.\n"
     ]
    },
    {
     "name": "stderr",
     "output_type": "stream",
     "text": [
      "\n",
      "\n",
      "\n",
      "\u001b[A\u001b[A\u001b[A"
     ]
    },
    {
     "name": "stdout",
     "output_type": "stream",
     "text": [
      "File SE94BBW0CC.csv could not be read due to being empty or invalid format. Skipping.\n",
      "File SO90_83.csv could not be read due to being empty or invalid format. Skipping.\n",
      "File NTF9133P2.csv could not be read due to being empty or invalid format. Skipping.\n",
      "File U04.csv could not be read due to being empty or invalid format. Skipping.\n",
      "File 700031.csv could not be read due to being empty or invalid format. Skipping.\n",
      "File 244314001.csv could not be read due to being empty or invalid format. Skipping.\n",
      "File TL33_51.csv could not be read due to being empty or invalid format. Skipping.\n"
     ]
    },
    {
     "name": "stderr",
     "output_type": "stream",
     "text": [
      "\n",
      "\n",
      "\n",
      "\u001b[A\u001b[A\u001b[A"
     ]
    },
    {
     "name": "stdout",
     "output_type": "stream",
     "text": [
      "File TL53_021.csv could not be read due to being empty or invalid format. Skipping.\n",
      "File 690350.csv could not be read due to being empty or invalid format. Skipping.\n",
      "File 4092TH.csv could not be read due to being empty or invalid format. Skipping.\n",
      "File 2469_w1TH.csv could not be read due to being empty or invalid format. Skipping.\n",
      "File 442113002.csv could not be read due to being empty or invalid format. Skipping.\n",
      "File SE85MLT0CC.csv could not be read due to being empty or invalid format. Skipping.\n",
      "File TG31_592b.csv could not be read due to being empty or invalid format. Skipping.\n"
     ]
    },
    {
     "name": "stderr",
     "output_type": "stream",
     "text": [
      "\n",
      "\n",
      "\n",
      "\u001b[A\u001b[A\u001b[A"
     ]
    },
    {
     "name": "stdout",
     "output_type": "stream",
     "text": [
      "File 90103313.csv could not be read due to being empty or invalid format. Skipping.\n",
      "File TA06NPS0CC.csv could not be read due to being empty or invalid format. Skipping.\n",
      "File 319026.csv could not be read due to being empty or invalid format. Skipping.\n",
      "File TF73_001.csv could not be read due to being empty or invalid format. Skipping.\n",
      "File 333195.csv could not be read due to being empty or invalid format. Skipping.\n",
      "File 530189.csv could not be read due to being empty or invalid format. Skipping.\n"
     ]
    },
    {
     "name": "stderr",
     "output_type": "stream",
     "text": [
      "\n",
      "\n",
      "\n",
      "\u001b[A\u001b[A\u001b[A"
     ]
    },
    {
     "name": "stdout",
     "output_type": "stream",
     "text": [
      "File 204711.csv could not be read due to being empty or invalid format. Skipping.\n",
      "File 171450.csv could not be read due to being empty or invalid format. Skipping.\n",
      "File SE37RT00SS.csv could not be read due to being empty or invalid format. Skipping.\n",
      "File 25-4-115.csv could not be read due to being empty or invalid format. Skipping.\n",
      "File L2604.csv could not be read due to being empty or invalid format. Skipping.\n",
      "File 1922TH.csv could not be read due to being empty or invalid format. Skipping.\n"
     ]
    },
    {
     "name": "stderr",
     "output_type": "stream",
     "text": [
      "\n",
      "\n",
      "\n",
      "\u001b[A\u001b[A\u001b[A"
     ]
    },
    {
     "name": "stdout",
     "output_type": "stream",
     "text": [
      "File SU74_6.csv could not be read due to being empty or invalid format. Skipping.\n",
      "File TQ36_36.csv could not be read due to being empty or invalid format. Skipping.\n",
      "File SY19G100.csv could not be read due to being empty or invalid format. Skipping.\n",
      "File 2598SO.csv could not be read due to being empty or invalid format. Skipping.\n",
      "File TF63_017.csv could not be read due to being empty or invalid format. Skipping.\n",
      "File SU38_75B.csv could not be read due to being empty or invalid format. Skipping.\n"
     ]
    },
    {
     "name": "stderr",
     "output_type": "stream",
     "text": [
      "\n",
      "\n",
      "\n",
      "\u001b[A\u001b[A\u001b[A"
     ]
    },
    {
     "name": "stdout",
     "output_type": "stream",
     "text": [
      "File TM17_268.csv could not be read due to being empty or invalid format. Skipping.\n",
      "File 3_638.csv could not be read due to being empty or invalid format. Skipping.\n",
      "File 642223006.csv could not be read due to being empty or invalid format. Skipping.\n",
      "File 395778.csv could not be read due to being empty or invalid format. Skipping.\n",
      "File SE93RNK0CC.csv could not be read due to being empty or invalid format. Skipping.\n",
      "File SP10_54.csv could not be read due to being empty or invalid format. Skipping.\n"
     ]
    },
    {
     "name": "stderr",
     "output_type": "stream",
     "text": [
      "\n",
      "\n",
      "\n",
      "\u001b[A\u001b[A\u001b[A"
     ]
    },
    {
     "name": "stdout",
     "output_type": "stream",
     "text": [
      "File 4878.csv could not be read due to being empty or invalid format. Skipping.\n",
      "File 76413.csv could not be read due to being empty or invalid format. Skipping.\n",
      "File SP10_40.csv could not be read due to being empty or invalid format. Skipping.\n",
      "File TQ36_34.csv could not be read due to being empty or invalid format. Skipping.\n",
      "File SU74_4.csv could not be read due to being empty or invalid format. Skipping.\n",
      "File SU49_73B.csv could not be read due to being empty or invalid format. Skipping.\n",
      "File SU28_66.csv could not be read due to being empty or invalid format. Skipping.\n"
     ]
    },
    {
     "name": "stderr",
     "output_type": "stream",
     "text": [
      "\n",
      "\n",
      "\n",
      "\u001b[A\u001b[A\u001b[A"
     ]
    },
    {
     "name": "stdout",
     "output_type": "stream",
     "text": [
      "File 4688.csv could not be read due to being empty or invalid format. Skipping.\n",
      "File 97259000.csv could not be read due to being empty or invalid format. Skipping.\n",
      "File 0296GW.csv could not be read due to being empty or invalid format. Skipping.\n",
      "File 450125.csv could not be read due to being empty or invalid format. Skipping.\n",
      "File L2809.csv could not be read due to being empty or invalid format. Skipping.\n"
     ]
    },
    {
     "name": "stderr",
     "output_type": "stream",
     "text": [
      "\n",
      "\n",
      "\n",
      "\u001b[A\u001b[A\u001b[A"
     ]
    },
    {
     "name": "stdout",
     "output_type": "stream",
     "text": [
      "File 644600003.csv could not be read due to being empty or invalid format. Skipping.\n",
      "File 530148.csv could not be read due to being empty or invalid format. Skipping.\n",
      "File TL75_009.csv could not be read due to being empty or invalid format. Skipping.\n",
      "File 690420.csv could not be read due to being empty or invalid format. Skipping.\n",
      "File TF94_116.csv could not be read due to being empty or invalid format. Skipping.\n",
      "File 215811.csv could not be read due to being empty or invalid format. Skipping.\n",
      "File NTM2949P3.csv could not be read due to being empty or invalid format. Skipping.\n",
      "File 1197GW.csv could not be read due to being empty or invalid format. Skipping.\n"
     ]
    },
    {
     "name": "stderr",
     "output_type": "stream",
     "text": [
      "\n",
      "\n",
      "\n",
      "\u001b[A\u001b[A\u001b[A"
     ]
    },
    {
     "name": "stdout",
     "output_type": "stream",
     "text": [
      "File TL02_94C.csv could not be read due to being empty or invalid format. Skipping.\n",
      "File 2206.csv could not be read due to being empty or invalid format. Skipping.\n",
      "File 165396.csv could not be read due to being empty or invalid format. Skipping.\n",
      "File 4663.csv could not be read due to being empty or invalid format. Skipping.\n",
      "File 4677.csv could not be read due to being empty or invalid format. Skipping.\n",
      "File U06.csv could not be read due to being empty or invalid format. Skipping.\n",
      "File 90179324.csv could not be read due to being empty or invalid format. Skipping.\n",
      "File SU09_57.csv could not be read due to being empty or invalid format. Skipping.\n"
     ]
    },
    {
     "name": "stderr",
     "output_type": "stream",
     "text": [
      "\n",
      "\n",
      "\n",
      "\u001b[A\u001b[A\u001b[A"
     ]
    },
    {
     "name": "stdout",
     "output_type": "stream",
     "text": [
      "File 4105.csv could not be read due to being empty or invalid format. Skipping.\n",
      "File TL33_53.csv could not be read due to being empty or invalid format. Skipping.\n",
      "File 530174.csv could not be read due to being empty or invalid format. Skipping.\n",
      "File 3642.csv could not be read due to being empty or invalid format. Skipping.\n",
      "File 693115.csv could not be read due to being empty or invalid format. Skipping.\n",
      "File SU57_165.csv could not be read due to being empty or invalid format. Skipping.\n",
      "File 750604.csv could not be read due to being empty or invalid format. Skipping.\n"
     ]
    },
    {
     "name": "stderr",
     "output_type": "stream",
     "text": [
      "\n",
      "\n",
      "\n",
      "\u001b[A\u001b[A\u001b[A"
     ]
    },
    {
     "name": "stdout",
     "output_type": "stream",
     "text": [
      "File TL31_180.csv could not be read due to being empty or invalid format. Skipping.\n",
      "File 141801101.csv could not be read due to being empty or invalid format. Skipping.\n",
      "File SP31_65.csv could not be read due to being empty or invalid format. Skipping.\n",
      "File TM34_7781.csv could not be read due to being empty or invalid format. Skipping.\n",
      "File 441242002.csv could not be read due to being empty or invalid format. Skipping.\n",
      "File 323347.csv could not be read due to being empty or invalid format. Skipping.\n"
     ]
    },
    {
     "name": "stderr",
     "output_type": "stream",
     "text": [
      "\n",
      "\n",
      "\n",
      "\u001b[A\u001b[A\u001b[A"
     ]
    },
    {
     "name": "stdout",
     "output_type": "stream",
     "text": [
      "File TL42_4.csv could not be read due to being empty or invalid format. Skipping.\n",
      "File L31027.csv could not be read due to being empty or invalid format. Skipping.\n",
      "File SD53_46B.csv could not be read due to being empty or invalid format. Skipping.\n",
      "File 2548.csv could not be read due to being empty or invalid format. Skipping.\n",
      "File SU57_159.csv could not be read due to being empty or invalid format. Skipping.\n",
      "File SD54_18E.csv could not be read due to being empty or invalid format. Skipping.\n",
      "File 41917.csv could not be read due to being empty or invalid format. Skipping.\n"
     ]
    },
    {
     "name": "stderr",
     "output_type": "stream",
     "text": [
      "\n",
      "\n",
      "\n",
      "\u001b[A\u001b[A\u001b[A"
     ]
    },
    {
     "name": "stdout",
     "output_type": "stream",
     "text": [
      "File 142803911.csv could not be read due to being empty or invalid format. Skipping.\n",
      "File L0207.csv could not be read due to being empty or invalid format. Skipping.\n",
      "File 441321002.csv could not be read due to being empty or invalid format. Skipping.\n",
      "File L2404.csv could not be read due to being empty or invalid format. Skipping.\n",
      "File SU19_85.csv could not be read due to being empty or invalid format. Skipping.\n",
      "File 245420001.csv could not be read due to being empty or invalid format. Skipping.\n",
      "File 4391TH.csv could not be read due to being empty or invalid format. Skipping.\n"
     ]
    },
    {
     "name": "stderr",
     "output_type": "stream",
     "text": [
      "\n",
      "\n",
      "\n",
      "\u001b[A\u001b[A\u001b[A"
     ]
    },
    {
     "name": "stdout",
     "output_type": "stream",
     "text": [
      "File 444420.csv could not be read due to being empty or invalid format. Skipping.\n",
      "File SU17_80.csv could not be read due to being empty or invalid format. Skipping.\n",
      "File 412666.csv could not be read due to being empty or invalid format. Skipping.\n",
      "File SJ68_42.csv could not be read due to being empty or invalid format. Skipping.\n",
      "File 406175.csv could not be read due to being empty or invalid format. Skipping.\n",
      "File 2_615.csv could not be read due to being empty or invalid format. Skipping.\n",
      "File 378182.csv could not be read due to being empty or invalid format. Skipping.\n",
      "File 244142014.csv could not be read due to being empty or invalid format. Skipping.\n",
      "File 287142.csv could not be read due to being empty or invalid format. Skipping.\n",
      "File L32089.csv could not be read due to being empty or invalid format. Skipping.\n",
      "File 644032003.csv could not be read due to being empty or invalid format. Skipping.\n",
      "File TL62_920.csv could not be read due to being empty or invalid format. Skipping.\n"
     ]
    },
    {
     "name": "stderr",
     "output_type": "stream",
     "text": [
      "\n",
      "\n",
      "\n",
      "\u001b[A\u001b[A\u001b[A"
     ]
    },
    {
     "name": "stdout",
     "output_type": "stream",
     "text": [
      "File 369064.csv could not be read due to being empty or invalid format. Skipping.\n",
      "File L1538A.csv could not be read due to being empty or invalid format. Skipping.\n",
      "File SP32_34.csv could not be read due to being empty or invalid format. Skipping.\n",
      "File 141806322.csv could not be read due to being empty or invalid format. Skipping.\n"
     ]
    },
    {
     "name": "stderr",
     "output_type": "stream",
     "text": [
      "\n",
      "\n",
      "\n",
      "\u001b[A\u001b[A\u001b[A"
     ]
    },
    {
     "name": "stdout",
     "output_type": "stream",
     "text": [
      "File 263541TP.csv could not be read due to being empty or invalid format. Skipping.\n",
      "File SD65_4.csv could not be read due to being empty or invalid format. Skipping.\n",
      "File 244131005.csv could not be read due to being empty or invalid format. Skipping.\n",
      "File 712153.csv could not be read due to being empty or invalid format. Skipping.\n",
      "File 142502923.csv could not be read due to being empty or invalid format. Skipping.\n",
      "File TF71_106.csv could not be read due to being empty or invalid format. Skipping.\n",
      "File 644610006.csv could not be read due to being empty or invalid format. Skipping.\n"
     ]
    },
    {
     "name": "stderr",
     "output_type": "stream",
     "text": [
      "\n",
      "\n",
      "\n",
      "\u001b[A\u001b[A\u001b[A"
     ]
    },
    {
     "name": "stdout",
     "output_type": "stream",
     "text": [
      "File SE98SLH0CO.csv could not be read due to being empty or invalid format. Skipping.\n",
      "File 124692.csv could not be read due to being empty or invalid format. Skipping.\n",
      "File 510918.csv could not be read due to being empty or invalid format. Skipping.\n",
      "File 555222001.csv could not be read due to being empty or invalid format. Skipping.\n",
      "File 690150.csv could not be read due to being empty or invalid format. Skipping.\n",
      "File 95561.csv could not be read due to being empty or invalid format. Skipping.\n"
     ]
    },
    {
     "name": "stderr",
     "output_type": "stream",
     "text": [
      "\n",
      "\n",
      "\n",
      "\u001b[A\u001b[A\u001b[A"
     ]
    },
    {
     "name": "stdout",
     "output_type": "stream",
     "text": [
      "File SD41_22.csv could not be read due to being empty or invalid format. Skipping.\n",
      "File 1032GW.csv could not be read due to being empty or invalid format. Skipping.\n",
      "File 91496203.csv could not be read due to being empty or invalid format. Skipping.\n",
      "File 1871GW.csv could not be read due to being empty or invalid format. Skipping.\n",
      "File 112334.csv could not be read due to being empty or invalid format. Skipping.\n",
      "File 342620500.csv could not be read due to being empty or invalid format. Skipping.\n",
      "File SJ88_123.csv could not be read due to being empty or invalid format. Skipping.\n",
      "File SU17_57.csv could not be read due to being empty or invalid format. Skipping.\n",
      "File L2202.csv could not be read due to being empty or invalid format. Skipping.\n"
     ]
    },
    {
     "name": "stderr",
     "output_type": "stream",
     "text": [
      "\n",
      "\n",
      "\n",
      "\u001b[A\u001b[A\u001b[A"
     ]
    },
    {
     "name": "stdout",
     "output_type": "stream",
     "text": [
      "File TQ09_127.csv could not be read due to being empty or invalid format. Skipping.\n",
      "File SP91_015.csv could not be read due to being empty or invalid format. Skipping.\n",
      "File 55816.csv could not be read due to being empty or invalid format. Skipping.\n",
      "File 2085GW.csv could not be read due to being empty or invalid format. Skipping.\n",
      "File 244140039.csv could not be read due to being empty or invalid format. Skipping.\n",
      "File SP50_74.csv could not be read due to being empty or invalid format. Skipping.\n",
      "File 24023.csv could not be read due to being empty or invalid format. Skipping.\n",
      "File 356337.csv could not be read due to being empty or invalid format. Skipping.\n",
      "File 1767GW.csv could not be read due to being empty or invalid format. Skipping.\n",
      "File 2454GW.csv could not be read due to being empty or invalid format. Skipping.\n"
     ]
    },
    {
     "name": "stderr",
     "output_type": "stream",
     "text": [
      "\n",
      "\n",
      "\n",
      "\u001b[A\u001b[A\u001b[A\n",
      "\n",
      "\n",
      "\u001b[A\u001b[A\u001b[A"
     ]
    },
    {
     "name": "stdout",
     "output_type": "stream",
     "text": [
      "File 237740TP.csv could not be read due to being empty or invalid format. Skipping.\n",
      "File L0401.csv could not be read due to being empty or invalid format. Skipping.\n",
      "File 1722GW.csv could not be read due to being empty or invalid format. Skipping.\n",
      "File 244320013.csv could not be read due to being empty or invalid format. Skipping.\n",
      "File 692800.csv could not be read due to being empty or invalid format. Skipping.\n",
      "File 4314TH.csv could not be read due to being empty or invalid format. Skipping.\n",
      "File 530188_FW.csv could not be read due to being empty or invalid format. Skipping.\n",
      "File 520783_FW.csv could not be read due to being empty or invalid format. Skipping.\n",
      "File SU27_37.csv could not be read due to being empty or invalid format. Skipping.\n"
     ]
    },
    {
     "name": "stderr",
     "output_type": "stream",
     "text": [
      "\n",
      "\n",
      "\n",
      "\u001b[A\u001b[A\u001b[A"
     ]
    },
    {
     "name": "stdout",
     "output_type": "stream",
     "text": [
      "File 40101061.csv could not be read due to being empty or invalid format. Skipping.\n",
      "File 40101075.csv could not be read due to being empty or invalid format. Skipping.\n",
      "File 2831.csv could not be read due to being empty or invalid format. Skipping.\n",
      "File 410111.csv could not be read due to being empty or invalid format. Skipping.\n",
      "File 2290TH.csv could not be read due to being empty or invalid format. Skipping.\n",
      "File S50442_FW.csv could not be read due to being empty or invalid format. Skipping.\n",
      "File 46842.csv could not be read due to being empty or invalid format. Skipping.\n"
     ]
    },
    {
     "name": "stderr",
     "output_type": "stream",
     "text": [
      "\n",
      "\n",
      "\n",
      "\u001b[A\u001b[A\u001b[A"
     ]
    },
    {
     "name": "stdout",
     "output_type": "stream",
     "text": [
      "File L24012.csv could not be read due to being empty or invalid format. Skipping.\n",
      "File SU38_38A.csv could not be read due to being empty or invalid format. Skipping.\n",
      "File 142201863.csv could not be read due to being empty or invalid format. Skipping.\n",
      "File L30067.csv could not be read due to being empty or invalid format. Skipping.\n",
      "File SD44_12.csv could not be read due to being empty or invalid format. Skipping.\n",
      "File TL57_003.csv could not be read due to being empty or invalid format. Skipping.\n",
      "File 2616.csv could not be read due to being empty or invalid format. Skipping.\n",
      "File 341111001.csv could not be read due to being empty or invalid format. Skipping.\n"
     ]
    },
    {
     "name": "stderr",
     "output_type": "stream",
     "text": [
      "\n",
      "\n",
      "\n",
      "\u001b[A\u001b[A\u001b[A"
     ]
    },
    {
     "name": "stdout",
     "output_type": "stream",
     "text": [
      "File 54507.csv could not be read due to being empty or invalid format. Skipping.\n",
      "File 243101015.csv could not be read due to being empty or invalid format. Skipping.\n",
      "File 692633.csv could not be read due to being empty or invalid format. Skipping.\n",
      "File TA15PHF0CC.csv could not be read due to being empty or invalid format. Skipping.\n",
      "File 232672.csv could not be read due to being empty or invalid format. Skipping.\n",
      "File 141802756.csv could not be read due to being empty or invalid format. Skipping.\n",
      "File 644612003.csv could not be read due to being empty or invalid format. Skipping.\n"
     ]
    },
    {
     "name": "stderr",
     "output_type": "stream",
     "text": [
      "\n",
      "\n",
      "\n",
      "\u001b[A\u001b[A\u001b[A"
     ]
    },
    {
     "name": "stdout",
     "output_type": "stream",
     "text": [
      "File 1423GW.csv could not be read due to being empty or invalid format. Skipping.\n",
      "File GP06_5.csv could not be read due to being empty or invalid format. Skipping.\n",
      "File 4481TH.csv could not be read due to being empty or invalid format. Skipping.\n",
      "File 4050TH.csv could not be read due to being empty or invalid format. Skipping.\n",
      "File SU09_138.csv could not be read due to being empty or invalid format. Skipping.\n",
      "File 255410421.csv could not be read due to being empty or invalid format. Skipping.\n"
     ]
    },
    {
     "name": "stderr",
     "output_type": "stream",
     "text": [
      "\n",
      "\n",
      "\n",
      "\u001b[A\u001b[A\u001b[A"
     ]
    },
    {
     "name": "stdout",
     "output_type": "stream",
     "text": [
      "File SU65_147.csv could not be read due to being empty or invalid format. Skipping.\n",
      "File 53532.csv could not be read due to being empty or invalid format. Skipping.\n",
      "File TL98_037.csv could not be read due to being empty or invalid format. Skipping.\n",
      "File 8026GW.csv could not be read due to being empty or invalid format. Skipping.\n",
      "File SU76_46.csv could not be read due to being empty or invalid format. Skipping.\n",
      "File 585122.csv could not be read due to being empty or invalid format. Skipping.\n",
      "File 553564.csv could not be read due to being empty or invalid format. Skipping.\n",
      "File L12013.csv could not be read due to being empty or invalid format. Skipping.\n"
     ]
    },
    {
     "name": "stderr",
     "output_type": "stream",
     "text": [
      "\n",
      "\n",
      "\n",
      "\u001b[A\u001b[A\u001b[A"
     ]
    },
    {
     "name": "stdout",
     "output_type": "stream",
     "text": [
      "File 4625TH.csv could not be read due to being empty or invalid format. Skipping.\n",
      "File TL44_301.csv could not be read due to being empty or invalid format. Skipping.\n",
      "File 1437001002.csv could not be read due to being empty or invalid format. Skipping.\n",
      "File 25-3-41.csv could not be read due to being empty or invalid format. Skipping.\n",
      "File 8850.csv could not be read due to being empty or invalid format. Skipping.\n",
      "File 26350.csv could not be read due to being empty or invalid format. Skipping.\n",
      "File 24-5-159.csv could not be read due to being empty or invalid format. Skipping.\n"
     ]
    },
    {
     "name": "stderr",
     "output_type": "stream",
     "text": [
      "\n",
      "\n",
      "\n",
      "\u001b[A\u001b[A\u001b[A"
     ]
    },
    {
     "name": "stdout",
     "output_type": "stream",
     "text": [
      "File 556301001.csv could not be read due to being empty or invalid format. Skipping.\n",
      "File L1535.csv could not be read due to being empty or invalid format. Skipping.\n",
      "File 440530.csv could not be read due to being empty or invalid format. Skipping.\n",
      "File 24-5-171.csv could not be read due to being empty or invalid format. Skipping.\n",
      "File 372910003.csv could not be read due to being empty or invalid format. Skipping.\n",
      "File 2120GW.csv could not be read due to being empty or invalid format. Skipping.\n",
      "File 3_016.csv could not be read due to being empty or invalid format. Skipping.\n",
      "File 40401080.csv could not be read due to being empty or invalid format. Skipping.\n",
      "File SE93NL00CC.csv could not be read due to being empty or invalid format. Skipping.\n",
      "File 142205634.csv could not be read due to being empty or invalid format. Skipping.\n",
      "File 765052.csv could not be read due to being empty or invalid format. Skipping.\n",
      "File 644120003.csv could not be read due to being empty or invalid format. Skipping.\n"
     ]
    },
    {
     "name": "stderr",
     "output_type": "stream",
     "text": [
      "\n",
      "\n",
      "\n",
      "\u001b[A\u001b[A\u001b[A\n",
      "\n",
      "\n",
      "\u001b[A\u001b[A\u001b[A"
     ]
    },
    {
     "name": "stdout",
     "output_type": "stream",
     "text": [
      "File 1213GW.csv could not be read due to being empty or invalid format. Skipping.\n",
      "File TM29_278.csv could not be read due to being empty or invalid format. Skipping.\n",
      "File 690554.csv could not be read due to being empty or invalid format. Skipping.\n",
      "File 303875.csv could not be read due to being empty or invalid format. Skipping.\n",
      "File 4065.csv could not be read due to being empty or invalid format. Skipping.\n",
      "File 143306955.csv could not be read due to being empty or invalid format. Skipping.\n",
      "File TF91_133.csv could not be read due to being empty or invalid format. Skipping.\n",
      "File 4703.csv could not be read due to being empty or invalid format. Skipping.\n",
      "File 561273.csv could not be read due to being empty or invalid format. Skipping.\n",
      "File 690232.csv could not be read due to being empty or invalid format. Skipping.\n",
      "File TL99_013B.csv could not be read due to being empty or invalid format. Skipping.\n",
      "File 25-3-82.csv could not be read due to being empty or invalid format. Skipping.\n"
     ]
    },
    {
     "name": "stderr",
     "output_type": "stream",
     "text": [
      "\n",
      "\n",
      "\n",
      "\u001b[A\u001b[A\u001b[A"
     ]
    },
    {
     "name": "stdout",
     "output_type": "stream",
     "text": [
      "File 170823.csv could not be read due to being empty or invalid format. Skipping.\n",
      "File 4071.csv could not be read due to being empty or invalid format. Skipping.\n",
      "File 244343007.csv could not be read due to being empty or invalid format. Skipping.\n",
      "File TQ49_19.csv could not be read due to being empty or invalid format. Skipping.\n",
      "File 245413030.csv could not be read due to being empty or invalid format. Skipping.\n",
      "File TL01_2.csv could not be read due to being empty or invalid format. Skipping.\n",
      "File 102523.csv could not be read due to being empty or invalid format. Skipping.\n"
     ]
    },
    {
     "name": "stderr",
     "output_type": "stream",
     "text": [
      "\n",
      "\n",
      "\n",
      "\u001b[A\u001b[A\u001b[A"
     ]
    },
    {
     "name": "stdout",
     "output_type": "stream",
     "text": [
      "File 0586GW.csv could not be read due to being empty or invalid format. Skipping.\n",
      "File 692419.csv could not be read due to being empty or invalid format. Skipping.\n",
      "File 2221GW.csv could not be read due to being empty or invalid format. Skipping.\n",
      "File 0157GW.csv could not be read due to being empty or invalid format. Skipping.\n",
      "File TL99_032.csv could not be read due to being empty or invalid format. Skipping.\n"
     ]
    },
    {
     "name": "stderr",
     "output_type": "stream",
     "text": [
      "\n",
      "\n",
      "\n",
      "\u001b[A\u001b[A\u001b[A"
     ]
    },
    {
     "name": "stdout",
     "output_type": "stream",
     "text": [
      "File L3493.csv could not be read due to being empty or invalid format. Skipping.\n",
      "File 443500001.csv could not be read due to being empty or invalid format. Skipping.\n",
      "File TL99_026.csv could not be read due to being empty or invalid format. Skipping.\n",
      "File 118209.csv could not be read due to being empty or invalid format. Skipping.\n",
      "File 1914GW.csv could not be read due to being empty or invalid format. Skipping.\n",
      "File L341902.csv could not be read due to being empty or invalid format. Skipping.\n",
      "File 142674.csv could not be read due to being empty or invalid format. Skipping.\n"
     ]
    },
    {
     "name": "stderr",
     "output_type": "stream",
     "text": [
      "\n",
      "\n",
      "\n",
      "\u001b[A\u001b[A\u001b[A"
     ]
    },
    {
     "name": "stdout",
     "output_type": "stream",
     "text": [
      "File 765090.csv could not be read due to being empty or invalid format. Skipping.\n",
      "File TL99_027.csv could not be read due to being empty or invalid format. Skipping.\n",
      "File NY14_44.csv could not be read due to being empty or invalid format. Skipping.\n",
      "File 574656.csv could not be read due to being empty or invalid format. Skipping.\n",
      "File 371401001.csv could not be read due to being empty or invalid format. Skipping.\n",
      "File SE62HBR0SS.csv could not be read due to being empty or invalid format. Skipping.\n",
      "File 432170.csv could not be read due to being empty or invalid format. Skipping.\n"
     ]
    },
    {
     "name": "stderr",
     "output_type": "stream",
     "text": [
      "\n",
      "\n",
      "\n",
      "\u001b[A\u001b[A\u001b[A"
     ]
    },
    {
     "name": "stdout",
     "output_type": "stream",
     "text": [
      "File 8002GW.csv could not be read due to being empty or invalid format. Skipping.\n",
      "File 603315.csv could not be read due to being empty or invalid format. Skipping.\n",
      "File 333747.csv could not be read due to being empty or invalid format. Skipping.\n",
      "File TM08_011.csv could not be read due to being empty or invalid format. Skipping.\n",
      "File 654232001.csv could not be read due to being empty or invalid format. Skipping.\n",
      "File 546522001.csv could not be read due to being empty or invalid format. Skipping.\n",
      "File ST99_64B.csv could not be read due to being empty or invalid format. Skipping.\n"
     ]
    },
    {
     "name": "stderr",
     "output_type": "stream",
     "text": [
      "\n",
      "\n",
      "\n",
      "\u001b[A\u001b[A\u001b[A"
     ]
    },
    {
     "name": "stdout",
     "output_type": "stream",
     "text": [
      "File 694041.csv could not be read due to being empty or invalid format. Skipping.\n",
      "File 35488.csv could not be read due to being empty or invalid format. Skipping.\n",
      "File 692430.csv could not be read due to being empty or invalid format. Skipping.\n",
      "File 40401042.csv could not be read due to being empty or invalid format. Skipping.\n",
      "File 25-3-83.csv could not be read due to being empty or invalid format. Skipping.\n",
      "File TL56_007.csv could not be read due to being empty or invalid format. Skipping.\n",
      "File L29047.csv could not be read due to being empty or invalid format. Skipping.\n",
      "File 2698TH.csv could not be read due to being empty or invalid format. Skipping.\n"
     ]
    },
    {
     "name": "stderr",
     "output_type": "stream",
     "text": [
      "\n",
      "\n",
      "\n",
      "\u001b[A\u001b[A\u001b[A"
     ]
    },
    {
     "name": "stdout",
     "output_type": "stream",
     "text": [
      "File 4064.csv could not be read due to being empty or invalid format. Skipping.\n",
      "File 4388TH.csv could not be read due to being empty or invalid format. Skipping.\n",
      "File S15A04.csv could not be read due to being empty or invalid format. Skipping.\n",
      "File 644602007.csv could not be read due to being empty or invalid format. Skipping.\n",
      "File 1442GW.csv could not be read due to being empty or invalid format. Skipping.\n",
      "File 73422.csv could not be read due to being empty or invalid format. Skipping.\n",
      "File 692424.csv could not be read due to being empty or invalid format. Skipping.\n"
     ]
    },
    {
     "name": "stderr",
     "output_type": "stream",
     "text": [
      "\n",
      "\n",
      "\n",
      "\u001b[A\u001b[A\u001b[A"
     ]
    },
    {
     "name": "stdout",
     "output_type": "stream",
     "text": [
      "File 90115406.csv could not be read due to being empty or invalid format. Skipping.\n",
      "File L2029.csv could not be read due to being empty or invalid format. Skipping.\n",
      "File 561299.csv could not be read due to being empty or invalid format. Skipping.\n",
      "File 244150001.csv could not be read due to being empty or invalid format. Skipping.\n"
     ]
    },
    {
     "name": "stderr",
     "output_type": "stream",
     "text": [
      "\n",
      "\n",
      "\n",
      "\u001b[A\u001b[A\u001b[A"
     ]
    },
    {
     "name": "stdout",
     "output_type": "stream",
     "text": [
      "File 8_918.csv could not be read due to being empty or invalid format. Skipping.\n",
      "File 24-5-164.csv could not be read due to being empty or invalid format. Skipping.\n",
      "File 385350.csv could not be read due to being empty or invalid format. Skipping.\n",
      "File 17A08.csv could not be read due to being empty or invalid format. Skipping.\n",
      "File 35305.csv could not be read due to being empty or invalid format. Skipping.\n",
      "File 372910002.csv could not be read due to being empty or invalid format. Skipping.\n",
      "File 25-3-68.csv could not be read due to being empty or invalid format. Skipping.\n"
     ]
    },
    {
     "name": "stderr",
     "output_type": "stream",
     "text": [
      "\n",
      "\n",
      "\n",
      "\u001b[A\u001b[A\u001b[A"
     ]
    },
    {
     "name": "stdout",
     "output_type": "stream",
     "text": [
      "File 592463.csv could not be read due to being empty or invalid format. Skipping.\n",
      "File SE47LB00SS.csv could not be read due to being empty or invalid format. Skipping.\n",
      "File 3_017.csv could not be read due to being empty or invalid format. Skipping.\n",
      "File TF91_683.csv could not be read due to being empty or invalid format. Skipping.\n",
      "File 24-5-158.csv could not be read due to being empty or invalid format. Skipping.\n",
      "File L12012.csv could not be read due to being empty or invalid format. Skipping.\n"
     ]
    },
    {
     "name": "stderr",
     "output_type": "stream",
     "text": [
      "\n",
      "\n",
      "\n",
      "\u001b[A\u001b[A\u001b[A"
     ]
    },
    {
     "name": "stdout",
     "output_type": "stream",
     "text": [
      "File TQ37_268.csv could not be read due to being empty or invalid format. Skipping.\n",
      "File 72066.csv could not be read due to being empty or invalid format. Skipping.\n",
      "File 1743GW.csv could not be read due to being empty or invalid format. Skipping.\n",
      "File 642221002.csv could not be read due to being empty or invalid format. Skipping.\n",
      "File SU89_93.csv could not be read due to being empty or invalid format. Skipping.\n",
      "File 478092.csv could not be read due to being empty or invalid format. Skipping.\n",
      "File L2001.csv could not be read due to being empty or invalid format. Skipping.\n"
     ]
    },
    {
     "name": "stderr",
     "output_type": "stream",
     "text": [
      "\n",
      "\n",
      "\n",
      "\u001b[A\u001b[A\u001b[A"
     ]
    },
    {
     "name": "stdout",
     "output_type": "stream",
     "text": [
      "File 243261002.csv could not be read due to being empty or invalid format. Skipping.\n",
      "File TL95_001.csv could not be read due to being empty or invalid format. Skipping.\n",
      "File 0136GW.csv could not be read due to being empty or invalid format. Skipping.\n",
      "File SU09_139.csv could not be read due to being empty or invalid format. Skipping.\n",
      "File TL98_036.csv could not be read due to being empty or invalid format. Skipping.\n",
      "File SU65_146.csv could not be read due to being empty or invalid format. Skipping.\n",
      "File 46658.csv could not be read due to being empty or invalid format. Skipping.\n",
      "File SU48_68A.csv could not be read due to being empty or invalid format. Skipping.\n",
      "File 520776.csv could not be read due to being empty or invalid format. Skipping.\n",
      "File TL98_022.csv could not be read due to being empty or invalid format. Skipping.\n",
      "File TG00_460.csv could not be read due to being empty or invalid format. Skipping.\n"
     ]
    },
    {
     "name": "stderr",
     "output_type": "stream",
     "text": [
      "\n",
      "\n",
      "\n",
      "\u001b[A\u001b[A\u001b[A"
     ]
    },
    {
     "name": "stdout",
     "output_type": "stream",
     "text": [
      "File 2165.csv could not be read due to being empty or invalid format. Skipping.\n",
      "File 693538.csv could not be read due to being empty or invalid format. Skipping.\n",
      "File SD44_13.csv could not be read due to being empty or invalid format. Skipping.\n",
      "File 644043002.csv could not be read due to being empty or invalid format. Skipping.\n",
      "File L24013.csv could not be read due to being empty or invalid format. Skipping.\n"
     ]
    },
    {
     "name": "stderr",
     "output_type": "stream",
     "text": [
      "\n",
      "\n",
      "\n",
      "\u001b[A\u001b[A\u001b[A"
     ]
    },
    {
     "name": "stdout",
     "output_type": "stream",
     "text": [
      "File 0237GW.csv could not be read due to being empty or invalid format. Skipping.\n",
      "File 90101117.csv could not be read due to being empty or invalid format. Skipping.\n",
      "File 46843.csv could not be read due to being empty or invalid format. Skipping.\n",
      "File 40101074.csv could not be read due to being empty or invalid format. Skipping.\n",
      "File 67655.csv could not be read due to being empty or invalid format. Skipping.\n"
     ]
    },
    {
     "name": "stderr",
     "output_type": "stream",
     "text": [
      "\n",
      "\n",
      "\n",
      "\u001b[A\u001b[A\u001b[A"
     ]
    },
    {
     "name": "stdout",
     "output_type": "stream",
     "text": [
      "File NY00_378A.csv could not be read due to being empty or invalid format. Skipping.\n",
      "File 244320012.csv could not be read due to being empty or invalid format. Skipping.\n",
      "File 2830.csv could not be read due to being empty or invalid format. Skipping.\n"
     ]
    },
    {
     "name": "stderr",
     "output_type": "stream",
     "text": [
      "\n",
      "\n",
      "\n",
      "\u001b[A\u001b[A\u001b[A"
     ]
    },
    {
     "name": "stdout",
     "output_type": "stream",
     "text": [
      "File SP50_75.csv could not be read due to being empty or invalid format. Skipping.\n",
      "File L3121.csv could not be read due to being empty or invalid format. Skipping.\n",
      "File SP11_29.csv could not be read due to being empty or invalid format. Skipping.\n",
      "File 143306559.csv could not be read due to being empty or invalid format. Skipping.\n",
      "File 212206.csv could not be read due to being empty or invalid format. Skipping.\n",
      "File TL54_116.csv could not be read due to being empty or invalid format. Skipping.\n"
     ]
    },
    {
     "name": "stderr",
     "output_type": "stream",
     "text": [
      "\n",
      "\n",
      "\n",
      "\u001b[A\u001b[A\u001b[A"
     ]
    },
    {
     "name": "stdout",
     "output_type": "stream",
     "text": [
      "File SE37RPA1RD.csv could not be read due to being empty or invalid format. Skipping.\n",
      "File 59793.csv could not be read due to being empty or invalid format. Skipping.\n",
      "File L3109.csv could not be read due to being empty or invalid format. Skipping.\n",
      "File 264254TP.csv could not be read due to being empty or invalid format. Skipping.\n",
      "File SJ88_122.csv could not be read due to being empty or invalid format. Skipping.\n",
      "File L0414.csv could not be read due to being empty or invalid format. Skipping.\n",
      "File SE23LTH0CM.csv could not be read due to being empty or invalid format. Skipping.\n",
      "File L2203.csv could not be read due to being empty or invalid format. Skipping.\n"
     ]
    },
    {
     "name": "stderr",
     "output_type": "stream",
     "text": [
      "\n",
      "\n",
      "\n",
      "\u001b[A\u001b[A\u001b[A"
     ]
    },
    {
     "name": "stdout",
     "output_type": "stream",
     "text": [
      "File D30036.csv could not be read due to being empty or invalid format. Skipping.\n",
      "File 55817.csv could not be read due to being empty or invalid format. Skipping.\n",
      "File SE68BLG0CO.csv could not be read due to being empty or invalid format. Skipping.\n",
      "File 2893TH.csv could not be read due to being empty or invalid format. Skipping.\n",
      "File 141808454.csv could not be read due to being empty or invalid format. Skipping.\n",
      "File TL33_047.csv could not be read due to being empty or invalid format. Skipping.\n",
      "File 51250.csv could not be read due to being empty or invalid format. Skipping.\n"
     ]
    },
    {
     "name": "stderr",
     "output_type": "stream",
     "text": [
      "\n",
      "\n",
      "\n",
      "\u001b[A\u001b[A\u001b[A"
     ]
    },
    {
     "name": "stdout",
     "output_type": "stream",
     "text": [
      "File 2401TH.csv could not be read due to being empty or invalid format. Skipping.\n",
      "File 2039.csv could not be read due to being empty or invalid format. Skipping.\n",
      "File SE45KHS3SS.csv could not be read due to being empty or invalid format. Skipping.\n",
      "File 510919.csv could not be read due to being empty or invalid format. Skipping.\n",
      "File SJ47_63.csv could not be read due to being empty or invalid format. Skipping.\n",
      "File SD41_23.csv could not be read due to being empty or invalid format. Skipping.\n",
      "File 3401TH.csv could not be read due to being empty or invalid format. Skipping.\n",
      "File 471317.csv could not be read due to being empty or invalid format. Skipping.\n",
      "File 23A24.csv could not be read due to being empty or invalid format. Skipping.\n"
     ]
    },
    {
     "name": "stderr",
     "output_type": "stream",
     "text": [
      "\n",
      "\n",
      "\n",
      "\u001b[A\u001b[A\u001b[A"
     ]
    },
    {
     "name": "stdout",
     "output_type": "stream",
     "text": [
      "File 644610007.csv could not be read due to being empty or invalid format. Skipping.\n",
      "File 448596.csv could not be read due to being empty or invalid format. Skipping.\n",
      "File 142502922.csv could not be read due to being empty or invalid format. Skipping.\n",
      "File SE62BLS0SS.csv could not be read due to being empty or invalid format. Skipping.\n",
      "File L32077.csv could not be read due to being empty or invalid format. Skipping.\n"
     ]
    },
    {
     "name": "stderr",
     "output_type": "stream",
     "text": [
      "\n",
      "\n",
      "\n",
      "\u001b[A\u001b[A\u001b[A\n",
      "\n",
      "\n",
      "\u001b[A\u001b[A\u001b[A"
     ]
    },
    {
     "name": "stdout",
     "output_type": "stream",
     "text": [
      "File 531055.csv could not be read due to being empty or invalid format. Skipping.\n",
      "File 242601012.csv could not be read due to being empty or invalid format. Skipping.\n",
      "File 3369TH.csv could not be read due to being empty or invalid format. Skipping.\n",
      "File SD52_77.csv could not be read due to being empty or invalid format. Skipping.\n",
      "File SE52BKL0ML.csv could not be read due to being empty or invalid format. Skipping.\n",
      "File NY53_51.csv could not be read due to being empty or invalid format. Skipping.\n",
      "File 2878A.csv could not be read due to being empty or invalid format. Skipping.\n",
      "File SS91F012.csv could not be read due to being empty or invalid format. Skipping.\n"
     ]
    },
    {
     "name": "stderr",
     "output_type": "stream",
     "text": [
      "\n",
      "\n",
      "\n",
      "\u001b[A\u001b[A\u001b[A"
     ]
    },
    {
     "name": "stdout",
     "output_type": "stream",
     "text": [
      "File TL25_002.csv could not be read due to being empty or invalid format. Skipping.\n",
      "File 158599.csv could not be read due to being empty or invalid format. Skipping.\n",
      "File L1656.csv could not be read due to being empty or invalid format. Skipping.\n",
      "File 2_614.csv could not be read due to being empty or invalid format. Skipping.\n",
      "File SU48_72B.csv could not be read due to being empty or invalid format. Skipping.\n",
      "File 394881.csv could not be read due to being empty or invalid format. Skipping.\n",
      "File 441321003.csv could not be read due to being empty or invalid format. Skipping.\n",
      "File 556510008.csv could not be read due to being empty or invalid format. Skipping.\n",
      "File TL35_002.csv could not be read due to being empty or invalid format. Skipping.\n"
     ]
    },
    {
     "name": "stderr",
     "output_type": "stream",
     "text": [
      "\n",
      "\n",
      "\n",
      "\u001b[A\u001b[A\u001b[A"
     ]
    },
    {
     "name": "stdout",
     "output_type": "stream",
     "text": [
      "File SU19_84.csv could not be read due to being empty or invalid format. Skipping.\n",
      "File L2363.csv could not be read due to being empty or invalid format. Skipping.\n",
      "File TF72_007.csv could not be read due to being empty or invalid format. Skipping.\n",
      "File TL05_086.csv could not be read due to being empty or invalid format. Skipping.\n",
      "File 25-5-113.csv could not be read due to being empty or invalid format. Skipping.\n",
      "File L0206.csv could not be read due to being empty or invalid format. Skipping.\n"
     ]
    },
    {
     "name": "stderr",
     "output_type": "stream",
     "text": [
      "\n",
      "\n",
      "\n",
      "\u001b[A\u001b[A\u001b[A"
     ]
    },
    {
     "name": "stdout",
     "output_type": "stream",
     "text": [
      "File L2411.csv could not be read due to being empty or invalid format. Skipping.\n",
      "File 1855GW.csv could not be read due to being empty or invalid format. Skipping.\n",
      "File SU82_59.csv could not be read due to being empty or invalid format. Skipping.\n",
      "File 587873.csv could not be read due to being empty or invalid format. Skipping.\n",
      "File SJ45_173.csv could not be read due to being empty or invalid format. Skipping.\n"
     ]
    },
    {
     "name": "stderr",
     "output_type": "stream",
     "text": [
      "\n",
      "\n",
      "\n",
      "\u001b[A\u001b[A\u001b[A"
     ]
    },
    {
     "name": "stdout",
     "output_type": "stream",
     "text": [
      "File SD54_18D.csv could not be read due to being empty or invalid format. Skipping.\n",
      "File SU57_158.csv could not be read due to being empty or invalid format. Skipping.\n",
      "File 441342003.csv could not be read due to being empty or invalid format. Skipping.\n",
      "File 2549.csv could not be read due to being empty or invalid format. Skipping.\n",
      "File SJ58_150.csv could not be read due to being empty or invalid format. Skipping.\n",
      "File 644019052.csv could not be read due to being empty or invalid format. Skipping.\n",
      "File SU09_56.csv could not be read due to being empty or invalid format. Skipping.\n",
      "File TL31_181.csv could not be read due to being empty or invalid format. Skipping.\n",
      "File TL82_860.csv could not be read due to being empty or invalid format. Skipping.\n",
      "File S50478_FW.csv could not be read due to being empty or invalid format. Skipping.\n"
     ]
    },
    {
     "name": "stderr",
     "output_type": "stream",
     "text": [
      "\n",
      "\n",
      "\n",
      "\u001b[A\u001b[A\u001b[A"
     ]
    },
    {
     "name": "stdout",
     "output_type": "stream",
     "text": [
      "File TL65_008.csv could not be read due to being empty or invalid format. Skipping.\n",
      "File 353845.csv could not be read due to being empty or invalid format. Skipping.\n",
      "File 4662.csv could not be read due to being empty or invalid format. Skipping.\n",
      "File 379706.csv could not be read due to being empty or invalid format. Skipping.\n"
     ]
    },
    {
     "name": "stderr",
     "output_type": "stream",
     "text": [
      "\n",
      "\n",
      "\n",
      "\u001b[A\u001b[A\u001b[A"
     ]
    },
    {
     "name": "stdout",
     "output_type": "stream",
     "text": [
      "File 2936TH.csv could not be read due to being empty or invalid format. Skipping.\n",
      "File 244121015.csv could not be read due to being empty or invalid format. Skipping.\n",
      "File NTF9133P1.csv could not be read due to being empty or invalid format. Skipping.\n",
      "File 2213.csv could not be read due to being empty or invalid format. Skipping.\n",
      "File 530149.csv could not be read due to being empty or invalid format. Skipping.\n",
      "File L2808.csv could not be read due to being empty or invalid format. Skipping.\n",
      "File TL73_930.csv could not be read due to being empty or invalid format. Skipping.\n",
      "File 188753.csv could not be read due to being empty or invalid format. Skipping.\n",
      "File TQ04_44.csv could not be read due to being empty or invalid format. Skipping.\n"
     ]
    },
    {
     "name": "stderr",
     "output_type": "stream",
     "text": [
      "\n",
      "\n",
      "\n",
      "\u001b[A\u001b[A\u001b[A"
     ]
    },
    {
     "name": "stdout",
     "output_type": "stream",
     "text": [
      "File 1165_RK.csv could not be read due to being empty or invalid format. Skipping.\n",
      "File 2207.csv could not be read due to being empty or invalid format. Skipping.\n",
      "File SU98_29.csv could not be read due to being empty or invalid format. Skipping.\n",
      "File SE52WRJ2RD.csv could not be read due to being empty or invalid format. Skipping.\n",
      "File 4676.csv could not be read due to being empty or invalid format. Skipping.\n",
      "File SU28_67.csv could not be read due to being empty or invalid format. Skipping.\n",
      "File SP10_96.csv could not be read due to being empty or invalid format. Skipping.\n",
      "File 46665GW.csv could not be read due to being empty or invalid format. Skipping.\n",
      "File 694121.csv could not be read due to being empty or invalid format. Skipping.\n",
      "File NTM2949P2.csv could not be read due to being empty or invalid format. Skipping.\n"
     ]
    },
    {
     "name": "stderr",
     "output_type": "stream",
     "text": [
      "\n",
      "\n",
      "\n",
      "\u001b[A\u001b[A\u001b[A\n",
      "\n",
      "\n",
      "\u001b[A\u001b[A\u001b[A"
     ]
    },
    {
     "name": "stdout",
     "output_type": "stream",
     "text": [
      "File L3243.csv could not be read due to being empty or invalid format. Skipping.\n",
      "File L08102.csv could not be read due to being empty or invalid format. Skipping.\n",
      "File L17022.csv could not be read due to being empty or invalid format. Skipping.\n",
      "File 90103310.csv could not be read due to being empty or invalid format. Skipping.\n",
      "File 1783GW.csv could not be read due to being empty or invalid format. Skipping.\n",
      "File 3024GW.csv could not be read due to being empty or invalid format. Skipping.\n",
      "File 0352GW.csv could not be read due to being empty or invalid format. Skipping.\n",
      "File 142202748.csv could not be read due to being empty or invalid format. Skipping.\n",
      "File 555214001.csv could not be read due to being empty or invalid format. Skipping.\n"
     ]
    },
    {
     "name": "stderr",
     "output_type": "stream",
     "text": [
      "\n",
      "\n",
      "\n",
      "\u001b[A\u001b[A\u001b[A"
     ]
    },
    {
     "name": "stdout",
     "output_type": "stream",
     "text": [
      "File SJ58_187.csv could not be read due to being empty or invalid format. Skipping.\n",
      "File 90181307.csv could not be read due to being empty or invalid format. Skipping.\n",
      "File 450130.csv could not be read due to being empty or invalid format. Skipping.\n",
      "File 0317GW.csv could not be read due to being empty or invalid format. Skipping.\n",
      "File 442113001.csv could not be read due to being empty or invalid format. Skipping.\n",
      "File 23-5-78.csv could not be read due to being empty or invalid format. Skipping.\n",
      "File TQ27_334.csv could not be read due to being empty or invalid format. Skipping.\n",
      "File 247540TP.csv could not be read due to being empty or invalid format. Skipping.\n"
     ]
    },
    {
     "name": "stderr",
     "output_type": "stream",
     "text": [
      "\n",
      "\n",
      "\n",
      "\n",
      " 75%|███████▌  | 5704/7573 [03:11<00:54, 34.38it/s]"
     ]
    },
    {
     "name": "stdout",
     "output_type": "stream",
     "text": [
      "File 4689.csv could not be read due to being empty or invalid format. Skipping.\n",
      "File SU74_5.csv could not be read due to being empty or invalid format. Skipping.\n",
      "File TQ36_35.csv could not be read due to being empty or invalid format. Skipping.\n",
      "File TQ47_100B.csv could not be read due to being empty or invalid format. Skipping.\n",
      "File 0904TH.csv could not be read due to being empty or invalid format. Skipping.\n",
      "File 26225.csv could not be read due to being empty or invalid format. Skipping.\n"
     ]
    },
    {
     "name": "stderr",
     "output_type": "stream",
     "text": [
      "\u001b[A\u001b[A\u001b[A\u001b[A"
     ]
    },
    {
     "name": "stdout",
     "output_type": "stream",
     "text": [
      "File TF63_002.csv could not be read due to being empty or invalid format. Skipping.\n",
      "File TL02_011.csv could not be read due to being empty or invalid format. Skipping.\n",
      "File 463641904.csv could not be read due to being empty or invalid format. Skipping.\n",
      "File 354657.csv could not be read due to being empty or invalid format. Skipping.\n",
      "File 1904TH.csv could not be read due to being empty or invalid format. Skipping.\n",
      "File 142202760.csv could not be read due to being empty or invalid format. Skipping.\n",
      "File TF83_570A.csv could not be read due to being empty or invalid format. Skipping.\n"
     ]
    },
    {
     "name": "stderr",
     "output_type": "stream",
     "text": [
      "\n",
      "\n",
      "\n",
      "\u001b[A\u001b[A\u001b[A\n",
      "\n",
      "\n",
      "\u001b[A\u001b[A\u001b[A"
     ]
    },
    {
     "name": "stdout",
     "output_type": "stream",
     "text": [
      "File 642223007.csv could not be read due to being empty or invalid format. Skipping.\n",
      "File 1102TH.csv could not be read due to being empty or invalid format. Skipping.\n",
      "File 4188.csv could not be read due to being empty or invalid format. Skipping.\n",
      "File 303026.csv could not be read due to being empty or invalid format. Skipping.\n",
      "File 6_055.csv could not be read due to being empty or invalid format. Skipping.\n",
      "File 353611.csv could not be read due to being empty or invalid format. Skipping.\n",
      "File TA05HGH0CC.csv could not be read due to being empty or invalid format. Skipping.\n",
      "File 130440.csv could not be read due to being empty or invalid format. Skipping.\n"
     ]
    },
    {
     "name": "stderr",
     "output_type": "stream",
     "text": [
      "\n",
      "\n",
      "\n",
      "\u001b[A\u001b[A\u001b[A"
     ]
    },
    {
     "name": "stdout",
     "output_type": "stream",
     "text": [
      "File 463589.csv could not be read due to being empty or invalid format. Skipping.\n",
      "File TQ36_140.csv could not be read due to being empty or invalid format. Skipping.\n",
      "File 1084TH.csv could not be read due to being empty or invalid format. Skipping.\n",
      "File 732018.csv could not be read due to being empty or invalid format. Skipping.\n",
      "File 223484.csv could not be read due to being empty or invalid format. Skipping.\n",
      "File 441421001.csv could not be read due to being empty or invalid format. Skipping.\n",
      "File TL45_014.csv could not be read due to being empty or invalid format. Skipping.\n",
      "File L0705.csv could not be read due to being empty or invalid format. Skipping.\n",
      "File 142202707.csv could not be read due to being empty or invalid format. Skipping.\n"
     ]
    },
    {
     "name": "stderr",
     "output_type": "stream",
     "text": [
      "\n",
      "\n",
      "\n",
      "\u001b[A\u001b[A\u001b[A"
     ]
    },
    {
     "name": "stdout",
     "output_type": "stream",
     "text": [
      "File 6_069.csv could not be read due to being empty or invalid format. Skipping.\n",
      "File L1355.csv could not be read due to being empty or invalid format. Skipping.\n",
      "File SE25CGF0MG.csv could not be read due to being empty or invalid format. Skipping.\n",
      "File TG41_756.csv could not be read due to being empty or invalid format. Skipping.\n",
      "File 2808TH.csv could not be read due to being empty or invalid format. Skipping.\n",
      "File L0711.csv could not be read due to being empty or invalid format. Skipping.\n",
      "File 0605GW.csv could not be read due to being empty or invalid format. Skipping.\n",
      "File 178410.csv could not be read due to being empty or invalid format. Skipping.\n"
     ]
    },
    {
     "name": "stderr",
     "output_type": "stream",
     "text": [
      "\n",
      "\n",
      "\n",
      "\u001b[A\u001b[A\u001b[A"
     ]
    },
    {
     "name": "stdout",
     "output_type": "stream",
     "text": [
      "File 6_096.csv could not be read due to being empty or invalid format. Skipping.\n",
      "File SD52_17A.csv could not be read due to being empty or invalid format. Skipping.\n",
      "File L374101.csv could not be read due to being empty or invalid format. Skipping.\n",
      "File 50201004.csv could not be read due to being empty or invalid format. Skipping.\n",
      "File 520301.csv could not be read due to being empty or invalid format. Skipping.\n",
      "File 152700002.csv could not be read due to being empty or invalid format. Skipping.\n",
      "File 520721_FW.csv could not be read due to being empty or invalid format. Skipping.\n",
      "File 1229GW.csv could not be read due to being empty or invalid format. Skipping.\n",
      "File TL65_053.csv could not be read due to being empty or invalid format. Skipping.\n"
     ]
    },
    {
     "name": "stderr",
     "output_type": "stream",
     "text": [
      "\n",
      "\n",
      "\n",
      "\u001b[A\u001b[A\u001b[A"
     ]
    },
    {
     "name": "stdout",
     "output_type": "stream",
     "text": [
      "File 6_082.csv could not be read due to being empty or invalid format. Skipping.\n",
      "File 4177TH.csv could not be read due to being empty or invalid format. Skipping.\n",
      "File TL89_120.csv could not be read due to being empty or invalid format. Skipping.\n",
      "File TM26_700.csv could not be read due to being empty or invalid format. Skipping.\n",
      "File 4177.csv could not be read due to being empty or invalid format. Skipping.\n",
      "File 342604003.csv could not be read due to being empty or invalid format. Skipping.\n",
      "File 9453.csv could not be read due to being empty or invalid format. Skipping.\n"
     ]
    },
    {
     "name": "stderr",
     "output_type": "stream",
     "text": [
      "\n",
      "\n",
      "\n",
      "\u001b[A\u001b[A\u001b[A"
     ]
    },
    {
     "name": "stdout",
     "output_type": "stream",
     "text": [
      "File NY00_293.csv could not be read due to being empty or invalid format. Skipping.\n",
      "File TL20_49.csv could not be read due to being empty or invalid format. Skipping.\n",
      "File 0541GW.csv could not be read due to being empty or invalid format. Skipping.\n",
      "File 14555.csv could not be read due to being empty or invalid format. Skipping.\n",
      "File 2802BTH.csv could not be read due to being empty or invalid format. Skipping.\n",
      "File TL11_162.csv could not be read due to being empty or invalid format. Skipping.\n",
      "File 25-3-333.csv could not be read due to being empty or invalid format. Skipping.\n",
      "File 577271.csv could not be read due to being empty or invalid format. Skipping.\n",
      "File 4163.csv could not be read due to being empty or invalid format. Skipping.\n",
      "File TG04_433.csv could not be read due to being empty or invalid format. Skipping.\n",
      "File 2512.csv could not be read due to being empty or invalid format. Skipping.\n"
     ]
    },
    {
     "name": "stderr",
     "output_type": "stream",
     "text": [
      "\n",
      "\n",
      "\n",
      "\u001b[A\u001b[A\u001b[A\n",
      "\n",
      "\n",
      "\n",
      " 76%|███████▋  | 5776/7573 [03:13<00:55, 32.10it/s]"
     ]
    },
    {
     "name": "stdout",
     "output_type": "stream",
     "text": [
      "File 26068.csv could not be read due to being empty or invalid format. Skipping.\n",
      "File 463610906.csv could not be read due to being empty or invalid format. Skipping.\n",
      "File 3_306.csv could not be read due to being empty or invalid format. Skipping.\n",
      "File 184481.csv could not be read due to being empty or invalid format. Skipping.\n",
      "File TL01_176.csv could not be read due to being empty or invalid format. Skipping.\n",
      "File SE62CLO2SS.csv could not be read due to being empty or invalid format. Skipping.\n",
      "File SY08G149.csv could not be read due to being empty or invalid format. Skipping.\n",
      "File 90746100.csv could not be read due to being empty or invalid format. Skipping.\n"
     ]
    },
    {
     "name": "stderr",
     "output_type": "stream",
     "text": [
      "\u001b[A\u001b[A\u001b[A\u001b[A"
     ]
    },
    {
     "name": "stdout",
     "output_type": "stream",
     "text": [
      "File TL96_006.csv could not be read due to being empty or invalid format. Skipping.\n",
      "File 461354506.csv could not be read due to being empty or invalid format. Skipping.\n",
      "File 142203627.csv could not be read due to being empty or invalid format. Skipping.\n",
      "File 381233.csv could not be read due to being empty or invalid format. Skipping.\n",
      "File SE62WHL1SS.csv could not be read due to being empty or invalid format. Skipping.\n",
      "File SD41_87.csv could not be read due to being empty or invalid format. Skipping.\n",
      "File 2042GW.csv could not be read due to being empty or invalid format. Skipping.\n"
     ]
    },
    {
     "name": "stderr",
     "output_type": "stream",
     "text": [
      "\n",
      "\n",
      "\n",
      "\u001b[A\u001b[A\u001b[A"
     ]
    },
    {
     "name": "stdout",
     "output_type": "stream",
     "text": [
      "File TM04_695.csv could not be read due to being empty or invalid format. Skipping.\n",
      "File 142205242.csv could not be read due to being empty or invalid format. Skipping.\n",
      "File TL35_065.csv could not be read due to being empty or invalid format. Skipping.\n",
      "File 3_312.csv could not be read due to being empty or invalid format. Skipping.\n",
      "File TL86_006.csv could not be read due to being empty or invalid format. Skipping.\n",
      "File 443520002.csv could not be read due to being empty or invalid format. Skipping.\n",
      "File 644622005.csv could not be read due to being empty or invalid format. Skipping.\n"
     ]
    },
    {
     "name": "stderr",
     "output_type": "stream",
     "text": [
      "\n",
      "\n",
      "\n",
      "\u001b[A\u001b[A\u001b[A"
     ]
    },
    {
     "name": "stdout",
     "output_type": "stream",
     "text": [
      "File 26054.csv could not be read due to being empty or invalid format. Skipping.\n",
      "File TL54_011.csv could not be read due to being empty or invalid format. Skipping.\n",
      "File 8059GW.csv could not be read due to being empty or invalid format. Skipping.\n",
      "File 5171_w2TH.csv could not be read due to being empty or invalid format. Skipping.\n",
      "File L2462.csv could not be read due to being empty or invalid format. Skipping.\n",
      "File 371110001.csv could not be read due to being empty or invalid format. Skipping.\n",
      "File 360797.csv could not be read due to being empty or invalid format. Skipping.\n",
      "File 1419GW.csv could not be read due to being empty or invalid format. Skipping.\n"
     ]
    },
    {
     "name": "stderr",
     "output_type": "stream",
     "text": [
      "\n",
      "\n",
      "\n",
      "\u001b[A\u001b[A\u001b[A"
     ]
    },
    {
     "name": "stdout",
     "output_type": "stream",
     "text": [
      "File TL44_011.csv could not be read due to being empty or invalid format. Skipping.\n",
      "File 521590.csv could not be read due to being empty or invalid format. Skipping.\n",
      "File 3212TH.csv could not be read due to being empty or invalid format. Skipping.\n",
      "File 1035GW.csv could not be read due to being empty or invalid format. Skipping.\n",
      "File 685513.csv could not be read due to being empty or invalid format. Skipping.\n"
     ]
    },
    {
     "name": "stderr",
     "output_type": "stream",
     "text": [
      "\n",
      "\n",
      "\n",
      "\u001b[A\u001b[A\u001b[A"
     ]
    },
    {
     "name": "stdout",
     "output_type": "stream",
     "text": [
      "File 238944TP.csv could not be read due to being empty or invalid format. Skipping.\n",
      "File SD52_38.csv could not be read due to being empty or invalid format. Skipping.\n",
      "File L2304.csv could not be read due to being empty or invalid format. Skipping.\n",
      "File 339609.csv could not be read due to being empty or invalid format. Skipping.\n",
      "File 644811001.csv could not be read due to being empty or invalid format. Skipping.\n",
      "File 15313.csv could not be read due to being empty or invalid format. Skipping.\n",
      "File SD44_7.csv could not be read due to being empty or invalid format. Skipping.\n",
      "File SU37_61B.csv could not be read due to being empty or invalid format. Skipping.\n",
      "File TA12SE00CC.csv could not be read due to being empty or invalid format. Skipping.\n"
     ]
    },
    {
     "name": "stderr",
     "output_type": "stream",
     "text": [
      "\n",
      "\n",
      "\n",
      "\u001b[A\u001b[A\u001b[A"
     ]
    },
    {
     "name": "stdout",
     "output_type": "stream",
     "text": [
      "File 0035GW.csv could not be read due to being empty or invalid format. Skipping.\n",
      "File 564769.csv could not be read due to being empty or invalid format. Skipping.\n",
      "File 690136.csv could not be read due to being empty or invalid format. Skipping.\n",
      "File 16140.csv could not be read due to being empty or invalid format. Skipping.\n",
      "File L1816.csv could not be read due to being empty or invalid format. Skipping.\n"
     ]
    },
    {
     "name": "stderr",
     "output_type": "stream",
     "text": [
      "\n",
      "\n",
      "\n",
      "\u001b[A\u001b[A\u001b[A"
     ]
    },
    {
     "name": "stdout",
     "output_type": "stream",
     "text": [
      "File 3297TH.csv could not be read due to being empty or invalid format. Skipping.\n",
      "File L1751.csv could not be read due to being empty or invalid format. Skipping.\n",
      "File 242601061.csv could not be read due to being empty or invalid format. Skipping.\n",
      "File L32010.csv could not be read due to being empty or invalid format. Skipping.\n",
      "File 90191211.csv could not be read due to being empty or invalid format. Skipping.\n",
      "File 90113206.csv could not be read due to being empty or invalid format. Skipping.\n",
      "File SE62HIJ0SS.csv could not be read due to being empty or invalid format. Skipping.\n",
      "File SE62TPH1SS.csv could not be read due to being empty or invalid format. Skipping.\n",
      "File 588886.csv could not be read due to being empty or invalid format. Skipping.\n"
     ]
    },
    {
     "name": "stderr",
     "output_type": "stream",
     "text": [
      "\n",
      "\n",
      "\n",
      "\u001b[A\u001b[A\u001b[A"
     ]
    },
    {
     "name": "stdout",
     "output_type": "stream",
     "text": [
      "File 2843.csv could not be read due to being empty or invalid format. Skipping.\n",
      "File SE37SOS0SS.csv could not be read due to being empty or invalid format. Skipping.\n",
      "File 46824.csv could not be read due to being empty or invalid format. Skipping.\n",
      "File TF72_128.csv could not be read due to being empty or invalid format. Skipping.\n"
     ]
    },
    {
     "name": "stderr",
     "output_type": "stream",
     "text": [
      "\n",
      "\n",
      "\n",
      "\u001b[A\u001b[A\u001b[A"
     ]
    },
    {
     "name": "stdout",
     "output_type": "stream",
     "text": [
      "File 5313TH.csv could not be read due to being empty or invalid format. Skipping.\n",
      "File SP62_1.csv could not be read due to being empty or invalid format. Skipping.\n",
      "File 141802917.csv could not be read due to being empty or invalid format. Skipping.\n",
      "File 461956.csv could not be read due to being empty or invalid format. Skipping.\n",
      "File 2082GW.csv could not be read due to being empty or invalid format. Skipping.\n",
      "File 23058.csv could not be read due to being empty or invalid format. Skipping.\n",
      "File 180977.csv could not be read due to being empty or invalid format. Skipping.\n"
     ]
    },
    {
     "name": "stderr",
     "output_type": "stream",
     "text": [
      "\n",
      "\n",
      "\n",
      "\u001b[A\u001b[A\u001b[A"
     ]
    },
    {
     "name": "stdout",
     "output_type": "stream",
     "text": [
      "File 40301097.csv could not be read due to being empty or invalid format. Skipping.\n",
      "File NTG0387P1.csv could not be read due to being empty or invalid format. Skipping.\n",
      "File 365943.csv could not be read due to being empty or invalid format. Skipping.\n",
      "File 521382.csv could not be read due to being empty or invalid format. Skipping.\n",
      "File L2516.csv could not be read due to being empty or invalid format. Skipping.\n",
      "File 7_118.csv could not be read due to being empty or invalid format. Skipping.\n"
     ]
    },
    {
     "name": "stderr",
     "output_type": "stream",
     "text": [
      "\n",
      "\n",
      "\n",
      "\u001b[A\u001b[A\u001b[A"
     ]
    },
    {
     "name": "stdout",
     "output_type": "stream",
     "text": [
      "File 1725GW.csv could not be read due to being empty or invalid format. Skipping.\n",
      "File SX99G037.csv could not be read due to being empty or invalid format. Skipping.\n",
      "File L0301.csv could not be read due to being empty or invalid format. Skipping.\n",
      "File 1760GW.csv could not be read due to being empty or invalid format. Skipping.\n",
      "File TM18_506.csv could not be read due to being empty or invalid format. Skipping.\n"
     ]
    },
    {
     "name": "stderr",
     "output_type": "stream",
     "text": [
      "\n",
      "\n",
      "\n",
      "\u001b[A\u001b[A\u001b[A"
     ]
    },
    {
     "name": "stdout",
     "output_type": "stream",
     "text": [
      "File TL31_9.csv could not be read due to being empty or invalid format. Skipping.\n",
      "File NTG1962P3.csv could not be read due to being empty or invalid format. Skipping.\n",
      "File 442133003.csv could not be read due to being empty or invalid format. Skipping.\n",
      "File 245121011.csv could not be read due to being empty or invalid format. Skipping.\n",
      "File SE72HKS1SS.csv could not be read due to being empty or invalid format. Skipping.\n",
      "File SU06_48.csv could not be read due to being empty or invalid format. Skipping.\n",
      "File 260221TP.csv could not be read due to being empty or invalid format. Skipping.\n",
      "File F1530.csv could not be read due to being empty or invalid format. Skipping.\n"
     ]
    },
    {
     "name": "stderr",
     "output_type": "stream",
     "text": [
      "\n",
      "\n",
      "\n",
      "\u001b[A\u001b[A\u001b[A"
     ]
    },
    {
     "name": "stdout",
     "output_type": "stream",
     "text": [
      "File SX59F005.csv could not be read due to being empty or invalid format. Skipping.\n",
      "File 141801205.csv could not be read due to being empty or invalid format. Skipping.\n",
      "File L3807.csv could not be read due to being empty or invalid format. Skipping.\n",
      "File TL42_120.csv could not be read due to being empty or invalid format. Skipping.\n",
      "File SU26_56A.csv could not be read due to being empty or invalid format. Skipping.\n",
      "File 173182.csv could not be read due to being empty or invalid format. Skipping.\n",
      "File 530258.csv could not be read due to being empty or invalid format. Skipping.\n",
      "File 95329.csv could not be read due to being empty or invalid format. Skipping.\n",
      "File 2670.csv could not be read due to being empty or invalid format. Skipping.\n"
     ]
    },
    {
     "name": "stderr",
     "output_type": "stream",
     "text": [
      "\n",
      "\n",
      "\n",
      "\u001b[A\u001b[A\u001b[A\n",
      "\n",
      "\n",
      "\u001b[A\u001b[A\u001b[A"
     ]
    },
    {
     "name": "stdout",
     "output_type": "stream",
     "text": [
      "File 449957.csv could not be read due to being empty or invalid format. Skipping.\n",
      "File 160840.csv could not be read due to being empty or invalid format. Skipping.\n",
      "File 326675.csv could not be read due to being empty or invalid format. Skipping.\n",
      "File SE55RHL0SS.csv could not be read due to being empty or invalid format. Skipping.\n",
      "File SU47_28.csv could not be read due to being empty or invalid format. Skipping.\n",
      "File 1424GW.csv could not be read due to being empty or invalid format. Skipping.\n",
      "File 332614.csv could not be read due to being empty or invalid format. Skipping.\n"
     ]
    },
    {
     "name": "stderr",
     "output_type": "stream",
     "text": [
      "\n",
      "\n",
      "\n",
      "\u001b[A\u001b[A\u001b[A"
     ]
    },
    {
     "name": "stdout",
     "output_type": "stream",
     "text": [
      "File 2102.csv could not be read due to being empty or invalid format. Skipping.\n",
      "File V16.csv could not be read due to being empty or invalid format. Skipping.\n",
      "File 441320024.csv could not be read due to being empty or invalid format. Skipping.\n",
      "File 4942.csv could not be read due to being empty or invalid format. Skipping.\n",
      "File NY00_318.csv could not be read due to being empty or invalid format. Skipping.\n",
      "File SP00_146.csv could not be read due to being empty or invalid format. Skipping.\n",
      "File 245222013.csv could not be read due to being empty or invalid format. Skipping.\n"
     ]
    },
    {
     "name": "stderr",
     "output_type": "stream",
     "text": [
      "\n",
      "\n",
      "\n",
      "\u001b[A\u001b[A\u001b[A"
     ]
    },
    {
     "name": "stdout",
     "output_type": "stream",
     "text": [
      "File TL24_100.csv could not be read due to being empty or invalid format. Skipping.\n",
      "File 0214GW.csv could not be read due to being empty or invalid format. Skipping.\n",
      "File 33061.csv could not be read due to being empty or invalid format. Skipping.\n",
      "File L3350.csv could not be read due to being empty or invalid format. Skipping.\n",
      "File 1214GW.csv could not be read due to being empty or invalid format. Skipping.\n",
      "File SE72AMY0SS.csv could not be read due to being empty or invalid format. Skipping.\n",
      "File SU76_3B.csv could not be read due to being empty or invalid format. Skipping.\n",
      "File 441320030.csv could not be read due to being empty or invalid format. Skipping.\n"
     ]
    },
    {
     "name": "stderr",
     "output_type": "stream",
     "text": [
      "\n",
      "\n",
      "\n",
      "\u001b[A\u001b[A\u001b[A"
     ]
    },
    {
     "name": "stdout",
     "output_type": "stream",
     "text": [
      "File L1221.csv could not be read due to being empty or invalid format. Skipping.\n",
      "File SY09G010.csv could not be read due to being empty or invalid format. Skipping.\n",
      "File NY00_442.csv could not be read due to being empty or invalid format. Skipping.\n",
      "File 441320018.csv could not be read due to being empty or invalid format. Skipping.\n",
      "File 450779.csv could not be read due to being empty or invalid format. Skipping.\n",
      "File L1209.csv could not be read due to being empty or invalid format. Skipping.\n",
      "File L12061.csv could not be read due to being empty or invalid format. Skipping.\n"
     ]
    },
    {
     "name": "stderr",
     "output_type": "stream",
     "text": [
      "\n",
      "\n",
      "\n",
      "\u001b[A\u001b[A\u001b[A"
     ]
    },
    {
     "name": "stdout",
     "output_type": "stream",
     "text": [
      "File NTF8331P1.csv could not be read due to being empty or invalid format. Skipping.\n",
      "File 254110002.csv could not be read due to being empty or invalid format. Skipping.\n",
      "File 227972.csv could not be read due to being empty or invalid format. Skipping.\n",
      "File S45431_FW.csv could not be read due to being empty or invalid format. Skipping.\n",
      "File 0539GW.csv could not be read due to being empty or invalid format. Skipping.\n",
      "File 242621004.csv could not be read due to being empty or invalid format. Skipping.\n",
      "File 25-3-27.csv could not be read due to being empty or invalid format. Skipping.\n",
      "File 389531.csv could not be read due to being empty or invalid format. Skipping.\n",
      "File 142203592.csv could not be read due to being empty or invalid format. Skipping.\n",
      "File SD53_50.csv could not be read due to being empty or invalid format. Skipping.\n",
      "File 0581GW.csv could not be read due to being empty or invalid format. Skipping.\n",
      "File TW73_4.csv could not be read due to being empty or invalid format. Skipping.\n",
      "File 520513.csv could not be read due to being empty or invalid format. Skipping.\n"
     ]
    },
    {
     "name": "stderr",
     "output_type": "stream",
     "text": [
      "\n",
      "\n",
      "\n",
      "\u001b[A\u001b[A\u001b[A"
     ]
    },
    {
     "name": "stdout",
     "output_type": "stream",
     "text": [
      "File 243102022.csv could not be read due to being empty or invalid format. Skipping.\n",
      "File SD53_44.csv could not be read due to being empty or invalid format. Skipping.\n",
      "File 664213501.csv could not be read due to being empty or invalid format. Skipping.\n",
      "File 693013.csv could not be read due to being empty or invalid format. Skipping.\n",
      "File TQ28_10E.csv could not be read due to being empty or invalid format. Skipping.\n",
      "File 138829.csv could not be read due to being empty or invalid format. Skipping.\n"
     ]
    },
    {
     "name": "stderr",
     "output_type": "stream",
     "text": [
      "\n",
      "\n",
      "\n",
      "\u001b[A\u001b[A\u001b[A"
     ]
    },
    {
     "name": "stdout",
     "output_type": "stream",
     "text": [
      "File 662316907.csv could not be read due to being empty or invalid format. Skipping.\n",
      "File TW05_12.csv could not be read due to being empty or invalid format. Skipping.\n",
      "File SE95KB00CC.csv could not be read due to being empty or invalid format. Skipping.\n",
      "File SJ48_68.csv could not be read due to being empty or invalid format. Skipping.\n",
      "File SU57_39.csv could not be read due to being empty or invalid format. Skipping.\n"
     ]
    },
    {
     "name": "stderr",
     "output_type": "stream",
     "text": [
      "\n",
      "\n",
      "\n",
      "\u001b[A\u001b[A\u001b[A"
     ]
    },
    {
     "name": "stdout",
     "output_type": "stream",
     "text": [
      "File 1410031017.csv could not be read due to being empty or invalid format. Skipping.\n",
      "File SJ45_049.csv could not be read due to being empty or invalid format. Skipping.\n",
      "File 684220.csv could not be read due to being empty or invalid format. Skipping.\n",
      "File 744010.csv could not be read due to being empty or invalid format. Skipping.\n"
     ]
    },
    {
     "name": "stderr",
     "output_type": "stream",
     "text": [
      "\n",
      "\n",
      "\n",
      "\u001b[A\u001b[A\u001b[A"
     ]
    },
    {
     "name": "stdout",
     "output_type": "stream",
     "text": [
      "File 1445GW.csv could not be read due to being empty or invalid format. Skipping.\n",
      "File 644012001.csv could not be read due to being empty or invalid format. Skipping.\n",
      "File TF70_038.csv could not be read due to being empty or invalid format. Skipping.\n",
      "File TL50_9.csv could not be read due to being empty or invalid format. Skipping.\n",
      "File L29035.csv could not be read due to being empty or invalid format. Skipping.\n",
      "File 142207939.csv could not be read due to being empty or invalid format. Skipping.\n"
     ]
    },
    {
     "name": "stderr",
     "output_type": "stream",
     "text": [
      "\n",
      "\n",
      "\n",
      "\u001b[A\u001b[A\u001b[A"
     ]
    },
    {
     "name": "stdout",
     "output_type": "stream",
     "text": [
      "File 5_034.csv could not be read due to being empty or invalid format. Skipping.\n",
      "File SE78KK00CO.csv could not be read due to being empty or invalid format. Skipping.\n",
      "File 693012.csv could not be read due to being empty or invalid format. Skipping.\n",
      "File 142203593.csv could not be read due to being empty or invalid format. Skipping.\n",
      "File 287284.csv could not be read due to being empty or invalid format. Skipping.\n",
      "File TA04HHM0CC.csv could not be read due to being empty or invalid format. Skipping.\n"
     ]
    },
    {
     "name": "stderr",
     "output_type": "stream",
     "text": [
      "\n",
      "\n",
      "\n",
      "\u001b[A\u001b[A\u001b[A"
     ]
    },
    {
     "name": "stdout",
     "output_type": "stream",
     "text": [
      "File 244130022.csv could not be read due to being empty or invalid format. Skipping.\n",
      "File TW73_5.csv could not be read due to being empty or invalid format. Skipping.\n",
      "File L2926.csv could not be read due to being empty or invalid format. Skipping.\n",
      "File 531215_FW.csv could not be read due to being empty or invalid format. Skipping.\n",
      "File 93201.csv could not be read due to being empty or invalid format. Skipping.\n",
      "File TL52_33A.csv could not be read due to being empty or invalid format. Skipping.\n"
     ]
    },
    {
     "name": "stderr",
     "output_type": "stream",
     "text": [
      "\n",
      "\n",
      "\n",
      "\u001b[A\u001b[A\u001b[A"
     ]
    },
    {
     "name": "stdout",
     "output_type": "stream",
     "text": [
      "File TL43_3.csv could not be read due to being empty or invalid format. Skipping.\n",
      "File 156673.csv could not be read due to being empty or invalid format. Skipping.\n",
      "File 591642.csv could not be read due to being empty or invalid format. Skipping.\n",
      "File SX87F021.csv could not be read due to being empty or invalid format. Skipping.\n",
      "File 569847.csv could not be read due to being empty or invalid format. Skipping.\n",
      "File 142202666.csv could not be read due to being empty or invalid format. Skipping.\n"
     ]
    },
    {
     "name": "stderr",
     "output_type": "stream",
     "text": [
      "\n",
      "\n",
      "\n",
      "\u001b[A\u001b[A\u001b[A"
     ]
    },
    {
     "name": "stdout",
     "output_type": "stream",
     "text": [
      "File 30233.csv could not be read due to being empty or invalid format. Skipping.\n",
      "File L33910.csv could not be read due to being empty or invalid format. Skipping.\n",
      "File 441320019.csv could not be read due to being empty or invalid format. Skipping.\n",
      "File NY00_443.csv could not be read due to being empty or invalid format. Skipping.\n",
      "File 25-3-32.csv could not be read due to being empty or invalid format. Skipping.\n",
      "File 80282.csv could not be read due to being empty or invalid format. Skipping.\n",
      "File SE62BBB0SS.csv could not be read due to being empty or invalid format. Skipping.\n"
     ]
    },
    {
     "name": "stderr",
     "output_type": "stream",
     "text": [
      "\n",
      "\n",
      "\n",
      "\u001b[A\u001b[A\u001b[A"
     ]
    },
    {
     "name": "stdout",
     "output_type": "stream",
     "text": [
      "File SJ48_97.csv could not be read due to being empty or invalid format. Skipping.\n",
      "File 4372TH.csv could not be read due to being empty or invalid format. Skipping.\n",
      "File 350279.csv could not be read due to being empty or invalid format. Skipping.\n",
      "File L0670.csv could not be read due to being empty or invalid format. Skipping.\n",
      "File NY00_325.csv could not be read due to being empty or invalid format. Skipping.\n",
      "File SE56ASL0SS.csv could not be read due to being empty or invalid format. Skipping.\n",
      "File 1069GW.csv could not be read due to being empty or invalid format. Skipping.\n",
      "File L1546.csv could not be read due to being empty or invalid format. Skipping.\n",
      "File 2_510.csv could not be read due to being empty or invalid format. Skipping.\n"
     ]
    },
    {
     "name": "stderr",
     "output_type": "stream",
     "text": [
      "\n",
      "\n",
      "\n",
      "\u001b[A\u001b[A\u001b[A"
     ]
    },
    {
     "name": "stdout",
     "output_type": "stream",
     "text": [
      "File 142207736.csv could not be read due to being empty or invalid format. Skipping.\n",
      "File NX90_11B.csv could not be read due to being empty or invalid format. Skipping.\n",
      "File TQ47_90.csv could not be read due to being empty or invalid format. Skipping.\n",
      "File 7292.csv could not be read due to being empty or invalid format. Skipping.\n",
      "File SE62NLS0SS.csv could not be read due to being empty or invalid format. Skipping.\n",
      "File NY00_319.csv could not be read due to being empty or invalid format. Skipping.\n",
      "File 40301041.csv could not be read due to being empty or invalid format. Skipping.\n"
     ]
    },
    {
     "name": "stderr",
     "output_type": "stream",
     "text": [
      "\n",
      "\n",
      "\n",
      "\u001b[A\u001b[A\u001b[A"
     ]
    },
    {
     "name": "stdout",
     "output_type": "stream",
     "text": [
      "File 142803619.csv could not be read due to being empty or invalid format. Skipping.\n",
      "File SU09_163.csv could not be read due to being empty or invalid format. Skipping.\n",
      "File 521251_FW.csv could not be read due to being empty or invalid format. Skipping.\n",
      "File 6403.csv could not be read due to being empty or invalid format. Skipping.\n",
      "File F2004.csv could not be read due to being empty or invalid format. Skipping.\n",
      "File 720780.csv could not be read due to being empty or invalid format. Skipping.\n",
      "File 412205.csv could not be read due to being empty or invalid format. Skipping.\n",
      "File SE43BBF0MG.csv could not be read due to being empty or invalid format. Skipping.\n"
     ]
    },
    {
     "name": "stderr",
     "output_type": "stream",
     "text": [
      "\n",
      "\n",
      "\n",
      "\u001b[A\u001b[A\u001b[A\n",
      "\n",
      "\n",
      "\u001b[A\u001b[A\u001b[A"
     ]
    },
    {
     "name": "stdout",
     "output_type": "stream",
     "text": [
      "File 2671.csv could not be read due to being empty or invalid format. Skipping.\n",
      "File 710125.csv could not be read due to being empty or invalid format. Skipping.\n",
      "File 602253.csv could not be read due to being empty or invalid format. Skipping.\n",
      "File 40301055.csv could not be read due to being empty or invalid format. Skipping.\n",
      "File SJ44_058.csv could not be read due to being empty or invalid format. Skipping.\n",
      "File NTG4009P1.csv could not be read due to being empty or invalid format. Skipping.\n",
      "File 194730.csv could not be read due to being empty or invalid format. Skipping.\n",
      "File SE52WRJ1SS.csv could not be read due to being empty or invalid format. Skipping.\n",
      "File 324739.csv could not be read due to being empty or invalid format. Skipping.\n",
      "File 8_567.csv could not be read due to being empty or invalid format. Skipping.\n",
      "File L3806.csv could not be read due to being empty or invalid format. Skipping.\n",
      "File 4200.csv could not be read due to being empty or invalid format. Skipping.\n"
     ]
    },
    {
     "name": "stderr",
     "output_type": "stream",
     "text": [
      "\n",
      "\n",
      "\n",
      "\u001b[A\u001b[A\u001b[A"
     ]
    },
    {
     "name": "stdout",
     "output_type": "stream",
     "text": [
      "File SE52CGS1ML.csv could not be read due to being empty or invalid format. Skipping.\n",
      "File 1_606.csv could not be read due to being empty or invalid format. Skipping.\n",
      "File 245121004.csv could not be read due to being empty or invalid format. Skipping.\n",
      "File NTG1962P2.csv could not be read due to being empty or invalid format. Skipping.\n",
      "File 294777.csv could not be read due to being empty or invalid format. Skipping.\n",
      "File 521383.csv could not be read due to being empty or invalid format. Skipping.\n",
      "File SD44_49.csv could not be read due to being empty or invalid format. Skipping.\n",
      "File 2895.csv could not be read due to being empty or invalid format. Skipping.\n"
     ]
    },
    {
     "name": "stderr",
     "output_type": "stream",
     "text": [
      "\n",
      "\n",
      "\n",
      "\u001b[A\u001b[A\u001b[A"
     ]
    },
    {
     "name": "stdout",
     "output_type": "stream",
     "text": [
      "File 390511.csv could not be read due to being empty or invalid format. Skipping.\n",
      "File 642325014.csv could not be read due to being empty or invalid format. Skipping.\n",
      "File L3609.csv could not be read due to being empty or invalid format. Skipping.\n",
      "File SJ88_99.csv could not be read due to being empty or invalid format. Skipping.\n",
      "File 7_125.csv could not be read due to being empty or invalid format. Skipping.\n",
      "File TF80_192.csv could not be read due to being empty or invalid format. Skipping.\n",
      "File 270397.csv could not be read due to being empty or invalid format. Skipping.\n",
      "File 405553.csv could not be read due to being empty or invalid format. Skipping.\n"
     ]
    },
    {
     "name": "stderr",
     "output_type": "stream",
     "text": [
      "\n",
      "\n",
      "\n",
      "\u001b[A\u001b[A\u001b[A"
     ]
    },
    {
     "name": "stdout",
     "output_type": "stream",
     "text": [
      "File 2146GW.csv could not be read due to being empty or invalid format. Skipping.\n",
      "File GP02_92.csv could not be read due to being empty or invalid format. Skipping.\n",
      "File 642145002.csv could not be read due to being empty or invalid format. Skipping.\n",
      "File 3_501.csv could not be read due to being empty or invalid format. Skipping.\n",
      "File SP91_71B.csv could not be read due to being empty or invalid format. Skipping.\n",
      "File 26109.csv could not be read due to being empty or invalid format. Skipping.\n",
      "File TM07_145.csv could not be read due to being empty or invalid format. Skipping.\n"
     ]
    },
    {
     "name": "stderr",
     "output_type": "stream",
     "text": [
      "\n",
      "\n",
      "\n",
      "\u001b[A\u001b[A\u001b[A"
     ]
    },
    {
     "name": "stdout",
     "output_type": "stream",
     "text": [
      "File 341515008.csv could not be read due to being empty or invalid format. Skipping.\n",
      "File 1230GW.csv could not be read due to being empty or invalid format. Skipping.\n",
      "File 604742.csv could not be read due to being empty or invalid format. Skipping.\n",
      "File 2711.csv could not be read due to being empty or invalid format. Skipping.\n",
      "File TG14_624.csv could not be read due to being empty or invalid format. Skipping.\n",
      "File 453203002.csv could not be read due to being empty or invalid format. Skipping.\n"
     ]
    },
    {
     "name": "stderr",
     "output_type": "stream",
     "text": [
      "\n",
      "\n",
      "\n",
      "\u001b[A\u001b[A\u001b[A"
     ]
    },
    {
     "name": "stdout",
     "output_type": "stream",
     "text": [
      "File 680324.csv could not be read due to being empty or invalid format. Skipping.\n",
      "File 2077.csv could not be read due to being empty or invalid format. Skipping.\n",
      "File 344185.csv could not be read due to being empty or invalid format. Skipping.\n",
      "File 242601060.csv could not be read due to being empty or invalid format. Skipping.\n",
      "File 690137.csv could not be read due to being empty or invalid format. Skipping.\n",
      "File 2705.csv could not be read due to being empty or invalid format. Skipping.\n",
      "File L1803.csv could not be read due to being empty or invalid format. Skipping.\n",
      "File 0565GW.csv could not be read due to being empty or invalid format. Skipping.\n",
      "File TF71_161.csv could not be read due to being empty or invalid format. Skipping.\n"
     ]
    },
    {
     "name": "stderr",
     "output_type": "stream",
     "text": [
      "\n",
      "\n",
      "\n",
      "\u001b[A\u001b[A\u001b[A"
     ]
    },
    {
     "name": "stdout",
     "output_type": "stream",
     "text": [
      "File 151707002.csv could not be read due to being empty or invalid format. Skipping.\n",
      "File 285630TP.csv could not be read due to being empty or invalid format. Skipping.\n",
      "File 441346001.csv could not be read due to being empty or invalid format. Skipping.\n",
      "File L35024.csv could not be read due to being empty or invalid format. Skipping.\n",
      "File 2406TH.csv could not be read due to being empty or invalid format. Skipping.\n",
      "File SE52BKS0SS.csv could not be read due to being empty or invalid format. Skipping.\n"
     ]
    },
    {
     "name": "stderr",
     "output_type": "stream",
     "text": [
      "\n",
      "\n",
      "\n",
      "\u001b[A\u001b[A\u001b[A"
     ]
    },
    {
     "name": "stdout",
     "output_type": "stream",
     "text": [
      "File 432506.csv could not be read due to being empty or invalid format. Skipping.\n",
      "File TL64_043.csv could not be read due to being empty or invalid format. Skipping.\n",
      "File 556141001.csv could not be read due to being empty or invalid format. Skipping.\n",
      "File SE62HCT2SS.csv could not be read due to being empty or invalid format. Skipping.\n",
      "File 530161_FW.csv could not be read due to being empty or invalid format. Skipping.\n",
      "File 3092TH.csv could not be read due to being empty or invalid format. Skipping.\n",
      "File 724323.csv could not be read due to being empty or invalid format. Skipping.\n",
      "File 997.csv could not be read due to being empty or invalid format. Skipping.\n",
      "File TG32_801.csv could not be read due to being empty or invalid format. Skipping.\n",
      "File 642327005.csv could not be read due to being empty or invalid format. Skipping.\n"
     ]
    },
    {
     "name": "stderr",
     "output_type": "stream",
     "text": [
      "\n",
      "\n",
      "\n",
      "\u001b[A\u001b[A\u001b[A"
     ]
    },
    {
     "name": "stdout",
     "output_type": "stream",
     "text": [
      "File 323863.csv could not be read due to being empty or invalid format. Skipping.\n",
      "File 24656.csv could not be read due to being empty or invalid format. Skipping.\n",
      "File 700295.csv could not be read due to being empty or invalid format. Skipping.\n",
      "File 600295.csv could not be read due to being empty or invalid format. Skipping.\n"
     ]
    },
    {
     "name": "stderr",
     "output_type": "stream",
     "text": [
      "\n",
      "\n",
      "\n",
      "\u001b[A\u001b[A\u001b[A"
     ]
    },
    {
     "name": "stdout",
     "output_type": "stream",
     "text": [
      "File 443111001.csv could not be read due to being empty or invalid format. Skipping.\n",
      "File 0319TH.csv could not be read due to being empty or invalid format. Skipping.\n",
      "File 26055.csv could not be read due to being empty or invalid format. Skipping.\n",
      "File 2186GW.csv could not be read due to being empty or invalid format. Skipping.\n",
      "File 141806392.csv could not be read due to being empty or invalid format. Skipping.\n",
      "File 521320_FW.csv could not be read due to being empty or invalid format. Skipping.\n"
     ]
    },
    {
     "name": "stderr",
     "output_type": "stream",
     "text": [
      "\n",
      "\n",
      "\n",
      "\u001b[A\u001b[A\u001b[A"
     ]
    },
    {
     "name": "stdout",
     "output_type": "stream",
     "text": [
      "File 16A06.csv could not be read due to being empty or invalid format. Skipping.\n",
      "File 358235.csv could not be read due to being empty or invalid format. Skipping.\n",
      "File 248965TP.csv could not be read due to being empty or invalid format. Skipping.\n",
      "File 0149GW.csv could not be read due to being empty or invalid format. Skipping.\n",
      "File 642423010.csv could not be read due to being empty or invalid format. Skipping.\n",
      "File 3_313.csv could not be read due to being empty or invalid format. Skipping.\n"
     ]
    },
    {
     "name": "stderr",
     "output_type": "stream",
     "text": [
      "\n",
      "\n",
      "\n",
      "\u001b[A\u001b[A\u001b[A"
     ]
    },
    {
     "name": "stdout",
     "output_type": "stream",
     "text": [
      "File 152503001.csv could not be read due to being empty or invalid format. Skipping.\n",
      "File TL11_163.csv could not be read due to being empty or invalid format. Skipping.\n",
      "File TM05_493.csv could not be read due to being empty or invalid format. Skipping.\n",
      "File 2275.csv could not be read due to being empty or invalid format. Skipping.\n",
      "File 2513.csv could not be read due to being empty or invalid format. Skipping.\n",
      "File 441345050.csv could not be read due to being empty or invalid format. Skipping.\n"
     ]
    },
    {
     "name": "stderr",
     "output_type": "stream",
     "text": [
      "\n",
      "\n",
      "\n",
      "\u001b[A\u001b[A\u001b[A"
     ]
    },
    {
     "name": "stdout",
     "output_type": "stream",
     "text": [
      "File 558293.csv could not be read due to being empty or invalid format. Skipping.\n",
      "File TQ04_36.csv could not be read due to being empty or invalid format. Skipping.\n",
      "File 8_639.csv could not be read due to being empty or invalid format. Skipping.\n",
      "File 4176.csv could not be read due to being empty or invalid format. Skipping.\n",
      "File TM26_701.csv could not be read due to being empty or invalid format. Skipping.\n",
      "File 4462TH.csv could not be read due to being empty or invalid format. Skipping.\n",
      "File NY00_292.csv could not be read due to being empty or invalid format. Skipping.\n",
      "File 4610.csv could not be read due to being empty or invalid format. Skipping.\n"
     ]
    },
    {
     "name": "stderr",
     "output_type": "stream",
     "text": [
      "\n",
      "\n",
      "\n",
      "\u001b[A\u001b[A\u001b[A"
     ]
    },
    {
     "name": "stdout",
     "output_type": "stream",
     "text": [
      "File 108109.csv could not be read due to being empty or invalid format. Skipping.\n",
      "File 46560.csv could not be read due to being empty or invalid format. Skipping.\n",
      "File 2261.csv could not be read due to being empty or invalid format. Skipping.\n",
      "File 1011GW.csv could not be read due to being empty or invalid format. Skipping.\n",
      "File 1852GW.csv could not be read due to being empty or invalid format. Skipping.\n"
     ]
    },
    {
     "name": "stderr",
     "output_type": "stream",
     "text": [
      "\n",
      "\n",
      "\n",
      "\u001b[A\u001b[A\u001b[A"
     ]
    },
    {
     "name": "stdout",
     "output_type": "stream",
     "text": [
      "File 556700004.csv could not be read due to being empty or invalid format. Skipping.\n",
      "File TM08_103.csv could not be read due to being empty or invalid format. Skipping.\n",
      "File 50201005.csv could not be read due to being empty or invalid format. Skipping.\n",
      "File TL89_121.csv could not be read due to being empty or invalid format. Skipping.\n",
      "File 142207859.csv could not be read due to being empty or invalid format. Skipping.\n",
      "File 363710.csv could not be read due to being empty or invalid format. Skipping.\n",
      "File 654800001.csv could not be read due to being empty or invalid format. Skipping.\n",
      "File 0054GW.csv could not be read due to being empty or invalid format. Skipping.\n"
     ]
    },
    {
     "name": "stderr",
     "output_type": "stream",
     "text": [
      "\n",
      "\n",
      "\n",
      "\u001b[A\u001b[A\u001b[A"
     ]
    },
    {
     "name": "stdout",
     "output_type": "stream",
     "text": [
      "File 724647.csv could not be read due to being empty or invalid format. Skipping.\n",
      "File 25-5-405.csv could not be read due to being empty or invalid format. Skipping.\n",
      "File 644632001.csv could not be read due to being empty or invalid format. Skipping.\n",
      "File L0923.csv could not be read due to being empty or invalid format. Skipping.\n",
      "File L33870.csv could not be read due to being empty or invalid format. Skipping.\n",
      "File 0903TH.csv could not be read due to being empty or invalid format. Skipping.\n",
      "File SU38_72A.csv could not be read due to being empty or invalid format. Skipping.\n",
      "File L2107.csv could not be read due to being empty or invalid format. Skipping.\n"
     ]
    },
    {
     "name": "stderr",
     "output_type": "stream",
     "text": [
      "\n",
      "\n",
      "\n",
      "\u001b[A\u001b[A\u001b[A"
     ]
    },
    {
     "name": "stdout",
     "output_type": "stream",
     "text": [
      "File 6_068.csv could not be read due to being empty or invalid format. Skipping.\n",
      "File SO90_25.csv could not be read due to being empty or invalid format. Skipping.\n",
      "File TL55_001.csv could not be read due to being empty or invalid format. Skipping.\n",
      "File 564595.csv could not be read due to being empty or invalid format. Skipping.\n",
      "File TA07RSN0CC.csv could not be read due to being empty or invalid format. Skipping.\n",
      "File 142202048.csv could not be read due to being empty or invalid format. Skipping.\n"
     ]
    },
    {
     "name": "stderr",
     "output_type": "stream",
     "text": [
      "\n",
      "\n",
      "\n",
      "\u001b[A\u001b[A\u001b[A"
     ]
    },
    {
     "name": "stdout",
     "output_type": "stream",
     "text": [
      "File 4189.csv could not be read due to being empty or invalid format. Skipping.\n",
      "File TQ25_13.csv could not be read due to being empty or invalid format. Skipping.\n",
      "File 3023GW.csv could not be read due to being empty or invalid format. Skipping.\n",
      "File 574786.csv could not be read due to being empty or invalid format. Skipping.\n"
     ]
    },
    {
     "name": "stderr",
     "output_type": "stream",
     "text": [
      "\n",
      "\n",
      "\n",
      "\u001b[A\u001b[A\u001b[A"
     ]
    },
    {
     "name": "stdout",
     "output_type": "stream",
     "text": [
      "File SE63HWP0SS.csv could not be read due to being empty or invalid format. Skipping.\n",
      "File 441521002.csv could not be read due to being empty or invalid format. Skipping.\n",
      "File L3231.csv could not be read due to being empty or invalid format. Skipping.\n",
      "File 245220017.csv could not be read due to being empty or invalid format. Skipping.\n",
      "File 5533GW.csv could not be read due to being empty or invalid format. Skipping.\n",
      "File 143700797.csv could not be read due to being empty or invalid format. Skipping.\n",
      "File 312128.csv could not be read due to being empty or invalid format. Skipping.\n",
      "File SJ69_37B.csv could not be read due to being empty or invalid format. Skipping.\n",
      "File 4821.csv could not be read due to being empty or invalid format. Skipping.\n",
      "File 293436.csv could not be read due to being empty or invalid format. Skipping.\n",
      "File 90101205.csv could not be read due to being empty or invalid format. Skipping.\n"
     ]
    },
    {
     "name": "stderr",
     "output_type": "stream",
     "text": [
      "\n",
      "\n",
      "\n",
      "\u001b[A\u001b[A\u001b[A"
     ]
    },
    {
     "name": "stdout",
     "output_type": "stream",
     "text": [
      "File L2105.csv could not be read due to being empty or invalid format. Skipping.\n",
      "File 25-4-172.csv could not be read due to being empty or invalid format. Skipping.\n",
      "File SU67_66.csv could not be read due to being empty or invalid format. Skipping.\n",
      "File SE36KC00SS.csv could not be read due to being empty or invalid format. Skipping.\n",
      "File TL44_238.csv could not be read due to being empty or invalid format. Skipping.\n",
      "File 296200.csv could not be read due to being empty or invalid format. Skipping.\n",
      "File 240120.csv could not be read due to being empty or invalid format. Skipping.\n",
      "File TL45_017.csv could not be read due to being empty or invalid format. Skipping.\n",
      "File 3028TH.csv could not be read due to being empty or invalid format. Skipping.\n"
     ]
    },
    {
     "name": "stderr",
     "output_type": "stream",
     "text": [
      "\n",
      "\n",
      "\n",
      "\u001b[A\u001b[A\u001b[A"
     ]
    },
    {
     "name": "stdout",
     "output_type": "stream",
     "text": [
      "File 142202704.csv could not be read due to being empty or invalid format. Skipping.\n",
      "File 243121001.csv could not be read due to being empty or invalid format. Skipping.\n",
      "File TL55_003.csv could not be read due to being empty or invalid format. Skipping.\n",
      "File 521008.csv could not be read due to being empty or invalid format. Skipping.\n",
      "File 141806179.csv could not be read due to being empty or invalid format. Skipping.\n"
     ]
    },
    {
     "name": "stderr",
     "output_type": "stream",
     "text": [
      "\n",
      "\n",
      "\n",
      "\u001b[A\u001b[A\u001b[A"
     ]
    },
    {
     "name": "stdout",
     "output_type": "stream",
     "text": [
      "File 175876.csv could not be read due to being empty or invalid format. Skipping.\n",
      "File TW05_8.csv could not be read due to being empty or invalid format. Skipping.\n",
      "File 520316.csv could not be read due to being empty or invalid format. Skipping.\n",
      "File L0935.csv could not be read due to being empty or invalid format. Skipping.\n",
      "File TQ38_83.csv could not be read due to being empty or invalid format. Skipping.\n",
      "File 5151TH.csv could not be read due to being empty or invalid format. Skipping.\n"
     ]
    },
    {
     "name": "stderr",
     "output_type": "stream",
     "text": [
      "\n",
      "\n",
      "\n",
      "\u001b[A\u001b[A\u001b[A"
     ]
    },
    {
     "name": "stdout",
     "output_type": "stream",
     "text": [
      "File 3404TH.csv could not be read due to being empty or invalid format. Skipping.\n",
      "File 120693.csv could not be read due to being empty or invalid format. Skipping.\n",
      "File 652414003.csv could not be read due to being empty or invalid format. Skipping.\n",
      "File SE88NBQNCO.csv could not be read due to being empty or invalid format. Skipping.\n",
      "File 601360.csv could not be read due to being empty or invalid format. Skipping.\n",
      "File 4148.csv could not be read due to being empty or invalid format. Skipping.\n"
     ]
    },
    {
     "name": "stderr",
     "output_type": "stream",
     "text": [
      "\n",
      "\n",
      "\n",
      "\u001b[A\u001b[A\u001b[A"
     ]
    },
    {
     "name": "stdout",
     "output_type": "stream",
     "text": [
      "File TL65_044.csv could not be read due to being empty or invalid format. Skipping.\n",
      "File 6_095.csv could not be read due to being empty or invalid format. Skipping.\n",
      "File 4912TH.csv could not be read due to being empty or invalid format. Skipping.\n",
      "File 520245_FW.csv could not be read due to being empty or invalid format. Skipping.\n",
      "File 2539.csv could not be read due to being empty or invalid format. Skipping.\n",
      "File SE62CWB2SS.csv could not be read due to being empty or invalid format. Skipping.\n",
      "File 204945.csv could not be read due to being empty or invalid format. Skipping.\n"
     ]
    },
    {
     "name": "stderr",
     "output_type": "stream",
     "text": [
      "\n",
      "\n",
      "\n",
      "\u001b[A\u001b[A\u001b[A"
     ]
    },
    {
     "name": "stdout",
     "output_type": "stream",
     "text": [
      "File 4151TH.csv could not be read due to being empty or invalid format. Skipping.\n",
      "File SU57_100.csv could not be read due to being empty or invalid format. Skipping.\n",
      "File 2511.csv could not be read due to being empty or invalid format. Skipping.\n",
      "File TL01_175.csv could not be read due to being empty or invalid format. Skipping.\n",
      "File 25-3-330.csv could not be read due to being empty or invalid format. Skipping.\n",
      "File TA07NDK0CC.csv could not be read due to being empty or invalid format. Skipping.\n",
      "File 2277.csv could not be read due to being empty or invalid format. Skipping.\n"
     ]
    },
    {
     "name": "stderr",
     "output_type": "stream",
     "text": [
      "\n",
      "\n",
      "\n",
      "\u001b[A\u001b[A\u001b[A"
     ]
    },
    {
     "name": "stdout",
     "output_type": "stream",
     "text": [
      "File 91259300.csv could not be read due to being empty or invalid format. Skipping.\n",
      "File 0567GW.csv could not be read due to being empty or invalid format. Skipping.\n",
      "File 4174.csv could not be read due to being empty or invalid format. Skipping.\n",
      "File 443520001.csv could not be read due to being empty or invalid format. Skipping.\n",
      "File 438954.csv could not be read due to being empty or invalid format. Skipping.\n",
      "File TQ19_65.csv could not be read due to being empty or invalid format. Skipping.\n",
      "File SE29GTL0SS.csv could not be read due to being empty or invalid format. Skipping.\n"
     ]
    },
    {
     "name": "stderr",
     "output_type": "stream",
     "text": [
      "\n",
      "\n",
      "\n",
      "\u001b[A\u001b[A\u001b[A"
     ]
    },
    {
     "name": "stdout",
     "output_type": "stream",
     "text": [
      "File 240816TP.csv could not be read due to being empty or invalid format. Skipping.\n",
      "File 2021GW.csv could not be read due to being empty or invalid format. Skipping.\n",
      "File 90111200.csv could not be read due to being empty or invalid format. Skipping.\n",
      "File 341510006.csv could not be read due to being empty or invalid format. Skipping.\n",
      "File 232978.csv could not be read due to being empty or invalid format. Skipping.\n",
      "File TQ35_8.csv could not be read due to being empty or invalid format. Skipping.\n",
      "File L2307.csv could not be read due to being empty or invalid format. Skipping.\n"
     ]
    },
    {
     "name": "stderr",
     "output_type": "stream",
     "text": [
      "\n",
      "\n",
      "\n",
      "\u001b[A\u001b[A\u001b[A"
     ]
    },
    {
     "name": "stdout",
     "output_type": "stream",
     "text": [
      "File TL64_900.csv could not be read due to being empty or invalid format. Skipping.\n",
      "File 39163.csv could not be read due to being empty or invalid format. Skipping.\n",
      "File 542008.csv could not be read due to being empty or invalid format. Skipping.\n",
      "File TL54_006.csv could not be read due to being empty or invalid format. Skipping.\n",
      "File 0901TH.csv could not be read due to being empty or invalid format. Skipping.\n",
      "File SE53SST0ML.csv could not be read due to being empty or invalid format. Skipping.\n",
      "File 342732001.csv could not be read due to being empty or invalid format. Skipping.\n",
      "File 551706.csv could not be read due to being empty or invalid format. Skipping.\n",
      "File SE46MTR0SS.csv could not be read due to being empty or invalid format. Skipping.\n",
      "File SU17_122.csv could not be read due to being empty or invalid format. Skipping.\n",
      "File L2313.csv could not be read due to being empty or invalid format. Skipping.\n"
     ]
    },
    {
     "name": "stderr",
     "output_type": "stream",
     "text": [
      "\n",
      "\n",
      "\n",
      "\u001b[A\u001b[A\u001b[A\n",
      "\n",
      "\n",
      "\u001b[A\u001b[A\u001b[A"
     ]
    },
    {
     "name": "stdout",
     "output_type": "stream",
     "text": [
      "File L0504.csv could not be read due to being empty or invalid format. Skipping.\n",
      "File 654723002.csv could not be read due to being empty or invalid format. Skipping.\n",
      "File SU64_37.csv could not be read due to being empty or invalid format. Skipping.\n",
      "File SU46_139.csv could not be read due to being empty or invalid format. Skipping.\n",
      "File SD53_16C.csv could not be read due to being empty or invalid format. Skipping.\n",
      "File TL64_041.csv could not be read due to being empty or invalid format. Skipping.\n",
      "File 1850GW.csv could not be read due to being empty or invalid format. Skipping.\n",
      "File TL02_5.csv could not be read due to being empty or invalid format. Skipping.\n",
      "File 2891E.csv could not be read due to being empty or invalid format. Skipping.\n",
      "File 142204188.csv could not be read due to being empty or invalid format. Skipping.\n",
      "File SE47CD00SS.csv could not be read due to being empty or invalid format. Skipping.\n",
      "File TL79_076.csv could not be read due to being empty or invalid format. Skipping.\n",
      "File 644000003.csv could not be read due to being empty or invalid format. Skipping.\n",
      "File 5308TH.csv could not be read due to being empty or invalid format. Skipping.\n",
      "File L1815.csv could not be read due to being empty or invalid format. Skipping.\n"
     ]
    },
    {
     "name": "stderr",
     "output_type": "stream",
     "text": [
      "\n",
      "\n",
      "\n",
      "\u001b[A\u001b[A\u001b[A\n",
      "\n",
      "\n",
      "\u001b[A\u001b[A\u001b[A"
     ]
    },
    {
     "name": "stdout",
     "output_type": "stream",
     "text": [
      "File 2976TH.csv could not be read due to being empty or invalid format. Skipping.\n",
      "File 5425TH.csv could not be read due to being empty or invalid format. Skipping.\n",
      "File 356583.csv could not be read due to being empty or invalid format. Skipping.\n",
      "File 242601062.csv could not be read due to being empty or invalid format. Skipping.\n",
      "File 692722.csv could not be read due to being empty or invalid format. Skipping.\n",
      "File TM09_138.csv could not be read due to being empty or invalid format. Skipping.\n",
      "File U33026.csv could not be read due to being empty or invalid format. Skipping.\n",
      "File SE64SFN0SS.csv could not be read due to being empty or invalid format. Skipping.\n"
     ]
    },
    {
     "name": "stderr",
     "output_type": "stream",
     "text": [
      "\n",
      "\n",
      "\n",
      "\u001b[A\u001b[A\u001b[A"
     ]
    },
    {
     "name": "stdout",
     "output_type": "stream",
     "text": [
      "File 644604002.csv could not be read due to being empty or invalid format. Skipping.\n",
      "File L1801.csv could not be read due to being empty or invalid format. Skipping.\n",
      "File SU37_61A.csv could not be read due to being empty or invalid format. Skipping.\n",
      "File SU46_111.csv could not be read due to being empty or invalid format. Skipping.\n",
      "File 644260001.csv could not be read due to being empty or invalid format. Skipping.\n",
      "File 244154001.csv could not be read due to being empty or invalid format. Skipping.\n",
      "File TL62_602.csv could not be read due to being empty or invalid format. Skipping.\n",
      "File 1984TH.csv could not be read due to being empty or invalid format. Skipping.\n",
      "File TM07_147.csv could not be read due to being empty or invalid format. Skipping.\n",
      "File 3_503.csv could not be read due to being empty or invalid format. Skipping.\n",
      "File 4335TH.csv could not be read due to being empty or invalid format. Skipping.\n",
      "File 7_127.csv could not be read due to being empty or invalid format. Skipping.\n"
     ]
    },
    {
     "name": "stderr",
     "output_type": "stream",
     "text": [
      "\n",
      "\n",
      "\n",
      "\u001b[A\u001b[A\u001b[A"
     ]
    },
    {
     "name": "stdout",
     "output_type": "stream",
     "text": [
      "File 255422421.csv could not be read due to being empty or invalid format. Skipping.\n",
      "File L1034.csv could not be read due to being empty or invalid format. Skipping.\n",
      "File 287721.csv could not be read due to being empty or invalid format. Skipping.\n",
      "File 242819TP.csv could not be read due to being empty or invalid format. Skipping.\n",
      "File 142204981.csv could not be read due to being empty or invalid format. Skipping.\n"
     ]
    },
    {
     "name": "stderr",
     "output_type": "stream",
     "text": [
      "\n",
      "\n",
      "\n",
      "\u001b[A\u001b[A\u001b[A"
     ]
    },
    {
     "name": "stdout",
     "output_type": "stream",
     "text": [
      "File 90113205.csv could not be read due to being empty or invalid format. Skipping.\n",
      "File 430298.csv could not be read due to being empty or invalid format. Skipping.\n",
      "File 764117.csv could not be read due to being empty or invalid format. Skipping.\n",
      "File TF72_117.csv could not be read due to being empty or invalid format. Skipping.\n"
     ]
    },
    {
     "name": "stderr",
     "output_type": "stream",
     "text": [
      "\n",
      "\n",
      "\n",
      "\u001b[A\u001b[A\u001b[A"
     ]
    },
    {
     "name": "stdout",
     "output_type": "stream",
     "text": [
      "File 30033.csv could not be read due to being empty or invalid format. Skipping.\n",
      "File L32011_NE.csv could not be read due to being empty or invalid format. Skipping.\n",
      "File SE45GHM0SS.csv could not be read due to being empty or invalid format. Skipping.\n",
      "File SY08G016.csv could not be read due to being empty or invalid format. Skipping.\n",
      "File WAVOBS09.csv could not be read due to being empty or invalid format. Skipping.\n",
      "File 521381.csv could not be read due to being empty or invalid format. Skipping.\n"
     ]
    },
    {
     "name": "stderr",
     "output_type": "stream",
     "text": [
      "\n",
      "\n",
      "\n",
      "\u001b[A\u001b[A\u001b[A"
     ]
    },
    {
     "name": "stdout",
     "output_type": "stream",
     "text": [
      "File L1008.csv could not be read due to being empty or invalid format. Skipping.\n",
      "File L0302.csv could not be read due to being empty or invalid format. Skipping.\n",
      "File L0316.csv could not be read due to being empty or invalid format. Skipping.\n",
      "File 587552.csv could not be read due to being empty or invalid format. Skipping.\n",
      "File 70365.csv could not be read due to being empty or invalid format. Skipping.\n",
      "File SD30_53.csv could not be read due to being empty or invalid format. Skipping.\n",
      "File 395480.csv could not be read due to being empty or invalid format. Skipping.\n"
     ]
    },
    {
     "name": "stderr",
     "output_type": "stream",
     "text": [
      "\n",
      "\n",
      "\n",
      "\u001b[A\u001b[A\u001b[A"
     ]
    },
    {
     "name": "stdout",
     "output_type": "stream",
     "text": [
      "File 22-3-96.csv could not be read due to being empty or invalid format. Skipping.\n",
      "File 1746GW.csv could not be read due to being empty or invalid format. Skipping.\n",
      "File SE51LGB0SS.csv could not be read due to being empty or invalid format. Skipping.\n",
      "File 1_610.csv could not be read due to being empty or invalid format. Skipping.\n",
      "File 4832TH.csv could not be read due to being empty or invalid format. Skipping.\n",
      "File TQ38_464.csv could not be read due to being empty or invalid format. Skipping.\n",
      "File F2990.csv could not be read due to being empty or invalid format. Skipping.\n"
     ]
    },
    {
     "name": "stderr",
     "output_type": "stream",
     "text": [
      "\n",
      "\n",
      "\n",
      "\u001b[A\u001b[A\u001b[A"
     ]
    },
    {
     "name": "stdout",
     "output_type": "stream",
     "text": [
      "File 378050.csv could not be read due to being empty or invalid format. Skipping.\n",
      "File SE53RT00SS.csv could not be read due to being empty or invalid format. Skipping.\n",
      "File 239258TP.csv could not be read due to being empty or invalid format. Skipping.\n",
      "File 2101.csv could not be read due to being empty or invalid format. Skipping.\n",
      "File FWPW01_FW.csv could not be read due to being empty or invalid format. Skipping.\n",
      "File 0447GW.csv could not be read due to being empty or invalid format. Skipping.\n"
     ]
    },
    {
     "name": "stderr",
     "output_type": "stream",
     "text": [
      "\n",
      "\n",
      "\n",
      "\n"
     ]
    },
    {
     "name": "stdout",
     "output_type": "stream",
     "text": [
      "File TF61_003.csv could not be read due to being empty or invalid format. Skipping.\n",
      "File 700320.csv could not be read due to being empty or invalid format. Skipping.\n",
      "File 4202.csv could not be read due to being empty or invalid format. Skipping.\n",
      "File 2667.csv could not be read due to being empty or invalid format. Skipping.\n",
      "File L3804.csv could not be read due to being empty or invalid format. Skipping.\n",
      "File 3209TH.csv could not be read due to being empty or invalid format. Skipping.\n"
     ]
    },
    {
     "name": "stderr",
     "output_type": "stream",
     "text": [
      " 84%|████████▎ | 6336/7573 [03:32<00:38, 32.54it/s]\u001b[A\u001b[A\u001b[A\u001b[A"
     ]
    },
    {
     "name": "stdout",
     "output_type": "stream",
     "text": [
      "File 142502198.csv could not be read due to being empty or invalid format. Skipping.\n",
      "File 185617.csv could not be read due to being empty or invalid format. Skipping.\n",
      "File 78922.csv could not be read due to being empty or invalid format. Skipping.\n",
      "File NTG4009P3.csv could not be read due to being empty or invalid format. Skipping.\n",
      "File 1447GW.csv could not be read due to being empty or invalid format. Skipping.\n"
     ]
    },
    {
     "name": "stderr",
     "output_type": "stream",
     "text": [
      "\n",
      "\n",
      "\n",
      "\u001b[A\u001b[A\u001b[A"
     ]
    },
    {
     "name": "stdout",
     "output_type": "stream",
     "text": [
      "File 441320033.csv could not be read due to being empty or invalid format. Skipping.\n",
      "File SX89F100.csv could not be read due to being empty or invalid format. Skipping.\n",
      "File 0277GW.csv could not be read due to being empty or invalid format. Skipping.\n",
      "File 25-4-11.csv could not be read due to being empty or invalid format. Skipping.\n",
      "File 441887.csv could not be read due to being empty or invalid format. Skipping.\n",
      "File 74329.csv could not be read due to being empty or invalid format. Skipping.\n"
     ]
    },
    {
     "name": "stderr",
     "output_type": "stream",
     "text": [
      "\n",
      "\n",
      "\n",
      "\u001b[A\u001b[A\u001b[A"
     ]
    },
    {
     "name": "stdout",
     "output_type": "stream",
     "text": [
      "File TL12_129.csv could not be read due to being empty or invalid format. Skipping.\n",
      "File TA07WHS0RD.csv could not be read due to being empty or invalid format. Skipping.\n",
      "File 33062.csv could not be read due to being empty or invalid format. Skipping.\n",
      "File TL30_241.csv could not be read due to being empty or invalid format. Skipping.\n",
      "File SS54F800.csv could not be read due to being empty or invalid format. Skipping.\n",
      "File SP00_145.csv could not be read due to being empty or invalid format. Skipping.\n",
      "File 225182.csv could not be read due to being empty or invalid format. Skipping.\n",
      "File SX99F100.csv could not be read due to being empty or invalid format. Skipping.\n"
     ]
    },
    {
     "name": "stderr",
     "output_type": "stream",
     "text": [
      "\n",
      "\n",
      "\n",
      "\u001b[A\u001b[A\u001b[A"
     ]
    },
    {
     "name": "stdout",
     "output_type": "stream",
     "text": [
      "File 49902.csv could not be read due to being empty or invalid format. Skipping.\n",
      "File 441320027.csv could not be read due to being empty or invalid format. Skipping.\n",
      "File 1232GW.csv could not be read due to being empty or invalid format. Skipping.\n",
      "File 245222010.csv could not be read due to being empty or invalid format. Skipping.\n",
      "File SJ46_84.csv could not be read due to being empty or invalid format. Skipping.\n",
      "File 141804183.csv could not be read due to being empty or invalid format. Skipping.\n",
      "File 320978.csv could not be read due to being empty or invalid format. Skipping.\n"
     ]
    },
    {
     "name": "stderr",
     "output_type": "stream",
     "text": [
      "\n",
      "\n",
      "\n",
      "\u001b[A\u001b[A\u001b[A"
     ]
    },
    {
     "name": "stdout",
     "output_type": "stream",
     "text": [
      "File L12062.csv could not be read due to being empty or invalid format. Skipping.\n",
      "File TG03_712.csv could not be read due to being empty or invalid format. Skipping.\n",
      "File 245421018.csv could not be read due to being empty or invalid format. Skipping.\n",
      "File 90199316.csv could not be read due to being empty or invalid format. Skipping.\n",
      "File F1902.csv could not be read due to being empty or invalid format. Skipping.\n",
      "File NY00_441.csv could not be read due to being empty or invalid format. Skipping.\n"
     ]
    },
    {
     "name": "stderr",
     "output_type": "stream",
     "text": [
      "\n",
      "\n",
      "\n",
      "\u001b[A\u001b[A\u001b[A"
     ]
    },
    {
     "name": "stdout",
     "output_type": "stream",
     "text": [
      "File TL55_177.csv could not be read due to being empty or invalid format. Skipping.\n",
      "File 25-3-30.csv could not be read due to being empty or invalid format. Skipping.\n",
      "File NY14_20.csv could not be read due to being empty or invalid format. Skipping.\n"
     ]
    },
    {
     "name": "stderr",
     "output_type": "stream",
     "text": [
      "\n",
      "\n",
      "\n",
      "\u001b[A\u001b[A\u001b[A"
     ]
    },
    {
     "name": "stdout",
     "output_type": "stream",
     "text": [
      "File 141803175.csv could not be read due to being empty or invalid format. Skipping.\n",
      "File 5_036.csv could not be read due to being empty or invalid format. Skipping.\n",
      "File 0176GW.csv could not be read due to being empty or invalid format. Skipping.\n",
      "File 243102021.csv could not be read due to being empty or invalid format. Skipping.\n",
      "File 578009.csv could not be read due to being empty or invalid format. Skipping.\n",
      "File S46482_FW.csv could not be read due to being empty or invalid format. Skipping.\n",
      "File 2245GW.csv could not be read due to being empty or invalid format. Skipping.\n",
      "File SU93_44.csv could not be read due to being empty or invalid format. Skipping.\n",
      "File 1899TH.csv could not be read due to being empty or invalid format. Skipping.\n"
     ]
    },
    {
     "name": "stderr",
     "output_type": "stream",
     "text": [
      "\n",
      "\n",
      "\n",
      "\u001b[A\u001b[A\u001b[A"
     ]
    },
    {
     "name": "stdout",
     "output_type": "stream",
     "text": [
      "File TL12_129A.csv could not be read due to being empty or invalid format. Skipping.\n",
      "File L2924.csv could not be read due to being empty or invalid format. Skipping.\n",
      "File 711007.csv could not be read due to being empty or invalid format. Skipping.\n",
      "File 201949.csv could not be read due to being empty or invalid format. Skipping.\n",
      "File 4014.csv could not be read due to being empty or invalid format. Skipping.\n",
      "File 142203591.csv could not be read due to being empty or invalid format. Skipping.\n"
     ]
    },
    {
     "name": "stderr",
     "output_type": "stream",
     "text": [
      "\n",
      "\n",
      "\n",
      "\u001b[A\u001b[A\u001b[A"
     ]
    },
    {
     "name": "stdout",
     "output_type": "stream",
     "text": [
      "File 90168310.csv could not be read due to being empty or invalid format. Skipping.\n",
      "File 694025.csv could not be read due to being empty or invalid format. Skipping.\n",
      "File 351114004.csv could not be read due to being empty or invalid format. Skipping.\n",
      "File 141806757.csv could not be read due to being empty or invalid format. Skipping.\n",
      "File SE97WVT0CC.csv could not be read due to being empty or invalid format. Skipping.\n",
      "File 644423001.csv could not be read due to being empty or invalid format. Skipping.\n"
     ]
    },
    {
     "name": "stderr",
     "output_type": "stream",
     "text": [
      "\n",
      "\n",
      "\n",
      "\u001b[A\u001b[A\u001b[A"
     ]
    },
    {
     "name": "stdout",
     "output_type": "stream",
     "text": [
      "File 141331.csv could not be read due to being empty or invalid format. Skipping.\n",
      "File 692440.csv could not be read due to being empty or invalid format. Skipping.\n",
      "File 2481TH.csv could not be read due to being empty or invalid format. Skipping.\n",
      "File 2813TH.csv could not be read due to being empty or invalid format. Skipping.\n",
      "File SJ46_52.csv could not be read due to being empty or invalid format. Skipping.\n",
      "File 642313002.csv could not be read due to being empty or invalid format. Skipping.\n",
      "File TW05_10.csv could not be read due to being empty or invalid format. Skipping.\n"
     ]
    },
    {
     "name": "stderr",
     "output_type": "stream",
     "text": [
      "\n",
      "\n",
      "\n",
      "\u001b[A\u001b[A\u001b[A"
     ]
    },
    {
     "name": "stdout",
     "output_type": "stream",
     "text": [
      "File SU69_139.csv could not be read due to being empty or invalid format. Skipping.\n",
      "File 1426GW.csv could not be read due to being empty or invalid format. Skipping.\n",
      "File 226307.csv could not be read due to being empty or invalid format. Skipping.\n",
      "File SP20_103.csv could not be read due to being empty or invalid format. Skipping.\n",
      "File 142203590.csv could not be read due to being empty or invalid format. Skipping.\n",
      "File 22A01.csv could not be read due to being empty or invalid format. Skipping.\n"
     ]
    },
    {
     "name": "stderr",
     "output_type": "stream",
     "text": [
      "\n",
      "\n",
      "\n",
      "\u001b[A\u001b[A\u001b[A"
     ]
    },
    {
     "name": "stdout",
     "output_type": "stream",
     "text": [
      "File 244130021.csv could not be read due to being empty or invalid format. Skipping.\n",
      "File 5_037.csv could not be read due to being empty or invalid format. Skipping.\n",
      "File 90125211.csv could not be read due to being empty or invalid format. Skipping.\n",
      "File 2608SE.csv could not be read due to being empty or invalid format. Skipping.\n",
      "File 693011.csv could not be read due to being empty or invalid format. Skipping.\n",
      "File 644803003.csv could not be read due to being empty or invalid format. Skipping.\n"
     ]
    },
    {
     "name": "stderr",
     "output_type": "stream",
     "text": [
      "\n",
      "\n",
      "\n",
      "\u001b[A\u001b[A\u001b[A"
     ]
    },
    {
     "name": "stdout",
     "output_type": "stream",
     "text": [
      "File SE72HKS3SS.csv could not be read due to being empty or invalid format. Skipping.\n",
      "File 644012002.csv could not be read due to being empty or invalid format. Skipping.\n",
      "File FWJA01_FW.csv could not be read due to being empty or invalid format. Skipping.\n",
      "File 568596.csv could not be read due to being empty or invalid format. Skipping.\n",
      "File SU83_98K.csv could not be read due to being empty or invalid format. Skipping.\n"
     ]
    },
    {
     "name": "stderr",
     "output_type": "stream",
     "text": [
      "\n",
      "\n",
      "\n",
      "\u001b[A\u001b[A\u001b[A"
     ]
    },
    {
     "name": "stdout",
     "output_type": "stream",
     "text": [
      "File 2080GW.csv could not be read due to being empty or invalid format. Skipping.\n",
      "File 142202671.csv could not be read due to being empty or invalid format. Skipping.\n",
      "File L3408.csv could not be read due to being empty or invalid format. Skipping.\n",
      "File TL97_149.csv could not be read due to being empty or invalid format. Skipping.\n",
      "File NY00_440.csv could not be read due to being empty or invalid format. Skipping.\n",
      "File 25-3-31.csv could not be read due to being empty or invalid format. Skipping.\n",
      "File 1727GW.csv could not be read due to being empty or invalid format. Skipping.\n"
     ]
    },
    {
     "name": "stderr",
     "output_type": "stream",
     "text": [
      "\n",
      "\n",
      "\n",
      "\u001b[A\u001b[A\u001b[A"
     ]
    },
    {
     "name": "stdout",
     "output_type": "stream",
     "text": [
      "File 1762GW.csv could not be read due to being empty or invalid format. Skipping.\n",
      "File 4479TH.csv could not be read due to being empty or invalid format. Skipping.\n",
      "File 141804182.csv could not be read due to being empty or invalid format. Skipping.\n",
      "File 25-3-25.csv could not be read due to being empty or invalid format. Skipping.\n",
      "File 142202665.csv could not be read due to being empty or invalid format. Skipping.\n",
      "File 37239.csv could not be read due to being empty or invalid format. Skipping.\n",
      "File 312075.csv could not be read due to being empty or invalid format. Skipping.\n"
     ]
    },
    {
     "name": "stderr",
     "output_type": "stream",
     "text": [
      "\n",
      "\n",
      "\n",
      "\u001b[A\u001b[A\u001b[A"
     ]
    },
    {
     "name": "stdout",
     "output_type": "stream",
     "text": [
      "File SP00_144.csv could not be read due to being empty or invalid format. Skipping.\n",
      "File TL10_17.csv could not be read due to being empty or invalid format. Skipping.\n",
      "File 3295TH.csv could not be read due to being empty or invalid format. Skipping.\n",
      "File 235390.csv could not be read due to being empty or invalid format. Skipping.\n",
      "File TL30_240.csv could not be read due to being empty or invalid format. Skipping.\n",
      "File SE62TPH3SS.csv could not be read due to being empty or invalid format. Skipping.\n",
      "File 1849GW.csv could not be read due to being empty or invalid format. Skipping.\n"
     ]
    },
    {
     "name": "stderr",
     "output_type": "stream",
     "text": [
      "\n",
      "\n",
      "\n",
      "\u001b[A\u001b[A\u001b[A"
     ]
    },
    {
     "name": "stdout",
     "output_type": "stream",
     "text": [
      "File 441320032.csv could not be read due to being empty or invalid format. Skipping.\n",
      "File 90104208.csv could not be read due to being empty or invalid format. Skipping.\n",
      "File NX90_11A.csv could not be read due to being empty or invalid format. Skipping.\n",
      "File TL12_128.csv could not be read due to being empty or invalid format. Skipping.\n",
      "File 2601TH.csv could not be read due to being empty or invalid format. Skipping.\n",
      "File L08013.csv could not be read due to being empty or invalid format. Skipping.\n",
      "File S50446_FW.csv could not be read due to being empty or invalid format. Skipping.\n",
      "File 440540.csv could not be read due to being empty or invalid format. Skipping.\n",
      "File 033108NE.csv could not be read due to being empty or invalid format. Skipping.\n",
      "File L1545.csv could not be read due to being empty or invalid format. Skipping.\n",
      "File 334267.csv could not be read due to being empty or invalid format. Skipping.\n",
      "File 1796TH.csv could not be read due to being empty or invalid format. Skipping.\n",
      "File L3805.csv could not be read due to being empty or invalid format. Skipping.\n"
     ]
    },
    {
     "name": "stderr",
     "output_type": "stream",
     "text": [
      "\n",
      "\n",
      "\n",
      "\u001b[A\u001b[A\u001b[A"
     ]
    },
    {
     "name": "stdout",
     "output_type": "stream",
     "text": [
      "File TF71_002.csv could not be read due to being empty or invalid format. Skipping.\n",
      "File 4203.csv could not be read due to being empty or invalid format. Skipping.\n",
      "File 142802276.csv could not be read due to being empty or invalid format. Skipping.\n",
      "File 1302TH.csv could not be read due to being empty or invalid format. Skipping.\n",
      "File 2490_w2TH.csv could not be read due to being empty or invalid format. Skipping.\n",
      "File NTG4009P2.csv could not be read due to being empty or invalid format. Skipping.\n"
     ]
    },
    {
     "name": "stderr",
     "output_type": "stream",
     "text": [
      "\n",
      "\n",
      "\n",
      "\u001b[A\u001b[A\u001b[A"
     ]
    },
    {
     "name": "stdout",
     "output_type": "stream",
     "text": [
      "File 644011053.csv could not be read due to being empty or invalid format. Skipping.\n",
      "File 2100.csv could not be read due to being empty or invalid format. Skipping.\n",
      "File 218955.csv could not be read due to being empty or invalid format. Skipping.\n",
      "File 143302799.csv could not be read due to being empty or invalid format. Skipping.\n",
      "File NTG1962P1.csv could not be read due to being empty or invalid format. Skipping.\n",
      "File 563170.csv could not be read due to being empty or invalid format. Skipping.\n",
      "File 2666.csv could not be read due to being empty or invalid format. Skipping.\n"
     ]
    },
    {
     "name": "stderr",
     "output_type": "stream",
     "text": [
      "\n",
      "\n",
      "\n",
      "\u001b[A\u001b[A\u001b[A"
     ]
    },
    {
     "name": "stdout",
     "output_type": "stream",
     "text": [
      "File 692119.csv could not be read due to being empty or invalid format. Skipping.\n",
      "File 432303.csv could not be read due to being empty or invalid format. Skipping.\n",
      "File 2896.csv could not be read due to being empty or invalid format. Skipping.\n",
      "File 700309.csv could not be read due to being empty or invalid format. Skipping.\n",
      "File L3902A.csv could not be read due to being empty or invalid format. Skipping.\n",
      "File 2759TH.csv could not be read due to being empty or invalid format. Skipping.\n",
      "File TQ38_465.csv could not be read due to being empty or invalid format. Skipping.\n",
      "File SY08F490.csv could not be read due to being empty or invalid format. Skipping.\n"
     ]
    },
    {
     "name": "stderr",
     "output_type": "stream",
     "text": [
      "\n",
      "\n",
      "\n",
      "\u001b[A\u001b[A\u001b[A"
     ]
    },
    {
     "name": "stdout",
     "output_type": "stream",
     "text": [
      "File 383585.csv could not be read due to being empty or invalid format. Skipping.\n",
      "File L0317.csv could not be read due to being empty or invalid format. Skipping.\n",
      "File 40301095.csv could not be read due to being empty or invalid format. Skipping.\n",
      "File SS53F100.csv could not be read due to being empty or invalid format. Skipping.\n",
      "File 40201081.csv could not be read due to being empty or invalid format. Skipping.\n"
     ]
    },
    {
     "name": "stderr",
     "output_type": "stream",
     "text": [
      "\n",
      "\n",
      "\n",
      "\u001b[A\u001b[A\u001b[A"
     ]
    },
    {
     "name": "stdout",
     "output_type": "stream",
     "text": [
      "File L0303.csv could not be read due to being empty or invalid format. Skipping.\n",
      "File NX91_112.csv could not be read due to being empty or invalid format. Skipping.\n"
     ]
    },
    {
     "name": "stderr",
     "output_type": "stream",
     "text": [
      "\n",
      "\n",
      "\n",
      "\u001b[A\u001b[A\u001b[A"
     ]
    },
    {
     "name": "stdout",
     "output_type": "stream",
     "text": [
      "File NTG0387P3.csv could not be read due to being empty or invalid format. Skipping.\n",
      "File 521380.csv could not be read due to being empty or invalid format. Skipping.\n",
      "File WAVOBS08.csv could not be read due to being empty or invalid format. Skipping.\n",
      "File 143306272.csv could not be read due to being empty or invalid format. Skipping.\n",
      "File SU68_22.csv could not be read due to being empty or invalid format. Skipping.\n",
      "File 3_516.csv could not be read due to being empty or invalid format. Skipping.\n"
     ]
    },
    {
     "name": "stderr",
     "output_type": "stream",
     "text": [
      "\n",
      "\n",
      "\n",
      "\u001b[A\u001b[A\u001b[A"
     ]
    },
    {
     "name": "stdout",
     "output_type": "stream",
     "text": [
      "File 90113204.csv could not be read due to being empty or invalid format. Skipping.\n",
      "File 362960.csv could not be read due to being empty or invalid format. Skipping.\n",
      "File 3089TH.csv could not be read due to being empty or invalid format. Skipping.\n",
      "File GP02_91.csv could not be read due to being empty or invalid format. Skipping.\n",
      "File 23066.csv could not be read due to being empty or invalid format. Skipping.\n",
      "File TL63_410.csv could not be read due to being empty or invalid format. Skipping.\n"
     ]
    },
    {
     "name": "stderr",
     "output_type": "stream",
     "text": [
      "\n",
      "\n",
      "\n",
      "\u001b[A\u001b[A\u001b[A"
     ]
    },
    {
     "name": "stdout",
     "output_type": "stream",
     "text": [
      "File TA05NES0RD.csv could not be read due to being empty or invalid format. Skipping.\n",
      "File 7_126.csv could not be read due to being empty or invalid format. Skipping.\n",
      "File 305737.csv could not be read due to being empty or invalid format. Skipping.\n",
      "File TL96_164.csv could not be read due to being empty or invalid format. Skipping.\n",
      "File 3_502.csv could not be read due to being empty or invalid format. Skipping.\n",
      "File TL72_950.csv could not be read due to being empty or invalid format. Skipping.\n",
      "File 575935.csv could not be read due to being empty or invalid format. Skipping.\n",
      "File 2706.csv could not be read due to being empty or invalid format. Skipping.\n",
      "File E20517_FW.csv could not be read due to being empty or invalid format. Skipping.\n",
      "File 690120.csv could not be read due to being empty or invalid format. Skipping.\n",
      "File 54371.csv could not be read due to being empty or invalid format. Skipping.\n",
      "File L1800.csv could not be read due to being empty or invalid format. Skipping.\n"
     ]
    },
    {
     "name": "stderr",
     "output_type": "stream",
     "text": [
      "\n",
      "\n",
      "\n",
      "\u001b[A\u001b[A\u001b[A"
     ]
    },
    {
     "name": "stdout",
     "output_type": "stream",
     "text": [
      "File 19271.csv could not be read due to being empty or invalid format. Skipping.\n",
      "File L1814.csv could not be read due to being empty or invalid format. Skipping.\n",
      "File 561613.csv could not be read due to being empty or invalid format. Skipping.\n",
      "File TM09_139.csv could not be read due to being empty or invalid format. Skipping.\n",
      "File 0506GW.csv could not be read due to being empty or invalid format. Skipping.\n",
      "File 442790.csv could not be read due to being empty or invalid format. Skipping.\n"
     ]
    },
    {
     "name": "stderr",
     "output_type": "stream",
     "text": [
      "\n",
      "\n",
      "\n",
      "\u001b[A\u001b[A\u001b[A"
     ]
    },
    {
     "name": "stdout",
     "output_type": "stream",
     "text": [
      "File 2420TH.csv could not be read due to being empty or invalid format. Skipping.\n",
      "File TQ06_47C.csv could not be read due to being empty or invalid format. Skipping.\n",
      "File 1756TH.csv could not be read due to being empty or invalid format. Skipping.\n",
      "File TL64_040.csv could not be read due to being empty or invalid format. Skipping.\n",
      "File 432505.csv could not be read due to being empty or invalid format. Skipping.\n"
     ]
    },
    {
     "name": "stderr",
     "output_type": "stream",
     "text": [
      "\n",
      "\n",
      "\n",
      "\u001b[A\u001b[A\u001b[A"
     ]
    },
    {
     "name": "stdout",
     "output_type": "stream",
     "text": [
      "File TW32_2.csv could not be read due to being empty or invalid format. Skipping.\n",
      "File 644651002.csv could not be read due to being empty or invalid format. Skipping.\n",
      "File SU46_138.csv could not be read due to being empty or invalid format. Skipping.\n",
      "File 4175TH.csv could not be read due to being empty or invalid format. Skipping.\n",
      "File 142206952.csv could not be read due to being empty or invalid format. Skipping.\n",
      "File 234449.csv could not be read due to being empty or invalid format. Skipping.\n",
      "File 685505.csv could not be read due to being empty or invalid format. Skipping.\n"
     ]
    },
    {
     "name": "stderr",
     "output_type": "stream",
     "text": [
      "\n",
      "\n",
      "\n",
      "\u001b[A\u001b[A\u001b[A"
     ]
    },
    {
     "name": "stdout",
     "output_type": "stream",
     "text": [
      "File 555207.csv could not be read due to being empty or invalid format. Skipping.\n",
      "File 4188TH.csv could not be read due to being empty or invalid format. Skipping.\n",
      "File SU17_123.csv could not be read due to being empty or invalid format. Skipping.\n",
      "File 26056.csv could not be read due to being empty or invalid format. Skipping.\n",
      "File 4024GW.csv could not be read due to being empty or invalid format. Skipping.\n"
     ]
    },
    {
     "name": "stderr",
     "output_type": "stream",
     "text": [
      "\n",
      "\n",
      "\n",
      "\u001b[A\u001b[A\u001b[A"
     ]
    },
    {
     "name": "stdout",
     "output_type": "stream",
     "text": [
      "File 96781.csv could not be read due to being empty or invalid format. Skipping.\n",
      "File 291778.csv could not be read due to being empty or invalid format. Skipping.\n",
      "File 724320.csv could not be read due to being empty or invalid format. Skipping.\n",
      "File L0511.csv could not be read due to being empty or invalid format. Skipping.\n",
      "File 442142001.csv could not be read due to being empty or invalid format. Skipping.\n"
     ]
    },
    {
     "name": "stderr",
     "output_type": "stream",
     "text": [
      "\n",
      "\n",
      "\n",
      "\u001b[A\u001b[A\u001b[A"
     ]
    },
    {
     "name": "stdout",
     "output_type": "stream",
     "text": [
      "File 3_310.csv could not be read due to being empty or invalid format. Skipping.\n",
      "File SE51WFF0ML.csv could not be read due to being empty or invalid format. Skipping.\n",
      "File L1141.csv could not be read due to being empty or invalid format. Skipping.\n",
      "File 141806385.csv could not be read due to being empty or invalid format. Skipping.\n",
      "File SJ89_31.csv could not be read due to being empty or invalid format. Skipping.\n",
      "File 2262.csv could not be read due to being empty or invalid format. Skipping.\n",
      "File 26297.csv could not be read due to being empty or invalid format. Skipping.\n",
      "File TL96_010.csv could not be read due to being empty or invalid format. Skipping.\n",
      "File 690450.csv could not be read due to being empty or invalid format. Skipping.\n",
      "File TA06FHK0CC.csv could not be read due to being empty or invalid format. Skipping.\n",
      "File 388956.csv could not be read due to being empty or invalid format. Skipping.\n"
     ]
    },
    {
     "name": "stderr",
     "output_type": "stream",
     "text": [
      "\n",
      "\n",
      "\n",
      "\u001b[A\u001b[A\u001b[A"
     ]
    },
    {
     "name": "stdout",
     "output_type": "stream",
     "text": [
      "File 2276.csv could not be read due to being empty or invalid format. Skipping.\n",
      "File 4161.csv could not be read due to being empty or invalid format. Skipping.\n",
      "File SS54F020.csv could not be read due to being empty or invalid format. Skipping.\n",
      "File 520210_FW.csv could not be read due to being empty or invalid format. Skipping.\n",
      "File 750106.csv could not be read due to being empty or invalid format. Skipping.\n",
      "File TQ26_143BL.csv could not be read due to being empty or invalid format. Skipping.\n"
     ]
    },
    {
     "name": "stderr",
     "output_type": "stream",
     "text": [
      "\n",
      "\n",
      "\n",
      "\u001b[A\u001b[A\u001b[A"
     ]
    },
    {
     "name": "stdout",
     "output_type": "stream",
     "text": [
      "File 681213.csv could not be read due to being empty or invalid format. Skipping.\n",
      "File L0908.csv could not be read due to being empty or invalid format. Skipping.\n",
      "File 1874GW.csv could not be read due to being empty or invalid format. Skipping.\n",
      "File SU09_56B.csv could not be read due to being empty or invalid format. Skipping.\n"
     ]
    },
    {
     "name": "stderr",
     "output_type": "stream",
     "text": [
      "\n",
      "\n",
      "\n",
      "\u001b[A\u001b[A\u001b[A"
     ]
    },
    {
     "name": "stdout",
     "output_type": "stream",
     "text": [
      "File 562656.csv could not be read due to being empty or invalid format. Skipping.\n",
      "File 1072GW.csv could not be read due to being empty or invalid format. Skipping.\n",
      "File TF91_779.csv could not be read due to being empty or invalid format. Skipping.\n",
      "File SJ45_102.csv could not be read due to being empty or invalid format. Skipping.\n",
      "File 2538.csv could not be read due to being empty or invalid format. Skipping.\n"
     ]
    },
    {
     "name": "stderr",
     "output_type": "stream",
     "text": [
      "\n",
      "\n",
      "\n",
      "\u001b[A\u001b[A\u001b[A"
     ]
    },
    {
     "name": "stdout",
     "output_type": "stream",
     "text": [
      "File TF80_218.csv could not be read due to being empty or invalid format. Skipping.\n",
      "File 4149.csv could not be read due to being empty or invalid format. Skipping.\n",
      "File 82509.csv could not be read due to being empty or invalid format. Skipping.\n",
      "File SJ87_34.csv could not be read due to being empty or invalid format. Skipping.\n",
      "File 0037GW.csv could not be read due to being empty or invalid format. Skipping.\n",
      "File TM04_330.csv could not be read due to being empty or invalid format. Skipping.\n",
      "File TW05_9.csv could not be read due to being empty or invalid format. Skipping.\n",
      "File TL55_002.csv could not be read due to being empty or invalid format. Skipping.\n"
     ]
    },
    {
     "name": "stderr",
     "output_type": "stream",
     "text": [
      "\n",
      "\n",
      "\n",
      "\u001b[A\u001b[A\u001b[A"
     ]
    },
    {
     "name": "stdout",
     "output_type": "stream",
     "text": [
      "File 441325002.csv could not be read due to being empty or invalid format. Skipping.\n",
      "File SU38_72B.csv could not be read due to being empty or invalid format. Skipping.\n",
      "File 1_598.csv could not be read due to being empty or invalid format. Skipping.\n",
      "File 25-5-406.csv could not be read due to being empty or invalid format. Skipping.\n"
     ]
    },
    {
     "name": "stderr",
     "output_type": "stream",
     "text": [
      "\n",
      "\n",
      "\n",
      "\u001b[A\u001b[A\u001b[A"
     ]
    },
    {
     "name": "stdout",
     "output_type": "stream",
     "text": [
      "File 1925TH.csv could not be read due to being empty or invalid format. Skipping.\n",
      "File TL44_239.csv could not be read due to being empty or invalid format. Skipping.\n",
      "File 244141021.csv could not be read due to being empty or invalid format. Skipping.\n",
      "File SU93_3.csv could not be read due to being empty or invalid format. Skipping.\n",
      "File SE62WHL3SS.csv could not be read due to being empty or invalid format. Skipping.\n",
      "File SJ37_46.csv could not be read due to being empty or invalid format. Skipping.\n",
      "File SU48_90.csv could not be read due to being empty or invalid format. Skipping.\n",
      "File 8_809.csv could not be read due to being empty or invalid format. Skipping.\n",
      "File 235596.csv could not be read due to being empty or invalid format. Skipping.\n",
      "File L1357.csv could not be read due to being empty or invalid format. Skipping.\n"
     ]
    },
    {
     "name": "stderr",
     "output_type": "stream",
     "text": [
      "\n",
      "\n",
      "\n",
      "\u001b[A\u001b[A\u001b[A\n",
      "\n",
      "\n",
      "\u001b[A\u001b[A\u001b[A"
     ]
    },
    {
     "name": "stdout",
     "output_type": "stream",
     "text": [
      "File 0373GW.csv could not be read due to being empty or invalid format. Skipping.\n",
      "File 211346.csv could not be read due to being empty or invalid format. Skipping.\n",
      "File TL86_206.csv could not be read due to being empty or invalid format. Skipping.\n",
      "File L1431.csv could not be read due to being empty or invalid format. Skipping.\n",
      "File 1801TH.csv could not be read due to being empty or invalid format. Skipping.\n",
      "File TL45_006.csv could not be read due to being empty or invalid format. Skipping.\n",
      "File TL87_015.csv could not be read due to being empty or invalid format. Skipping.\n",
      "File 461220901.csv could not be read due to being empty or invalid format. Skipping.\n",
      "File L0703.csv could not be read due to being empty or invalid format. Skipping.\n",
      "File SS70G003.csv could not be read due to being empty or invalid format. Skipping.\n",
      "File SU38_73B.csv could not be read due to being empty or invalid format. Skipping.\n",
      "File L1705A.csv could not be read due to being empty or invalid format. Skipping.\n"
     ]
    },
    {
     "name": "stderr",
     "output_type": "stream",
     "text": [
      "\n",
      "\n",
      "\n",
      "\u001b[A\u001b[A\u001b[A"
     ]
    },
    {
     "name": "stdout",
     "output_type": "stream",
     "text": [
      "File 521150_FW.csv could not be read due to being empty or invalid format. Skipping.\n",
      "File 270669TP.csv could not be read due to being empty or invalid format. Skipping.\n",
      "File 2419TH.csv could not be read due to being empty or invalid format. Skipping.\n",
      "File 268851TP.csv could not be read due to being empty or invalid format. Skipping.\n",
      "File 6_047.csv could not be read due to being empty or invalid format. Skipping.\n",
      "File L1353.csv could not be read due to being empty or invalid format. Skipping.\n"
     ]
    },
    {
     "name": "stderr",
     "output_type": "stream",
     "text": [
      "\n",
      "\n",
      "\n",
      "\u001b[A\u001b[A\u001b[A"
     ]
    },
    {
     "name": "stdout",
     "output_type": "stream",
     "text": [
      "File 763245.csv could not be read due to being empty or invalid format. Skipping.\n",
      "File SJ37_42.csv could not be read due to being empty or invalid format. Skipping.\n",
      "File SU48_80.csv could not be read due to being empty or invalid format. Skipping.\n",
      "File 735003.csv could not be read due to being empty or invalid format. Skipping.\n",
      "File SU49_75B.csv could not be read due to being empty or invalid format. Skipping.\n"
     ]
    },
    {
     "name": "stderr",
     "output_type": "stream",
     "text": [
      "\n",
      "\n",
      "\n",
      "\u001b[A\u001b[A\u001b[A"
     ]
    },
    {
     "name": "stdout",
     "output_type": "stream",
     "text": [
      "File 25-3-335.csv could not be read due to being empty or invalid format. Skipping.\n",
      "File 2272.csv could not be read due to being empty or invalid format. Skipping.\n",
      "File 244132008.csv could not be read due to being empty or invalid format. Skipping.\n",
      "File 227182.csv could not be read due to being empty or invalid format. Skipping.\n",
      "File 3035TH.csv could not be read due to being empty or invalid format. Skipping.\n",
      "File SE38SH08SS.csv could not be read due to being empty or invalid format. Skipping.\n",
      "File 2420_w2TH.csv could not be read due to being empty or invalid format. Skipping.\n",
      "File TL11_164.csv could not be read due to being empty or invalid format. Skipping.\n"
     ]
    },
    {
     "name": "stderr",
     "output_type": "stream",
     "text": [
      "\n",
      "\n",
      "\n",
      "\u001b[A\u001b[A\u001b[A"
     ]
    },
    {
     "name": "stdout",
     "output_type": "stream",
     "text": [
      "File 4165.csv could not be read due to being empty or invalid format. Skipping.\n",
      "File 1425021014.csv could not be read due to being empty or invalid format. Skipping.\n",
      "File 342604005.csv could not be read due to being empty or invalid format. Skipping.\n",
      "File 2514.csv could not be read due to being empty or invalid format. Skipping.\n",
      "File 4171.csv could not be read due to being empty or invalid format. Skipping.\n",
      "File 690440.csv could not be read due to being empty or invalid format. Skipping.\n",
      "File NY00_295.csv could not be read due to being empty or invalid format. Skipping.\n"
     ]
    },
    {
     "name": "stderr",
     "output_type": "stream",
     "text": [
      "\n",
      "\n",
      "\n",
      "\u001b[A\u001b[A\u001b[A"
     ]
    },
    {
     "name": "stdout",
     "output_type": "stream",
     "text": [
      "File TL11_170.csv could not be read due to being empty or invalid format. Skipping.\n",
      "File 576633.csv could not be read due to being empty or invalid format. Skipping.\n",
      "File 0587GW.csv could not be read due to being empty or invalid format. Skipping.\n",
      "File TL65_055.csv could not be read due to being empty or invalid format. Skipping.\n",
      "File L0930.csv could not be read due to being empty or invalid format. Skipping.\n",
      "File SE95DTM0CC.csv could not be read due to being empty or invalid format. Skipping.\n",
      "File G433403.csv could not be read due to being empty or invalid format. Skipping.\n"
     ]
    },
    {
     "name": "stderr",
     "output_type": "stream",
     "text": [
      "\n",
      "\n",
      "\n",
      "\u001b[A\u001b[A\u001b[A"
     ]
    },
    {
     "name": "stdout",
     "output_type": "stream",
     "text": [
      "File 159427.csv could not be read due to being empty or invalid format. Skipping.\n",
      "File 6_084.csv could not be read due to being empty or invalid format. Skipping.\n",
      "File 600735.csv could not be read due to being empty or invalid format. Skipping.\n",
      "File 4159.csv could not be read due to being empty or invalid format. Skipping.\n",
      "File L2841.csv could not be read due to being empty or invalid format. Skipping.\n",
      "File TM08_110.csv could not be read due to being empty or invalid format. Skipping.\n",
      "File 2528.csv could not be read due to being empty or invalid format. Skipping.\n",
      "File TM08_104.csv could not be read due to being empty or invalid format. Skipping.\n"
     ]
    },
    {
     "name": "stderr",
     "output_type": "stream",
     "text": [
      "\n",
      "\n",
      "\n",
      "\u001b[A\u001b[A\u001b[A"
     ]
    },
    {
     "name": "stdout",
     "output_type": "stream",
     "text": [
      "File 243100035.csv could not be read due to being empty or invalid format. Skipping.\n",
      "File SJ97_139.csv could not be read due to being empty or invalid format. Skipping.\n",
      "File 1_577.csv could not be read due to being empty or invalid format. Skipping.\n",
      "File 4180_w2TH.csv could not be read due to being empty or invalid format. Skipping.\n",
      "File 372820003.csv could not be read due to being empty or invalid format. Skipping.\n",
      "File 50301016.csv could not be read due to being empty or invalid format. Skipping.\n"
     ]
    },
    {
     "name": "stderr",
     "output_type": "stream",
     "text": [
      "\n",
      "\n",
      "\n",
      "\u001b[A\u001b[A\u001b[A"
     ]
    },
    {
     "name": "stdout",
     "output_type": "stream",
     "text": [
      "File 2084GW.csv could not be read due to being empty or invalid format. Skipping.\n",
      "File 18A10.csv could not be read due to being empty or invalid format. Skipping.\n",
      "File 2455GW.csv could not be read due to being empty or invalid format. Skipping.\n",
      "File 302672.csv could not be read due to being empty or invalid format. Skipping.\n",
      "File 440168.csv could not be read due to being empty or invalid format. Skipping.\n",
      "File 25-2-49.csv could not be read due to being empty or invalid format. Skipping.\n",
      "File L32013_NE.csv could not be read due to being empty or invalid format. Skipping.\n",
      "File 309041.csv could not be read due to being empty or invalid format. Skipping.\n"
     ]
    },
    {
     "name": "stderr",
     "output_type": "stream",
     "text": [
      "\n",
      "\n",
      "\n",
      "\u001b[A\u001b[A\u001b[A"
     ]
    },
    {
     "name": "stdout",
     "output_type": "stream",
     "text": [
      "File 442142005.csv could not be read due to being empty or invalid format. Skipping.\n",
      "File 26052.csv could not be read due to being empty or invalid format. Skipping.\n",
      "File 141806395.csv could not be read due to being empty or invalid format. Skipping.\n",
      "File 1766GW.csv could not be read due to being empty or invalid format. Skipping.\n",
      "File TF80_194L.csv could not be read due to being empty or invalid format. Skipping.\n",
      "File 3_314.csv could not be read due to being empty or invalid format. Skipping.\n",
      "File 142204628.csv could not be read due to being empty or invalid format. Skipping.\n"
     ]
    },
    {
     "name": "stderr",
     "output_type": "stream",
     "text": [
      "\n",
      "\n",
      "\n",
      "\u001b[A\u001b[A\u001b[A"
     ]
    },
    {
     "name": "stdout",
     "output_type": "stream",
     "text": [
      "File 25-2-61.csv could not be read due to being empty or invalid format. Skipping.\n",
      "File TG42_334.csv could not be read due to being empty or invalid format. Skipping.\n",
      "File 7_042.csv could not be read due to being empty or invalid format. Skipping.\n",
      "File 142201036.csv could not be read due to being empty or invalid format. Skipping.\n",
      "File L1810.csv could not be read due to being empty or invalid format. Skipping.\n",
      "File SU56_114.csv could not be read due to being empty or invalid format. Skipping.\n",
      "File 242601067.csv could not be read due to being empty or invalid format. Skipping.\n",
      "File 2891W.csv could not be read due to being empty or invalid format. Skipping.\n",
      "File SD09_12.csv could not be read due to being empty or invalid format. Skipping.\n"
     ]
    },
    {
     "name": "stderr",
     "output_type": "stream",
     "text": [
      "\n",
      "\n",
      "\n",
      "\u001b[A\u001b[A\u001b[A"
     ]
    },
    {
     "name": "stdout",
     "output_type": "stream",
     "text": [
      "File L32002.csv could not be read due to being empty or invalid format. Skipping.\n",
      "File 91487434.csv could not be read due to being empty or invalid format. Skipping.\n",
      "File TF74_745.csv could not be read due to being empty or invalid format. Skipping.\n",
      "File 692727.csv could not be read due to being empty or invalid format. Skipping.\n",
      "File NY54_11.csv could not be read due to being empty or invalid format. Skipping.\n",
      "File L35023.csv could not be read due to being empty or invalid format. Skipping.\n",
      "File TQ14_20.csv could not be read due to being empty or invalid format. Skipping.\n",
      "File 644604007.csv could not be read due to being empty or invalid format. Skipping.\n"
     ]
    },
    {
     "name": "stderr",
     "output_type": "stream",
     "text": [
      "\n",
      "\n",
      "\n",
      "\u001b[A\u001b[A\u001b[A"
     ]
    },
    {
     "name": "stdout",
     "output_type": "stream",
     "text": [
      "File 403910.csv could not be read due to being empty or invalid format. Skipping.\n",
      "File 151003004.csv could not be read due to being empty or invalid format. Skipping.\n",
      "File 245123012.csv could not be read due to being empty or invalid format. Skipping.\n",
      "File SE62CLO0RD.csv could not be read due to being empty or invalid format. Skipping.\n",
      "File 96008.csv could not be read due to being empty or invalid format. Skipping.\n"
     ]
    },
    {
     "name": "stderr",
     "output_type": "stream",
     "text": [
      "\n",
      "\n",
      "\n",
      "\u001b[A\u001b[A\u001b[A"
     ]
    },
    {
     "name": "stdout",
     "output_type": "stream",
     "text": [
      "File TL23_026.csv could not be read due to being empty or invalid format. Skipping.\n",
      "File 2079GW.csv could not be read due to being empty or invalid format. Skipping.\n",
      "File 5569GW.csv could not be read due to being empty or invalid format. Skipping.\n",
      "File 520105.csv could not be read due to being empty or invalid format. Skipping.\n",
      "File 613211.csv could not be read due to being empty or invalid format. Skipping.\n",
      "File 521384.csv could not be read due to being empty or invalid format. Skipping.\n",
      "File L0307.csv could not be read due to being empty or invalid format. Skipping.\n"
     ]
    },
    {
     "name": "stderr",
     "output_type": "stream",
     "text": [
      "\n",
      "\n",
      "\n",
      "\u001b[A\u001b[A\u001b[A"
     ]
    },
    {
     "name": "stdout",
     "output_type": "stream",
     "text": [
      "File 2251TH.csv could not be read due to being empty or invalid format. Skipping.\n",
      "File SJ36_117.csv could not be read due to being empty or invalid format. Skipping.\n",
      "File 642325013.csv could not be read due to being empty or invalid format. Skipping.\n",
      "File 4390TH.csv could not be read due to being empty or invalid format. Skipping.\n",
      "File L0313.csv could not be read due to being empty or invalid format. Skipping.\n",
      "File TF80_195.csv could not be read due to being empty or invalid format. Skipping.\n",
      "File SJ33_052.csv could not be read due to being empty or invalid format. Skipping.\n"
     ]
    },
    {
     "name": "stderr",
     "output_type": "stream",
     "text": [
      "\n",
      "\n",
      "\n",
      "\u001b[A\u001b[A\u001b[A"
     ]
    },
    {
     "name": "stdout",
     "output_type": "stream",
     "text": [
      "File 521390.csv could not be read due to being empty or invalid format. Skipping.\n",
      "File 1_826.csv could not be read due to being empty or invalid format. Skipping.\n",
      "File NTG0387PA.csv could not be read due to being empty or invalid format. Skipping.\n",
      "File WAVOBS18.csv could not be read due to being empty or invalid format. Skipping.\n",
      "File 40101015.csv could not be read due to being empty or invalid format. Skipping.\n"
     ]
    },
    {
     "name": "stderr",
     "output_type": "stream",
     "text": [
      "\n",
      "\n",
      "\n",
      "\u001b[A\u001b[A\u001b[A"
     ]
    },
    {
     "name": "stdout",
     "output_type": "stream",
     "text": [
      "File 520918.csv could not be read due to being empty or invalid format. Skipping.\n",
      "File 2845.csv could not be read due to being empty or invalid format. Skipping.\n",
      "File 2469_w2TH.csv could not be read due to being empty or invalid format. Skipping.\n",
      "File 318004.csv could not be read due to being empty or invalid format. Skipping.\n",
      "File 449010.csv could not be read due to being empty or invalid format. Skipping.\n",
      "File 23062.csv could not be read due to being empty or invalid format. Skipping.\n",
      "File TA03HYC0RD.csv could not be read due to being empty or invalid format. Skipping.\n"
     ]
    },
    {
     "name": "stderr",
     "output_type": "stream",
     "text": [
      "\n",
      "\n",
      "\n",
      "\u001b[A\u001b[A\u001b[A"
     ]
    },
    {
     "name": "stdout",
     "output_type": "stream",
     "text": [
      "File NTG3072P1.csv could not be read due to being empty or invalid format. Skipping.\n",
      "File 2851.csv could not be read due to being empty or invalid format. Skipping.\n",
      "File SU09_164.csv could not be read due to being empty or invalid format. Skipping.\n",
      "File TA04RHF0CC.csv could not be read due to being empty or invalid format. Skipping.\n",
      "File SD44_66.csv could not be read due to being empty or invalid format. Skipping.\n",
      "File 2662.csv could not be read due to being empty or invalid format. Skipping.\n",
      "File 335169.csv could not be read due to being empty or invalid format. Skipping.\n",
      "File 143302945.csv could not be read due to being empty or invalid format. Skipping.\n",
      "File 591484.csv could not be read due to being empty or invalid format. Skipping.\n",
      "File 326115.csv could not be read due to being empty or invalid format. Skipping.\n",
      "File L1970.csv could not be read due to being empty or invalid format. Skipping.\n",
      "File 520259_FW.csv could not be read due to being empty or invalid format. Skipping.\n"
     ]
    },
    {
     "name": "stderr",
     "output_type": "stream",
     "text": [
      "\n",
      "\n",
      "\n",
      "\u001b[A\u001b[A\u001b[A"
     ]
    },
    {
     "name": "stdout",
     "output_type": "stream",
     "text": [
      "File 4091TH.csv could not be read due to being empty or invalid format. Skipping.\n",
      "File 4207.csv could not be read due to being empty or invalid format. Skipping.\n",
      "File 680525.csv could not be read due to being empty or invalid format. Skipping.\n"
     ]
    },
    {
     "name": "stderr",
     "output_type": "stream",
     "text": [
      "\n",
      "\n",
      "\n",
      "\u001b[A\u001b[A\u001b[A"
     ]
    },
    {
     "name": "stdout",
     "output_type": "stream",
     "text": [
      "File SE37BDP0SS.csv could not be read due to being empty or invalid format. Skipping.\n",
      "File 3115TH.csv could not be read due to being empty or invalid format. Skipping.\n",
      "File 1033GW.csv could not be read due to being empty or invalid format. Skipping.\n",
      "File 4328TH.csv could not be read due to being empty or invalid format. Skipping.\n"
     ]
    },
    {
     "name": "stderr",
     "output_type": "stream",
     "text": [
      "\n",
      "\n",
      "\n",
      "\u001b[A\u001b[A\u001b[A"
     ]
    },
    {
     "name": "stdout",
     "output_type": "stream",
     "text": [
      "File 692109.csv could not be read due to being empty or invalid format. Skipping.\n",
      "File 22-3-93.csv could not be read due to being empty or invalid format. Skipping.\n",
      "File NY45_5B.csv could not be read due to being empty or invalid format. Skipping.\n",
      "File 1835GW.csv could not be read due to being empty or invalid format. Skipping.\n",
      "File 231333.csv could not be read due to being empty or invalid format. Skipping.\n",
      "File TM08_500.csv could not be read due to being empty or invalid format. Skipping.\n"
     ]
    },
    {
     "name": "stderr",
     "output_type": "stream",
     "text": [
      "\n",
      "\n",
      "\n",
      "\u001b[A\u001b[A\u001b[A"
     ]
    },
    {
     "name": "stdout",
     "output_type": "stream",
     "text": [
      "File 3232.csv could not be read due to being empty or invalid format. Skipping.\n",
      "File TA06TPH0CC.csv could not be read due to being empty or invalid format. Skipping.\n",
      "File 1_601.csv could not be read due to being empty or invalid format. Skipping.\n",
      "File 0076GW.csv could not be read due to being empty or invalid format. Skipping.\n",
      "File 245421009.csv could not be read due to being empty or invalid format. Skipping.\n",
      "File 1814.csv could not be read due to being empty or invalid format. Skipping.\n",
      "File TL22_89.csv could not be read due to being empty or invalid format. Skipping.\n"
     ]
    },
    {
     "name": "stderr",
     "output_type": "stream",
     "text": [
      "\n",
      "\n",
      "\n",
      "\u001b[A\u001b[A\u001b[A"
     ]
    },
    {
     "name": "stdout",
     "output_type": "stream",
     "text": [
      "File SU28_65B.csv could not be read due to being empty or invalid format. Skipping.\n",
      "File 5518TH.csv could not be read due to being empty or invalid format. Skipping.\n",
      "File NY00_444.csv could not be read due to being empty or invalid format. Skipping.\n",
      "File TF73_117.csv could not be read due to being empty or invalid format. Skipping.\n",
      "File ST30F011.csv could not be read due to being empty or invalid format. Skipping.\n",
      "File 2_517.csv could not be read due to being empty or invalid format. Skipping.\n",
      "File 1082TH.csv could not be read due to being empty or invalid format. Skipping.\n",
      "File 2_503.csv could not be read due to being empty or invalid format. Skipping.\n",
      "File 1453TH.csv could not be read due to being empty or invalid format. Skipping.\n",
      "File 164163.csv could not be read due to being empty or invalid format. Skipping.\n",
      "File 000182TP.csv could not be read due to being empty or invalid format. Skipping.\n"
     ]
    },
    {
     "name": "stderr",
     "output_type": "stream",
     "text": [
      "\n",
      "\n",
      "\n",
      "\u001b[A\u001b[A\u001b[A"
     ]
    },
    {
     "name": "stdout",
     "output_type": "stream",
     "text": [
      "File SU16_88.csv could not be read due to being empty or invalid format. Skipping.\n",
      "File 1416TH.csv could not be read due to being empty or invalid format. Skipping.\n",
      "File 1196GW.csv could not be read due to being empty or invalid format. Skipping.\n",
      "File SP00_19A.csv could not be read due to being empty or invalid format. Skipping.\n"
     ]
    },
    {
     "name": "stderr",
     "output_type": "stream",
     "text": [
      "\n",
      "\n",
      "\n",
      "\u001b[A\u001b[A\u001b[A"
     ]
    },
    {
     "name": "stdout",
     "output_type": "stream",
     "text": [
      "File 34091.csv could not be read due to being empty or invalid format. Skipping.\n",
      "File 4011.csv could not be read due to being empty or invalid format. Skipping.\n",
      "File 2851SO.csv could not be read due to being empty or invalid format. Skipping.\n",
      "File 694020.csv could not be read due to being empty or invalid format. Skipping.\n"
     ]
    },
    {
     "name": "stderr",
     "output_type": "stream",
     "text": [
      "\n",
      "\n",
      "\n",
      "\u001b[A\u001b[A\u001b[A"
     ]
    },
    {
     "name": "stdout",
     "output_type": "stream",
     "text": [
      "File F0402.csv could not be read due to being empty or invalid format. Skipping.\n",
      "File 141806746.csv could not be read due to being empty or invalid format. Skipping.\n",
      "File 710320.csv could not be read due to being empty or invalid format. Skipping.\n",
      "File 442124021.csv could not be read due to being empty or invalid format. Skipping.\n",
      "File SU89_19.csv could not be read due to being empty or invalid format. Skipping.\n",
      "File 374323.csv could not be read due to being empty or invalid format. Skipping.\n",
      "File NY14_19.csv could not be read due to being empty or invalid format. Skipping.\n",
      "File 1155.csv could not be read due to being empty or invalid format. Skipping.\n",
      "File 348394.csv could not be read due to being empty or invalid format. Skipping.\n"
     ]
    },
    {
     "name": "stderr",
     "output_type": "stream",
     "text": [
      "\n",
      "\n",
      "\n",
      "\u001b[A\u001b[A\u001b[A"
     ]
    },
    {
     "name": "stdout",
     "output_type": "stream",
     "text": [
      "File 693001.csv could not be read due to being empty or invalid format. Skipping.\n",
      "File TL31_133C.csv could not be read due to being empty or invalid format. Skipping.\n",
      "File 4171TH.csv could not be read due to being empty or invalid format. Skipping.\n",
      "File 142205683.csv could not be read due to being empty or invalid format. Skipping.\n"
     ]
    },
    {
     "name": "stderr",
     "output_type": "stream",
     "text": [
      "\n",
      "\n",
      "\n",
      "\u001b[A\u001b[A\u001b[A"
     ]
    },
    {
     "name": "stdout",
     "output_type": "stream",
     "text": [
      "File SJ45_073.csv could not be read due to being empty or invalid format. Skipping.\n",
      "File 342813001.csv could not be read due to being empty or invalid format. Skipping.\n",
      "File 520514.csv could not be read due to being empty or invalid format. Skipping.\n",
      "File SE67WQR1CO.csv could not be read due to being empty or invalid format. Skipping.\n",
      "File 142205682.csv could not be read due to being empty or invalid format. Skipping.\n",
      "File 1811GW.csv could not be read due to being empty or invalid format. Skipping.\n",
      "File L0851.csv could not be read due to being empty or invalid format. Skipping.\n",
      "File TL74_441.csv could not be read due to being empty or invalid format. Skipping.\n",
      "File 320983.csv could not be read due to being empty or invalid format. Skipping.\n",
      "File 432110.csv could not be read due to being empty or invalid format. Skipping.\n",
      "File 240350TP.csv could not be read due to being empty or invalid format. Skipping.\n"
     ]
    },
    {
     "name": "stderr",
     "output_type": "stream",
     "text": [
      "\n",
      "\n",
      "\n",
      "\u001b[A\u001b[A\u001b[A"
     ]
    },
    {
     "name": "stdout",
     "output_type": "stream",
     "text": [
      "File SJ45_067.csv could not be read due to being empty or invalid format. Skipping.\n",
      "File 2937TH.csv could not be read due to being empty or invalid format. Skipping.\n",
      "File T07.csv could not be read due to being empty or invalid format. Skipping.\n",
      "File 278744TP.csv could not be read due to being empty or invalid format. Skipping.\n"
     ]
    },
    {
     "name": "stderr",
     "output_type": "stream",
     "text": [
      "\n",
      "\n",
      "\n",
      "\u001b[A\u001b[A\u001b[A"
     ]
    },
    {
     "name": "stdout",
     "output_type": "stream",
     "text": [
      "File 184069.csv could not be read due to being empty or invalid format. Skipping.\n",
      "File 90179225.csv could not be read due to being empty or invalid format. Skipping.\n",
      "File 582837.csv could not be read due to being empty or invalid format. Skipping.\n",
      "File 601238.csv could not be read due to being empty or invalid format. Skipping.\n",
      "File 143701274.csv could not be read due to being empty or invalid format. Skipping.\n",
      "File 694021.csv could not be read due to being empty or invalid format. Skipping.\n",
      "File 693028.csv could not be read due to being empty or invalid format. Skipping.\n",
      "File L29027.csv could not be read due to being empty or invalid format. Skipping.\n"
     ]
    },
    {
     "name": "stderr",
     "output_type": "stream",
     "text": [
      "\n",
      "\n",
      "\n",
      "\u001b[A\u001b[A\u001b[A"
     ]
    },
    {
     "name": "stdout",
     "output_type": "stream",
     "text": [
      "File 3_711.csv could not be read due to being empty or invalid format. Skipping.\n",
      "File 441320023.csv could not be read due to being empty or invalid format. Skipping.\n",
      "File 173378.csv could not be read due to being empty or invalid format. Skipping.\n",
      "File 141801969.csv could not be read due to being empty or invalid format. Skipping.\n",
      "File SX99F110.csv could not be read due to being empty or invalid format. Skipping.\n",
      "File 5570GW.csv could not be read due to being empty or invalid format. Skipping.\n",
      "File 3025GW.csv could not be read due to being empty or invalid format. Skipping.\n"
     ]
    },
    {
     "name": "stderr",
     "output_type": "stream",
     "text": [
      "\n",
      "\n",
      "\n",
      "\u001b[A\u001b[A\u001b[A"
     ]
    },
    {
     "name": "stdout",
     "output_type": "stream",
     "text": [
      "File L1540.csv could not be read due to being empty or invalid format. Skipping.\n",
      "File SJ48_91.csv could not be read due to being empty or invalid format. Skipping.\n",
      "File 600683.csv could not be read due to being empty or invalid format. Skipping.\n",
      "File SS42F100.csv could not be read due to being empty or invalid format. Skipping.\n"
     ]
    },
    {
     "name": "stderr",
     "output_type": "stream",
     "text": [
      "\n",
      "\n",
      "\n",
      "\u001b[A\u001b[A\u001b[A"
     ]
    },
    {
     "name": "stdout",
     "output_type": "stream",
     "text": [
      "File NY00_445.csv could not be read due to being empty or invalid format. Skipping.\n",
      "File F1906.csv could not be read due to being empty or invalid format. Skipping.\n",
      "File 297708.csv could not be read due to being empty or invalid format. Skipping.\n",
      "File SP90_27.csv could not be read due to being empty or invalid format. Skipping.\n",
      "File NY00_323.csv could not be read due to being empty or invalid format. Skipping.\n",
      "File 79621.csv could not be read due to being empty or invalid format. Skipping.\n"
     ]
    },
    {
     "name": "stderr",
     "output_type": "stream",
     "text": [
      "\n",
      "\n",
      "\n",
      "\u001b[A\u001b[A\u001b[A"
     ]
    },
    {
     "name": "stdout",
     "output_type": "stream",
     "text": [
      "File 724735.csv could not be read due to being empty or invalid format. Skipping.\n",
      "File 25-4-29.csv could not be read due to being empty or invalid format. Skipping.\n",
      "File 644505001.csv could not be read due to being empty or invalid format. Skipping.\n",
      "File 407632.csv could not be read due to being empty or invalid format. Skipping.\n",
      "File 271491TP.csv could not be read due to being empty or invalid format. Skipping.\n",
      "File 520789_FW.csv could not be read due to being empty or invalid format. Skipping.\n",
      "File TF83_560A.csv could not be read due to being empty or invalid format. Skipping.\n"
     ]
    },
    {
     "name": "stderr",
     "output_type": "stream",
     "text": [
      "\n",
      "\n",
      "\n",
      "\u001b[A\u001b[A\u001b[A"
     ]
    },
    {
     "name": "stdout",
     "output_type": "stream",
     "text": [
      "File TL99_251.csv could not be read due to being empty or invalid format. Skipping.\n",
      "File BEDFOR_RK.csv could not be read due to being empty or invalid format. Skipping.\n",
      "File 2892TH.csv could not be read due to being empty or invalid format. Skipping.\n",
      "File 1_600.csv could not be read due to being empty or invalid format. Skipping.\n",
      "File 564154.csv could not be read due to being empty or invalid format. Skipping.\n",
      "File TQ18_35.csv could not be read due to being empty or invalid format. Skipping.\n",
      "File 2893.csv could not be read due to being empty or invalid format. Skipping.\n"
     ]
    },
    {
     "name": "stderr",
     "output_type": "stream",
     "text": [
      "\n",
      "\n",
      "\n",
      "\u001b[A\u001b[A\u001b[A"
     ]
    },
    {
     "name": "stdout",
     "output_type": "stream",
     "text": [
      "File TL65_450.csv could not be read due to being empty or invalid format. Skipping.\n",
      "File 692108.csv could not be read due to being empty or invalid format. Skipping.\n",
      "File 2138GW.csv could not be read due to being empty or invalid format. Skipping.\n",
      "File TL41_88.csv could not be read due to being empty or invalid format. Skipping.\n",
      "File SU84_58.csv could not be read due to being empty or invalid format. Skipping.\n",
      "File 530277.csv could not be read due to being empty or invalid format. Skipping.\n",
      "File 91486111.csv could not be read due to being empty or invalid format. Skipping.\n",
      "File 3892TH.csv could not be read due to being empty or invalid format. Skipping.\n",
      "File 432312.csv could not be read due to being empty or invalid format. Skipping.\n",
      "File 8.csv could not be read due to being empty or invalid format. Skipping.\n",
      "File NY52_3.csv could not be read due to being empty or invalid format. Skipping.\n"
     ]
    },
    {
     "name": "stderr",
     "output_type": "stream",
     "text": [
      "\n",
      "\n",
      "\n",
      "\u001b[A\u001b[A\u001b[A\n",
      "\n",
      "\n",
      "\u001b[A\u001b[A\u001b[A"
     ]
    },
    {
     "name": "stdout",
     "output_type": "stream",
     "text": [
      "File SE45KHS2SS.csv could not be read due to being empty or invalid format. Skipping.\n",
      "File 2139.csv could not be read due to being empty or invalid format. Skipping.\n",
      "File 577882.csv could not be read due to being empty or invalid format. Skipping.\n",
      "File SE44MLSLML.csv could not be read due to being empty or invalid format. Skipping.\n",
      "File 604142.csv could not be read due to being empty or invalid format. Skipping.\n",
      "File SJ56_46.csv could not be read due to being empty or invalid format. Skipping.\n",
      "File 712052.csv could not be read due to being empty or invalid format. Skipping.\n",
      "File 352859.csv could not be read due to being empty or invalid format. Skipping.\n"
     ]
    },
    {
     "name": "stderr",
     "output_type": "stream",
     "text": [
      "\n",
      "\n",
      "\n",
      "\u001b[A\u001b[A\u001b[A"
     ]
    },
    {
     "name": "stdout",
     "output_type": "stream",
     "text": [
      "File SD44_73.csv could not be read due to being empty or invalid format. Skipping.\n",
      "File SU09_165.csv could not be read due to being empty or invalid format. Skipping.\n",
      "File SD44_67.csv could not be read due to being empty or invalid format. Skipping.\n",
      "File 4206.csv could not be read due to being empty or invalid format. Skipping.\n",
      "File 141804346.csv could not be read due to being empty or invalid format. Skipping.\n"
     ]
    },
    {
     "name": "stderr",
     "output_type": "stream",
     "text": [
      "\n",
      "\n",
      "\n",
      "\u001b[A\u001b[A\u001b[A"
     ]
    },
    {
     "name": "stdout",
     "output_type": "stream",
     "text": [
      "File 244340023.csv could not be read due to being empty or invalid format. Skipping.\n",
      "File 0526GW.csv could not be read due to being empty or invalid format. Skipping.\n",
      "File 334510.csv could not be read due to being empty or invalid format. Skipping.\n",
      "File 576578.csv could not be read due to being empty or invalid format. Skipping.\n",
      "File 295038A.csv could not be read due to being empty or invalid format. Skipping.\n",
      "File 91613401.csv could not be read due to being empty or invalid format. Skipping.\n",
      "File 142201625.csv could not be read due to being empty or invalid format. Skipping.\n",
      "File 23063.csv could not be read due to being empty or invalid format. Skipping.\n",
      "File 920348.csv could not be read due to being empty or invalid format. Skipping.\n",
      "File SE45GHM0RD.csv could not be read due to being empty or invalid format. Skipping.\n",
      "File SD40_129.csv could not be read due to being empty or invalid format. Skipping.\n",
      "File 2850.csv could not be read due to being empty or invalid format. Skipping.\n",
      "File SE45CTB1SS.csv could not be read due to being empty or invalid format. Skipping.\n",
      "File 2_700.csv could not be read due to being empty or invalid format. Skipping.\n"
     ]
    },
    {
     "name": "stderr",
     "output_type": "stream",
     "text": [
      "\n",
      "\n",
      "\n",
      "\u001b[A\u001b[A\u001b[A"
     ]
    },
    {
     "name": "stdout",
     "output_type": "stream",
     "text": [
      "File 2844.csv could not be read due to being empty or invalid format. Skipping.\n",
      "File 3_507.csv could not be read due to being empty or invalid format. Skipping.\n",
      "File 142203740.csv could not be read due to being empty or invalid format. Skipping.\n",
      "File 642145004.csv could not be read due to being empty or invalid format. Skipping.\n",
      "File SJ56_85.csv could not be read due to being empty or invalid format. Skipping.\n"
     ]
    },
    {
     "name": "stderr",
     "output_type": "stream",
     "text": [
      "\n",
      "\n",
      "\n",
      "\u001b[A\u001b[A\u001b[A"
     ]
    },
    {
     "name": "stdout",
     "output_type": "stream",
     "text": [
      "File 443642002.csv could not be read due to being empty or invalid format. Skipping.\n",
      "File 332808.csv could not be read due to being empty or invalid format. Skipping.\n",
      "File 342630014.csv could not be read due to being empty or invalid format. Skipping.\n"
     ]
    },
    {
     "name": "stderr",
     "output_type": "stream",
     "text": [
      "\n",
      "\n",
      "\n",
      "\u001b[A\u001b[A\u001b[A"
     ]
    },
    {
     "name": "stdout",
     "output_type": "stream",
     "text": [
      "File TF80_194.csv could not be read due to being empty or invalid format. Skipping.\n",
      "File 713204.csv could not be read due to being empty or invalid format. Skipping.\n",
      "File 1_833.csv could not be read due to being empty or invalid format. Skipping.\n",
      "File 521385.csv could not be read due to being empty or invalid format. Skipping.\n",
      "File 60947.csv could not be read due to being empty or invalid format. Skipping.\n",
      "File 7_080.csv could not be read due to being empty or invalid format. Skipping.\n",
      "File 442131001.csv could not be read due to being empty or invalid format. Skipping.\n"
     ]
    },
    {
     "name": "stderr",
     "output_type": "stream",
     "text": [
      "\n",
      "\n",
      "\n",
      "\u001b[A\u001b[A\u001b[A"
     ]
    },
    {
     "name": "stdout",
     "output_type": "stream",
     "text": [
      "File 243110025.csv could not be read due to being empty or invalid format. Skipping.\n",
      "File SE46TRA0SS.csv could not be read due to being empty or invalid format. Skipping.\n",
      "File 520104.csv could not be read due to being empty or invalid format. Skipping.\n",
      "File 7_094.csv could not be read due to being empty or invalid format. Skipping.\n",
      "File 243110031.csv could not be read due to being empty or invalid format. Skipping.\n"
     ]
    },
    {
     "name": "stderr",
     "output_type": "stream",
     "text": [
      "\n",
      "\n",
      "\n",
      "\u001b[A\u001b[A\u001b[A"
     ]
    },
    {
     "name": "stdout",
     "output_type": "stream",
     "text": [
      "File TA17DF00CC.csv could not be read due to being empty or invalid format. Skipping.\n",
      "File NY54_10.csv could not be read due to being empty or invalid format. Skipping.\n",
      "File L1805.csv could not be read due to being empty or invalid format. Skipping.\n",
      "File SE46LDC0RD.csv could not be read due to being empty or invalid format. Skipping.\n",
      "File 91487435.csv could not be read due to being empty or invalid format. Skipping.\n",
      "File 26090.csv could not be read due to being empty or invalid format. Skipping.\n",
      "File 363500.csv could not be read due to being empty or invalid format. Skipping.\n"
     ]
    },
    {
     "name": "stderr",
     "output_type": "stream",
     "text": [
      "\n",
      "\n",
      "\n",
      "\u001b[A\u001b[A\u001b[A"
     ]
    },
    {
     "name": "stdout",
     "output_type": "stream",
     "text": [
      "File 90160402.csv could not be read due to being empty or invalid format. Skipping.\n",
      "File 2852TH.csv could not be read due to being empty or invalid format. Skipping.\n",
      "File TF80_023.csv could not be read due to being empty or invalid format. Skipping.\n",
      "File 371303001.csv could not be read due to being empty or invalid format. Skipping.\n",
      "File 82732.csv could not be read due to being empty or invalid format. Skipping.\n",
      "File 3054TH.csv could not be read due to being empty or invalid format. Skipping.\n",
      "File 575663.csv could not be read due to being empty or invalid format. Skipping.\n",
      "File L32017.csv could not be read due to being empty or invalid format. Skipping.\n",
      "File 242601066.csv could not be read due to being empty or invalid format. Skipping.\n",
      "File 2071.csv could not be read due to being empty or invalid format. Skipping.\n",
      "File L1811.csv could not be read due to being empty or invalid format. Skipping.\n",
      "File 391972.csv could not be read due to being empty or invalid format. Skipping.\n",
      "File 3_301.csv could not be read due to being empty or invalid format. Skipping.\n"
     ]
    },
    {
     "name": "stderr",
     "output_type": "stream",
     "text": [
      "\n",
      "\n",
      "\n",
      "\u001b[A\u001b[A\u001b[A"
     ]
    },
    {
     "name": "stdout",
     "output_type": "stream",
     "text": [
      "File 22209.csv could not be read due to being empty or invalid format. Skipping.\n",
      "File 25-2-60.csv could not be read due to being empty or invalid format. Skipping.\n",
      "File SP51_9.csv could not be read due to being empty or invalid format. Skipping.\n",
      "File SD41_80.csv could not be read due to being empty or invalid format. Skipping.\n",
      "File 2140GW.csv could not be read due to being empty or invalid format. Skipping.\n"
     ]
    },
    {
     "name": "stderr",
     "output_type": "stream",
     "text": [
      "\n",
      "\n",
      "\n",
      "\u001b[A\u001b[A\u001b[A"
     ]
    },
    {
     "name": "stdout",
     "output_type": "stream",
     "text": [
      "File 246424TP.csv could not be read due to being empty or invalid format. Skipping.\n",
      "File 155963.csv could not be read due to being empty or invalid format. Skipping.\n",
      "File 333492.csv could not be read due to being empty or invalid format. Skipping.\n",
      "File 90113407.csv could not be read due to being empty or invalid format. Skipping.\n",
      "File 456737.csv could not be read due to being empty or invalid format. Skipping.\n",
      "File SE46MTR0RD.csv could not be read due to being empty or invalid format. Skipping.\n",
      "File 23103.csv could not be read due to being empty or invalid format. Skipping.\n",
      "File 463210512.csv could not be read due to being empty or invalid format. Skipping.\n"
     ]
    },
    {
     "name": "stderr",
     "output_type": "stream",
     "text": [
      "\n",
      "\n",
      "\n",
      "\u001b[A\u001b[A\u001b[A"
     ]
    },
    {
     "name": "stdout",
     "output_type": "stream",
     "text": [
      "File 26053.csv could not be read due to being empty or invalid format. Skipping.\n",
      "File 2848SO.csv could not be read due to being empty or invalid format. Skipping.\n",
      "File L2471.csv could not be read due to being empty or invalid format. Skipping.\n",
      "File 142205279.csv could not be read due to being empty or invalid format. Skipping.\n",
      "File SE29GTL0RD.csv could not be read due to being empty or invalid format. Skipping.\n",
      "File 588705.csv could not be read due to being empty or invalid format. Skipping.\n",
      "File TL54_002.csv could not be read due to being empty or invalid format. Skipping.\n"
     ]
    },
    {
     "name": "stderr",
     "output_type": "stream",
     "text": [
      "\n",
      "\n",
      "\n",
      "\u001b[A\u001b[A\u001b[A"
     ]
    },
    {
     "name": "stdout",
     "output_type": "stream",
     "text": [
      "File 442142004.csv could not be read due to being empty or invalid format. Skipping.\n",
      "File 405435.csv could not be read due to being empty or invalid format. Skipping.\n",
      "File 644110002.csv could not be read due to being empty or invalid format. Skipping.\n",
      "File SU47_138.csv could not be read due to being empty or invalid format. Skipping.\n",
      "File 6_091.csv could not be read due to being empty or invalid format. Skipping.\n",
      "File SE45PB01SS.csv could not be read due to being empty or invalid format. Skipping.\n",
      "File SJ58_124.csv could not be read due to being empty or invalid format. Skipping.\n"
     ]
    },
    {
     "name": "stderr",
     "output_type": "stream",
     "text": [
      "\n",
      "\n",
      "\n",
      "\u001b[A\u001b[A\u001b[A\n",
      "\n",
      "\n",
      "\u001b[A\u001b[A\u001b[A"
     ]
    },
    {
     "name": "stdout",
     "output_type": "stream",
     "text": [
      "File TM08_111.csv could not be read due to being empty or invalid format. Skipping.\n",
      "File 556700002.csv could not be read due to being empty or invalid format. Skipping.\n",
      "File 2529.csv could not be read due to being empty or invalid format. Skipping.\n",
      "File 361412501.csv could not be read due to being empty or invalid format. Skipping.\n",
      "File G433402.csv could not be read due to being empty or invalid format. Skipping.\n",
      "File 4170.csv could not be read due to being empty or invalid format. Skipping.\n",
      "File 210908.csv could not be read due to being empty or invalid format. Skipping.\n",
      "File S50439_FW.csv could not be read due to being empty or invalid format. Skipping.\n",
      "File 8003GW.csv could not be read due to being empty or invalid format. Skipping.\n",
      "File 4158.csv could not be read due to being empty or invalid format. Skipping.\n"
     ]
    },
    {
     "name": "stderr",
     "output_type": "stream",
     "text": [
      "\n",
      "\n",
      "\n",
      "\u001b[A\u001b[A\u001b[A"
     ]
    },
    {
     "name": "stdout",
     "output_type": "stream",
     "text": [
      "File 141804742.csv could not be read due to being empty or invalid format. Skipping.\n",
      "File TL75_068.csv could not be read due to being empty or invalid format. Skipping.\n",
      "File 54604.csv could not be read due to being empty or invalid format. Skipping.\n",
      "File 342604004.csv could not be read due to being empty or invalid format. Skipping.\n",
      "File 642311002.csv could not be read due to being empty or invalid format. Skipping.\n",
      "File 375148.csv could not be read due to being empty or invalid format. Skipping.\n",
      "File TQ49_8.csv could not be read due to being empty or invalid format. Skipping.\n"
     ]
    },
    {
     "name": "stderr",
     "output_type": "stream",
     "text": [
      "\n",
      "\n",
      "\n",
      "\u001b[A\u001b[A\u001b[A"
     ]
    },
    {
     "name": "stdout",
     "output_type": "stream",
     "text": [
      "File 113261.csv could not be read due to being empty or invalid format. Skipping.\n",
      "File SU96_70.csv could not be read due to being empty or invalid format. Skipping.\n",
      "File NY00_294.csv could not be read due to being empty or invalid format. Skipping.\n",
      "File 2273.csv could not be read due to being empty or invalid format. Skipping.\n",
      "File 244132009.csv could not be read due to being empty or invalid format. Skipping.\n",
      "File 4389TH.csv could not be read due to being empty or invalid format. Skipping.\n",
      "File 25-3-334.csv could not be read due to being empty or invalid format. Skipping.\n"
     ]
    },
    {
     "name": "stderr",
     "output_type": "stream",
     "text": [
      "\n",
      "\n",
      "\n",
      "\u001b[A\u001b[A\u001b[A"
     ]
    },
    {
     "name": "stdout",
     "output_type": "stream",
     "text": [
      "File 1443GW.csv could not be read due to being empty or invalid format. Skipping.\n",
      "File 2515.csv could not be read due to being empty or invalid format. Skipping.\n",
      "File SE62CWB2RD.csv could not be read due to being empty or invalid format. Skipping.\n",
      "File 4164.csv could not be read due to being empty or invalid format. Skipping.\n",
      "File SJ37_43.csv could not be read due to being empty or invalid format. Skipping.\n",
      "File TM02_370.csv could not be read due to being empty or invalid format. Skipping.\n",
      "File 520785_FW.csv could not be read due to being empty or invalid format. Skipping.\n",
      "File TL62_570.csv could not be read due to being empty or invalid format. Skipping.\n",
      "File L3237.csv could not be read due to being empty or invalid format. Skipping.\n",
      "File SD51_85.csv could not be read due to being empty or invalid format. Skipping.\n",
      "File L1352.csv could not be read due to being empty or invalid format. Skipping.\n"
     ]
    },
    {
     "name": "stderr",
     "output_type": "stream",
     "text": [
      "\n",
      "\n",
      "\n",
      "\u001b[A\u001b[A\u001b[A"
     ]
    },
    {
     "name": "stdout",
     "output_type": "stream",
     "text": [
      "File 6_046.csv could not be read due to being empty or invalid format. Skipping.\n",
      "File 401445.csv could not be read due to being empty or invalid format. Skipping.\n",
      "File L06601.csv could not be read due to being empty or invalid format. Skipping.\n",
      "File SS60G016.csv could not be read due to being empty or invalid format. Skipping.\n"
     ]
    },
    {
     "name": "stderr",
     "output_type": "stream",
     "text": [
      "\n",
      "\n",
      "\n",
      "\u001b[A\u001b[A\u001b[A"
     ]
    },
    {
     "name": "stdout",
     "output_type": "stream",
     "text": [
      "File 0393GW.csv could not be read due to being empty or invalid format. Skipping.\n",
      "File 762600.csv could not be read due to being empty or invalid format. Skipping.\n",
      "File TA06RNS0RD.csv could not be read due to being empty or invalid format. Skipping.\n",
      "File S15585_FW.csv could not be read due to being empty or invalid format. Skipping.\n",
      "File 155010001.csv could not be read due to being empty or invalid format. Skipping.\n"
     ]
    },
    {
     "name": "stderr",
     "output_type": "stream",
     "text": [
      "\n",
      "\n",
      "\n",
      "\u001b[A\u001b[A\u001b[A"
     ]
    },
    {
     "name": "stdout",
     "output_type": "stream",
     "text": [
      "File TM33_1647.csv could not be read due to being empty or invalid format. Skipping.\n",
      "File SU73_3.csv could not be read due to being empty or invalid format. Skipping.\n",
      "File 520890_FW.csv could not be read due to being empty or invalid format. Skipping.\n",
      "File L0716.csv could not be read due to being empty or invalid format. Skipping.\n",
      "File 1742GW.csv could not be read due to being empty or invalid format. Skipping.\n",
      "File 5459TH.csv could not be read due to being empty or invalid format. Skipping.\n",
      "File SE63RCA0SS.csv could not be read due to being empty or invalid format. Skipping.\n",
      "File 142202714.csv could not be read due to being empty or invalid format. Skipping.\n"
     ]
    },
    {
     "name": "stderr",
     "output_type": "stream",
     "text": [
      "\n",
      "\n",
      "\n",
      "\u001b[A\u001b[A\u001b[A"
     ]
    },
    {
     "name": "stdout",
     "output_type": "stream",
     "text": [
      "File SU38_73A.csv could not be read due to being empty or invalid format. Skipping.\n",
      "File TL55_005.csv could not be read due to being empty or invalid format. Skipping.\n",
      "File 441325005.csv could not be read due to being empty or invalid format. Skipping.\n",
      "File 6_078.csv could not be read due to being empty or invalid format. Skipping.\n",
      "File 435090.csv could not be read due to being empty or invalid format. Skipping.\n",
      "File 306173.csv could not be read due to being empty or invalid format. Skipping.\n",
      "File 309240.csv could not be read due to being empty or invalid format. Skipping.\n"
     ]
    },
    {
     "name": "stderr",
     "output_type": "stream",
     "text": [
      "\n",
      "\n",
      "\n",
      "\u001b[A\u001b[A\u001b[A"
     ]
    },
    {
     "name": "stdout",
     "output_type": "stream",
     "text": [
      "File SU26_14.csv could not be read due to being empty or invalid format. Skipping.\n",
      "File L0714.csv could not be read due to being empty or invalid format. Skipping.\n",
      "File 155593.csv could not be read due to being empty or invalid format. Skipping.\n",
      "File SE68WNG0CO.csv could not be read due to being empty or invalid format. Skipping.\n",
      "File 22021.csv could not be read due to being empty or invalid format. Skipping.\n",
      "File 530159_FW.csv could not be read due to being empty or invalid format. Skipping.\n",
      "File 732009.csv could not be read due to being empty or invalid format. Skipping.\n",
      "File TQ99_470.csv could not be read due to being empty or invalid format. Skipping.\n",
      "File 2107GW.csv could not be read due to being empty or invalid format. Skipping.\n"
     ]
    },
    {
     "name": "stderr",
     "output_type": "stream",
     "text": [
      "\n",
      "\n",
      "\n",
      "\u001b[A\u001b[A\u001b[A"
     ]
    },
    {
     "name": "stdout",
     "output_type": "stream",
     "text": [
      "File SJ37_41.csv could not be read due to being empty or invalid format. Skipping.\n",
      "File 90103400.csv could not be read due to being empty or invalid format. Skipping.\n",
      "File 404517.csv could not be read due to being empty or invalid format. Skipping.\n",
      "File 6_050.csv could not be read due to being empty or invalid format. Skipping.\n",
      "File TA05SLG0CC.csv could not be read due to being empty or invalid format. Skipping.\n",
      "File 4199.csv could not be read due to being empty or invalid format. Skipping.\n",
      "File 6_044.csv could not be read due to being empty or invalid format. Skipping.\n",
      "File 575.csv could not be read due to being empty or invalid format. Skipping.\n"
     ]
    },
    {
     "name": "stderr",
     "output_type": "stream",
     "text": [
      "\n",
      "\n",
      "\n",
      "\u001b[A\u001b[A\u001b[A"
     ]
    },
    {
     "name": "stdout",
     "output_type": "stream",
     "text": [
      "File TG41_009.csv could not be read due to being empty or invalid format. Skipping.\n",
      "File 1234GW.csv could not be read due to being empty or invalid format. Skipping.\n",
      "File SY18F050.csv could not be read due to being empty or invalid format. Skipping.\n",
      "File 4827.csv could not be read due to being empty or invalid format. Skipping.\n",
      "File 2265.csv could not be read due to being empty or invalid format. Skipping.\n",
      "File 713038.csv could not be read due to being empty or invalid format. Skipping.\n",
      "File S12548_FW.csv could not be read due to being empty or invalid format. Skipping.\n",
      "File L3221.csv could not be read due to being empty or invalid format. Skipping.\n"
     ]
    },
    {
     "name": "stderr",
     "output_type": "stream",
     "text": [
      "\n",
      "\n",
      "\n",
      "\u001b[A\u001b[A\u001b[A"
     ]
    },
    {
     "name": "stdout",
     "output_type": "stream",
     "text": [
      "File 3056TH.csv could not be read due to being empty or invalid format. Skipping.\n",
      "File 4172.csv could not be read due to being empty or invalid format. Skipping.\n",
      "File 3815TH.csv could not be read due to being empty or invalid format. Skipping.\n",
      "File 4166.csv could not be read due to being empty or invalid format. Skipping.\n",
      "File TL43_054.csv could not be read due to being empty or invalid format. Skipping.\n",
      "File 317917.csv could not be read due to being empty or invalid format. Skipping.\n",
      "File 2850TH.csv could not be read due to being empty or invalid format. Skipping.\n",
      "File SD51_78.csv could not be read due to being empty or invalid format. Skipping.\n"
     ]
    },
    {
     "name": "stderr",
     "output_type": "stream",
     "text": [
      "\n",
      "\n",
      "\n",
      "\u001b[A\u001b[A\u001b[A"
     ]
    },
    {
     "name": "stdout",
     "output_type": "stream",
     "text": [
      "File TL89_119.csv could not be read due to being empty or invalid format. Skipping.\n",
      "File SJ57_38.csv could not be read due to being empty or invalid format. Skipping.\n",
      "File 25-3-336.csv could not be read due to being empty or invalid format. Skipping.\n",
      "File 5546TH.csv could not be read due to being empty or invalid format. Skipping.\n",
      "File SD86_46.csv could not be read due to being empty or invalid format. Skipping.\n",
      "File 46558.csv could not be read due to being empty or invalid format. Skipping.\n",
      "File 413902.csv could not be read due to being empty or invalid format. Skipping.\n",
      "File 0170GW.csv could not be read due to being empty or invalid format. Skipping.\n",
      "File SJ87_27.csv could not be read due to being empty or invalid format. Skipping.\n",
      "File TL33_18.csv could not be read due to being empty or invalid format. Skipping.\n",
      "File 6_093.csv could not be read due to being empty or invalid format. Skipping.\n"
     ]
    },
    {
     "name": "stderr",
     "output_type": "stream",
     "text": [
      "\n",
      "\n",
      "\n",
      "\u001b[A\u001b[A\u001b[A\n",
      "\n",
      "\n",
      "\u001b[A\u001b[A\u001b[A"
     ]
    },
    {
     "name": "stdout",
     "output_type": "stream",
     "text": [
      "File 2243GW.csv could not be read due to being empty or invalid format. Skipping.\n",
      "File NE034.csv could not be read due to being empty or invalid format. Skipping.\n",
      "File TM08_107.csv could not be read due to being empty or invalid format. Skipping.\n",
      "File TL65_730.csv could not be read due to being empty or invalid format. Skipping.\n",
      "File 6_087.csv could not be read due to being empty or invalid format. Skipping.\n",
      "File 1_574.csv could not be read due to being empty or invalid format. Skipping.\n",
      "File 223456.csv could not be read due to being empty or invalid format. Skipping.\n",
      "File 1099TH.csv could not be read due to being empty or invalid format. Skipping.\n",
      "File NY35_6.csv could not be read due to being empty or invalid format. Skipping.\n",
      "File TM58_2823.csv could not be read due to being empty or invalid format. Skipping.\n"
     ]
    },
    {
     "name": "stderr",
     "output_type": "stream",
     "text": [
      "\n",
      "\n",
      "\n",
      "\u001b[A\u001b[A\u001b[A"
     ]
    },
    {
     "name": "stdout",
     "output_type": "stream",
     "text": [
      "File 0278TH.csv could not be read due to being empty or invalid format. Skipping.\n",
      "File 151802017.csv could not be read due to being empty or invalid format. Skipping.\n",
      "File L0933.csv could not be read due to being empty or invalid format. Skipping.\n",
      "File 460720.csv could not be read due to being empty or invalid format. Skipping.\n",
      "File 521595.csv could not be read due to being empty or invalid format. Skipping.\n",
      "File TL44_014.csv could not be read due to being empty or invalid format. Skipping.\n",
      "File SU38_1B.csv could not be read due to being empty or invalid format. Skipping.\n",
      "File 26051.csv could not be read due to being empty or invalid format. Skipping.\n"
     ]
    },
    {
     "name": "stderr",
     "output_type": "stream",
     "text": [
      "\n",
      "\n",
      "\n",
      "\u001b[A\u001b[A\u001b[A"
     ]
    },
    {
     "name": "stdout",
     "output_type": "stream",
     "text": [
      "File 1740GW.csv could not be read due to being empty or invalid format. Skipping.\n",
      "File TG32_805.csv could not be read due to being empty or invalid format. Skipping.\n",
      "File 227383.csv could not be read due to being empty or invalid format. Skipping.\n",
      "File TL96_003.csv could not be read due to being empty or invalid format. Skipping.\n",
      "File SJ79_170.csv could not be read due to being empty or invalid format. Skipping.\n",
      "File F2809.csv could not be read due to being empty or invalid format. Skipping.\n",
      "File TL50_24.csv could not be read due to being empty or invalid format. Skipping.\n"
     ]
    },
    {
     "name": "stderr",
     "output_type": "stream",
     "text": [
      "\n",
      "\n",
      "\n",
      "\u001b[A\u001b[A\u001b[A"
     ]
    },
    {
     "name": "stdout",
     "output_type": "stream",
     "text": [
      "File TL54_028.csv could not be read due to being empty or invalid format. Skipping.\n",
      "File SU17_118.csv could not be read due to being empty or invalid format. Skipping.\n",
      "File 3_303.csv could not be read due to being empty or invalid format. Skipping.\n",
      "File 2098.csv could not be read due to being empty or invalid format. Skipping.\n",
      "File 5376TH.csv could not be read due to being empty or invalid format. Skipping.\n",
      "File SE95WFF0CC.csv could not be read due to being empty or invalid format. Skipping.\n",
      "File 1028GW.csv could not be read due to being empty or invalid format. Skipping.\n"
     ]
    },
    {
     "name": "stderr",
     "output_type": "stream",
     "text": [
      "\n",
      "\n",
      "\n",
      "\u001b[A\u001b[A\u001b[A"
     ]
    },
    {
     "name": "stdout",
     "output_type": "stream",
     "text": [
      "File 0184TH.csv could not be read due to being empty or invalid format. Skipping.\n",
      "File 0404GW.csv could not be read due to being empty or invalid format. Skipping.\n",
      "File ST00G029.csv could not be read due to being empty or invalid format. Skipping.\n",
      "File 531037.csv could not be read due to being empty or invalid format. Skipping.\n",
      "File 0441GW.csv could not be read due to being empty or invalid format. Skipping.\n",
      "File 152805002.csv could not be read due to being empty or invalid format. Skipping.\n"
     ]
    },
    {
     "name": "stderr",
     "output_type": "stream",
     "text": [
      "\n",
      "\n",
      "\n",
      "\u001b[A\u001b[A\u001b[A"
     ]
    },
    {
     "name": "stdout",
     "output_type": "stream",
     "text": [
      "File 712130.csv could not be read due to being empty or invalid format. Skipping.\n",
      "File 0090GW.csv could not be read due to being empty or invalid format. Skipping.\n",
      "File 142502940.csv could not be read due to being empty or invalid format. Skipping.\n",
      "File 91994.csv could not be read due to being empty or invalid format. Skipping.\n",
      "File L1813.csv could not be read due to being empty or invalid format. Skipping.\n",
      "File L32015.csv could not be read due to being empty or invalid format. Skipping.\n",
      "File 242601064.csv could not be read due to being empty or invalid format. Skipping.\n"
     ]
    },
    {
     "name": "stderr",
     "output_type": "stream",
     "text": [
      "\n",
      "\n",
      "\n",
      "\u001b[A\u001b[A\u001b[A"
     ]
    },
    {
     "name": "stdout",
     "output_type": "stream",
     "text": [
      "File 232003.csv could not be read due to being empty or invalid format. Skipping.\n",
      "File SD09_11.csv could not be read due to being empty or invalid format. Skipping.\n",
      "File TQ58_2.csv could not be read due to being empty or invalid format. Skipping.\n",
      "File 644014058.csv could not be read due to being empty or invalid format. Skipping.\n",
      "File 1441GW.csv could not be read due to being empty or invalid format. Skipping.\n",
      "File SD41_69.csv could not be read due to being empty or invalid format. Skipping.\n",
      "File 40301119.csv could not be read due to being empty or invalid format. Skipping.\n",
      "File SU56_117.csv could not be read due to being empty or invalid format. Skipping.\n"
     ]
    },
    {
     "name": "stderr",
     "output_type": "stream",
     "text": [
      "\n",
      "\n",
      "\n",
      "\u001b[A\u001b[A\u001b[A"
     ]
    },
    {
     "name": "stdout",
     "output_type": "stream",
     "text": [
      "File 644604010.csv could not be read due to being empty or invalid format. Skipping.\n",
      "File 217283.csv could not be read due to being empty or invalid format. Skipping.\n",
      "File TL11_9.csv could not be read due to being empty or invalid format. Skipping.\n",
      "File 55040.csv could not be read due to being empty or invalid format. Skipping.\n",
      "File 242601058.csv could not be read due to being empty or invalid format. Skipping.\n",
      "File 2_879.csv could not be read due to being empty or invalid format. Skipping.\n",
      "File 314946.csv could not be read due to being empty or invalid format. Skipping.\n"
     ]
    },
    {
     "name": "stderr",
     "output_type": "stream",
     "text": [
      "\n",
      "\n",
      "\n",
      "\u001b[A\u001b[A\u001b[A"
     ]
    },
    {
     "name": "stdout",
     "output_type": "stream",
     "text": [
      "File 8001GW.csv could not be read due to being empty or invalid format. Skipping.\n",
      "File 320349.csv could not be read due to being empty or invalid format. Skipping.\n",
      "File 685502.csv could not be read due to being empty or invalid format. Skipping.\n",
      "File 151483.csv could not be read due to being empty or invalid format. Skipping.\n",
      "File 74924.csv could not be read due to being empty or invalid format. Skipping.\n",
      "File SJ33_051.csv could not be read due to being empty or invalid format. Skipping.\n",
      "File S50481_FW.csv could not be read due to being empty or invalid format. Skipping.\n"
     ]
    },
    {
     "name": "stderr",
     "output_type": "stream",
     "text": [
      "\n",
      "\n",
      "\n",
      "\u001b[A\u001b[A\u001b[A"
     ]
    },
    {
     "name": "stdout",
     "output_type": "stream",
     "text": [
      "File S45421_FW.csv could not be read due to being empty or invalid format. Skipping.\n",
      "File 417635.csv could not be read due to being empty or invalid format. Skipping.\n",
      "File 304406.csv could not be read due to being empty or invalid format. Skipping.\n",
      "File SU27_68.csv could not be read due to being empty or invalid format. Skipping.\n",
      "File 0144TH.csv could not be read due to being empty or invalid format. Skipping.\n",
      "File 3232TH.csv could not be read due to being empty or invalid format. Skipping.\n",
      "File 25-4-202.csv could not be read due to being empty or invalid format. Skipping.\n",
      "File 3_511.csv could not be read due to being empty or invalid format. Skipping.\n"
     ]
    },
    {
     "name": "stderr",
     "output_type": "stream",
     "text": [
      "\n",
      "\n",
      "\n",
      "\u001b[A\u001b[A\u001b[A"
     ]
    },
    {
     "name": "stdout",
     "output_type": "stream",
     "text": [
      "File TL93_740.csv could not be read due to being empty or invalid format. Skipping.\n",
      "File 429081.csv could not be read due to being empty or invalid format. Skipping.\n",
      "File 371112001.csv could not be read due to being empty or invalid format. Skipping.\n",
      "File NTG3072P2.csv could not be read due to being empty or invalid format. Skipping.\n",
      "File 1780GW.csv could not be read due to being empty or invalid format. Skipping.\n",
      "File 26119.csv could not be read due to being empty or invalid format. Skipping.\n",
      "File 46835.csv could not be read due to being empty or invalid format. Skipping.\n",
      "File SD30_69.csv could not be read due to being empty or invalid format. Skipping.\n",
      "File 2062GW.csv could not be read due to being empty or invalid format. Skipping.\n",
      "File SU49_43C.csv could not be read due to being empty or invalid format. Skipping.\n",
      "File SP62_4.csv could not be read due to being empty or invalid format. Skipping.\n"
     ]
    },
    {
     "name": "stderr",
     "output_type": "stream",
     "text": [
      "\n",
      "\n",
      "\n",
      "\u001b[A\u001b[A\u001b[A"
     ]
    },
    {
     "name": "stdout",
     "output_type": "stream",
     "text": [
      "File 75233.csv could not be read due to being empty or invalid format. Skipping.\n",
      "File 300890.csv could not be read due to being empty or invalid format. Skipping.\n",
      "File 5537GW.csv could not be read due to being empty or invalid format. Skipping.\n",
      "File NTG0387PB.csv could not be read due to being empty or invalid format. Skipping.\n"
     ]
    },
    {
     "name": "stderr",
     "output_type": "stream",
     "text": [
      "\n",
      "\n",
      "\n",
      "\u001b[A\u001b[A\u001b[A"
     ]
    },
    {
     "name": "stdout",
     "output_type": "stream",
     "text": [
      "File 7_121.csv could not be read due to being empty or invalid format. Skipping.\n",
      "File 40101016.csv could not be read due to being empty or invalid format. Skipping.\n",
      "File 47281.csv could not be read due to being empty or invalid format. Skipping.\n",
      "File 642421011.csv could not be read due to being empty or invalid format. Skipping.\n",
      "File 2846.csv could not be read due to being empty or invalid format. Skipping.\n",
      "File TA03NHC0CC.csv could not be read due to being empty or invalid format. Skipping.\n",
      "File 4204.csv could not be read due to being empty or invalid format. Skipping.\n",
      "File L30004.csv could not be read due to being empty or invalid format. Skipping.\n",
      "File SE52EGB3SS.csv could not be read due to being empty or invalid format. Skipping.\n",
      "File V07.csv could not be read due to being empty or invalid format. Skipping.\n",
      "File L39020.csv could not be read due to being empty or invalid format. Skipping.\n"
     ]
    },
    {
     "name": "stderr",
     "output_type": "stream",
     "text": [
      "\n",
      "\n",
      "\n",
      "\u001b[A\u001b[A\u001b[A"
     ]
    },
    {
     "name": "stdout",
     "output_type": "stream",
     "text": [
      "File 2107.csv could not be read due to being empty or invalid format. Skipping.\n",
      "File 413484.csv could not be read due to being empty or invalid format. Skipping.\n",
      "File 141804344.csv could not be read due to being empty or invalid format. Skipping.\n",
      "File 36487.csv could not be read due to being empty or invalid format. Skipping.\n",
      "File 1738GW.csv could not be read due to being empty or invalid format. Skipping.\n"
     ]
    },
    {
     "name": "stderr",
     "output_type": "stream",
     "text": [
      "\n",
      "\n",
      "\n",
      "\u001b[A\u001b[A\u001b[A"
     ]
    },
    {
     "name": "stdout",
     "output_type": "stream",
     "text": [
      "File 531350_FW.csv could not be read due to being empty or invalid format. Skipping.\n",
      "File 2661.csv could not be read due to being empty or invalid format. Skipping.\n",
      "File 1015GW.csv could not be read due to being empty or invalid format. Skipping.\n",
      "File 4238.csv could not be read due to being empty or invalid format. Skipping.\n",
      "File 2649.csv could not be read due to being empty or invalid format. Skipping.\n",
      "File 1050GW.csv could not be read due to being empty or invalid format. Skipping.\n",
      "File TL74_641.csv could not be read due to being empty or invalid format. Skipping.\n"
     ]
    },
    {
     "name": "stderr",
     "output_type": "stream",
     "text": [
      "\n",
      "\n",
      "\n",
      "\u001b[A\u001b[A\u001b[A"
     ]
    },
    {
     "name": "stdout",
     "output_type": "stream",
     "text": [
      "File L1783.csv could not be read due to being empty or invalid format. Skipping.\n",
      "File NY45_5A.csv could not be read due to being empty or invalid format. Skipping.\n",
      "File 1813GW.csv could not be read due to being empty or invalid format. Skipping.\n",
      "File S23536_FW.csv could not be read due to being empty or invalid format. Skipping.\n",
      "File 453922.csv could not be read due to being empty or invalid format. Skipping.\n",
      "File SD44_59.csv could not be read due to being empty or invalid format. Skipping.\n",
      "File SE52KLS0SS.csv could not be read due to being empty or invalid format. Skipping.\n"
     ]
    },
    {
     "name": "stderr",
     "output_type": "stream",
     "text": [
      "\n",
      "\n",
      "\n",
      "\u001b[A\u001b[A\u001b[A"
     ]
    },
    {
     "name": "stdout",
     "output_type": "stream",
     "text": [
      "File 921083.csv could not be read due to being empty or invalid format. Skipping.\n",
      "File TL22_6.csv could not be read due to being empty or invalid format. Skipping.\n",
      "File SU28_65A.csv could not be read due to being empty or invalid format. Skipping.\n",
      "File NY00_321.csv could not be read due to being empty or invalid format. Skipping.\n",
      "File TL12_107.csv could not be read due to being empty or invalid format. Skipping.\n",
      "File 510305_FW.csv could not be read due to being empty or invalid format. Skipping.\n",
      "File TA04A000CC.csv could not be read due to being empty or invalid format. Skipping.\n",
      "File 350533.csv could not be read due to being empty or invalid format. Skipping.\n",
      "File L2711.csv could not be read due to being empty or invalid format. Skipping.\n",
      "File SE62NLS0RD.csv could not be read due to being empty or invalid format. Skipping.\n",
      "File S8866D_FW.csv could not be read due to being empty or invalid format. Skipping.\n"
     ]
    },
    {
     "name": "stderr",
     "output_type": "stream",
     "text": [
      "\n",
      "\n",
      "\n",
      "\u001b[A\u001b[A\u001b[A"
     ]
    },
    {
     "name": "stdout",
     "output_type": "stream",
     "text": [
      "File L3341.csv could not be read due to being empty or invalid format. Skipping.\n",
      "File 2703TH.csv could not be read due to being empty or invalid format. Skipping.\n",
      "File SP00_143.csv could not be read due to being empty or invalid format. Skipping.\n",
      "File SD83_111.csv could not be read due to being empty or invalid format. Skipping.\n",
      "File 368090.csv could not be read due to being empty or invalid format. Skipping.\n",
      "File SE45CTB3SS.csv could not be read due to being empty or invalid format. Skipping.\n"
     ]
    },
    {
     "name": "stderr",
     "output_type": "stream",
     "text": [
      "\n",
      "\n",
      "\n",
      "\u001b[A\u001b[A\u001b[A"
     ]
    },
    {
     "name": "stdout",
     "output_type": "stream",
     "text": [
      "File 441320035.csv could not be read due to being empty or invalid format. Skipping.\n",
      "File 2_514.csv could not be read due to being empty or invalid format. Skipping.\n",
      "File 26108N.csv could not be read due to being empty or invalid format. Skipping.\n",
      "File TL74_480.csv could not be read due to being empty or invalid format. Skipping.\n",
      "File 441523001.csv could not be read due to being empty or invalid format. Skipping.\n"
     ]
    },
    {
     "name": "stderr",
     "output_type": "stream",
     "text": [
      "\n",
      "\n",
      "\n",
      "\u001b[A\u001b[A\u001b[A"
     ]
    },
    {
     "name": "stdout",
     "output_type": "stream",
     "text": [
      "File 548682.csv could not be read due to being empty or invalid format. Skipping.\n",
      "File SU39_97.csv could not be read due to being empty or invalid format. Skipping.\n",
      "File TA06GRR0CC.csv could not be read due to being empty or invalid format. Skipping.\n",
      "File SP10_19B.csv could not be read due to being empty or invalid format. Skipping.\n",
      "File 5_018.csv could not be read due to being empty or invalid format. Skipping.\n",
      "File 4006.csv could not be read due to being empty or invalid format. Skipping.\n"
     ]
    },
    {
     "name": "stderr",
     "output_type": "stream",
     "text": [
      "\n",
      "\n",
      "\n",
      "\u001b[A\u001b[A\u001b[A"
     ]
    },
    {
     "name": "stdout",
     "output_type": "stream",
     "text": [
      "File 141809304.csv could not be read due to being empty or invalid format. Skipping.\n",
      "File SE45WFS0SS.csv could not be read due to being empty or invalid format. Skipping.\n",
      "File 0561GW.csv could not be read due to being empty or invalid format. Skipping.\n",
      "File 0524GW.csv could not be read due to being empty or invalid format. Skipping.\n",
      "File 143701262.csv could not be read due to being empty or invalid format. Skipping.\n",
      "File ST10F041.csv could not be read due to being empty or invalid format. Skipping.\n"
     ]
    },
    {
     "name": "stderr",
     "output_type": "stream",
     "text": [
      "\n",
      "\n",
      "\n",
      "\u001b[A\u001b[A\u001b[A"
     ]
    },
    {
     "name": "stdout",
     "output_type": "stream",
     "text": [
      "File 2890TH.csv could not be read due to being empty or invalid format. Skipping.\n",
      "File SY39G052.csv could not be read due to being empty or invalid format. Skipping.\n",
      "File TL43_7.csv could not be read due to being empty or invalid format. Skipping.\n",
      "File TW73_1.csv could not be read due to being empty or invalid format. Skipping.\n",
      "File 110622.csv could not be read due to being empty or invalid format. Skipping.\n"
     ]
    },
    {
     "name": "stderr",
     "output_type": "stream",
     "text": [
      "\n",
      "\n",
      "\n",
      "\u001b[A\u001b[A\u001b[A"
     ]
    },
    {
     "name": "stdout",
     "output_type": "stream",
     "text": [
      "File TA16CNB0CC.csv could not be read due to being empty or invalid format. Skipping.\n",
      "File S51433_FW.csv could not be read due to being empty or invalid format. Skipping.\n",
      "File 21-0-138.csv could not be read due to being empty or invalid format. Skipping.\n",
      "File L2922.csv could not be read due to being empty or invalid format. Skipping.\n",
      "File 5112TH.csv could not be read due to being empty or invalid format. Skipping.\n",
      "File 5_030.csv could not be read due to being empty or invalid format. Skipping.\n",
      "File 1031GW.csv could not be read due to being empty or invalid format. Skipping.\n",
      "File 91664338.csv could not be read due to being empty or invalid format. Skipping.\n",
      "File 142203597.csv could not be read due to being empty or invalid format. Skipping.\n",
      "File 520623_FW.csv could not be read due to being empty or invalid format. Skipping.\n"
     ]
    },
    {
     "name": "stderr",
     "output_type": "stream",
     "text": [
      "\n",
      "\n",
      "\n",
      "\u001b[A\u001b[A\u001b[A\n",
      "\n",
      "\n",
      "\u001b[A\u001b[A\u001b[A"
     ]
    },
    {
     "name": "stdout",
     "output_type": "stream",
     "text": [
      "File 693017.csv could not be read due to being empty or invalid format. Skipping.\n",
      "File 1872GW.csv could not be read due to being empty or invalid format. Skipping.\n",
      "File SU87_22.csv could not be read due to being empty or invalid format. Skipping.\n",
      "File 243045TP.csv could not be read due to being empty or invalid format. Skipping.\n",
      "File SJ48_45.csv could not be read due to being empty or invalid format. Skipping.\n",
      "File 555111001.csv could not be read due to being empty or invalid format. Skipping.\n",
      "File 1074GW.csv could not be read due to being empty or invalid format. Skipping.\n",
      "File 142203596.csv could not be read due to being empty or invalid format. Skipping.\n"
     ]
    },
    {
     "name": "stderr",
     "output_type": "stream",
     "text": [
      "\n",
      "\n",
      "\n",
      "\u001b[A\u001b[A\u001b[A"
     ]
    },
    {
     "name": "stdout",
     "output_type": "stream",
     "text": [
      "File 5442TH.csv could not be read due to being empty or invalid format. Skipping.\n",
      "File 21-0-139.csv could not be read due to being empty or invalid format. Skipping.\n",
      "File 0074GW.csv could not be read due to being empty or invalid format. Skipping.\n",
      "File 443621001.csv could not be read due to being empty or invalid format. Skipping.\n",
      "File 1418061007.csv could not be read due to being empty or invalid format. Skipping.\n",
      "File 77800.csv could not be read due to being empty or invalid format. Skipping.\n",
      "File 254281002.csv could not be read due to being empty or invalid format. Skipping.\n",
      "File SU89_27.csv could not be read due to being empty or invalid format. Skipping.\n",
      "File S45417_FW.csv could not be read due to being empty or invalid format. Skipping.\n",
      "File SU39_82.csv could not be read due to being empty or invalid format. Skipping.\n",
      "File 690250.csv could not be read due to being empty or invalid format. Skipping.\n",
      "File SD53_68.csv could not be read due to being empty or invalid format. Skipping.\n",
      "File 4761.csv could not be read due to being empty or invalid format. Skipping.\n"
     ]
    },
    {
     "name": "stderr",
     "output_type": "stream",
     "text": [
      "\n",
      "\n",
      "\n",
      "\u001b[A\u001b[A\u001b[A"
     ]
    },
    {
     "name": "stdout",
     "output_type": "stream",
     "text": [
      "File 558490.csv could not be read due to being empty or invalid format. Skipping.\n",
      "File 5_019.csv could not be read due to being empty or invalid format. Skipping.\n",
      "File SP10_19C.csv could not be read due to being empty or invalid format. Skipping.\n",
      "File 521241_FW.csv could not be read due to being empty or invalid format. Skipping.\n",
      "File 91486338.csv could not be read due to being empty or invalid format. Skipping.\n"
     ]
    },
    {
     "name": "stderr",
     "output_type": "stream",
     "text": [
      "\n",
      "\n",
      "\n",
      "\u001b[A\u001b[A\u001b[A"
     ]
    },
    {
     "name": "stdout",
     "output_type": "stream",
     "text": [
      "File 222173.csv could not be read due to being empty or invalid format. Skipping.\n",
      "File TF60_001.csv could not be read due to being empty or invalid format. Skipping.\n",
      "File 441320034.csv could not be read due to being empty or invalid format. Skipping.\n",
      "File 4868TH.csv could not be read due to being empty or invalid format. Skipping.\n",
      "File L08015.csv could not be read due to being empty or invalid format. Skipping.\n",
      "File SJ48_92.csv could not be read due to being empty or invalid format. Skipping.\n"
     ]
    },
    {
     "name": "stderr",
     "output_type": "stream",
     "text": [
      "\n",
      "\n",
      "\n",
      "\u001b[A\u001b[A\u001b[A"
     ]
    },
    {
     "name": "stdout",
     "output_type": "stream",
     "text": [
      "File TL72_361.csv could not be read due to being empty or invalid format. Skipping.\n",
      "File SP00_142.csv could not be read due to being empty or invalid format. Skipping.\n",
      "File 385441.csv could not be read due to being empty or invalid format. Skipping.\n",
      "File 0330GW.csv could not be read due to being empty or invalid format. Skipping.\n",
      "File SS90F100.csv could not be read due to being empty or invalid format. Skipping.\n",
      "File L3340.csv could not be read due to being empty or invalid format. Skipping.\n",
      "File 245222017.csv could not be read due to being empty or invalid format. Skipping.\n"
     ]
    },
    {
     "name": "stderr",
     "output_type": "stream",
     "text": [
      "\n",
      "\n",
      "\n",
      "\u001b[A\u001b[A\u001b[A"
     ]
    },
    {
     "name": "stdout",
     "output_type": "stream",
     "text": [
      "File 90180132.csv could not be read due to being empty or invalid format. Skipping.\n",
      "File 25-3-23.csv could not be read due to being empty or invalid format. Skipping.\n",
      "File 2_501.csv could not be read due to being empty or invalid format. Skipping.\n",
      "File 2_529.csv could not be read due to being empty or invalid format. Skipping.\n",
      "File L1231.csv could not be read due to being empty or invalid format. Skipping.\n",
      "File 441320008.csv could not be read due to being empty or invalid format. Skipping.\n",
      "File L12071.csv could not be read due to being empty or invalid format. Skipping.\n",
      "File 644505002.csv could not be read due to being empty or invalid format. Skipping.\n"
     ]
    },
    {
     "name": "stderr",
     "output_type": "stream",
     "text": [
      "\n",
      "\n",
      "\n",
      "\u001b[A\u001b[A\u001b[A"
     ]
    },
    {
     "name": "stdout",
     "output_type": "stream",
     "text": [
      "File SD18_2.csv could not be read due to being empty or invalid format. Skipping.\n",
      "File 24-3-23.csv could not be read due to being empty or invalid format. Skipping.\n",
      "File NY00_320.csv could not be read due to being empty or invalid format. Skipping.\n",
      "File 361089.csv could not be read due to being empty or invalid format. Skipping.\n",
      "File S19546_FW.csv could not be read due to being empty or invalid format. Skipping.\n",
      "File TQ16_50A.csv could not be read due to being empty or invalid format. Skipping.\n",
      "File SE52HLM1ML.csv could not be read due to being empty or invalid format. Skipping.\n",
      "File 377402.csv could not be read due to being empty or invalid format. Skipping.\n",
      "File TM04_040.csv could not be read due to being empty or invalid format. Skipping.\n"
     ]
    },
    {
     "name": "stderr",
     "output_type": "stream",
     "text": [
      "\n",
      "\n",
      "\n",
      "\u001b[A\u001b[A\u001b[A"
     ]
    },
    {
     "name": "stdout",
     "output_type": "stream",
     "text": [
      "File SD44_58.csv could not be read due to being empty or invalid format. Skipping.\n",
      "File 112544.csv could not be read due to being empty or invalid format. Skipping.\n",
      "File TQ38_463.csv could not be read due to being empty or invalid format. Skipping.\n"
     ]
    },
    {
     "name": "stderr",
     "output_type": "stream",
     "text": [
      "\n",
      "\n",
      "\n",
      "\u001b[A\u001b[A\u001b[A"
     ]
    },
    {
     "name": "stdout",
     "output_type": "stream",
     "text": [
      "File 530260.csv could not be read due to being empty or invalid format. Skipping.\n",
      "File 2648.csv could not be read due to being empty or invalid format. Skipping.\n",
      "File 1_603.csv could not be read due to being empty or invalid format. Skipping.\n"
     ]
    },
    {
     "name": "stderr",
     "output_type": "stream",
     "text": [
      "\n",
      "\n",
      "\n",
      "\u001b[A\u001b[A\u001b[A"
     ]
    },
    {
     "name": "stdout",
     "output_type": "stream",
     "text": [
      "File SE55RHL0RD.csv could not be read due to being empty or invalid format. Skipping.\n",
      "File 141809649.csv could not be read due to being empty or invalid format. Skipping.\n",
      "File 4173TH.csv could not be read due to being empty or invalid format. Skipping.\n",
      "File 40201078.csv could not be read due to being empty or invalid format. Skipping.\n",
      "File SJ56_51.csv could not be read due to being empty or invalid format. Skipping.\n",
      "File SE93WKW0CC.csv could not be read due to being empty or invalid format. Skipping.\n",
      "File 149232.csv could not be read due to being empty or invalid format. Skipping.\n",
      "File F1508.csv could not be read due to being empty or invalid format. Skipping.\n"
     ]
    },
    {
     "name": "stderr",
     "output_type": "stream",
     "text": [
      "\n",
      "\n",
      "\n",
      "\u001b[A\u001b[A\u001b[A"
     ]
    },
    {
     "name": "stdout",
     "output_type": "stream",
     "text": [
      "File 40301044.csv could not be read due to being empty or invalid format. Skipping.\n",
      "File 2660.csv could not be read due to being empty or invalid format. Skipping.\n",
      "File L13810.csv could not be read due to being empty or invalid format. Skipping.\n",
      "File SD44_64.csv could not be read due to being empty or invalid format. Skipping.\n",
      "File SU09_166.csv could not be read due to being empty or invalid format. Skipping.\n",
      "File 379375.csv could not be read due to being empty or invalid format. Skipping.\n",
      "File 644601009.csv could not be read due to being empty or invalid format. Skipping.\n",
      "File 4205.csv could not be read due to being empty or invalid format. Skipping.\n",
      "File 520729.csv could not be read due to being empty or invalid format. Skipping.\n",
      "File L39021.csv could not be read due to being empty or invalid format. Skipping.\n",
      "File TF92_290.csv could not be read due to being empty or invalid format. Skipping.\n",
      "File 298821.csv could not be read due to being empty or invalid format. Skipping.\n",
      "File 664010507.csv could not be read due to being empty or invalid format. Skipping.\n",
      "File L1741.csv could not be read due to being empty or invalid format. Skipping.\n"
     ]
    },
    {
     "name": "stderr",
     "output_type": "stream",
     "text": [
      "\n",
      "\n",
      "\n",
      "\u001b[A\u001b[A\u001b[A"
     ]
    },
    {
     "name": "stdout",
     "output_type": "stream",
     "text": [
      "File 2847.csv could not be read due to being empty or invalid format. Skipping.\n",
      "File 521195_FW.csv could not be read due to being empty or invalid format. Skipping.\n",
      "File 3_504.csv could not be read due to being empty or invalid format. Skipping.\n",
      "File 462121501.csv could not be read due to being empty or invalid format. Skipping.\n",
      "File 642421010.csv could not be read due to being empty or invalid format. Skipping.\n",
      "File NX91_128.csv could not be read due to being empty or invalid format. Skipping.\n",
      "File TG20_322.csv could not be read due to being empty or invalid format. Skipping.\n"
     ]
    },
    {
     "name": "stderr",
     "output_type": "stream",
     "text": [
      "\n",
      "\n",
      "\n",
      "\u001b[A\u001b[A\u001b[A"
     ]
    },
    {
     "name": "stdout",
     "output_type": "stream",
     "text": [
      "File TL67_026.csv could not be read due to being empty or invalid format. Skipping.\n",
      "File 000180TP.csv could not be read due to being empty or invalid format. Skipping.\n",
      "File 23060.csv could not be read due to being empty or invalid format. Skipping.\n",
      "File 1414TH.csv could not be read due to being empty or invalid format. Skipping.\n",
      "File 26118.csv could not be read due to being empty or invalid format. Skipping.\n"
     ]
    },
    {
     "name": "stderr",
     "output_type": "stream",
     "text": [
      "\n",
      "\n",
      "\n",
      "\u001b[A\u001b[A\u001b[A\n",
      "\n",
      "\n",
      "\u001b[A\u001b[A\u001b[A"
     ]
    },
    {
     "name": "stdout",
     "output_type": "stream",
     "text": [
      "File SE62HIJ0RD.csv could not be read due to being empty or invalid format. Skipping.\n",
      "File 168571.csv could not be read due to being empty or invalid format. Skipping.\n",
      "File 229595.csv could not be read due to being empty or invalid format. Skipping.\n",
      "File 1_824.csv could not be read due to being empty or invalid format. Skipping.\n",
      "File SS80G020.csv could not be read due to being empty or invalid format. Skipping.\n",
      "File L0305.csv could not be read due to being empty or invalid format. Skipping.\n",
      "File 443642001.csv could not be read due to being empty or invalid format. Skipping.\n",
      "File SU68_18.csv could not be read due to being empty or invalid format. Skipping.\n"
     ]
    },
    {
     "name": "stderr",
     "output_type": "stream",
     "text": [
      "\n",
      "\n",
      "\n",
      "\u001b[A\u001b[A\u001b[A"
     ]
    },
    {
     "name": "stdout",
     "output_type": "stream",
     "text": [
      "File L0311.csv could not be read due to being empty or invalid format. Skipping.\n",
      "File 592158.csv could not be read due to being empty or invalid format. Skipping.\n",
      "File 0601GW.csv could not be read due to being empty or invalid format. Skipping.\n",
      "File 396165.csv could not be read due to being empty or invalid format. Skipping.\n",
      "File 700509.csv could not be read due to being empty or invalid format. Skipping.\n",
      "File 2222GW.csv could not be read due to being empty or invalid format. Skipping.\n",
      "File 751020.csv could not be read due to being empty or invalid format. Skipping.\n"
     ]
    },
    {
     "name": "stderr",
     "output_type": "stream",
     "text": [
      "\n",
      "\n",
      "\n",
      "\u001b[A\u001b[A\u001b[A"
     ]
    },
    {
     "name": "stdout",
     "output_type": "stream",
     "text": [
      "File 1917GW.csv could not be read due to being empty or invalid format. Skipping.\n",
      "File 7_083.csv could not be read due to being empty or invalid format. Skipping.\n",
      "File 360778.csv could not be read due to being empty or invalid format. Skipping.\n",
      "File 243110026.csv could not be read due to being empty or invalid format. Skipping.\n",
      "File 713207.csv could not be read due to being empty or invalid format. Skipping.\n",
      "File 55041.csv could not be read due to being empty or invalid format. Skipping.\n",
      "File 242601065.csv could not be read due to being empty or invalid format. Skipping.\n",
      "File L1812.csv could not be read due to being empty or invalid format. Skipping.\n",
      "File 141804231.csv could not be read due to being empty or invalid format. Skipping.\n",
      "File SU56_116.csv could not be read due to being empty or invalid format. Skipping.\n",
      "File 3072TH.csv could not be read due to being empty or invalid format. Skipping.\n",
      "File 142803768.csv could not be read due to being empty or invalid format. Skipping.\n"
     ]
    },
    {
     "name": "stderr",
     "output_type": "stream",
     "text": [
      "\n",
      "\n",
      "\n",
      "\u001b[A\u001b[A\u001b[A"
     ]
    },
    {
     "name": "stdout",
     "output_type": "stream",
     "text": [
      "File 371303002.csv could not be read due to being empty or invalid format. Skipping.\n",
      "File 236516.csv could not be read due to being empty or invalid format. Skipping.\n",
      "File 162699.csv could not be read due to being empty or invalid format. Skipping.\n",
      "File 520885.csv could not be read due to being empty or invalid format. Skipping.\n",
      "File 7_054.csv could not be read due to being empty or invalid format. Skipping.\n"
     ]
    },
    {
     "name": "stderr",
     "output_type": "stream",
     "text": [
      "\n",
      "\n",
      "\n",
      "\u001b[A\u001b[A\u001b[A"
     ]
    },
    {
     "name": "stdout",
     "output_type": "stream",
     "text": [
      "File SP41_53.csv could not be read due to being empty or invalid format. Skipping.\n",
      "File SY08G159.csv could not be read due to being empty or invalid format. Skipping.\n",
      "File 2889TH.csv could not be read due to being empty or invalid format. Skipping.\n",
      "File 2099.csv could not be read due to being empty or invalid format. Skipping.\n",
      "File SU17_119.csv could not be read due to being empty or invalid format. Skipping.\n",
      "File TL54_029.csv could not be read due to being empty or invalid format. Skipping.\n"
     ]
    },
    {
     "name": "stderr",
     "output_type": "stream",
     "text": [
      "\n",
      "\n",
      "\n",
      "\u001b[A\u001b[A\u001b[A"
     ]
    },
    {
     "name": "stdout",
     "output_type": "stream",
     "text": [
      "File 378692.csv could not be read due to being empty or invalid format. Skipping.\n",
      "File 3_302.csv could not be read due to being empty or invalid format. Skipping.\n",
      "File L2300.csv could not be read due to being empty or invalid format. Skipping.\n",
      "File SE44GLSLML.csv could not be read due to being empty or invalid format. Skipping.\n",
      "File 63518.csv could not be read due to being empty or invalid format. Skipping.\n",
      "File 1491TH.csv could not be read due to being empty or invalid format. Skipping.\n",
      "File 90887433.csv could not be read due to being empty or invalid format. Skipping.\n",
      "File L2472.csv could not be read due to being empty or invalid format. Skipping.\n"
     ]
    },
    {
     "name": "stderr",
     "output_type": "stream",
     "text": [
      "\n",
      "\n",
      "\n",
      "\u001b[A\u001b[A\u001b[A"
     ]
    },
    {
     "name": "stdout",
     "output_type": "stream",
     "text": [
      "File 24121.csv could not be read due to being empty or invalid format. Skipping.\n",
      "File 764070.csv could not be read due to being empty or invalid format. Skipping.\n",
      "File 644622001.csv could not be read due to being empty or invalid format. Skipping.\n",
      "File 26050.csv could not be read due to being empty or invalid format. Skipping.\n",
      "File 342632012.csv could not be read due to being empty or invalid format. Skipping.\n",
      "File SD59_6.csv could not be read due to being empty or invalid format. Skipping.\n"
     ]
    },
    {
     "name": "stderr",
     "output_type": "stream",
     "text": [
      "\n",
      "\n",
      "\n",
      "\u001b[A\u001b[A\u001b[A"
     ]
    },
    {
     "name": "stdout",
     "output_type": "stream",
     "text": [
      "File TM08_112.csv could not be read due to being empty or invalid format. Skipping.\n",
      "File 1635TH.csv could not be read due to being empty or invalid format. Skipping.\n",
      "File 556700001.csv could not be read due to being empty or invalid format. Skipping.\n",
      "File L2314.csv could not be read due to being empty or invalid format. Skipping.\n",
      "File 243100023.csv could not be read due to being empty or invalid format. Skipping.\n",
      "File 644010001.csv could not be read due to being empty or invalid format. Skipping.\n",
      "File SJ87_32.csv could not be read due to being empty or invalid format. Skipping.\n",
      "File 6_086.csv could not be read due to being empty or invalid format. Skipping.\n",
      "File 432715.csv could not be read due to being empty or invalid format. Skipping.\n"
     ]
    },
    {
     "name": "stderr",
     "output_type": "stream",
     "text": [
      "\n",
      "\n",
      "\n",
      "\u001b[A\u001b[A\u001b[A"
     ]
    },
    {
     "name": "stdout",
     "output_type": "stream",
     "text": [
      "File SJ58_133.csv could not be read due to being empty or invalid format. Skipping.\n",
      "File 2258.csv could not be read due to being empty or invalid format. Skipping.\n",
      "File 654800004.csv could not be read due to being empty or invalid format. Skipping.\n",
      "File 325740.csv could not be read due to being empty or invalid format. Skipping.\n",
      "File 0348GW.csv could not be read due to being empty or invalid format. Skipping.\n",
      "File 141801163.csv could not be read due to being empty or invalid format. Skipping.\n"
     ]
    },
    {
     "name": "stderr",
     "output_type": "stream",
     "text": [
      "\n",
      "\n",
      "\n",
      "\u001b[A\u001b[A\u001b[A\n",
      "\n",
      "\n",
      "\u001b[A\u001b[A\u001b[A"
     ]
    },
    {
     "name": "stdout",
     "output_type": "stream",
     "text": [
      "File 295929.csv could not be read due to being empty or invalid format. Skipping.\n",
      "File 5016TH.csv could not be read due to being empty or invalid format. Skipping.\n",
      "File 8025GW.csv could not be read due to being empty or invalid format. Skipping.\n",
      "File SJ58_127.csv could not be read due to being empty or invalid format. Skipping.\n",
      "File SU48_41.csv could not be read due to being empty or invalid format. Skipping.\n",
      "File L1386.csv could not be read due to being empty or invalid format. Skipping.\n",
      "File 242601501.csv could not be read due to being empty or invalid format. Skipping.\n",
      "File TL01_172.csv could not be read due to being empty or invalid format. Skipping.\n",
      "File TL33_19.csv could not be read due to being empty or invalid format. Skipping.\n",
      "File 1_575.csv could not be read due to being empty or invalid format. Skipping.\n",
      "File SU48_69.csv could not be read due to being empty or invalid format. Skipping.\n",
      "File 520305.csv could not be read due to being empty or invalid format. Skipping.\n",
      "File SJ57_39.csv could not be read due to being empty or invalid format. Skipping.\n",
      "File 25-3-337.csv could not be read due to being empty or invalid format. Skipping.\n",
      "File 2270.csv could not be read due to being empty or invalid format. Skipping.\n",
      "File 4167.csv could not be read due to being empty or invalid format. Skipping.\n",
      "File 2516.csv could not be read due to being empty or invalid format. Skipping.\n"
     ]
    },
    {
     "name": "stderr",
     "output_type": "stream",
     "text": [
      "\n",
      "\n",
      "\n",
      "\u001b[A\u001b[A\u001b[A"
     ]
    },
    {
     "name": "stdout",
     "output_type": "stream",
     "text": [
      "File 4173.csv could not be read due to being empty or invalid format. Skipping.\n",
      "File NY00_297.csv could not be read due to being empty or invalid format. Skipping.\n",
      "File 1420GW.csv could not be read due to being empty or invalid format. Skipping.\n",
      "File 642311001.csv could not be read due to being empty or invalid format. Skipping.\n",
      "File TQ19_62.csv could not be read due to being empty or invalid format. Skipping.\n",
      "File 342604007.csv could not be read due to being empty or invalid format. Skipping.\n",
      "File TL01_166.csv could not be read due to being empty or invalid format. Skipping.\n"
     ]
    },
    {
     "name": "stderr",
     "output_type": "stream",
     "text": [
      "\n",
      "\n",
      "\n",
      "\u001b[A\u001b[A\u001b[A\n",
      "\n",
      "\n",
      "100%|██████████| 7573/7573 [04:12<00:00, 30.02it/s]"
     ]
    },
    {
     "name": "stdout",
     "output_type": "stream",
     "text": [
      "File SJ39_79.csv could not be read due to being empty or invalid format. Skipping.\n",
      "File 3293TH.csv could not be read due to being empty or invalid format. Skipping.\n",
      "File 574.csv could not be read due to being empty or invalid format. Skipping.\n",
      "File 437137.csv could not be read due to being empty or invalid format. Skipping.\n",
      "File 4198.csv could not be read due to being empty or invalid format. Skipping.\n",
      "File 732008.csv could not be read due to being empty or invalid format. Skipping.\n",
      "File 4317TH.csv could not be read due to being empty or invalid format. Skipping.\n",
      "File TL87_013.csv could not be read due to being empty or invalid format. Skipping.\n"
     ]
    },
    {
     "name": "stderr",
     "output_type": "stream",
     "text": [
      "\n"
     ]
    },
    {
     "name": "stdout",
     "output_type": "stream",
     "text": [
      "File 287450.csv could not be read due to being empty or invalid format. Skipping.\n",
      "File 2293TH.csv could not be read due to being empty or invalid format. Skipping.\n",
      "File SU77_140.csv could not be read due to being empty or invalid format. Skipping.\n",
      "File 2607TH.csv could not be read due to being empty or invalid format. Skipping.\n",
      "File 90103401.csv could not be read due to being empty or invalid format. Skipping.\n",
      "File 6_079.csv could not be read due to being empty or invalid format. Skipping.\n",
      "File 441325004.csv could not be read due to being empty or invalid format. Skipping.\n",
      "File 440340.csv could not be read due to being empty or invalid format. Skipping.\n",
      "File 560.csv could not be read due to being empty or invalid format. Skipping.\n",
      "File L3208.csv could not be read due to being empty or invalid format. Skipping.\n",
      "File 22020.csv could not be read due to being empty or invalid format. Skipping.\n",
      "File 142202717.csv could not be read due to being empty or invalid format. Skipping.\n",
      "File 2086GW.csv could not be read due to being empty or invalid format. Skipping.\n",
      "File 3222SE.csv could not be read due to being empty or invalid format. Skipping.\n",
      "File 1764GW.csv could not be read due to being empty or invalid format. Skipping.\n"
     ]
    }
   ],
   "source": [
    "directory = '/Users/yubinbaaniya/Library/CloudStorage/Box-Box/England/flow-m'\n",
    "\n",
    "def process_file(filename):\n",
    "    file_path = os.path.join(directory, filename)\n",
    "    \n",
    "    try:\n",
    "        df = pd.read_csv(file_path)\n",
    "        \n",
    "        # Check if the DataFrame is empty\n",
    "        if df.empty:\n",
    "            print(f\"File {filename} is empty. Skipping.\")\n",
    "            return [filename.rstrip('.csv'), None, None, 0, pd.Series()]\n",
    "        \n",
    "        # Convert the 'Datetime' column to datetime and then to date\n",
    "        df['date'] = pd.to_datetime(df['date']).dt.date\n",
    "        \n",
    "    \n",
    "        # Extract the earliest and latest date\n",
    "        file_earliest_date = df['date'].min()\n",
    "        file_latest_date = df['date'].max()\n",
    "        \n",
    "        # Count the total number of data points where 'value' is non-negative\n",
    "        total_data_points = len(df[df['value'] >= 0])\n",
    "        \n",
    "        # Extract month from date\n",
    "        df['Month'] = pd.to_datetime(df['date']).dt.month\n",
    "        \n",
    "        # Count the number of data points for each month across all years, grouped by station\n",
    "        monthly_counts = df[df['value'] >= 0].groupby('Month').size()\n",
    "        \n",
    "        return [filename.rstrip('.csv'), file_earliest_date, file_latest_date, total_data_points, monthly_counts]\n",
    "    \n",
    "    except pd.errors.EmptyDataError:\n",
    "        print(f\"File {filename} could not be read due to being empty or invalid format. Skipping.\")\n",
    "        return [filename.rstrip('.csv'), None, None, 0, pd.Series()]\n",
    "\n",
    "# Get a list of all CSV files in the directory\n",
    "filenames = [filename for filename in os.listdir(directory) if filename.endswith(\".csv\")]\n",
    "\n",
    "# Parallelize using joblib\n",
    "data = Parallel(n_jobs=-1)(delayed(process_file)(filename) for filename in tqdm(filenames))\n",
    "\n",
    "# Extract the file summaries and the monthly counts\n",
    "file_summaries = [[d[0], d[1], d[2], d[3]] for d in data]\n",
    "monthly_data = pd.concat([d[4].reset_index().assign(Station=d[0]) for d in data if not d[4].empty])\n",
    "\n",
    "# Pivot the monthly data to get counts per file and month\n",
    "df_monthly = monthly_data.pivot_table(index='Month', columns='Station', values=0, fill_value=0, aggfunc='sum').reset_index()\n",
    "\n",
    "# Save the summary file\n",
    "df_summary = pd.DataFrame(file_summaries, columns=['File Name', 'Earliest Date', 'Latest Date', 'Total Data Points'])\n",
    "\n",
    "# Save the summary file\n",
    "df_summary.to_csv('/Users/yubinbaaniya/Library/CloudStorage/Box-Box/England/england_summary.csv', index=False)\n",
    "\n",
    "# Save the monthly data file\n",
    "df_monthly.to_csv('/Users/yubinbaaniya/Library/CloudStorage/Box-Box/England/england_monthly_counts.csv', index=False) "
   ]
  }
 ],
 "metadata": {
  "kernelspec": {
   "display_name": "Python 3",
   "language": "python",
   "name": "python3"
  },
  "language_info": {
   "codemirror_mode": {
    "name": "ipython",
    "version": 3
   },
   "file_extension": ".py",
   "mimetype": "text/x-python",
   "name": "python",
   "nbconvert_exporter": "python",
   "pygments_lexer": "ipython3",
   "version": "3.10.0"
  }
 },
 "nbformat": 4,
 "nbformat_minor": 2
}
